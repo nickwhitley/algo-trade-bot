{
 "cells": [
  {
   "cell_type": "code",
   "execution_count": 3,
   "metadata": {},
   "outputs": [],
   "source": [
    "import sys\n",
    "sys.path.append(\"../\")\n",
    "import pandas as pd\n",
    "import datetime as dt\n",
    "from api.oanda_api import OandaApi\n",
    "from dateutil import parser\n",
    "import timeit\n",
    "import plotly.graph_objects as go\n",
    "import numpy as np\n",
    "from technicals import trend\n",
    "from technicals import zone\n",
    "from technicals import pattern\n",
    "from technicals import bottom\n",
    "from technicals import candle\n",
    "from charting import draw\n",
    "from scipy.signal import argrelextrema\n",
    "from tqdm import tqdm\n",
    "pd.set_option('display.max_columns', None)"
   ]
  },
  {
   "cell_type": "code",
   "execution_count": 4,
   "metadata": {},
   "outputs": [],
   "source": [
    "def detect_setup(\n",
    "    df,\n",
    "    strength_col='bullish_strength_score',\n",
    "    strength_threshold=0.7,\n",
    "    lookahead=25,\n",
    "    proximity_pips=0.0030,\n",
    "    rolling_window=40,\n",
    "    breakout_threshold=20  # in pips\n",
    "):\n",
    "    df = df.copy().reset_index(drop=True)\n",
    "    df['setup_stage'] = None\n",
    "\n",
    "    # Step 1: Bottom detection\n",
    "    df['is_bottom'] = (\n",
    "        (df['mid_l'] == df['mid_l'].rolling(window=rolling_window).min()) &\n",
    "        (df['in_downtrend'] == True)\n",
    "    )\n",
    "    df.loc[df['is_bottom'], 'setup_stage'] = 'bottom'\n",
    "\n",
    "    # Step 2: Track active zone\n",
    "    df['active_zone_low'] = None\n",
    "    df['active_zone_high'] = None\n",
    "\n",
    "    current_low = None\n",
    "    current_high = None\n",
    "    last_bottom_idx = None\n",
    "    breakout_found = False\n",
    "    reentry_found = False\n",
    "    confirmation_found = False\n",
    "\n",
    "    for i in range(len(df)):\n",
    "        if df.at[i, 'is_bottom']:\n",
    "            # New setup: reset everything\n",
    "            current_low = df.at[i, 'mid_l']\n",
    "            current_high = df.at[i, 'mid_h']\n",
    "            last_bottom_idx = i\n",
    "            breakout_found = False\n",
    "            reentry_found = False\n",
    "            confirmation_found = False\n",
    "\n",
    "        df.at[i, 'active_zone_low'] = current_low\n",
    "        df.at[i, 'active_zone_high'] = current_high\n",
    "\n",
    "        # Skip if setup was invalidated\n",
    "        if current_high is None:\n",
    "            continue\n",
    "\n",
    "        max_allowed_low = current_high + breakout_threshold / 10000.0\n",
    "\n",
    "        # Invalidate if price goes too far from zone\n",
    "        if breakout_found and df.at[i, 'mid_l'] > max_allowed_low:\n",
    "            current_low = None\n",
    "            current_high = None\n",
    "            last_bottom_idx = None\n",
    "            breakout_found = False\n",
    "            reentry_found = False\n",
    "            confirmation_found = False\n",
    "            df.at[i, 'active_zone_low'] = None\n",
    "            df.at[i, 'active_zone_high'] = None\n",
    "            continue\n",
    "\n",
    "        # Step 2: Breakout\n",
    "        if not breakout_found and df.at[i, 'mid_l'] > current_high:\n",
    "            df.at[i, 'setup_stage'] = 'breakout'\n",
    "            breakout_found = True\n",
    "            continue  # Reentry can't be on breakout candle\n",
    "\n",
    "        # Step 3: Reentry\n",
    "        if breakout_found and not reentry_found:\n",
    "            if current_low <= df.at[i, 'mid_l'] <= current_high:\n",
    "                df.at[i, 'setup_stage'] = 'reentry'\n",
    "                reentry_found = True\n",
    "                continue  # Confirmation comes after reentry\n",
    "\n",
    "        # Step 4: Confirmation (with spacing from bottom)\n",
    "        if breakout_found and reentry_found and not confirmation_found:\n",
    "            if df.at[i, strength_col] > strength_threshold:\n",
    "                if i - last_bottom_idx >= 6:  # ✅ Enforce minimum spacing from bottom\n",
    "                    df.at[i, 'setup_stage'] = 'confirmation'\n",
    "                    confirmation_found = True\n",
    "\n",
    "    return df\n",
    "\n",
    "def detect_bottom_reversal_setups(\n",
    "    df,\n",
    "    strength_col='bullish_strength_score',\n",
    "    strength_threshold=0.7,\n",
    "    lookahead=25,\n",
    "    proximity_pips=0.0030,\n",
    "    rolling_window=40,\n",
    "    breakout_threshold=20  # in pips (e.g. 30 = 0.0030)\n",
    "):\n",
    "    \"\"\"\n",
    "    Detects bottom reversal setups using new lows that occur only during downtrends.\n",
    "\n",
    "    A setup is:\n",
    "    1. A bottom candle (lowest in a window, while in_downtrend is True)\n",
    "    2. A breakout candle (low + high > zone high)\n",
    "    3. A reentry candle (low reenters the zone but never breaks below zone low)\n",
    "    4. A strong bullish candle (close near zone high and strength score high)\n",
    "\n",
    "    The setup is invalidated if any candle after reentry has a low greater than\n",
    "    breakout_threshold above the zone high.\n",
    "\n",
    "    Returns:\n",
    "        DataFrame with setup_stage column added.\n",
    "    \"\"\"\n",
    "    df = df.copy().reset_index(drop=True)\n",
    "    df['setup_stage'] = None\n",
    "\n",
    "    # Step 1: Tag bottom candles\n",
    "    \n",
    "    df.loc[df['is_bottom'], 'setup_stage'] = 'bottom'\n",
    "    bottom_indexes = df.index[df['is_bottom']].tolist()\n",
    "\n",
    "    for i in bottom_indexes:\n",
    "        # 🔥 Always reset the active zone on every new bottom\n",
    "        active_zone_low = df.at[i, 'mid_l']\n",
    "        active_zone_high = df.at[i, 'mid_h']\n",
    "        active_bottom_idx = i\n",
    "\n",
    "        # Step 2: Look for breakout\n",
    "        breakout_idx = None\n",
    "        for j in range(i + 1, len(df)):\n",
    "            row_j = df.iloc[j]\n",
    "            if row_j['mid_l'] < active_zone_low:\n",
    "                break  # Setup invalidated by lower low\n",
    "            if row_j['mid_l'] > active_zone_high and row_j['mid_h'] > active_zone_high:\n",
    "                breakout_idx = j\n",
    "                break\n",
    "\n",
    "        if breakout_idx is None or breakout_idx - i > lookahead:\n",
    "            continue\n",
    "\n",
    "        # Step 3: Reentry\n",
    "        reentry_idx = None\n",
    "        for k in range(breakout_idx + 1, breakout_idx + lookahead):\n",
    "            if k >= len(df):\n",
    "                break\n",
    "            row_k = df.iloc[k]\n",
    "            if active_zone_low <= row_k['mid_l'] <= active_zone_high:\n",
    "                reentry_idx = k\n",
    "                break\n",
    "            if row_k['mid_l'] < active_zone_low:\n",
    "                break  # Invalidated by new low\n",
    "\n",
    "        if reentry_idx is None:\n",
    "            continue\n",
    "\n",
    "        # Step 4: Confirmation + breakout distance check\n",
    "        confirmation_found = False\n",
    "        breakout_distance_limit = active_zone_high + breakout_threshold / 10000.0\n",
    "        df['breakout_distance_limit'] = breakout_distance_limit\n",
    "        df['active_zone_high'] = active_zone_high\n",
    "        df['breakout_threshold'] = breakout_threshold / 10000.0\n",
    "        for m in range(reentry_idx + 1, reentry_idx + lookahead):\n",
    "            if m >= len(df):\n",
    "                break\n",
    "            row_m = df.iloc[m]\n",
    "\n",
    "            if row_m['mid_l'] < active_zone_low:\n",
    "                break  # Invalidated by new low\n",
    "            if row_m['mid_l'] > breakout_distance_limit:\n",
    "                break  # Price went too far — invalidated\n",
    "\n",
    "            if row_m[strength_col] >= strength_threshold:\n",
    "                if abs(row_m['mid_l'] - active_zone_high) <= proximity_pips:\n",
    "                    df.at[breakout_idx, 'setup_stage'] = 'breakout'\n",
    "                    df.at[reentry_idx, 'setup_stage'] = 'reentry'\n",
    "                    df.at[m, 'setup_stage'] = 'confirmation'\n",
    "                    confirmation_found = True\n",
    "                    break\n",
    "\n",
    "        # No need to manually reset active_* vars — loop resets on next bottom\n",
    "\n",
    "    return df\n",
    "\n",
    "def find_support_resistance(df, price_col='mid_c', high_col='mid_h', low_col='mid_l', window=3, clustering_threshold=0.0050):\n",
    "    \"\"\"\n",
    "    Identifies support and resistance levels in candlestick data.\n",
    "    \n",
    "    Args:\n",
    "        df (pd.DataFrame): Your OHLC dataframe.\n",
    "        price_col (str): Column name for close/mid price.\n",
    "        high_col (str): Column name for highs.\n",
    "        low_col (str): Column name for lows.\n",
    "        window (int): Lookback window to detect local highs/lows.\n",
    "        clustering_threshold (float): Maximum distance between levels to consider them the same zone.\n",
    "\n",
    "    Returns:\n",
    "        Tuple[List[float], List[float]]: (support_levels, resistance_levels)\n",
    "    \"\"\"\n",
    "    \n",
    "    local_min_idx = argrelextrema(df[low_col].values, np.less_equal, order=window)[0]\n",
    "    local_max_idx = argrelextrema(df[high_col].values, np.greater_equal, order=window)[0]\n",
    "\n",
    "    raw_supports = df.iloc[local_min_idx][low_col].values\n",
    "    raw_resistances = df.iloc[local_max_idx][high_col].values\n",
    "\n",
    "    def cluster_levels(levels):\n",
    "        clustered = []\n",
    "        levels = sorted(levels)\n",
    "        for level in levels:\n",
    "            if not clustered:\n",
    "                clustered.append([level])\n",
    "            elif abs(level - np.mean(clustered[-1])) <= clustering_threshold:\n",
    "                clustered[-1].append(level)\n",
    "            else:\n",
    "                clustered.append([level])\n",
    "        return [round(np.mean(group), 5) for group in clustered if len(group) >= 2]  # Only return stronger levels\n",
    "\n",
    "    support_levels = cluster_levels(raw_supports)\n",
    "    resistance_levels = cluster_levels(raw_resistances)\n",
    "\n",
    "    return support_levels, resistance_levels\n",
    "\n",
    "def get_zones_for_price(price, support_levels, resistance_levels, num_of_zones=3, min_gap=0.0, min_width=0.0015):\n",
    "    \"\"\"\n",
    "    Returns non-overlapping (support, resistance) zones where the support is above the given price,\n",
    "    and there's at least `min_gap` space and `min_width` size.\n",
    "\n",
    "    Args:\n",
    "        price (float): Current price.\n",
    "        support_levels (list of float): Detected support levels.\n",
    "        resistance_levels (list of float): Detected resistance levels.\n",
    "        num_of_zones (int): Number of zones to return.\n",
    "        min_gap (float): Minimum gap between zones.\n",
    "        min_width (float): Minimum acceptable width of a zone.\n",
    "\n",
    "    Returns:\n",
    "        List of tuples: [(support1, resistance1), (support2, resistance2), ...]\n",
    "    \"\"\"\n",
    "\n",
    "    support_levels = sorted(support_levels)\n",
    "    resistance_levels = sorted(resistance_levels)\n",
    "\n",
    "    zones = []\n",
    "    last_resistance = price\n",
    "\n",
    "    sup_above = [s for s in support_levels if s > price]\n",
    "\n",
    "    for support in sup_above:\n",
    "        if support <= last_resistance + min_gap:\n",
    "            continue\n",
    "\n",
    "        possible_resistances = [r for r in resistance_levels if r > support]\n",
    "        for resistance in possible_resistances:\n",
    "            width = resistance - support\n",
    "            if width >= min_width:\n",
    "                zones.append((support, resistance))\n",
    "                last_resistance = resistance\n",
    "                break  # Move on to the next zone\n",
    "\n",
    "        if len(zones) == num_of_zones:\n",
    "            break\n",
    "\n",
    "    return zones\n",
    "\n",
    "def attach_zones_to_confirmations(\n",
    "    df,\n",
    "    window=3,\n",
    "    clustering_threshold=0.0050,\n",
    "    num_of_zones=3\n",
    "):\n",
    "    \"\"\"\n",
    "    For each confirmation candle:\n",
    "        - Attach relevant support/resistance zones based on past data only\n",
    "        - Compute zone-to-stop-loss ratio using second zone\n",
    "        - Add 'confirmation_zones', 'zone_sl_ratio', and 'meets_ratio' columns\n",
    "    \"\"\"\n",
    "    from copy import deepcopy\n",
    "    df['confirmation_zones'] = None\n",
    "    df['zone_sl_ratio'] = None\n",
    "    df['meets_ratio'] = False\n",
    "\n",
    "    for i in range(len(df)):\n",
    "        if df.at[i, 'setup_stage'] == 'confirmation':\n",
    "            past_df = df.iloc[:i]\n",
    "            if len(past_df) < window * 2:\n",
    "                continue\n",
    "\n",
    "            support_levels, resistance_levels = find_support_resistance(\n",
    "                past_df,\n",
    "                price_col='mid_c',\n",
    "                high_col='mid_h',\n",
    "                low_col='mid_l',\n",
    "                window=window,\n",
    "                clustering_threshold=clustering_threshold\n",
    "            )\n",
    "\n",
    "            current_price = df.at[i, 'mid_c']\n",
    "            current_low = df.at[i, 'mid_l']\n",
    "\n",
    "            zones = get_zones_for_price(\n",
    "                price=current_price,\n",
    "                support_levels=support_levels,\n",
    "                resistance_levels=resistance_levels,\n",
    "                num_of_zones=num_of_zones\n",
    "            )\n",
    "\n",
    "            df.at[i, 'confirmation_zones'] = deepcopy(zones)\n",
    "\n",
    "            if len(zones) >= 2:\n",
    "                zone_top = zones[1][1]  # Top of second zone (resistance)\n",
    "                reward = zone_top - current_price\n",
    "                risk = current_price - current_low\n",
    "\n",
    "                if risk > 0:\n",
    "                    ratio = reward / risk\n",
    "                    df.at[i, 'zone_sl_ratio'] = round(ratio, 3)\n",
    "                    df.at[i, 'meets_ratio'] = ratio >= 1.0\n",
    "\n",
    "def simulate_trades(df, sl_pips=15, pair='EUR_USD'):\n",
    "    pip_divisor = 100 if 'JPY' in pair else 10000\n",
    "    pip_size = sl_pips / pip_divisor\n",
    "\n",
    "    df['trade'] = None\n",
    "    df['entry_price'] = None\n",
    "    df['stop_loss'] = None\n",
    "    df['take_profit'] = None\n",
    "    df['pips'] = None\n",
    "\n",
    "    active_trade = None\n",
    "\n",
    "    for i in range(len(df)):\n",
    "        row = df.iloc[i]\n",
    "\n",
    "        # Check for new confirmation candle to enter trade\n",
    "        if row['setup_stage'] == 'confirmation':\n",
    "            zone = row.get('zone')\n",
    "            if not isinstance(zone, tuple) or len(zone) != 2:\n",
    "                continue\n",
    "\n",
    "            zone_low = zone[0]\n",
    "            entry_price = row['mid_c']\n",
    "            stop_loss = zone_low - pip_size\n",
    "            take_profit = entry_price + ((entry_price - stop_loss) * 2)\n",
    "\n",
    "            active_trade = {\n",
    "                'entry_idx': i,\n",
    "                'entry_price': entry_price,\n",
    "                'stop_loss': stop_loss,\n",
    "                'take_profit': take_profit\n",
    "            }\n",
    "\n",
    "            df.at[df.index[i], 'trade'] = 'opened'\n",
    "            df.at[df.index[i], 'entry_price'] = entry_price\n",
    "            df.at[df.index[i], 'stop_loss'] = stop_loss\n",
    "            df.at[df.index[i], 'take_profit'] = take_profit\n",
    "            continue\n",
    "\n",
    "        # If trade is active, check for SL/TP hit\n",
    "        if active_trade:\n",
    "            high = row['mid_h']\n",
    "            low = row['mid_l']\n",
    "            idx = df.index[i]\n",
    "\n",
    "            if low <= active_trade['stop_loss']:\n",
    "                df.at[idx, 'trade'] = 'closed - sl'\n",
    "                df.at[idx, 'pips'] = round((active_trade['stop_loss'] - active_trade['entry_price']) / (1 / pip_divisor), 1)\n",
    "                active_trade = None\n",
    "            elif high >= active_trade['take_profit']:\n",
    "                df.at[idx, 'trade'] = 'closed - tp'\n",
    "                df.at[idx, 'pips'] = round((active_trade['take_profit'] - active_trade['entry_price']) / (1 / pip_divisor), 1)\n",
    "                active_trade = None\n",
    "\n",
    "def apply_technicals(df):\n",
    "    df['sTime'] = [dt.datetime.strftime(x, \"s%y-%m-%d %H:%M\") for x in df.time]\n",
    "    trend.apply_downtrend(df)\n",
    "    bottom.apply_bottom_zones(df)\n",
    "    zone.apply_zone_exits_and_reentries(df, 50, 'EUR_USD')\n",
    "    candle.detect_strong_bullish(df)\n",
    "    #need to make this not return a df but add in place\n",
    "    df = detect_setup(df)\n",
    "    attach_zones_to_confirmations(df)\n",
    "    return df\n",
    "\n",
    "def plot_trades(df):\n",
    "    fig = go.Figure()\n",
    "\n",
    "    x_start = df['sTime'].iloc[0]\n",
    "    x_end = df['sTime'].iloc[-1]\n",
    "    y_min = df['mid_l'].min()\n",
    "    y_max = df['mid_h'].max()\n",
    "    padding = (y_max - y_min) * 0.1\n",
    "    \n",
    "    fig.add_trace(go.Candlestick(\n",
    "        x=df.sTime,\n",
    "        open=df.mid_o,\n",
    "        high=df.mid_h,\n",
    "        low=df.mid_l,\n",
    "        close=df.mid_c,\n",
    "        line=dict(width=1), opacity=1,\n",
    "        increasing_fillcolor='#24A06B', \n",
    "        decreasing_fillcolor='#CC2E3C',\n",
    "        increasing_line_color='#24A06B',\n",
    "        decreasing_line_color='#FF3A4C'\n",
    "    ))\n",
    "\n",
    "    df_trade_entries = df[df['trade'] == 'opened']\n",
    "\n",
    "    fig.add_trace(go.Candlestick(\n",
    "        x=df_trade_entries.sTime,\n",
    "        open=df_trade_entries.mid_o,\n",
    "        high=df_trade_entries.mid_h,\n",
    "        low=df_trade_entries.mid_l,\n",
    "        close=df_trade_entries.mid_c,\n",
    "        line=dict(width=1), opacity=1,\n",
    "        increasing_fillcolor='#2d63ff', \n",
    "        decreasing_fillcolor='#2d63ff',\n",
    "        increasing_line_color='#2d63ff',\n",
    "        decreasing_line_color='#2d63ff'\n",
    "    ))\n",
    "\n",
    "    df_trade_closes = df[df['trade'].isin(['closed - tp', 'closed - sl'])]\n",
    "\n",
    "    for i, open_row in df_trade_entries.iterrows():\n",
    "        # Find the corresponding closing trade (assuming it's after the opened one)\n",
    "        close_match = df_trade_closes[df_trade_closes['sTime'] > open_row['sTime']]\n",
    "        if close_match.empty:\n",
    "            continue  # No closing trade found\n",
    "\n",
    "        close_row = close_match.iloc[0]  # Take the first closing one\n",
    "\n",
    "        # Take Profit line\n",
    "        fig.add_trace(go.Scatter(\n",
    "            x=[open_row['sTime'], close_row['sTime']],\n",
    "            y=[open_row['take_profit'], open_row['take_profit']],\n",
    "            mode='lines',\n",
    "            line=dict(color='green', width=1, dash='dot'),\n",
    "            name='Take Profit',\n",
    "            showlegend=False\n",
    "        ))\n",
    "\n",
    "        # Stop Loss line\n",
    "        fig.add_trace(go.Scatter(\n",
    "            x=[open_row['sTime'], close_row['sTime']],\n",
    "            y=[open_row['stop_loss'], open_row['stop_loss']],\n",
    "            mode='lines',\n",
    "            line=dict(color='red', width=1, dash='dot'),\n",
    "            name='Stop Loss',\n",
    "            showlegend=False\n",
    "        ))\n",
    "\n",
    "    fig.update_yaxes(\n",
    "        autorange=True,\n",
    "        fixedrange=False,\n",
    "        rangemode='normal',\n",
    "        scaleratio=1,\n",
    "        automargin=True,\n",
    "        gridcolor=\"#1f292f\"\n",
    "    )\n",
    "\n",
    "    fig.update_xaxes(\n",
    "        gridcolor=\"#1f292f\",\n",
    "        rangeslider=dict(visible=True),\n",
    "        nticks=5\n",
    "    )\n",
    "\n",
    "    fig.update_layout(\n",
    "        width=1500,\n",
    "        height=600,\n",
    "        margin=dict(l=10,r=10,b=10,t=10),\n",
    "        paper_bgcolor=\"#2c303c\",\n",
    "        plot_bgcolor=\"#2c303c\",\n",
    "        font=dict(size=10, color=\"#e1e1e1\"),\n",
    "        yaxis=dict(\n",
    "            range=[y_min - padding, y_max + padding],\n",
    "            fixedrange=False  # Allow zooming\n",
    "        )\n",
    "    )\n",
    "\n",
    "    fig.show()\n",
    "        \n",
    "\n",
    "def filter_df_by_date(df, start, end):\n",
    "    start = pd.to_datetime(start)\n",
    "    end = pd.to_datetime(end)\n",
    "    return df[(df['time'] >= start) & (df['time'] <= end)]\n",
    "\n",
    "def summarize_trades(df, starting_balance=10000, risk_per_trade=0.02):\n",
    "\n",
    "    # Filter only closed trades\n",
    "    closed_trades = df[df['trade'].isin(['closed - sl', 'closed - tp'])].copy()\n",
    "\n",
    "    if closed_trades.empty:\n",
    "        print(\"No closed trades found.\")\n",
    "        return\n",
    "\n",
    "    # Calculate metrics\n",
    "    total_trades = len(closed_trades)\n",
    "    total_pips = closed_trades['pips'].sum()\n",
    "    win_rate = (closed_trades['trade'] == 'closed - tp').mean() * 100\n",
    "\n",
    "    # Cumulative profit over time (simulate compounding returns with 2% risk)\n",
    "    balance = starting_balance\n",
    "    balances = [balance]\n",
    "\n",
    "    for i, row in closed_trades.iterrows():\n",
    "        risk_amount = balance * risk_per_trade\n",
    "        if row['trade'] == 'closed - sl':\n",
    "            balance -= risk_amount\n",
    "        elif row['trade'] == 'closed - tp':\n",
    "            reward = risk_amount * (row['pips'] / abs(row['pips']) if row['pips'] != 0 else 1)\n",
    "            balance += reward\n",
    "        balances.append(balance)\n",
    "\n",
    "    closed_trades['cumulative_pips'] = closed_trades['pips'].cumsum()\n",
    "    closed_trades['cumulative_balance'] = balances[1:]\n",
    "    closed_trades['time'] = pd.to_datetime(closed_trades['time'])\n",
    "\n",
    "    total_dollar_gain = balances[-1] - starting_balance\n",
    "    percent_gain = (balances[-1] / starting_balance - 1) * 100\n",
    "\n",
    "    # Print summary\n",
    "    print(f\"📈 Total Trades: {total_trades}\")\n",
    "    print(f\"💰 Total Pips: {round(total_pips, 1)}\")\n",
    "    print(f\"✅ Win Rate: {round(win_rate, 2)}%\")\n",
    "    print(f\"💵 Total $ Gain: ${round(total_dollar_gain, 2)}\")\n",
    "    print(f\"📊 Percent Gain: {round(percent_gain, 2)}%\")\n",
    "\n",
    "    # Plot Pips and Balance\n",
    "    fig = go.Figure()\n",
    "\n",
    "    fig.add_trace(go.Scatter(\n",
    "        x=closed_trades['time'],\n",
    "        y=closed_trades['cumulative_pips'],\n",
    "        mode='lines+markers',\n",
    "        name='Cumulative Pips',\n",
    "        line=dict(width=2),\n",
    "        marker=dict(size=4)\n",
    "    ))\n",
    "\n",
    "    fig.add_trace(go.Scatter(\n",
    "        x=closed_trades['time'],\n",
    "        y=closed_trades['cumulative_balance'],\n",
    "        mode='lines+markers',\n",
    "        name='Account Balance ($)',\n",
    "        line=dict(width=2),\n",
    "        marker=dict(size=4),\n",
    "        yaxis=\"y2\"\n",
    "    ))\n",
    "\n",
    "    fig.update_layout(\n",
    "        title=\"📈 Strategy Performance\",\n",
    "        xaxis_title=\"Time\",\n",
    "        yaxis=dict(title=\"Cumulative Pips\"),\n",
    "        yaxis2=dict(title=\"Account Balance ($)\", overlaying='y', side='right'),\n",
    "        template=\"plotly_white\",\n",
    "        hovermode=\"x unified\",\n",
    "        legend=dict(x=0.01, y=0.99)\n",
    "    )\n",
    "\n",
    "    fig.show()"
   ]
  },
  {
   "cell_type": "code",
   "execution_count": 71,
   "metadata": {},
   "outputs": [],
   "source": [
    "df = pd.read_pickle('../data/EUR_USD_M5.pkl')\n",
    "# df = filter_df_by_date(df, \"2024-06-01T00:00:00Z\", \"2025-01-01T00:00:00Z\")\n",
    "\n",
    "df['sTime'] = [dt.datetime.strftime(x, \"s%y-%m-%d %H:%M\") for x in df.time]\n",
    "trend.apply_downtrend(df)\n",
    "bottom.apply_bottom_zones(df)\n",
    "# zone.apply_zone_exits_and_reentries(df, 50, 'EUR_USD')\n",
    "# candle.detect_strong_bullish(df)\n",
    "# simulate_trades(df)\n",
    "# df = apply_technicals(df)\n",
    "# df = simulate_trades(df)\n",
    "# df_between.head(45)"
   ]
  },
  {
   "cell_type": "code",
   "execution_count": 74,
   "metadata": {},
   "outputs": [
    {
     "name": "stdout",
     "output_type": "stream",
     "text": [
      "Total:  744269\n",
      "In Downtrend: 370995\n",
      "Bottoms:  39363\n"
     ]
    }
   ],
   "source": [
    "print(\"Total: \", (len(df)))\n",
    "print(\"In Downtrend:\", (df['in_downtrend'] == True).sum())\n",
    "print(\"Bottoms: \", (df['is_bottom'] == True).sum())"
   ]
  },
  {
   "cell_type": "code",
   "execution_count": null,
   "metadata": {},
   "outputs": [],
   "source": [
    "fig = draw.draw_candlestick_chart(df)\n",
    "\n",
    "\n",
    "# draw.highlight_downtrend_candles(fig, df)\n",
    "# draw.highlight_bottom_zones(fig, df)\n",
    "# draw.highlight_exits_and_reentries(fig, df)\n",
    "# draw.highlight_strong_bullish_candles(fig, df)\n",
    "\n",
    "fig.show()"
   ]
  },
  {
   "cell_type": "code",
   "execution_count": null,
   "metadata": {},
   "outputs": [],
   "source": [
    "def extract_trades(df):\n",
    "    trades = []\n",
    "    df.reset_index(drop=True, inplace=True)\n",
    "\n",
    "    close_locs = df.index[df['trade'].isin(['closed - tp', 'closed - sl'])].tolist()\n",
    "    print(f\"Extracting {len(close_locs)} trade entries...\")\n",
    "\n",
    "    for close_loc in close_locs:\n",
    "        open_index = close_loc - int(df.loc[close_loc, 'rows_since_entry'])\n",
    "        bottom_index = open_index - int(df.loc[open_index, 'rows_since_bottom'])\n",
    "        close_index = close_loc\n",
    "\n",
    "        sliced_df = df.loc[bottom_index : close_index]\n",
    "        trades.append(sliced_df)\n",
    "\n",
    "    print(f\"✅ Extracted {len(trades)} trade(s)\")\n",
    "    return trades"
   ]
  },
  {
   "cell_type": "code",
   "execution_count": 4,
   "metadata": {},
   "outputs": [
    {
     "name": "stdout",
     "output_type": "stream",
     "text": [
      "744418\n"
     ]
    }
   ],
   "source": [
    "df = pd.read_pickle('../data/EUR_USD_M5.pkl')\n",
    "print(len(df))"
   ]
  },
  {
   "cell_type": "code",
   "execution_count": 5,
   "metadata": {},
   "outputs": [
    {
     "name": "stdout",
     "output_type": "stream",
     "text": [
      "Opened trades: 1\n",
      "128\n"
     ]
    }
   ],
   "source": [
    "df = pd.read_pickle('../backtesting/results/EUR_USD_H1_analyzed.pkl')\n",
    "df = filter_df_by_date(df, \"2024-09-03T17:00:00Z\", \"2024-09-11T00:00:00Z\")\n",
    "print(\"Opened trades:\", (df['trade'] == 'opened').sum())\n",
    "print(len(df))\n",
    "\n"
   ]
  },
  {
   "cell_type": "code",
   "execution_count": 94,
   "metadata": {},
   "outputs": [
    {
     "data": {
      "application/vnd.plotly.v1+json": {
       "config": {
        "plotlyServerURL": "https://plot.ly"
       },
       "data": [
        {
         "close": {
          "bdata": "93XgnBGl8T9hMlUwKqnxP0JbzqW4qvE/7N0f71Wr8T/qlbIMcazxPwYN/RNcrPE/donqrYGt8T8hPNo4Yq3xP+XVOQZkr/E/OjsZHCWv8T9y+Q/pt6/xPxtkkpGzsPE/UyKJXkax8T/IXu/+eK/xP1RSJ6CJsPE/rRdDOdGu8T9WmpSCbq/xP+XVOQZkr/E/dVlMbD6u8T/Jdr6fGq/xP3CZ02UxsfE/dbD+z2G+8T/tZHCUvLrxP+oENBE2vPE/opdRLLe08T8pyxDHurjxP++s3XahufE/JAuYwK278T9BguLHmLvxP7EWnwJgvPE/0QX1LXO68T9gWWlSCrrxPwsMWd3qufE/CvSJPEm68T8MPPceLrnxP5p3nKIjufE/Q8pPqn268T/Opbiq7LvxP+i8xi5RvfE/ww34/DDC8T84Sl6dY8DxP1JJnYAmwvE/cSAkC5jA8T8BpDZxcr/xP9vEyf0OxfE/J2vUQzS68T/GbTSAt8DxP8LdWbvtwvE/hV/q503F8T/c9Gc/UsTxP6MeotEdxPE/10y+2ebG8T9moDL+fcbxP2agMv59xvE/gufewyXH8T9kQPZ698fxP7vVc9L7xvE/gufewyXH8T9GmQ0yycjxP9O84xQdyfE/RGlv8IXJ8T8lkuhlFMvxP2L4iJgSyfE/C3va4a/J8T+5jQbwFsjxP4RHG0esxfE/2qz6XG3F8T8JG55eKcvxPwiUTbnCu/E/FhObj2vD8T/NdRppqbzxP7fu5qkOufE/XMmOjUC88T93EDtT6LzxPyB7vfvjvfE/zXUaaam88T/qBDQRNrzxP5NvtrkxvfE/PiKmRBK98T8kC5jArbvxP0GasWg6u/E/e6AVGLK68T/ufD81XrrxP9R9AFKbuPE/EhQ/xty18T8VjErqBLTxP4vgfyvZsfE/Bd1e0hit8T/GFoIclLDxPycUIuAQqvE/lWBxOPOr8T99eQH20anxP1tCPujZrPE/l6jeGtiq8T/tDb4wmarxP1oSoKaWrfE/QSswZHWr8T8lzLT9K6vxP0W7Cik/qfE/8rVnlgSo8T/UDn9N1qjxP36pnzcVqfE/1T4djxmo8T9n8s02N6bxPyuk/KTap/E/K6T8pNqn8T8oRMAhVKnxP7VPx2MGqvE/fXkB9tGp8T/nNXaJ6q3xP/CFyVTBqPE/8G36sx+p8T8oRMAhVKnxPwqd19glqvE/EY3uIHam8T/2RUJbzqXxP6gAGM+gofE/N1SM8zeh8T+H+fIC7KPxPzF8REyJpPE/M9yAzw+j8T9rmnecoqPxPxQF+kSepPE/xHdi1ouh8T+oABjPoKHxP28Sg8DKofE/Ups4ud+h8T9Smzi536HxPw==",
          "dtype": "f8"
         },
         "decreasing": {
          "fillcolor": "#CC2E3C",
          "line": {
           "color": "#FF3A4C"
          }
         },
         "high": {
          "bdata": "JxQi4BCq8T8oLPGAsqnxPwltOZfiqvE/ste7P96r8T/NHmgFhqzxP+l942vPrPE/WOIBZVOu8T/mBdhHp67xPxtkkpGzsPE/G2SSkbOw8T+qtwa2SrDxP6mHaHQHsfE/GQRWDi2y8T82qz5XW7HxP/pEniRds/E/qFfKMsSx8T9SCrq9pLHxP1RSJ6CJsPE/cvkP6bev8T86OxkcJa/xP/2k2qfjsfE/cSAkC5jA8T9XCRaHM7/xPyKrWz0nvfE/dxA7U+i88T+37uapDrnxP+w00lJ5u/E/QGoTJ/e78T/Opbiq7LvxP8xdS8gHvfE/eCgK9Im88T/Q1VbsL7vxP811GmmpvPE/eVioNc278T8K9Ik8SbrxPwskKH6MufE/e6AVGLK68T/LLa2GxL3xPx9LH7qgvvE/iQeUTbnC8T9tkElGzsLxP99sc2N6wvE/oKaWrfXF8T+05VyKq8rxP9l8XBsqxvE/aQBvgQTF8T8bu0T11sDxP79lTpfFxPE/L/oK0ozF8T9HyatzDMjxP2jQ0D/BxfE/ZXCUvDrH8T+dRloqb8fxP55eKcsQx/E/1hwgmKPH8T+b/uxHisjxP/FjzF1LyPE/nS6Lic3H8T+3RZkNMsnxP+8DkNrEyfE/QznRrkLK8T8JG55eKcvxPyWS6GUUy/E/JZLoZRTL8T8Le9rhr8nxPw7bFmU2yPE/Sino9pLG8T+3nEtxVdnxP+krSDMWzfE/1QRR9wHI8T8bEvdY+tDxP811GmmpvPE/rp6T3je+8T8FNBE2PL3xP5EnSddMvvE/dcjNcAO+8T/q7GRwlLzxPwLU1LK1vvE/VyHlJ9W+8T87qpog6r7xP8nlP6TfvvE/JAuYwK278T/sTKHzGrvxP9EF9S1zuvE/KcsQx7q48T/zVIfcDLfxPxRcrKjBtPE/MzMzMzOz8T+L4H8r2bHxP//sR4rIsPE/662BrRKs8T89m1Wfq63xP3Qprir7rvE/Psvz4O6s8T+VYHE486vxPx/0bFZ9rvE/j3Ba8KKv8T+xpx3+mqzxP5eQD3o2q/E/mfBL/byp8T8oRMAhVKnxP+49XHLcqfE/KETAIVSp8T9jesISD6jxP9U+HY8ZqPE/1SZO7neo8T+2Z5YEqKnxP+4ljdE6qvE/swdagSGr8T/nNXaJ6q3xPwStwJDVrfE/JxQi4BCq8T8JbTmX4qrxP0JbzqW4qvE/CD2bVZ+r8T8N/RNcrKjxPw4tsp3vp/E/iSmRRC+j8T9N27+y0qTxP2gibHh6pfE/hbGFIAel8T9pUgq6vaTxPxTtKqT8pPE/+I2vPbOk8T9vEoPAyqHxP4pZL4ZyovE/Tzv8NVmj8T/ejnBa8KLxPw==",
          "dtype": "f8"
         },
         "increasing": {
          "fillcolor": "#24A06B",
          "line": {
           "color": "#24A06B"
          }
         },
         "line": {
          "width": 1
         },
         "low": {
          "bdata": "3C4012mk8T+/t+nPfqTxP7eXNEbrqPE/7j1cctyp8T99eQH20anxP315AfbRqfE/662BrRKs8T+UMNP2r6zxPwXdXtIYrfE/dnEbDeCt8T8DlfHvM67xP6vnpPeNr/E/HZQw0/av8T8iVKnZA63xP3i5iO/ErPE/5zV2ieqt8T8DlfHvM67xP65H4XoUrvE/swdagSGr8T9Ei2zn+6nxP65H4XoUrvE/jBAebRyx8T/w3Hu45LjxPynLEMe6uPE/24XmOo208T+jryDNWLTxP7gehetRuPE/Y7ml1ZC48T96cHfWbrvxP3pwd9Zuu/E/fdCzWfW58T/UfQBSm7jxP9NNYhBYufE/0jWTb7a58T8NVMa/z7jxP9WVz/I8uPE/RSqMLQS58T8na9RDNLrxPwr0iTxJuvE/I/PIHwy88T9W8Ubmkb/xPx4bgXhdv/E/qz5XW7G/8T/ovMYuUb3xP5EPejarvvE/fhghPNq48T/vrN12obnxP1Sp2QOtwPE//OO9amXC8T/dJAaBlcPxPzJyFva0w/E/ox6i0R3E8T+8BRIUP8bxP/XzpiIVxvE/9fOmIhXG8T9moDL+fcbxP0op6PaSxvE/EVMiiV7G8T+eXinLEMfxPw7bFmU2yPE/8WPMXUvI8T/V7IFWYMjxP7vVc9L7xvE/nS6Lic3H8T+hvmVOl8XxP2jon+BixfE/T+lg/Z/D8T/ufD81XrrxP2rBi76CtPE/uk4jLZW38T8kC5jArbvxP6A3FakwtvE/vK5fsBu28T8LJCh+jLnxPyUjZ2FPu/E/XMmOjUC88T96cHfWbrvxP0GC4seYu/E/PiKmRBK98T+W58HdWbvxP0KygAncuvE/tI6qJoi68T8ng6Pk1bnxP/IMGvonuPE/EhQ/xty18T/Dnnb4a7LxP+Olm8QgsPE/I4RHG0es8T+VSKKXUazxPw39E1ysqPE/nFCIgEOo8T9hMlUwKqnxP5nwS/28qfE/gQncupun8T9HA3gLJKjxP+0NvjCZqvE/XqJ6a2Cr8T/tDb4wmarxPylcj8L1qPE/LLzLRXyn8T+5x9KHLqjxPyqMLQQ5qPE/1lbsL7un8T9Mw/ARMaXxP4NpGD4ipvE/ZcIv9fOm8T8rpPyk2qfxP3/ZPXlYqPE/RbsKKT+p8T+693DJcafxP/CFyVTBqPE/1m670Fyn8T+COXr83qbxP7r3cMlxp/E/MXxETImk8T+/t+nPfqTxP+IeSx+6oPE/jgHZ692f8T/iHksfuqDxP/sFu2HbovE/+wW7Ydui8T+n6Egu/6HxP6a4quy7ovE/U8vW+iKh8T/h7qzddqHxP8R3YtaLofE/xHdi1ouh8T84hCo1e6DxPw==",
          "dtype": "f8"
         },
         "opacity": 1,
         "open": {
          "bdata": "mfBL/byp8T/3deCcEaXxP/Bt+rMfqfE/JuSDns2q8T9BKzBkdavxP80eaAWGrPE/Bg39E1ys8T+vd3+8V63xP693f7xXrfE/yF7v/niv8T86OxkcJa/xP3L5D+m3r/E/G2SSkbOw8T/F5uPaULHxP6vnpPeNr/E/443MI3+w8T+QoPgx5q7xP8he7/54r/E/cxHfiVmv8T91WUxsPq7xP1eyYyMQr/E/cJnTZTGx8T8D7KNTV77xP3ugFRiyuvE/lbcjnBa88T8x0/avrLTxP5uPa0PFuPE/0jWTb7a58T/Opbiq7LvxP+scA7LXu/E/lZ9U+3S88T/RBfUtc7rxP9IdxM4UuvE/YFlpUgq68T+YLy/APrrxPymzQSYZufE/mnecoiO58T+0jqomiLrxP13hXS7iu/E/6LzGLlG98T9SSZ2AJsLxP8aFAyFZwPE//PuMCwfC8T9UqdkDrcDxP+Qs7GmHv/E/aQBvgQTF8T8na9RDNLrxP1Sp2QOtwPE/NKK0N/jC8T9McVXZd8XxP2owDcNHxPE/ox6i0R3E8T8QO1PovMbxP2agMv59xvE/Sino9pLG8T8QI4RHG8fxP9UEUfcByPE/SREZVvHG8T+C597DJcfxP0aZDTLJyPE/07zjFB3J8T+2LcpskMnxP9BE2PD0yvE/07zjFB3J8T8Le9rhr8nxP0fJq3MMyPE/hEcbR6zF8T/arPpcbcXxP+yjU1c+y/E/6xwDste78T+lTkATYcPxP+rsZHCUvPE/KbNBJhm58T8/UkSGVbzxP3cQO1PovPE/BARz9Pi98T/sNNJSebvxPwiUTbnCu/E/d/hrska98T/p1JXP8rzxPwiUTbnCu/E/s14M5US78T8K3Lqbp7rxPwr0iTxJuvE/RkJbzqW48T/1nPS+8bXxP/kUAOMZtPE/i+B/K9mx8T8F3V7SGK3xP8YWghyUsPE/JxQi4BCq8T+y17s/3qvxP+49XHLcqfE/Psvz4O6s8T8JbTmX4qrxP1/SGK2jqvE/PZtVn6ut8T9BKzBkdavxP5eQD3o2q/E/RbsKKT+p8T9G09nJ4KjxP/Bt+rMfqfE/myDqPgCp8T9jesISD6jxP2fyzTY3pvE/Di2yne+n8T8rpPyk2qfxPyhEwCFUqfE/RIts5/up8T9gArfu5qnxPwStwJDVrfE/8IXJVMGo8T9+qZ83FanxPwzNdRppqfE/7iWN0Tqq8T8uBDkoYabxPxK9jGK5pfE/qAAYz6Ch8T8a3UHsTKHxPxY1mIbho/E/o0CfyJOk8T9QU8vW+qLxP/rVHCCYo/E/MXxETImk8T82PL1SlqHxP8R3YtaLofE/bxKDwMqh8T9Smzi536HxPw==",
          "dtype": "f8"
         },
         "type": "candlestick",
         "x": [
          "s24-09-03 17:00",
          "s24-09-03 18:00",
          "s24-09-03 19:00",
          "s24-09-03 20:00",
          "s24-09-03 21:00",
          "s24-09-03 22:00",
          "s24-09-03 23:00",
          "s24-09-04 00:00",
          "s24-09-04 01:00",
          "s24-09-04 02:00",
          "s24-09-04 03:00",
          "s24-09-04 04:00",
          "s24-09-04 05:00",
          "s24-09-04 06:00",
          "s24-09-04 07:00",
          "s24-09-04 08:00",
          "s24-09-04 09:00",
          "s24-09-04 10:00",
          "s24-09-04 11:00",
          "s24-09-04 12:00",
          "s24-09-04 13:00",
          "s24-09-04 14:00",
          "s24-09-04 15:00",
          "s24-09-04 16:00",
          "s24-09-04 17:00",
          "s24-09-04 18:00",
          "s24-09-04 19:00",
          "s24-09-04 20:00",
          "s24-09-04 21:00",
          "s24-09-04 22:00",
          "s24-09-04 23:00",
          "s24-09-05 00:00",
          "s24-09-05 01:00",
          "s24-09-05 02:00",
          "s24-09-05 03:00",
          "s24-09-05 04:00",
          "s24-09-05 05:00",
          "s24-09-05 06:00",
          "s24-09-05 07:00",
          "s24-09-05 08:00",
          "s24-09-05 09:00",
          "s24-09-05 10:00",
          "s24-09-05 11:00",
          "s24-09-05 12:00",
          "s24-09-05 13:00",
          "s24-09-05 14:00",
          "s24-09-05 15:00",
          "s24-09-05 16:00",
          "s24-09-05 17:00",
          "s24-09-05 18:00",
          "s24-09-05 19:00",
          "s24-09-05 20:00",
          "s24-09-05 21:00",
          "s24-09-05 22:00",
          "s24-09-05 23:00",
          "s24-09-06 00:00",
          "s24-09-06 01:00",
          "s24-09-06 02:00",
          "s24-09-06 03:00",
          "s24-09-06 04:00",
          "s24-09-06 05:00",
          "s24-09-06 06:00",
          "s24-09-06 07:00",
          "s24-09-06 08:00",
          "s24-09-06 09:00",
          "s24-09-06 10:00",
          "s24-09-06 11:00",
          "s24-09-06 12:00",
          "s24-09-06 13:00",
          "s24-09-06 14:00",
          "s24-09-06 15:00",
          "s24-09-06 16:00",
          "s24-09-06 17:00",
          "s24-09-06 18:00",
          "s24-09-06 19:00",
          "s24-09-06 20:00",
          "s24-09-08 21:00",
          "s24-09-08 22:00",
          "s24-09-08 23:00",
          "s24-09-09 00:00",
          "s24-09-09 01:00",
          "s24-09-09 02:00",
          "s24-09-09 03:00",
          "s24-09-09 04:00",
          "s24-09-09 05:00",
          "s24-09-09 06:00",
          "s24-09-09 07:00",
          "s24-09-09 08:00",
          "s24-09-09 09:00",
          "s24-09-09 10:00",
          "s24-09-09 11:00",
          "s24-09-09 12:00",
          "s24-09-09 13:00",
          "s24-09-09 14:00",
          "s24-09-09 15:00",
          "s24-09-09 16:00",
          "s24-09-09 17:00",
          "s24-09-09 18:00",
          "s24-09-09 19:00",
          "s24-09-09 20:00",
          "s24-09-09 21:00",
          "s24-09-09 22:00",
          "s24-09-09 23:00",
          "s24-09-10 00:00",
          "s24-09-10 01:00",
          "s24-09-10 02:00",
          "s24-09-10 03:00",
          "s24-09-10 04:00",
          "s24-09-10 05:00",
          "s24-09-10 06:00",
          "s24-09-10 07:00",
          "s24-09-10 08:00",
          "s24-09-10 09:00",
          "s24-09-10 10:00",
          "s24-09-10 11:00",
          "s24-09-10 12:00",
          "s24-09-10 13:00",
          "s24-09-10 14:00",
          "s24-09-10 15:00",
          "s24-09-10 16:00",
          "s24-09-10 17:00",
          "s24-09-10 18:00",
          "s24-09-10 19:00",
          "s24-09-10 20:00",
          "s24-09-10 21:00",
          "s24-09-10 22:00",
          "s24-09-10 23:00",
          "s24-09-11 00:00"
         ]
        },
        {
         "close": {
          "bdata": "dbD+z2G+8T8=",
          "dtype": "f8"
         },
         "decreasing": {
          "fillcolor": "#2d63ff",
          "line": {
           "color": "#2d63ff"
          }
         },
         "high": {
          "bdata": "cSAkC5jA8T8=",
          "dtype": "f8"
         },
         "increasing": {
          "fillcolor": "#2d63ff",
          "line": {
           "color": "#2d63ff"
          }
         },
         "line": {
          "width": 1
         },
         "low": {
          "bdata": "jBAebRyx8T8=",
          "dtype": "f8"
         },
         "opacity": 1,
         "open": {
          "bdata": "cJnTZTGx8T8=",
          "dtype": "f8"
         },
         "type": "candlestick",
         "x": [
          "s24-09-04 14:00"
         ]
        },
        {
         "line": {
          "color": "green",
          "dash": "dot",
          "width": 1
         },
         "mode": "lines",
         "name": "Take Profit",
         "showlegend": false,
         "type": "scatter",
         "x": [
          "s24-09-04 14:00",
          "s24-09-10 13:00"
         ],
         "y": [
          1.11582,
          1.11582
         ]
        },
        {
         "line": {
          "color": "red",
          "dash": "dot",
          "width": 1
         },
         "mode": "lines",
         "name": "Stop Loss",
         "showlegend": false,
         "type": "scatter",
         "x": [
          "s24-09-04 14:00",
          "s24-09-10 13:00"
         ],
         "y": [
          1.1021400000000001,
          1.1021400000000001
         ]
        }
       ],
       "layout": {
        "font": {
         "color": "#e1e1e1",
         "size": 10
        },
        "height": 600,
        "margin": {
         "b": 10,
         "l": 10,
         "r": 10,
         "t": 10
        },
        "paper_bgcolor": "#2c303c",
        "plot_bgcolor": "#2c303c",
        "template": {
         "data": {
          "bar": [
           {
            "error_x": {
             "color": "#2a3f5f"
            },
            "error_y": {
             "color": "#2a3f5f"
            },
            "marker": {
             "line": {
              "color": "#E5ECF6",
              "width": 0.5
             },
             "pattern": {
              "fillmode": "overlay",
              "size": 10,
              "solidity": 0.2
             }
            },
            "type": "bar"
           }
          ],
          "barpolar": [
           {
            "marker": {
             "line": {
              "color": "#E5ECF6",
              "width": 0.5
             },
             "pattern": {
              "fillmode": "overlay",
              "size": 10,
              "solidity": 0.2
             }
            },
            "type": "barpolar"
           }
          ],
          "carpet": [
           {
            "aaxis": {
             "endlinecolor": "#2a3f5f",
             "gridcolor": "white",
             "linecolor": "white",
             "minorgridcolor": "white",
             "startlinecolor": "#2a3f5f"
            },
            "baxis": {
             "endlinecolor": "#2a3f5f",
             "gridcolor": "white",
             "linecolor": "white",
             "minorgridcolor": "white",
             "startlinecolor": "#2a3f5f"
            },
            "type": "carpet"
           }
          ],
          "choropleth": [
           {
            "colorbar": {
             "outlinewidth": 0,
             "ticks": ""
            },
            "type": "choropleth"
           }
          ],
          "contour": [
           {
            "colorbar": {
             "outlinewidth": 0,
             "ticks": ""
            },
            "colorscale": [
             [
              0,
              "#0d0887"
             ],
             [
              0.1111111111111111,
              "#46039f"
             ],
             [
              0.2222222222222222,
              "#7201a8"
             ],
             [
              0.3333333333333333,
              "#9c179e"
             ],
             [
              0.4444444444444444,
              "#bd3786"
             ],
             [
              0.5555555555555556,
              "#d8576b"
             ],
             [
              0.6666666666666666,
              "#ed7953"
             ],
             [
              0.7777777777777778,
              "#fb9f3a"
             ],
             [
              0.8888888888888888,
              "#fdca26"
             ],
             [
              1,
              "#f0f921"
             ]
            ],
            "type": "contour"
           }
          ],
          "contourcarpet": [
           {
            "colorbar": {
             "outlinewidth": 0,
             "ticks": ""
            },
            "type": "contourcarpet"
           }
          ],
          "heatmap": [
           {
            "colorbar": {
             "outlinewidth": 0,
             "ticks": ""
            },
            "colorscale": [
             [
              0,
              "#0d0887"
             ],
             [
              0.1111111111111111,
              "#46039f"
             ],
             [
              0.2222222222222222,
              "#7201a8"
             ],
             [
              0.3333333333333333,
              "#9c179e"
             ],
             [
              0.4444444444444444,
              "#bd3786"
             ],
             [
              0.5555555555555556,
              "#d8576b"
             ],
             [
              0.6666666666666666,
              "#ed7953"
             ],
             [
              0.7777777777777778,
              "#fb9f3a"
             ],
             [
              0.8888888888888888,
              "#fdca26"
             ],
             [
              1,
              "#f0f921"
             ]
            ],
            "type": "heatmap"
           }
          ],
          "histogram": [
           {
            "marker": {
             "pattern": {
              "fillmode": "overlay",
              "size": 10,
              "solidity": 0.2
             }
            },
            "type": "histogram"
           }
          ],
          "histogram2d": [
           {
            "colorbar": {
             "outlinewidth": 0,
             "ticks": ""
            },
            "colorscale": [
             [
              0,
              "#0d0887"
             ],
             [
              0.1111111111111111,
              "#46039f"
             ],
             [
              0.2222222222222222,
              "#7201a8"
             ],
             [
              0.3333333333333333,
              "#9c179e"
             ],
             [
              0.4444444444444444,
              "#bd3786"
             ],
             [
              0.5555555555555556,
              "#d8576b"
             ],
             [
              0.6666666666666666,
              "#ed7953"
             ],
             [
              0.7777777777777778,
              "#fb9f3a"
             ],
             [
              0.8888888888888888,
              "#fdca26"
             ],
             [
              1,
              "#f0f921"
             ]
            ],
            "type": "histogram2d"
           }
          ],
          "histogram2dcontour": [
           {
            "colorbar": {
             "outlinewidth": 0,
             "ticks": ""
            },
            "colorscale": [
             [
              0,
              "#0d0887"
             ],
             [
              0.1111111111111111,
              "#46039f"
             ],
             [
              0.2222222222222222,
              "#7201a8"
             ],
             [
              0.3333333333333333,
              "#9c179e"
             ],
             [
              0.4444444444444444,
              "#bd3786"
             ],
             [
              0.5555555555555556,
              "#d8576b"
             ],
             [
              0.6666666666666666,
              "#ed7953"
             ],
             [
              0.7777777777777778,
              "#fb9f3a"
             ],
             [
              0.8888888888888888,
              "#fdca26"
             ],
             [
              1,
              "#f0f921"
             ]
            ],
            "type": "histogram2dcontour"
           }
          ],
          "mesh3d": [
           {
            "colorbar": {
             "outlinewidth": 0,
             "ticks": ""
            },
            "type": "mesh3d"
           }
          ],
          "parcoords": [
           {
            "line": {
             "colorbar": {
              "outlinewidth": 0,
              "ticks": ""
             }
            },
            "type": "parcoords"
           }
          ],
          "pie": [
           {
            "automargin": true,
            "type": "pie"
           }
          ],
          "scatter": [
           {
            "fillpattern": {
             "fillmode": "overlay",
             "size": 10,
             "solidity": 0.2
            },
            "type": "scatter"
           }
          ],
          "scatter3d": [
           {
            "line": {
             "colorbar": {
              "outlinewidth": 0,
              "ticks": ""
             }
            },
            "marker": {
             "colorbar": {
              "outlinewidth": 0,
              "ticks": ""
             }
            },
            "type": "scatter3d"
           }
          ],
          "scattercarpet": [
           {
            "marker": {
             "colorbar": {
              "outlinewidth": 0,
              "ticks": ""
             }
            },
            "type": "scattercarpet"
           }
          ],
          "scattergeo": [
           {
            "marker": {
             "colorbar": {
              "outlinewidth": 0,
              "ticks": ""
             }
            },
            "type": "scattergeo"
           }
          ],
          "scattergl": [
           {
            "marker": {
             "colorbar": {
              "outlinewidth": 0,
              "ticks": ""
             }
            },
            "type": "scattergl"
           }
          ],
          "scattermap": [
           {
            "marker": {
             "colorbar": {
              "outlinewidth": 0,
              "ticks": ""
             }
            },
            "type": "scattermap"
           }
          ],
          "scattermapbox": [
           {
            "marker": {
             "colorbar": {
              "outlinewidth": 0,
              "ticks": ""
             }
            },
            "type": "scattermapbox"
           }
          ],
          "scatterpolar": [
           {
            "marker": {
             "colorbar": {
              "outlinewidth": 0,
              "ticks": ""
             }
            },
            "type": "scatterpolar"
           }
          ],
          "scatterpolargl": [
           {
            "marker": {
             "colorbar": {
              "outlinewidth": 0,
              "ticks": ""
             }
            },
            "type": "scatterpolargl"
           }
          ],
          "scatterternary": [
           {
            "marker": {
             "colorbar": {
              "outlinewidth": 0,
              "ticks": ""
             }
            },
            "type": "scatterternary"
           }
          ],
          "surface": [
           {
            "colorbar": {
             "outlinewidth": 0,
             "ticks": ""
            },
            "colorscale": [
             [
              0,
              "#0d0887"
             ],
             [
              0.1111111111111111,
              "#46039f"
             ],
             [
              0.2222222222222222,
              "#7201a8"
             ],
             [
              0.3333333333333333,
              "#9c179e"
             ],
             [
              0.4444444444444444,
              "#bd3786"
             ],
             [
              0.5555555555555556,
              "#d8576b"
             ],
             [
              0.6666666666666666,
              "#ed7953"
             ],
             [
              0.7777777777777778,
              "#fb9f3a"
             ],
             [
              0.8888888888888888,
              "#fdca26"
             ],
             [
              1,
              "#f0f921"
             ]
            ],
            "type": "surface"
           }
          ],
          "table": [
           {
            "cells": {
             "fill": {
              "color": "#EBF0F8"
             },
             "line": {
              "color": "white"
             }
            },
            "header": {
             "fill": {
              "color": "#C8D4E3"
             },
             "line": {
              "color": "white"
             }
            },
            "type": "table"
           }
          ]
         },
         "layout": {
          "annotationdefaults": {
           "arrowcolor": "#2a3f5f",
           "arrowhead": 0,
           "arrowwidth": 1
          },
          "autotypenumbers": "strict",
          "coloraxis": {
           "colorbar": {
            "outlinewidth": 0,
            "ticks": ""
           }
          },
          "colorscale": {
           "diverging": [
            [
             0,
             "#8e0152"
            ],
            [
             0.1,
             "#c51b7d"
            ],
            [
             0.2,
             "#de77ae"
            ],
            [
             0.3,
             "#f1b6da"
            ],
            [
             0.4,
             "#fde0ef"
            ],
            [
             0.5,
             "#f7f7f7"
            ],
            [
             0.6,
             "#e6f5d0"
            ],
            [
             0.7,
             "#b8e186"
            ],
            [
             0.8,
             "#7fbc41"
            ],
            [
             0.9,
             "#4d9221"
            ],
            [
             1,
             "#276419"
            ]
           ],
           "sequential": [
            [
             0,
             "#0d0887"
            ],
            [
             0.1111111111111111,
             "#46039f"
            ],
            [
             0.2222222222222222,
             "#7201a8"
            ],
            [
             0.3333333333333333,
             "#9c179e"
            ],
            [
             0.4444444444444444,
             "#bd3786"
            ],
            [
             0.5555555555555556,
             "#d8576b"
            ],
            [
             0.6666666666666666,
             "#ed7953"
            ],
            [
             0.7777777777777778,
             "#fb9f3a"
            ],
            [
             0.8888888888888888,
             "#fdca26"
            ],
            [
             1,
             "#f0f921"
            ]
           ],
           "sequentialminus": [
            [
             0,
             "#0d0887"
            ],
            [
             0.1111111111111111,
             "#46039f"
            ],
            [
             0.2222222222222222,
             "#7201a8"
            ],
            [
             0.3333333333333333,
             "#9c179e"
            ],
            [
             0.4444444444444444,
             "#bd3786"
            ],
            [
             0.5555555555555556,
             "#d8576b"
            ],
            [
             0.6666666666666666,
             "#ed7953"
            ],
            [
             0.7777777777777778,
             "#fb9f3a"
            ],
            [
             0.8888888888888888,
             "#fdca26"
            ],
            [
             1,
             "#f0f921"
            ]
           ]
          },
          "colorway": [
           "#636efa",
           "#EF553B",
           "#00cc96",
           "#ab63fa",
           "#FFA15A",
           "#19d3f3",
           "#FF6692",
           "#B6E880",
           "#FF97FF",
           "#FECB52"
          ],
          "font": {
           "color": "#2a3f5f"
          },
          "geo": {
           "bgcolor": "white",
           "lakecolor": "white",
           "landcolor": "#E5ECF6",
           "showlakes": true,
           "showland": true,
           "subunitcolor": "white"
          },
          "hoverlabel": {
           "align": "left"
          },
          "hovermode": "closest",
          "mapbox": {
           "style": "light"
          },
          "paper_bgcolor": "white",
          "plot_bgcolor": "#E5ECF6",
          "polar": {
           "angularaxis": {
            "gridcolor": "white",
            "linecolor": "white",
            "ticks": ""
           },
           "bgcolor": "#E5ECF6",
           "radialaxis": {
            "gridcolor": "white",
            "linecolor": "white",
            "ticks": ""
           }
          },
          "scene": {
           "xaxis": {
            "backgroundcolor": "#E5ECF6",
            "gridcolor": "white",
            "gridwidth": 2,
            "linecolor": "white",
            "showbackground": true,
            "ticks": "",
            "zerolinecolor": "white"
           },
           "yaxis": {
            "backgroundcolor": "#E5ECF6",
            "gridcolor": "white",
            "gridwidth": 2,
            "linecolor": "white",
            "showbackground": true,
            "ticks": "",
            "zerolinecolor": "white"
           },
           "zaxis": {
            "backgroundcolor": "#E5ECF6",
            "gridcolor": "white",
            "gridwidth": 2,
            "linecolor": "white",
            "showbackground": true,
            "ticks": "",
            "zerolinecolor": "white"
           }
          },
          "shapedefaults": {
           "line": {
            "color": "#2a3f5f"
           }
          },
          "ternary": {
           "aaxis": {
            "gridcolor": "white",
            "linecolor": "white",
            "ticks": ""
           },
           "baxis": {
            "gridcolor": "white",
            "linecolor": "white",
            "ticks": ""
           },
           "bgcolor": "#E5ECF6",
           "caxis": {
            "gridcolor": "white",
            "linecolor": "white",
            "ticks": ""
           }
          },
          "title": {
           "x": 0.05
          },
          "xaxis": {
           "automargin": true,
           "gridcolor": "white",
           "linecolor": "white",
           "ticks": "",
           "title": {
            "standoff": 15
           },
           "zerolinecolor": "white",
           "zerolinewidth": 2
          },
          "yaxis": {
           "automargin": true,
           "gridcolor": "white",
           "linecolor": "white",
           "ticks": "",
           "title": {
            "standoff": 15
           },
           "zerolinecolor": "white",
           "zerolinewidth": 2
          }
         }
        },
        "width": 1500,
        "xaxis": {
         "gridcolor": "#1f292f",
         "nticks": 5,
         "rangeslider": {
          "visible": true
         }
        },
        "yaxis": {
         "automargin": true,
         "autorange": true,
         "fixedrange": false,
         "gridcolor": "#1f292f",
         "range": [
          1.1001269999999999,
          1.1169630000000002
         ],
         "rangemode": "normal",
         "scaleratio": 1
        }
       }
      }
     },
     "metadata": {},
     "output_type": "display_data"
    }
   ],
   "source": [
    "plot_trades(df)"
   ]
  },
  {
   "cell_type": "code",
   "execution_count": 6,
   "metadata": {},
   "outputs": [
    {
     "name": "stdout",
     "output_type": "stream",
     "text": [
      "128\n"
     ]
    },
    {
     "data": {
      "text/html": [
       "<div>\n",
       "<style scoped>\n",
       "    .dataframe tbody tr th:only-of-type {\n",
       "        vertical-align: middle;\n",
       "    }\n",
       "\n",
       "    .dataframe tbody tr th {\n",
       "        vertical-align: top;\n",
       "    }\n",
       "\n",
       "    .dataframe thead th {\n",
       "        text-align: right;\n",
       "    }\n",
       "</style>\n",
       "<table border=\"1\" class=\"dataframe\">\n",
       "  <thead>\n",
       "    <tr style=\"text-align: right;\">\n",
       "      <th></th>\n",
       "      <th>time</th>\n",
       "      <th>volume</th>\n",
       "      <th>mid_o</th>\n",
       "      <th>mid_h</th>\n",
       "      <th>mid_l</th>\n",
       "      <th>mid_c</th>\n",
       "      <th>bid_o</th>\n",
       "      <th>bid_h</th>\n",
       "      <th>bid_l</th>\n",
       "      <th>bid_c</th>\n",
       "      <th>ask_o</th>\n",
       "      <th>ask_h</th>\n",
       "      <th>ask_l</th>\n",
       "      <th>ask_c</th>\n",
       "      <th>sTime</th>\n",
       "      <th>ma_10</th>\n",
       "      <th>ma_50</th>\n",
       "      <th>ma_100</th>\n",
       "      <th>ma_150</th>\n",
       "      <th>in_downtrend</th>\n",
       "      <th>is_bottom</th>\n",
       "      <th>body</th>\n",
       "      <th>total_range</th>\n",
       "      <th>upper_wick</th>\n",
       "      <th>lower_wick</th>\n",
       "      <th>wick_ratio</th>\n",
       "      <th>avg_range</th>\n",
       "      <th>range_ok</th>\n",
       "      <th>wick_ok</th>\n",
       "      <th>close_near_high</th>\n",
       "      <th>strong_bullish</th>\n",
       "      <th>trade</th>\n",
       "      <th>entry_price</th>\n",
       "      <th>stop_loss</th>\n",
       "      <th>take_profit</th>\n",
       "      <th>pips</th>\n",
       "      <th>stage</th>\n",
       "      <th>rows_since_bottom</th>\n",
       "      <th>bottom_low</th>\n",
       "      <th>rows_since_entry</th>\n",
       "    </tr>\n",
       "  </thead>\n",
       "  <tbody>\n",
       "    <tr>\n",
       "      <th>29121</th>\n",
       "      <td>2024-09-03 17:00:00+00:00</td>\n",
       "      <td>3909.0</td>\n",
       "      <td>1.10394</td>\n",
       "      <td>1.10402</td>\n",
       "      <td>1.10264</td>\n",
       "      <td>1.10280</td>\n",
       "      <td>1.10386</td>\n",
       "      <td>1.10394</td>\n",
       "      <td>1.10256</td>\n",
       "      <td>1.10272</td>\n",
       "      <td>1.10401</td>\n",
       "      <td>1.10409</td>\n",
       "      <td>1.10272</td>\n",
       "      <td>1.10288</td>\n",
       "      <td>s24-09-03 17:00</td>\n",
       "      <td>1.104222</td>\n",
       "      <td>1.105660</td>\n",
       "      <td>1.107620</td>\n",
       "      <td>1.110482</td>\n",
       "      <td>True</td>\n",
       "      <td>True</td>\n",
       "      <td>-0.00114</td>\n",
       "      <td>0.00138</td>\n",
       "      <td>0.00008</td>\n",
       "      <td>0.00016</td>\n",
       "      <td>-0.826087</td>\n",
       "      <td>0.001094</td>\n",
       "      <td>False</td>\n",
       "      <td>False</td>\n",
       "      <td>False</td>\n",
       "      <td>False</td>\n",
       "      <td>None</td>\n",
       "      <td>None</td>\n",
       "      <td>None</td>\n",
       "      <td>None</td>\n",
       "      <td>None</td>\n",
       "      <td>bottom</td>\n",
       "      <td>NaN</td>\n",
       "      <td>NaN</td>\n",
       "      <td>NaN</td>\n",
       "    </tr>\n",
       "    <tr>\n",
       "      <th>29122</th>\n",
       "      <td>2024-09-03 18:00:00+00:00</td>\n",
       "      <td>3456.0</td>\n",
       "      <td>1.10280</td>\n",
       "      <td>1.10393</td>\n",
       "      <td>1.10266</td>\n",
       "      <td>1.10380</td>\n",
       "      <td>1.10273</td>\n",
       "      <td>1.10386</td>\n",
       "      <td>1.10258</td>\n",
       "      <td>1.10373</td>\n",
       "      <td>1.10288</td>\n",
       "      <td>1.10400</td>\n",
       "      <td>1.10273</td>\n",
       "      <td>1.10388</td>\n",
       "      <td>s24-09-03 18:00</td>\n",
       "      <td>1.104116</td>\n",
       "      <td>1.105637</td>\n",
       "      <td>1.107527</td>\n",
       "      <td>1.110400</td>\n",
       "      <td>True</td>\n",
       "      <td>False</td>\n",
       "      <td>0.00100</td>\n",
       "      <td>0.00127</td>\n",
       "      <td>0.00013</td>\n",
       "      <td>0.00014</td>\n",
       "      <td>0.787402</td>\n",
       "      <td>0.001126</td>\n",
       "      <td>False</td>\n",
       "      <td>True</td>\n",
       "      <td>True</td>\n",
       "      <td>False</td>\n",
       "      <td>None</td>\n",
       "      <td>None</td>\n",
       "      <td>None</td>\n",
       "      <td>None</td>\n",
       "      <td>None</td>\n",
       "      <td>bottom</td>\n",
       "      <td>NaN</td>\n",
       "      <td>NaN</td>\n",
       "      <td>NaN</td>\n",
       "    </tr>\n",
       "    <tr>\n",
       "      <th>29123</th>\n",
       "      <td>2024-09-03 19:00:00+00:00</td>\n",
       "      <td>3816.0</td>\n",
       "      <td>1.10379</td>\n",
       "      <td>1.10422</td>\n",
       "      <td>1.10374</td>\n",
       "      <td>1.10418</td>\n",
       "      <td>1.10371</td>\n",
       "      <td>1.10414</td>\n",
       "      <td>1.10366</td>\n",
       "      <td>1.10410</td>\n",
       "      <td>1.10387</td>\n",
       "      <td>1.10430</td>\n",
       "      <td>1.10381</td>\n",
       "      <td>1.10425</td>\n",
       "      <td>s24-09-03 19:00</td>\n",
       "      <td>1.104132</td>\n",
       "      <td>1.105615</td>\n",
       "      <td>1.107443</td>\n",
       "      <td>1.110321</td>\n",
       "      <td>True</td>\n",
       "      <td>False</td>\n",
       "      <td>0.00039</td>\n",
       "      <td>0.00048</td>\n",
       "      <td>0.00004</td>\n",
       "      <td>0.00005</td>\n",
       "      <td>0.812500</td>\n",
       "      <td>0.001132</td>\n",
       "      <td>False</td>\n",
       "      <td>True</td>\n",
       "      <td>True</td>\n",
       "      <td>False</td>\n",
       "      <td>None</td>\n",
       "      <td>None</td>\n",
       "      <td>None</td>\n",
       "      <td>None</td>\n",
       "      <td>None</td>\n",
       "      <td>bottom</td>\n",
       "      <td>NaN</td>\n",
       "      <td>NaN</td>\n",
       "      <td>NaN</td>\n",
       "    </tr>\n",
       "    <tr>\n",
       "      <th>29124</th>\n",
       "      <td>2024-09-03 20:00:00+00:00</td>\n",
       "      <td>1448.0</td>\n",
       "      <td>1.10420</td>\n",
       "      <td>1.10446</td>\n",
       "      <td>1.10397</td>\n",
       "      <td>1.10433</td>\n",
       "      <td>1.10412</td>\n",
       "      <td>1.10438</td>\n",
       "      <td>1.10389</td>\n",
       "      <td>1.10426</td>\n",
       "      <td>1.10427</td>\n",
       "      <td>1.10453</td>\n",
       "      <td>1.10405</td>\n",
       "      <td>1.10440</td>\n",
       "      <td>s24-09-03 20:00</td>\n",
       "      <td>1.104207</td>\n",
       "      <td>1.105598</td>\n",
       "      <td>1.107371</td>\n",
       "      <td>1.110232</td>\n",
       "      <td>True</td>\n",
       "      <td>False</td>\n",
       "      <td>0.00013</td>\n",
       "      <td>0.00049</td>\n",
       "      <td>0.00013</td>\n",
       "      <td>0.00023</td>\n",
       "      <td>0.265306</td>\n",
       "      <td>0.001108</td>\n",
       "      <td>False</td>\n",
       "      <td>False</td>\n",
       "      <td>False</td>\n",
       "      <td>False</td>\n",
       "      <td>None</td>\n",
       "      <td>None</td>\n",
       "      <td>None</td>\n",
       "      <td>None</td>\n",
       "      <td>None</td>\n",
       "      <td>bottom</td>\n",
       "      <td>NaN</td>\n",
       "      <td>NaN</td>\n",
       "      <td>NaN</td>\n",
       "    </tr>\n",
       "    <tr>\n",
       "      <th>29125</th>\n",
       "      <td>2024-09-03 21:00:00+00:00</td>\n",
       "      <td>1116.0</td>\n",
       "      <td>1.10436</td>\n",
       "      <td>1.10462</td>\n",
       "      <td>1.10396</td>\n",
       "      <td>1.10460</td>\n",
       "      <td>1.10420</td>\n",
       "      <td>1.10447</td>\n",
       "      <td>1.10370</td>\n",
       "      <td>1.10445</td>\n",
       "      <td>1.10452</td>\n",
       "      <td>1.10479</td>\n",
       "      <td>1.10410</td>\n",
       "      <td>1.10474</td>\n",
       "      <td>s24-09-03 21:00</td>\n",
       "      <td>1.104304</td>\n",
       "      <td>1.105584</td>\n",
       "      <td>1.107311</td>\n",
       "      <td>1.110154</td>\n",
       "      <td>True</td>\n",
       "      <td>False</td>\n",
       "      <td>0.00024</td>\n",
       "      <td>0.00066</td>\n",
       "      <td>0.00002</td>\n",
       "      <td>0.00040</td>\n",
       "      <td>0.363636</td>\n",
       "      <td>0.001099</td>\n",
       "      <td>False</td>\n",
       "      <td>False</td>\n",
       "      <td>True</td>\n",
       "      <td>False</td>\n",
       "      <td>None</td>\n",
       "      <td>None</td>\n",
       "      <td>None</td>\n",
       "      <td>None</td>\n",
       "      <td>None</td>\n",
       "      <td>bottom</td>\n",
       "      <td>NaN</td>\n",
       "      <td>NaN</td>\n",
       "      <td>NaN</td>\n",
       "    </tr>\n",
       "    <tr>\n",
       "      <th>29126</th>\n",
       "      <td>2024-09-03 22:00:00+00:00</td>\n",
       "      <td>1027.0</td>\n",
       "      <td>1.10462</td>\n",
       "      <td>1.10469</td>\n",
       "      <td>1.10396</td>\n",
       "      <td>1.10458</td>\n",
       "      <td>1.10445</td>\n",
       "      <td>1.10461</td>\n",
       "      <td>1.10385</td>\n",
       "      <td>1.10449</td>\n",
       "      <td>1.10478</td>\n",
       "      <td>1.10478</td>\n",
       "      <td>1.10407</td>\n",
       "      <td>1.10466</td>\n",
       "      <td>s24-09-03 22:00</td>\n",
       "      <td>1.104282</td>\n",
       "      <td>1.105582</td>\n",
       "      <td>1.107241</td>\n",
       "      <td>1.110070</td>\n",
       "      <td>True</td>\n",
       "      <td>False</td>\n",
       "      <td>-0.00004</td>\n",
       "      <td>0.00073</td>\n",
       "      <td>0.00007</td>\n",
       "      <td>0.00062</td>\n",
       "      <td>-0.054795</td>\n",
       "      <td>0.001099</td>\n",
       "      <td>False</td>\n",
       "      <td>False</td>\n",
       "      <td>True</td>\n",
       "      <td>False</td>\n",
       "      <td>None</td>\n",
       "      <td>None</td>\n",
       "      <td>None</td>\n",
       "      <td>None</td>\n",
       "      <td>None</td>\n",
       "      <td>bottom</td>\n",
       "      <td>NaN</td>\n",
       "      <td>NaN</td>\n",
       "      <td>NaN</td>\n",
       "    </tr>\n",
       "    <tr>\n",
       "      <th>29127</th>\n",
       "      <td>2024-09-03 23:00:00+00:00</td>\n",
       "      <td>1862.0</td>\n",
       "      <td>1.10458</td>\n",
       "      <td>1.10506</td>\n",
       "      <td>1.10451</td>\n",
       "      <td>1.10486</td>\n",
       "      <td>1.10450</td>\n",
       "      <td>1.10499</td>\n",
       "      <td>1.10444</td>\n",
       "      <td>1.10478</td>\n",
       "      <td>1.10466</td>\n",
       "      <td>1.10514</td>\n",
       "      <td>1.10458</td>\n",
       "      <td>1.10493</td>\n",
       "      <td>s24-09-03 23:00</td>\n",
       "      <td>1.104154</td>\n",
       "      <td>1.105581</td>\n",
       "      <td>1.107176</td>\n",
       "      <td>1.109989</td>\n",
       "      <td>True</td>\n",
       "      <td>False</td>\n",
       "      <td>0.00028</td>\n",
       "      <td>0.00055</td>\n",
       "      <td>0.00020</td>\n",
       "      <td>0.00007</td>\n",
       "      <td>0.509091</td>\n",
       "      <td>0.001095</td>\n",
       "      <td>False</td>\n",
       "      <td>False</td>\n",
       "      <td>False</td>\n",
       "      <td>False</td>\n",
       "      <td>None</td>\n",
       "      <td>None</td>\n",
       "      <td>None</td>\n",
       "      <td>None</td>\n",
       "      <td>None</td>\n",
       "      <td>exit</td>\n",
       "      <td>NaN</td>\n",
       "      <td>NaN</td>\n",
       "      <td>NaN</td>\n",
       "    </tr>\n",
       "    <tr>\n",
       "      <th>29128</th>\n",
       "      <td>2024-09-04 00:00:00+00:00</td>\n",
       "      <td>4896.0</td>\n",
       "      <td>1.10482</td>\n",
       "      <td>1.10514</td>\n",
       "      <td>1.10466</td>\n",
       "      <td>1.10483</td>\n",
       "      <td>1.10474</td>\n",
       "      <td>1.10506</td>\n",
       "      <td>1.10457</td>\n",
       "      <td>1.10475</td>\n",
       "      <td>1.10489</td>\n",
       "      <td>1.10523</td>\n",
       "      <td>1.10473</td>\n",
       "      <td>1.10491</td>\n",
       "      <td>s24-09-04 00:00</td>\n",
       "      <td>1.104214</td>\n",
       "      <td>1.105586</td>\n",
       "      <td>1.107104</td>\n",
       "      <td>1.109912</td>\n",
       "      <td>True</td>\n",
       "      <td>False</td>\n",
       "      <td>0.00001</td>\n",
       "      <td>0.00048</td>\n",
       "      <td>0.00031</td>\n",
       "      <td>0.00016</td>\n",
       "      <td>0.020833</td>\n",
       "      <td>0.001095</td>\n",
       "      <td>False</td>\n",
       "      <td>False</td>\n",
       "      <td>False</td>\n",
       "      <td>False</td>\n",
       "      <td>None</td>\n",
       "      <td>None</td>\n",
       "      <td>None</td>\n",
       "      <td>None</td>\n",
       "      <td>None</td>\n",
       "      <td>exit</td>\n",
       "      <td>NaN</td>\n",
       "      <td>NaN</td>\n",
       "      <td>NaN</td>\n",
       "    </tr>\n",
       "    <tr>\n",
       "      <th>29129</th>\n",
       "      <td>2024-09-04 01:00:00+00:00</td>\n",
       "      <td>3479.0</td>\n",
       "      <td>1.10482</td>\n",
       "      <td>1.10564</td>\n",
       "      <td>1.10476</td>\n",
       "      <td>1.10532</td>\n",
       "      <td>1.10475</td>\n",
       "      <td>1.10556</td>\n",
       "      <td>1.10467</td>\n",
       "      <td>1.10525</td>\n",
       "      <td>1.10490</td>\n",
       "      <td>1.10572</td>\n",
       "      <td>1.10484</td>\n",
       "      <td>1.10539</td>\n",
       "      <td>s24-09-04 01:00</td>\n",
       "      <td>1.104322</td>\n",
       "      <td>1.105603</td>\n",
       "      <td>1.107037</td>\n",
       "      <td>1.109841</td>\n",
       "      <td>True</td>\n",
       "      <td>False</td>\n",
       "      <td>0.00050</td>\n",
       "      <td>0.00088</td>\n",
       "      <td>0.00032</td>\n",
       "      <td>0.00006</td>\n",
       "      <td>0.568182</td>\n",
       "      <td>0.001110</td>\n",
       "      <td>False</td>\n",
       "      <td>False</td>\n",
       "      <td>False</td>\n",
       "      <td>False</td>\n",
       "      <td>None</td>\n",
       "      <td>None</td>\n",
       "      <td>None</td>\n",
       "      <td>None</td>\n",
       "      <td>None</td>\n",
       "      <td>exit</td>\n",
       "      <td>NaN</td>\n",
       "      <td>NaN</td>\n",
       "      <td>NaN</td>\n",
       "    </tr>\n",
       "    <tr>\n",
       "      <th>29130</th>\n",
       "      <td>2024-09-04 02:00:00+00:00</td>\n",
       "      <td>3376.0</td>\n",
       "      <td>1.10534</td>\n",
       "      <td>1.10564</td>\n",
       "      <td>1.10495</td>\n",
       "      <td>1.10526</td>\n",
       "      <td>1.10527</td>\n",
       "      <td>1.10556</td>\n",
       "      <td>1.10487</td>\n",
       "      <td>1.10519</td>\n",
       "      <td>1.10541</td>\n",
       "      <td>1.10572</td>\n",
       "      <td>1.10503</td>\n",
       "      <td>1.10533</td>\n",
       "      <td>s24-09-04 02:00</td>\n",
       "      <td>1.104456</td>\n",
       "      <td>1.105601</td>\n",
       "      <td>1.106966</td>\n",
       "      <td>1.109769</td>\n",
       "      <td>True</td>\n",
       "      <td>False</td>\n",
       "      <td>-0.00008</td>\n",
       "      <td>0.00069</td>\n",
       "      <td>0.00030</td>\n",
       "      <td>0.00031</td>\n",
       "      <td>-0.115942</td>\n",
       "      <td>0.001092</td>\n",
       "      <td>False</td>\n",
       "      <td>False</td>\n",
       "      <td>False</td>\n",
       "      <td>False</td>\n",
       "      <td>None</td>\n",
       "      <td>None</td>\n",
       "      <td>None</td>\n",
       "      <td>None</td>\n",
       "      <td>None</td>\n",
       "      <td>exit</td>\n",
       "      <td>NaN</td>\n",
       "      <td>NaN</td>\n",
       "      <td>NaN</td>\n",
       "    </tr>\n",
       "    <tr>\n",
       "      <th>29131</th>\n",
       "      <td>2024-09-04 03:00:00+00:00</td>\n",
       "      <td>2081.0</td>\n",
       "      <td>1.10526</td>\n",
       "      <td>1.10554</td>\n",
       "      <td>1.10503</td>\n",
       "      <td>1.10540</td>\n",
       "      <td>1.10519</td>\n",
       "      <td>1.10546</td>\n",
       "      <td>1.10495</td>\n",
       "      <td>1.10532</td>\n",
       "      <td>1.10534</td>\n",
       "      <td>1.10562</td>\n",
       "      <td>1.10511</td>\n",
       "      <td>1.10548</td>\n",
       "      <td>s24-09-04 03:00</td>\n",
       "      <td>1.104716</td>\n",
       "      <td>1.105606</td>\n",
       "      <td>1.106895</td>\n",
       "      <td>1.109698</td>\n",
       "      <td>True</td>\n",
       "      <td>False</td>\n",
       "      <td>0.00014</td>\n",
       "      <td>0.00051</td>\n",
       "      <td>0.00014</td>\n",
       "      <td>0.00023</td>\n",
       "      <td>0.274510</td>\n",
       "      <td>0.001057</td>\n",
       "      <td>False</td>\n",
       "      <td>False</td>\n",
       "      <td>False</td>\n",
       "      <td>False</td>\n",
       "      <td>None</td>\n",
       "      <td>None</td>\n",
       "      <td>None</td>\n",
       "      <td>None</td>\n",
       "      <td>None</td>\n",
       "      <td>exit</td>\n",
       "      <td>NaN</td>\n",
       "      <td>NaN</td>\n",
       "      <td>NaN</td>\n",
       "    </tr>\n",
       "    <tr>\n",
       "      <th>29132</th>\n",
       "      <td>2024-09-04 04:00:00+00:00</td>\n",
       "      <td>1636.0</td>\n",
       "      <td>1.10540</td>\n",
       "      <td>1.10572</td>\n",
       "      <td>1.10536</td>\n",
       "      <td>1.10564</td>\n",
       "      <td>1.10532</td>\n",
       "      <td>1.10564</td>\n",
       "      <td>1.10528</td>\n",
       "      <td>1.10556</td>\n",
       "      <td>1.10547</td>\n",
       "      <td>1.10580</td>\n",
       "      <td>1.10543</td>\n",
       "      <td>1.10572</td>\n",
       "      <td>s24-09-04 04:00</td>\n",
       "      <td>1.104900</td>\n",
       "      <td>1.105616</td>\n",
       "      <td>1.106820</td>\n",
       "      <td>1.109627</td>\n",
       "      <td>True</td>\n",
       "      <td>False</td>\n",
       "      <td>0.00024</td>\n",
       "      <td>0.00036</td>\n",
       "      <td>0.00008</td>\n",
       "      <td>0.00004</td>\n",
       "      <td>0.666667</td>\n",
       "      <td>0.001016</td>\n",
       "      <td>False</td>\n",
       "      <td>False</td>\n",
       "      <td>False</td>\n",
       "      <td>False</td>\n",
       "      <td>None</td>\n",
       "      <td>None</td>\n",
       "      <td>None</td>\n",
       "      <td>None</td>\n",
       "      <td>None</td>\n",
       "      <td>exit</td>\n",
       "      <td>NaN</td>\n",
       "      <td>NaN</td>\n",
       "      <td>NaN</td>\n",
       "    </tr>\n",
       "    <tr>\n",
       "      <th>29133</th>\n",
       "      <td>2024-09-04 05:00:00+00:00</td>\n",
       "      <td>2969.0</td>\n",
       "      <td>1.10564</td>\n",
       "      <td>1.10600</td>\n",
       "      <td>1.10546</td>\n",
       "      <td>1.10578</td>\n",
       "      <td>1.10555</td>\n",
       "      <td>1.10592</td>\n",
       "      <td>1.10538</td>\n",
       "      <td>1.10571</td>\n",
       "      <td>1.10572</td>\n",
       "      <td>1.10607</td>\n",
       "      <td>1.10554</td>\n",
       "      <td>1.10586</td>\n",
       "      <td>s24-09-04 05:00</td>\n",
       "      <td>1.105060</td>\n",
       "      <td>1.105634</td>\n",
       "      <td>1.106749</td>\n",
       "      <td>1.109555</td>\n",
       "      <td>True</td>\n",
       "      <td>False</td>\n",
       "      <td>0.00014</td>\n",
       "      <td>0.00054</td>\n",
       "      <td>0.00022</td>\n",
       "      <td>0.00018</td>\n",
       "      <td>0.259259</td>\n",
       "      <td>0.000961</td>\n",
       "      <td>False</td>\n",
       "      <td>False</td>\n",
       "      <td>False</td>\n",
       "      <td>False</td>\n",
       "      <td>None</td>\n",
       "      <td>None</td>\n",
       "      <td>None</td>\n",
       "      <td>None</td>\n",
       "      <td>None</td>\n",
       "      <td>exit</td>\n",
       "      <td>NaN</td>\n",
       "      <td>NaN</td>\n",
       "      <td>NaN</td>\n",
       "    </tr>\n",
       "    <tr>\n",
       "      <th>29134</th>\n",
       "      <td>2024-09-04 06:00:00+00:00</td>\n",
       "      <td>5120.0</td>\n",
       "      <td>1.10579</td>\n",
       "      <td>1.10580</td>\n",
       "      <td>1.10474</td>\n",
       "      <td>1.10534</td>\n",
       "      <td>1.10572</td>\n",
       "      <td>1.10573</td>\n",
       "      <td>1.10466</td>\n",
       "      <td>1.10526</td>\n",
       "      <td>1.10586</td>\n",
       "      <td>1.10588</td>\n",
       "      <td>1.10482</td>\n",
       "      <td>1.10541</td>\n",
       "      <td>s24-09-04 06:00</td>\n",
       "      <td>1.105161</td>\n",
       "      <td>1.105644</td>\n",
       "      <td>1.106671</td>\n",
       "      <td>1.109484</td>\n",
       "      <td>True</td>\n",
       "      <td>False</td>\n",
       "      <td>-0.00045</td>\n",
       "      <td>0.00106</td>\n",
       "      <td>0.00001</td>\n",
       "      <td>0.00060</td>\n",
       "      <td>-0.424528</td>\n",
       "      <td>0.000970</td>\n",
       "      <td>False</td>\n",
       "      <td>False</td>\n",
       "      <td>False</td>\n",
       "      <td>False</td>\n",
       "      <td>None</td>\n",
       "      <td>None</td>\n",
       "      <td>None</td>\n",
       "      <td>None</td>\n",
       "      <td>None</td>\n",
       "      <td>exit</td>\n",
       "      <td>NaN</td>\n",
       "      <td>NaN</td>\n",
       "      <td>NaN</td>\n",
       "    </tr>\n",
       "    <tr>\n",
       "      <th>29135</th>\n",
       "      <td>2024-09-04 07:00:00+00:00</td>\n",
       "      <td>6672.0</td>\n",
       "      <td>1.10536</td>\n",
       "      <td>1.10629</td>\n",
       "      <td>1.10468</td>\n",
       "      <td>1.10560</td>\n",
       "      <td>1.10528</td>\n",
       "      <td>1.10621</td>\n",
       "      <td>1.10460</td>\n",
       "      <td>1.10553</td>\n",
       "      <td>1.10544</td>\n",
       "      <td>1.10637</td>\n",
       "      <td>1.10476</td>\n",
       "      <td>1.10568</td>\n",
       "      <td>s24-09-04 07:00</td>\n",
       "      <td>1.105261</td>\n",
       "      <td>1.105645</td>\n",
       "      <td>1.106591</td>\n",
       "      <td>1.109408</td>\n",
       "      <td>True</td>\n",
       "      <td>False</td>\n",
       "      <td>0.00024</td>\n",
       "      <td>0.00161</td>\n",
       "      <td>0.00069</td>\n",
       "      <td>0.00068</td>\n",
       "      <td>0.149068</td>\n",
       "      <td>0.001005</td>\n",
       "      <td>True</td>\n",
       "      <td>False</td>\n",
       "      <td>False</td>\n",
       "      <td>False</td>\n",
       "      <td>None</td>\n",
       "      <td>None</td>\n",
       "      <td>None</td>\n",
       "      <td>None</td>\n",
       "      <td>None</td>\n",
       "      <td>exit</td>\n",
       "      <td>NaN</td>\n",
       "      <td>NaN</td>\n",
       "      <td>NaN</td>\n",
       "    </tr>\n",
       "    <tr>\n",
       "      <th>29136</th>\n",
       "      <td>2024-09-04 08:00:00+00:00</td>\n",
       "      <td>6029.0</td>\n",
       "      <td>1.10559</td>\n",
       "      <td>1.10590</td>\n",
       "      <td>1.10496</td>\n",
       "      <td>1.10518</td>\n",
       "      <td>1.10552</td>\n",
       "      <td>1.10582</td>\n",
       "      <td>1.10489</td>\n",
       "      <td>1.10510</td>\n",
       "      <td>1.10566</td>\n",
       "      <td>1.10597</td>\n",
       "      <td>1.10504</td>\n",
       "      <td>1.10526</td>\n",
       "      <td>s24-09-04 08:00</td>\n",
       "      <td>1.105321</td>\n",
       "      <td>1.105617</td>\n",
       "      <td>1.106507</td>\n",
       "      <td>1.109331</td>\n",
       "      <td>True</td>\n",
       "      <td>False</td>\n",
       "      <td>-0.00041</td>\n",
       "      <td>0.00094</td>\n",
       "      <td>0.00031</td>\n",
       "      <td>0.00022</td>\n",
       "      <td>-0.436170</td>\n",
       "      <td>0.000958</td>\n",
       "      <td>False</td>\n",
       "      <td>False</td>\n",
       "      <td>False</td>\n",
       "      <td>False</td>\n",
       "      <td>None</td>\n",
       "      <td>None</td>\n",
       "      <td>None</td>\n",
       "      <td>None</td>\n",
       "      <td>None</td>\n",
       "      <td>exit</td>\n",
       "      <td>NaN</td>\n",
       "      <td>NaN</td>\n",
       "      <td>NaN</td>\n",
       "    </tr>\n",
       "    <tr>\n",
       "      <th>29137</th>\n",
       "      <td>2024-09-04 09:00:00+00:00</td>\n",
       "      <td>3833.0</td>\n",
       "      <td>1.10520</td>\n",
       "      <td>1.10587</td>\n",
       "      <td>1.10503</td>\n",
       "      <td>1.10533</td>\n",
       "      <td>1.10512</td>\n",
       "      <td>1.10579</td>\n",
       "      <td>1.10496</td>\n",
       "      <td>1.10526</td>\n",
       "      <td>1.10527</td>\n",
       "      <td>1.10595</td>\n",
       "      <td>1.10510</td>\n",
       "      <td>1.10540</td>\n",
       "      <td>s24-09-04 09:00</td>\n",
       "      <td>1.105368</td>\n",
       "      <td>1.105590</td>\n",
       "      <td>1.106425</td>\n",
       "      <td>1.109255</td>\n",
       "      <td>True</td>\n",
       "      <td>False</td>\n",
       "      <td>0.00013</td>\n",
       "      <td>0.00084</td>\n",
       "      <td>0.00054</td>\n",
       "      <td>0.00017</td>\n",
       "      <td>0.154762</td>\n",
       "      <td>0.000923</td>\n",
       "      <td>False</td>\n",
       "      <td>False</td>\n",
       "      <td>False</td>\n",
       "      <td>False</td>\n",
       "      <td>None</td>\n",
       "      <td>None</td>\n",
       "      <td>None</td>\n",
       "      <td>None</td>\n",
       "      <td>None</td>\n",
       "      <td>exit</td>\n",
       "      <td>NaN</td>\n",
       "      <td>NaN</td>\n",
       "      <td>NaN</td>\n",
       "    </tr>\n",
       "    <tr>\n",
       "      <th>29138</th>\n",
       "      <td>2024-09-04 10:00:00+00:00</td>\n",
       "      <td>3582.0</td>\n",
       "      <td>1.10534</td>\n",
       "      <td>1.10560</td>\n",
       "      <td>1.10500</td>\n",
       "      <td>1.10532</td>\n",
       "      <td>1.10526</td>\n",
       "      <td>1.10552</td>\n",
       "      <td>1.10492</td>\n",
       "      <td>1.10524</td>\n",
       "      <td>1.10541</td>\n",
       "      <td>1.10567</td>\n",
       "      <td>1.10508</td>\n",
       "      <td>1.10539</td>\n",
       "      <td>s24-09-04 10:00</td>\n",
       "      <td>1.105417</td>\n",
       "      <td>1.105562</td>\n",
       "      <td>1.106350</td>\n",
       "      <td>1.109178</td>\n",
       "      <td>True</td>\n",
       "      <td>False</td>\n",
       "      <td>-0.00002</td>\n",
       "      <td>0.00060</td>\n",
       "      <td>0.00026</td>\n",
       "      <td>0.00032</td>\n",
       "      <td>-0.033333</td>\n",
       "      <td>0.000792</td>\n",
       "      <td>False</td>\n",
       "      <td>False</td>\n",
       "      <td>False</td>\n",
       "      <td>False</td>\n",
       "      <td>None</td>\n",
       "      <td>None</td>\n",
       "      <td>None</td>\n",
       "      <td>None</td>\n",
       "      <td>None</td>\n",
       "      <td>exit</td>\n",
       "      <td>NaN</td>\n",
       "      <td>NaN</td>\n",
       "      <td>NaN</td>\n",
       "    </tr>\n",
       "    <tr>\n",
       "      <th>29139</th>\n",
       "      <td>2024-09-04 11:00:00+00:00</td>\n",
       "      <td>4379.0</td>\n",
       "      <td>1.10531</td>\n",
       "      <td>1.10540</td>\n",
       "      <td>1.10428</td>\n",
       "      <td>1.10504</td>\n",
       "      <td>1.10523</td>\n",
       "      <td>1.10532</td>\n",
       "      <td>1.10420</td>\n",
       "      <td>1.10496</td>\n",
       "      <td>1.10539</td>\n",
       "      <td>1.10548</td>\n",
       "      <td>1.10435</td>\n",
       "      <td>1.10512</td>\n",
       "      <td>s24-09-04 11:00</td>\n",
       "      <td>1.105389</td>\n",
       "      <td>1.105524</td>\n",
       "      <td>1.106270</td>\n",
       "      <td>1.109101</td>\n",
       "      <td>True</td>\n",
       "      <td>False</td>\n",
       "      <td>-0.00027</td>\n",
       "      <td>0.00112</td>\n",
       "      <td>0.00009</td>\n",
       "      <td>0.00076</td>\n",
       "      <td>-0.241071</td>\n",
       "      <td>0.000805</td>\n",
       "      <td>False</td>\n",
       "      <td>False</td>\n",
       "      <td>False</td>\n",
       "      <td>False</td>\n",
       "      <td>None</td>\n",
       "      <td>None</td>\n",
       "      <td>None</td>\n",
       "      <td>None</td>\n",
       "      <td>None</td>\n",
       "      <td>exit</td>\n",
       "      <td>NaN</td>\n",
       "      <td>NaN</td>\n",
       "      <td>NaN</td>\n",
       "    </tr>\n",
       "    <tr>\n",
       "      <th>29140</th>\n",
       "      <td>2024-09-04 12:00:00+00:00</td>\n",
       "      <td>5382.0</td>\n",
       "      <td>1.10504</td>\n",
       "      <td>1.10526</td>\n",
       "      <td>1.10400</td>\n",
       "      <td>1.10525</td>\n",
       "      <td>1.10496</td>\n",
       "      <td>1.10518</td>\n",
       "      <td>1.10392</td>\n",
       "      <td>1.10518</td>\n",
       "      <td>1.10511</td>\n",
       "      <td>1.10534</td>\n",
       "      <td>1.10408</td>\n",
       "      <td>1.10532</td>\n",
       "      <td>s24-09-04 12:00</td>\n",
       "      <td>1.105388</td>\n",
       "      <td>1.105496</td>\n",
       "      <td>1.106238</td>\n",
       "      <td>1.109028</td>\n",
       "      <td>True</td>\n",
       "      <td>False</td>\n",
       "      <td>0.00021</td>\n",
       "      <td>0.00126</td>\n",
       "      <td>0.00001</td>\n",
       "      <td>0.00104</td>\n",
       "      <td>0.166667</td>\n",
       "      <td>0.000822</td>\n",
       "      <td>True</td>\n",
       "      <td>False</td>\n",
       "      <td>True</td>\n",
       "      <td>False</td>\n",
       "      <td>None</td>\n",
       "      <td>None</td>\n",
       "      <td>None</td>\n",
       "      <td>None</td>\n",
       "      <td>None</td>\n",
       "      <td>reentry</td>\n",
       "      <td>NaN</td>\n",
       "      <td>NaN</td>\n",
       "      <td>NaN</td>\n",
       "    </tr>\n",
       "    <tr>\n",
       "      <th>29141</th>\n",
       "      <td>2024-09-04 13:00:00+00:00</td>\n",
       "      <td>5846.0</td>\n",
       "      <td>1.10524</td>\n",
       "      <td>1.10593</td>\n",
       "      <td>1.10500</td>\n",
       "      <td>1.10576</td>\n",
       "      <td>1.10517</td>\n",
       "      <td>1.10586</td>\n",
       "      <td>1.10493</td>\n",
       "      <td>1.10564</td>\n",
       "      <td>1.10532</td>\n",
       "      <td>1.10600</td>\n",
       "      <td>1.10507</td>\n",
       "      <td>1.10589</td>\n",
       "      <td>s24-09-04 13:00</td>\n",
       "      <td>1.105424</td>\n",
       "      <td>1.105491</td>\n",
       "      <td>1.106202</td>\n",
       "      <td>1.108957</td>\n",
       "      <td>True</td>\n",
       "      <td>False</td>\n",
       "      <td>0.00052</td>\n",
       "      <td>0.00093</td>\n",
       "      <td>0.00017</td>\n",
       "      <td>0.00024</td>\n",
       "      <td>0.559140</td>\n",
       "      <td>0.000800</td>\n",
       "      <td>False</td>\n",
       "      <td>False</td>\n",
       "      <td>True</td>\n",
       "      <td>False</td>\n",
       "      <td>None</td>\n",
       "      <td>None</td>\n",
       "      <td>None</td>\n",
       "      <td>None</td>\n",
       "      <td>None</td>\n",
       "      <td>reentry</td>\n",
       "      <td>NaN</td>\n",
       "      <td>NaN</td>\n",
       "      <td>NaN</td>\n",
       "    </tr>\n",
       "    <tr>\n",
       "      <th>29142</th>\n",
       "      <td>2024-09-04 14:00:00+00:00</td>\n",
       "      <td>12377.0</td>\n",
       "      <td>1.10576</td>\n",
       "      <td>1.10952</td>\n",
       "      <td>1.10574</td>\n",
       "      <td>1.10898</td>\n",
       "      <td>1.10564</td>\n",
       "      <td>1.10944</td>\n",
       "      <td>1.10564</td>\n",
       "      <td>1.10891</td>\n",
       "      <td>1.10587</td>\n",
       "      <td>1.10959</td>\n",
       "      <td>1.10583</td>\n",
       "      <td>1.10905</td>\n",
       "      <td>s24-09-04 14:00</td>\n",
       "      <td>1.105758</td>\n",
       "      <td>1.105535</td>\n",
       "      <td>1.106194</td>\n",
       "      <td>1.108905</td>\n",
       "      <td>False</td>\n",
       "      <td>False</td>\n",
       "      <td>0.00322</td>\n",
       "      <td>0.00378</td>\n",
       "      <td>0.00054</td>\n",
       "      <td>0.00002</td>\n",
       "      <td>0.851852</td>\n",
       "      <td>0.000925</td>\n",
       "      <td>True</td>\n",
       "      <td>True</td>\n",
       "      <td>True</td>\n",
       "      <td>True</td>\n",
       "      <td>opened</td>\n",
       "      <td>1.10898</td>\n",
       "      <td>1.10264</td>\n",
       "      <td>1.11215</td>\n",
       "      <td>None</td>\n",
       "      <td>in_trade</td>\n",
       "      <td>21.0</td>\n",
       "      <td>1.10264</td>\n",
       "      <td>NaN</td>\n",
       "    </tr>\n",
       "    <tr>\n",
       "      <th>29143</th>\n",
       "      <td>2024-09-04 15:00:00+00:00</td>\n",
       "      <td>6170.0</td>\n",
       "      <td>1.10897</td>\n",
       "      <td>1.10918</td>\n",
       "      <td>1.10764</td>\n",
       "      <td>1.10809</td>\n",
       "      <td>1.10890</td>\n",
       "      <td>1.10911</td>\n",
       "      <td>1.10757</td>\n",
       "      <td>1.10802</td>\n",
       "      <td>1.10904</td>\n",
       "      <td>1.10925</td>\n",
       "      <td>1.10772</td>\n",
       "      <td>1.10816</td>\n",
       "      <td>s24-09-04 15:00</td>\n",
       "      <td>1.105989</td>\n",
       "      <td>1.105561</td>\n",
       "      <td>1.106178</td>\n",
       "      <td>1.108847</td>\n",
       "      <td>False</td>\n",
       "      <td>False</td>\n",
       "      <td>-0.00088</td>\n",
       "      <td>0.00154</td>\n",
       "      <td>0.00021</td>\n",
       "      <td>0.00045</td>\n",
       "      <td>-0.571429</td>\n",
       "      <td>0.000978</td>\n",
       "      <td>True</td>\n",
       "      <td>False</td>\n",
       "      <td>False</td>\n",
       "      <td>False</td>\n",
       "      <td>None</td>\n",
       "      <td>None</td>\n",
       "      <td>None</td>\n",
       "      <td>None</td>\n",
       "      <td>None</td>\n",
       "      <td>in_trade</td>\n",
       "      <td>NaN</td>\n",
       "      <td>NaN</td>\n",
       "      <td>NaN</td>\n",
       "    </tr>\n",
       "    <tr>\n",
       "      <th>29144</th>\n",
       "      <td>2024-09-04 16:00:00+00:00</td>\n",
       "      <td>4822.0</td>\n",
       "      <td>1.10808</td>\n",
       "      <td>1.10868</td>\n",
       "      <td>1.10760</td>\n",
       "      <td>1.10845</td>\n",
       "      <td>1.10801</td>\n",
       "      <td>1.10860</td>\n",
       "      <td>1.10752</td>\n",
       "      <td>1.10838</td>\n",
       "      <td>1.10816</td>\n",
       "      <td>1.10876</td>\n",
       "      <td>1.10767</td>\n",
       "      <td>1.10852</td>\n",
       "      <td>s24-09-04 16:00</td>\n",
       "      <td>1.106300</td>\n",
       "      <td>1.105592</td>\n",
       "      <td>1.106179</td>\n",
       "      <td>1.108793</td>\n",
       "      <td>False</td>\n",
       "      <td>False</td>\n",
       "      <td>0.00037</td>\n",
       "      <td>0.00108</td>\n",
       "      <td>0.00023</td>\n",
       "      <td>0.00048</td>\n",
       "      <td>0.342593</td>\n",
       "      <td>0.001008</td>\n",
       "      <td>False</td>\n",
       "      <td>False</td>\n",
       "      <td>False</td>\n",
       "      <td>False</td>\n",
       "      <td>None</td>\n",
       "      <td>None</td>\n",
       "      <td>None</td>\n",
       "      <td>None</td>\n",
       "      <td>None</td>\n",
       "      <td>in_trade</td>\n",
       "      <td>NaN</td>\n",
       "      <td>NaN</td>\n",
       "      <td>NaN</td>\n",
       "    </tr>\n",
       "    <tr>\n",
       "      <th>29145</th>\n",
       "      <td>2024-09-04 17:00:00+00:00</td>\n",
       "      <td>4218.0</td>\n",
       "      <td>1.10842</td>\n",
       "      <td>1.10862</td>\n",
       "      <td>1.10658</td>\n",
       "      <td>1.10662</td>\n",
       "      <td>1.10835</td>\n",
       "      <td>1.10855</td>\n",
       "      <td>1.10651</td>\n",
       "      <td>1.10655</td>\n",
       "      <td>1.10849</td>\n",
       "      <td>1.10870</td>\n",
       "      <td>1.10666</td>\n",
       "      <td>1.10670</td>\n",
       "      <td>s24-09-04 17:00</td>\n",
       "      <td>1.106402</td>\n",
       "      <td>1.105589</td>\n",
       "      <td>1.106163</td>\n",
       "      <td>1.108730</td>\n",
       "      <td>False</td>\n",
       "      <td>False</td>\n",
       "      <td>-0.00180</td>\n",
       "      <td>0.00204</td>\n",
       "      <td>0.00020</td>\n",
       "      <td>0.00004</td>\n",
       "      <td>-0.882353</td>\n",
       "      <td>0.001077</td>\n",
       "      <td>True</td>\n",
       "      <td>False</td>\n",
       "      <td>False</td>\n",
       "      <td>False</td>\n",
       "      <td>None</td>\n",
       "      <td>None</td>\n",
       "      <td>None</td>\n",
       "      <td>None</td>\n",
       "      <td>None</td>\n",
       "      <td>in_trade</td>\n",
       "      <td>NaN</td>\n",
       "      <td>NaN</td>\n",
       "      <td>NaN</td>\n",
       "    </tr>\n",
       "    <tr>\n",
       "      <th>29146</th>\n",
       "      <td>2024-09-04 18:00:00+00:00</td>\n",
       "      <td>4182.0</td>\n",
       "      <td>1.10661</td>\n",
       "      <td>1.10768</td>\n",
       "      <td>1.10653</td>\n",
       "      <td>1.10760</td>\n",
       "      <td>1.10653</td>\n",
       "      <td>1.10761</td>\n",
       "      <td>1.10645</td>\n",
       "      <td>1.10753</td>\n",
       "      <td>1.10669</td>\n",
       "      <td>1.10777</td>\n",
       "      <td>1.10661</td>\n",
       "      <td>1.10768</td>\n",
       "      <td>s24-09-04 18:00</td>\n",
       "      <td>1.106644</td>\n",
       "      <td>1.105609</td>\n",
       "      <td>1.106169</td>\n",
       "      <td>1.108675</td>\n",
       "      <td>False</td>\n",
       "      <td>False</td>\n",
       "      <td>0.00099</td>\n",
       "      <td>0.00115</td>\n",
       "      <td>0.00008</td>\n",
       "      <td>0.00008</td>\n",
       "      <td>0.860870</td>\n",
       "      <td>0.001098</td>\n",
       "      <td>False</td>\n",
       "      <td>True</td>\n",
       "      <td>True</td>\n",
       "      <td>False</td>\n",
       "      <td>None</td>\n",
       "      <td>None</td>\n",
       "      <td>None</td>\n",
       "      <td>None</td>\n",
       "      <td>None</td>\n",
       "      <td>in_trade</td>\n",
       "      <td>NaN</td>\n",
       "      <td>NaN</td>\n",
       "      <td>NaN</td>\n",
       "    </tr>\n",
       "    <tr>\n",
       "      <th>29147</th>\n",
       "      <td>2024-09-04 19:00:00+00:00</td>\n",
       "      <td>3331.0</td>\n",
       "      <td>1.10761</td>\n",
       "      <td>1.10827</td>\n",
       "      <td>1.10750</td>\n",
       "      <td>1.10782</td>\n",
       "      <td>1.10753</td>\n",
       "      <td>1.10820</td>\n",
       "      <td>1.10742</td>\n",
       "      <td>1.10775</td>\n",
       "      <td>1.10769</td>\n",
       "      <td>1.10835</td>\n",
       "      <td>1.10757</td>\n",
       "      <td>1.10790</td>\n",
       "      <td>s24-09-04 19:00</td>\n",
       "      <td>1.106893</td>\n",
       "      <td>1.105628</td>\n",
       "      <td>1.106162</td>\n",
       "      <td>1.108615</td>\n",
       "      <td>False</td>\n",
       "      <td>False</td>\n",
       "      <td>0.00021</td>\n",
       "      <td>0.00077</td>\n",
       "      <td>0.00045</td>\n",
       "      <td>0.00011</td>\n",
       "      <td>0.272727</td>\n",
       "      <td>0.001109</td>\n",
       "      <td>False</td>\n",
       "      <td>False</td>\n",
       "      <td>False</td>\n",
       "      <td>False</td>\n",
       "      <td>None</td>\n",
       "      <td>None</td>\n",
       "      <td>None</td>\n",
       "      <td>None</td>\n",
       "      <td>None</td>\n",
       "      <td>in_trade</td>\n",
       "      <td>NaN</td>\n",
       "      <td>NaN</td>\n",
       "      <td>NaN</td>\n",
       "    </tr>\n",
       "    <tr>\n",
       "      <th>29148</th>\n",
       "      <td>2024-09-04 20:00:00+00:00</td>\n",
       "      <td>1862.0</td>\n",
       "      <td>1.10784</td>\n",
       "      <td>1.10839</td>\n",
       "      <td>1.10756</td>\n",
       "      <td>1.10832</td>\n",
       "      <td>1.10777</td>\n",
       "      <td>1.10832</td>\n",
       "      <td>1.10748</td>\n",
       "      <td>1.10823</td>\n",
       "      <td>1.10791</td>\n",
       "      <td>1.10846</td>\n",
       "      <td>1.10764</td>\n",
       "      <td>1.10840</td>\n",
       "      <td>s24-09-04 20:00</td>\n",
       "      <td>1.107193</td>\n",
       "      <td>1.105652</td>\n",
       "      <td>1.106164</td>\n",
       "      <td>1.108559</td>\n",
       "      <td>False</td>\n",
       "      <td>False</td>\n",
       "      <td>0.00048</td>\n",
       "      <td>0.00083</td>\n",
       "      <td>0.00007</td>\n",
       "      <td>0.00028</td>\n",
       "      <td>0.578313</td>\n",
       "      <td>0.001127</td>\n",
       "      <td>False</td>\n",
       "      <td>False</td>\n",
       "      <td>True</td>\n",
       "      <td>False</td>\n",
       "      <td>None</td>\n",
       "      <td>None</td>\n",
       "      <td>None</td>\n",
       "      <td>None</td>\n",
       "      <td>None</td>\n",
       "      <td>in_trade</td>\n",
       "      <td>NaN</td>\n",
       "      <td>NaN</td>\n",
       "      <td>NaN</td>\n",
       "    </tr>\n",
       "    <tr>\n",
       "      <th>29149</th>\n",
       "      <td>2024-09-04 21:00:00+00:00</td>\n",
       "      <td>473.0</td>\n",
       "      <td>1.10838</td>\n",
       "      <td>1.10838</td>\n",
       "      <td>1.10826</td>\n",
       "      <td>1.10830</td>\n",
       "      <td>1.10821</td>\n",
       "      <td>1.10828</td>\n",
       "      <td>1.10816</td>\n",
       "      <td>1.10817</td>\n",
       "      <td>1.10854</td>\n",
       "      <td>1.10854</td>\n",
       "      <td>1.10835</td>\n",
       "      <td>1.10843</td>\n",
       "      <td>s24-09-04 21:00</td>\n",
       "      <td>1.107519</td>\n",
       "      <td>1.105674</td>\n",
       "      <td>1.106163</td>\n",
       "      <td>1.108508</td>\n",
       "      <td>False</td>\n",
       "      <td>False</td>\n",
       "      <td>-0.00008</td>\n",
       "      <td>0.00012</td>\n",
       "      <td>0.00000</td>\n",
       "      <td>0.00004</td>\n",
       "      <td>-0.666667</td>\n",
       "      <td>0.001089</td>\n",
       "      <td>False</td>\n",
       "      <td>False</td>\n",
       "      <td>False</td>\n",
       "      <td>False</td>\n",
       "      <td>None</td>\n",
       "      <td>None</td>\n",
       "      <td>None</td>\n",
       "      <td>None</td>\n",
       "      <td>None</td>\n",
       "      <td>in_trade</td>\n",
       "      <td>NaN</td>\n",
       "      <td>NaN</td>\n",
       "      <td>NaN</td>\n",
       "    </tr>\n",
       "    <tr>\n",
       "      <th>29150</th>\n",
       "      <td>2024-09-04 22:00:00+00:00</td>\n",
       "      <td>716.0</td>\n",
       "      <td>1.10836</td>\n",
       "      <td>1.10865</td>\n",
       "      <td>1.10826</td>\n",
       "      <td>1.10849</td>\n",
       "      <td>1.10829</td>\n",
       "      <td>1.10857</td>\n",
       "      <td>1.10818</td>\n",
       "      <td>1.10841</td>\n",
       "      <td>1.10843</td>\n",
       "      <td>1.10873</td>\n",
       "      <td>1.10835</td>\n",
       "      <td>1.10857</td>\n",
       "      <td>s24-09-04 22:00</td>\n",
       "      <td>1.107843</td>\n",
       "      <td>1.105698</td>\n",
       "      <td>1.106168</td>\n",
       "      <td>1.108454</td>\n",
       "      <td>False</td>\n",
       "      <td>False</td>\n",
       "      <td>0.00013</td>\n",
       "      <td>0.00039</td>\n",
       "      <td>0.00016</td>\n",
       "      <td>0.00010</td>\n",
       "      <td>0.333333</td>\n",
       "      <td>0.001074</td>\n",
       "      <td>False</td>\n",
       "      <td>False</td>\n",
       "      <td>False</td>\n",
       "      <td>False</td>\n",
       "      <td>None</td>\n",
       "      <td>None</td>\n",
       "      <td>None</td>\n",
       "      <td>None</td>\n",
       "      <td>None</td>\n",
       "      <td>in_trade</td>\n",
       "      <td>NaN</td>\n",
       "      <td>NaN</td>\n",
       "      <td>NaN</td>\n",
       "    </tr>\n",
       "    <tr>\n",
       "      <th>29151</th>\n",
       "      <td>2024-09-04 23:00:00+00:00</td>\n",
       "      <td>2071.0</td>\n",
       "      <td>1.10851</td>\n",
       "      <td>1.10853</td>\n",
       "      <td>1.10790</td>\n",
       "      <td>1.10802</td>\n",
       "      <td>1.10843</td>\n",
       "      <td>1.10845</td>\n",
       "      <td>1.10782</td>\n",
       "      <td>1.10794</td>\n",
       "      <td>1.10859</td>\n",
       "      <td>1.10862</td>\n",
       "      <td>1.10798</td>\n",
       "      <td>1.10810</td>\n",
       "      <td>s24-09-04 23:00</td>\n",
       "      <td>1.108069</td>\n",
       "      <td>1.105716</td>\n",
       "      <td>1.106173</td>\n",
       "      <td>1.108387</td>\n",
       "      <td>False</td>\n",
       "      <td>False</td>\n",
       "      <td>-0.00049</td>\n",
       "      <td>0.00063</td>\n",
       "      <td>0.00002</td>\n",
       "      <td>0.00012</td>\n",
       "      <td>-0.777778</td>\n",
       "      <td>0.001079</td>\n",
       "      <td>False</td>\n",
       "      <td>False</td>\n",
       "      <td>False</td>\n",
       "      <td>False</td>\n",
       "      <td>None</td>\n",
       "      <td>None</td>\n",
       "      <td>None</td>\n",
       "      <td>None</td>\n",
       "      <td>None</td>\n",
       "      <td>in_trade</td>\n",
       "      <td>NaN</td>\n",
       "      <td>NaN</td>\n",
       "      <td>NaN</td>\n",
       "    </tr>\n",
       "    <tr>\n",
       "      <th>29152</th>\n",
       "      <td>2024-09-05 00:00:00+00:00</td>\n",
       "      <td>3352.0</td>\n",
       "      <td>1.10802</td>\n",
       "      <td>1.10820</td>\n",
       "      <td>1.10757</td>\n",
       "      <td>1.10792</td>\n",
       "      <td>1.10794</td>\n",
       "      <td>1.10812</td>\n",
       "      <td>1.10749</td>\n",
       "      <td>1.10785</td>\n",
       "      <td>1.10809</td>\n",
       "      <td>1.10828</td>\n",
       "      <td>1.10765</td>\n",
       "      <td>1.10800</td>\n",
       "      <td>s24-09-05 00:00</td>\n",
       "      <td>1.107963</td>\n",
       "      <td>1.105741</td>\n",
       "      <td>1.106174</td>\n",
       "      <td>1.108316</td>\n",
       "      <td>False</td>\n",
       "      <td>False</td>\n",
       "      <td>-0.00010</td>\n",
       "      <td>0.00063</td>\n",
       "      <td>0.00018</td>\n",
       "      <td>0.00035</td>\n",
       "      <td>-0.158730</td>\n",
       "      <td>0.001093</td>\n",
       "      <td>False</td>\n",
       "      <td>False</td>\n",
       "      <td>False</td>\n",
       "      <td>False</td>\n",
       "      <td>None</td>\n",
       "      <td>None</td>\n",
       "      <td>None</td>\n",
       "      <td>None</td>\n",
       "      <td>None</td>\n",
       "      <td>in_trade</td>\n",
       "      <td>NaN</td>\n",
       "      <td>NaN</td>\n",
       "      <td>NaN</td>\n",
       "    </tr>\n",
       "    <tr>\n",
       "      <th>29153</th>\n",
       "      <td>2024-09-05 01:00:00+00:00</td>\n",
       "      <td>3433.0</td>\n",
       "      <td>1.10793</td>\n",
       "      <td>1.10856</td>\n",
       "      <td>1.10775</td>\n",
       "      <td>1.10789</td>\n",
       "      <td>1.10786</td>\n",
       "      <td>1.10849</td>\n",
       "      <td>1.10768</td>\n",
       "      <td>1.10781</td>\n",
       "      <td>1.10800</td>\n",
       "      <td>1.10865</td>\n",
       "      <td>1.10782</td>\n",
       "      <td>1.10797</td>\n",
       "      <td>s24-09-05 01:00</td>\n",
       "      <td>1.107943</td>\n",
       "      <td>1.105765</td>\n",
       "      <td>1.106175</td>\n",
       "      <td>1.108245</td>\n",
       "      <td>False</td>\n",
       "      <td>False</td>\n",
       "      <td>-0.00004</td>\n",
       "      <td>0.00081</td>\n",
       "      <td>0.00063</td>\n",
       "      <td>0.00014</td>\n",
       "      <td>-0.049383</td>\n",
       "      <td>0.001106</td>\n",
       "      <td>False</td>\n",
       "      <td>False</td>\n",
       "      <td>False</td>\n",
       "      <td>False</td>\n",
       "      <td>None</td>\n",
       "      <td>None</td>\n",
       "      <td>None</td>\n",
       "      <td>None</td>\n",
       "      <td>None</td>\n",
       "      <td>in_trade</td>\n",
       "      <td>NaN</td>\n",
       "      <td>NaN</td>\n",
       "      <td>NaN</td>\n",
       "    </tr>\n",
       "    <tr>\n",
       "      <th>29154</th>\n",
       "      <td>2024-09-05 02:00:00+00:00</td>\n",
       "      <td>2650.0</td>\n",
       "      <td>1.10792</td>\n",
       "      <td>1.10835</td>\n",
       "      <td>1.10784</td>\n",
       "      <td>1.10798</td>\n",
       "      <td>1.10783</td>\n",
       "      <td>1.10828</td>\n",
       "      <td>1.10776</td>\n",
       "      <td>1.10791</td>\n",
       "      <td>1.10800</td>\n",
       "      <td>1.10842</td>\n",
       "      <td>1.10791</td>\n",
       "      <td>1.10806</td>\n",
       "      <td>s24-09-05 02:00</td>\n",
       "      <td>1.107896</td>\n",
       "      <td>1.105803</td>\n",
       "      <td>1.106174</td>\n",
       "      <td>1.108176</td>\n",
       "      <td>False</td>\n",
       "      <td>False</td>\n",
       "      <td>0.00006</td>\n",
       "      <td>0.00051</td>\n",
       "      <td>0.00037</td>\n",
       "      <td>0.00008</td>\n",
       "      <td>0.117647</td>\n",
       "      <td>0.001079</td>\n",
       "      <td>False</td>\n",
       "      <td>False</td>\n",
       "      <td>False</td>\n",
       "      <td>False</td>\n",
       "      <td>None</td>\n",
       "      <td>None</td>\n",
       "      <td>None</td>\n",
       "      <td>None</td>\n",
       "      <td>None</td>\n",
       "      <td>in_trade</td>\n",
       "      <td>NaN</td>\n",
       "      <td>NaN</td>\n",
       "      <td>NaN</td>\n",
       "    </tr>\n",
       "    <tr>\n",
       "      <th>29155</th>\n",
       "      <td>2024-09-05 03:00:00+00:00</td>\n",
       "      <td>2276.0</td>\n",
       "      <td>1.10797</td>\n",
       "      <td>1.10798</td>\n",
       "      <td>1.10762</td>\n",
       "      <td>1.10771</td>\n",
       "      <td>1.10790</td>\n",
       "      <td>1.10790</td>\n",
       "      <td>1.10754</td>\n",
       "      <td>1.10763</td>\n",
       "      <td>1.10804</td>\n",
       "      <td>1.10805</td>\n",
       "      <td>1.10770</td>\n",
       "      <td>1.10779</td>\n",
       "      <td>s24-09-05 03:00</td>\n",
       "      <td>1.108005</td>\n",
       "      <td>1.105823</td>\n",
       "      <td>1.106171</td>\n",
       "      <td>1.108104</td>\n",
       "      <td>False</td>\n",
       "      <td>False</td>\n",
       "      <td>-0.00026</td>\n",
       "      <td>0.00036</td>\n",
       "      <td>0.00001</td>\n",
       "      <td>0.00009</td>\n",
       "      <td>-0.722222</td>\n",
       "      <td>0.001017</td>\n",
       "      <td>False</td>\n",
       "      <td>False</td>\n",
       "      <td>False</td>\n",
       "      <td>False</td>\n",
       "      <td>None</td>\n",
       "      <td>None</td>\n",
       "      <td>None</td>\n",
       "      <td>None</td>\n",
       "      <td>None</td>\n",
       "      <td>in_trade</td>\n",
       "      <td>NaN</td>\n",
       "      <td>NaN</td>\n",
       "      <td>NaN</td>\n",
       "    </tr>\n",
       "    <tr>\n",
       "      <th>29156</th>\n",
       "      <td>2024-09-05 04:00:00+00:00</td>\n",
       "      <td>1697.0</td>\n",
       "      <td>1.10769</td>\n",
       "      <td>1.10780</td>\n",
       "      <td>1.10748</td>\n",
       "      <td>1.10770</td>\n",
       "      <td>1.10761</td>\n",
       "      <td>1.10771</td>\n",
       "      <td>1.10740</td>\n",
       "      <td>1.10762</td>\n",
       "      <td>1.10777</td>\n",
       "      <td>1.10788</td>\n",
       "      <td>1.10755</td>\n",
       "      <td>1.10778</td>\n",
       "      <td>s24-09-05 04:00</td>\n",
       "      <td>1.108015</td>\n",
       "      <td>1.105849</td>\n",
       "      <td>1.106167</td>\n",
       "      <td>1.108033</td>\n",
       "      <td>False</td>\n",
       "      <td>False</td>\n",
       "      <td>0.00001</td>\n",
       "      <td>0.00032</td>\n",
       "      <td>0.00010</td>\n",
       "      <td>0.00021</td>\n",
       "      <td>0.031250</td>\n",
       "      <td>0.000985</td>\n",
       "      <td>False</td>\n",
       "      <td>False</td>\n",
       "      <td>False</td>\n",
       "      <td>False</td>\n",
       "      <td>None</td>\n",
       "      <td>None</td>\n",
       "      <td>None</td>\n",
       "      <td>None</td>\n",
       "      <td>None</td>\n",
       "      <td>in_trade</td>\n",
       "      <td>NaN</td>\n",
       "      <td>NaN</td>\n",
       "      <td>NaN</td>\n",
       "    </tr>\n",
       "    <tr>\n",
       "      <th>29157</th>\n",
       "      <td>2024-09-05 05:00:00+00:00</td>\n",
       "      <td>2175.0</td>\n",
       "      <td>1.10770</td>\n",
       "      <td>1.10808</td>\n",
       "      <td>1.10767</td>\n",
       "      <td>1.10803</td>\n",
       "      <td>1.10762</td>\n",
       "      <td>1.10800</td>\n",
       "      <td>1.10759</td>\n",
       "      <td>1.10795</td>\n",
       "      <td>1.10777</td>\n",
       "      <td>1.10816</td>\n",
       "      <td>1.10775</td>\n",
       "      <td>1.10811</td>\n",
       "      <td>s24-09-05 05:00</td>\n",
       "      <td>1.108036</td>\n",
       "      <td>1.105894</td>\n",
       "      <td>1.106176</td>\n",
       "      <td>1.107968</td>\n",
       "      <td>False</td>\n",
       "      <td>False</td>\n",
       "      <td>0.00033</td>\n",
       "      <td>0.00041</td>\n",
       "      <td>0.00005</td>\n",
       "      <td>0.00003</td>\n",
       "      <td>0.804878</td>\n",
       "      <td>0.000964</td>\n",
       "      <td>False</td>\n",
       "      <td>True</td>\n",
       "      <td>True</td>\n",
       "      <td>False</td>\n",
       "      <td>None</td>\n",
       "      <td>None</td>\n",
       "      <td>None</td>\n",
       "      <td>None</td>\n",
       "      <td>None</td>\n",
       "      <td>in_trade</td>\n",
       "      <td>NaN</td>\n",
       "      <td>NaN</td>\n",
       "      <td>NaN</td>\n",
       "    </tr>\n",
       "    <tr>\n",
       "      <th>29158</th>\n",
       "      <td>2024-09-05 06:00:00+00:00</td>\n",
       "      <td>4535.0</td>\n",
       "      <td>1.10804</td>\n",
       "      <td>1.10883</td>\n",
       "      <td>1.10796</td>\n",
       "      <td>1.10838</td>\n",
       "      <td>1.10796</td>\n",
       "      <td>1.10875</td>\n",
       "      <td>1.10789</td>\n",
       "      <td>1.10830</td>\n",
       "      <td>1.10811</td>\n",
       "      <td>1.10891</td>\n",
       "      <td>1.10803</td>\n",
       "      <td>1.10846</td>\n",
       "      <td>s24-09-05 06:00</td>\n",
       "      <td>1.108042</td>\n",
       "      <td>1.105953</td>\n",
       "      <td>1.106188</td>\n",
       "      <td>1.107904</td>\n",
       "      <td>False</td>\n",
       "      <td>False</td>\n",
       "      <td>0.00034</td>\n",
       "      <td>0.00087</td>\n",
       "      <td>0.00045</td>\n",
       "      <td>0.00008</td>\n",
       "      <td>0.390805</td>\n",
       "      <td>0.000977</td>\n",
       "      <td>False</td>\n",
       "      <td>False</td>\n",
       "      <td>False</td>\n",
       "      <td>False</td>\n",
       "      <td>None</td>\n",
       "      <td>None</td>\n",
       "      <td>None</td>\n",
       "      <td>None</td>\n",
       "      <td>None</td>\n",
       "      <td>in_trade</td>\n",
       "      <td>NaN</td>\n",
       "      <td>NaN</td>\n",
       "      <td>NaN</td>\n",
       "    </tr>\n",
       "    <tr>\n",
       "      <th>29159</th>\n",
       "      <td>2024-09-05 07:00:00+00:00</td>\n",
       "      <td>5844.0</td>\n",
       "      <td>1.10837</td>\n",
       "      <td>1.10904</td>\n",
       "      <td>1.10798</td>\n",
       "      <td>1.10872</td>\n",
       "      <td>1.10830</td>\n",
       "      <td>1.10896</td>\n",
       "      <td>1.10791</td>\n",
       "      <td>1.10864</td>\n",
       "      <td>1.10844</td>\n",
       "      <td>1.10913</td>\n",
       "      <td>1.10806</td>\n",
       "      <td>1.10880</td>\n",
       "      <td>s24-09-05 07:00</td>\n",
       "      <td>1.108084</td>\n",
       "      <td>1.106008</td>\n",
       "      <td>1.106201</td>\n",
       "      <td>1.107847</td>\n",
       "      <td>False</td>\n",
       "      <td>False</td>\n",
       "      <td>0.00035</td>\n",
       "      <td>0.00106</td>\n",
       "      <td>0.00032</td>\n",
       "      <td>0.00039</td>\n",
       "      <td>0.330189</td>\n",
       "      <td>0.000975</td>\n",
       "      <td>False</td>\n",
       "      <td>False</td>\n",
       "      <td>False</td>\n",
       "      <td>False</td>\n",
       "      <td>None</td>\n",
       "      <td>None</td>\n",
       "      <td>None</td>\n",
       "      <td>None</td>\n",
       "      <td>None</td>\n",
       "      <td>in_trade</td>\n",
       "      <td>NaN</td>\n",
       "      <td>NaN</td>\n",
       "      <td>NaN</td>\n",
       "    </tr>\n",
       "    <tr>\n",
       "      <th>29160</th>\n",
       "      <td>2024-09-05 08:00:00+00:00</td>\n",
       "      <td>5180.0</td>\n",
       "      <td>1.10872</td>\n",
       "      <td>1.11004</td>\n",
       "      <td>1.10841</td>\n",
       "      <td>1.10991</td>\n",
       "      <td>1.10864</td>\n",
       "      <td>1.10996</td>\n",
       "      <td>1.10833</td>\n",
       "      <td>1.10983</td>\n",
       "      <td>1.10881</td>\n",
       "      <td>1.11012</td>\n",
       "      <td>1.10849</td>\n",
       "      <td>1.10999</td>\n",
       "      <td>s24-09-05 08:00</td>\n",
       "      <td>1.108226</td>\n",
       "      <td>1.106083</td>\n",
       "      <td>1.106226</td>\n",
       "      <td>1.107802</td>\n",
       "      <td>False</td>\n",
       "      <td>False</td>\n",
       "      <td>0.00119</td>\n",
       "      <td>0.00163</td>\n",
       "      <td>0.00013</td>\n",
       "      <td>0.00031</td>\n",
       "      <td>0.730061</td>\n",
       "      <td>0.000993</td>\n",
       "      <td>True</td>\n",
       "      <td>True</td>\n",
       "      <td>True</td>\n",
       "      <td>True</td>\n",
       "      <td>None</td>\n",
       "      <td>None</td>\n",
       "      <td>None</td>\n",
       "      <td>None</td>\n",
       "      <td>None</td>\n",
       "      <td>in_trade</td>\n",
       "      <td>NaN</td>\n",
       "      <td>NaN</td>\n",
       "      <td>NaN</td>\n",
       "    </tr>\n",
       "    <tr>\n",
       "      <th>29161</th>\n",
       "      <td>2024-09-05 09:00:00+00:00</td>\n",
       "      <td>4869.0</td>\n",
       "      <td>1.10990</td>\n",
       "      <td>1.11006</td>\n",
       "      <td>1.10927</td>\n",
       "      <td>1.10947</td>\n",
       "      <td>1.10982</td>\n",
       "      <td>1.10998</td>\n",
       "      <td>1.10919</td>\n",
       "      <td>1.10939</td>\n",
       "      <td>1.10997</td>\n",
       "      <td>1.11013</td>\n",
       "      <td>1.10934</td>\n",
       "      <td>1.10955</td>\n",
       "      <td>s24-09-05 09:00</td>\n",
       "      <td>1.108371</td>\n",
       "      <td>1.106160</td>\n",
       "      <td>1.106244</td>\n",
       "      <td>1.107754</td>\n",
       "      <td>False</td>\n",
       "      <td>False</td>\n",
       "      <td>-0.00043</td>\n",
       "      <td>0.00079</td>\n",
       "      <td>0.00016</td>\n",
       "      <td>0.00020</td>\n",
       "      <td>-0.544304</td>\n",
       "      <td>0.000986</td>\n",
       "      <td>False</td>\n",
       "      <td>False</td>\n",
       "      <td>False</td>\n",
       "      <td>False</td>\n",
       "      <td>None</td>\n",
       "      <td>None</td>\n",
       "      <td>None</td>\n",
       "      <td>None</td>\n",
       "      <td>None</td>\n",
       "      <td>in_trade</td>\n",
       "      <td>NaN</td>\n",
       "      <td>NaN</td>\n",
       "      <td>NaN</td>\n",
       "    </tr>\n",
       "    <tr>\n",
       "      <th>29162</th>\n",
       "      <td>2024-09-05 10:00:00+00:00</td>\n",
       "      <td>3927.0</td>\n",
       "      <td>1.10946</td>\n",
       "      <td>1.10998</td>\n",
       "      <td>1.10922</td>\n",
       "      <td>1.10990</td>\n",
       "      <td>1.10939</td>\n",
       "      <td>1.10990</td>\n",
       "      <td>1.10914</td>\n",
       "      <td>1.10982</td>\n",
       "      <td>1.10954</td>\n",
       "      <td>1.11005</td>\n",
       "      <td>1.10930</td>\n",
       "      <td>1.10998</td>\n",
       "      <td>s24-09-05 10:00</td>\n",
       "      <td>1.108569</td>\n",
       "      <td>1.106261</td>\n",
       "      <td>1.106258</td>\n",
       "      <td>1.107714</td>\n",
       "      <td>False</td>\n",
       "      <td>False</td>\n",
       "      <td>0.00044</td>\n",
       "      <td>0.00076</td>\n",
       "      <td>0.00008</td>\n",
       "      <td>0.00024</td>\n",
       "      <td>0.578947</td>\n",
       "      <td>0.000835</td>\n",
       "      <td>False</td>\n",
       "      <td>False</td>\n",
       "      <td>True</td>\n",
       "      <td>False</td>\n",
       "      <td>None</td>\n",
       "      <td>None</td>\n",
       "      <td>None</td>\n",
       "      <td>None</td>\n",
       "      <td>None</td>\n",
       "      <td>in_trade</td>\n",
       "      <td>NaN</td>\n",
       "      <td>NaN</td>\n",
       "      <td>NaN</td>\n",
       "    </tr>\n",
       "    <tr>\n",
       "      <th>29163</th>\n",
       "      <td>2024-09-05 11:00:00+00:00</td>\n",
       "      <td>3834.0</td>\n",
       "      <td>1.10987</td>\n",
       "      <td>1.11083</td>\n",
       "      <td>1.10930</td>\n",
       "      <td>1.10952</td>\n",
       "      <td>1.10979</td>\n",
       "      <td>1.11075</td>\n",
       "      <td>1.10923</td>\n",
       "      <td>1.10944</td>\n",
       "      <td>1.10995</td>\n",
       "      <td>1.11091</td>\n",
       "      <td>1.10938</td>\n",
       "      <td>1.10959</td>\n",
       "      <td>s24-09-05 11:00</td>\n",
       "      <td>1.108732</td>\n",
       "      <td>1.106371</td>\n",
       "      <td>1.106269</td>\n",
       "      <td>1.107681</td>\n",
       "      <td>False</td>\n",
       "      <td>False</td>\n",
       "      <td>-0.00035</td>\n",
       "      <td>0.00153</td>\n",
       "      <td>0.00096</td>\n",
       "      <td>0.00022</td>\n",
       "      <td>-0.228758</td>\n",
       "      <td>0.000834</td>\n",
       "      <td>True</td>\n",
       "      <td>False</td>\n",
       "      <td>False</td>\n",
       "      <td>False</td>\n",
       "      <td>None</td>\n",
       "      <td>None</td>\n",
       "      <td>None</td>\n",
       "      <td>None</td>\n",
       "      <td>None</td>\n",
       "      <td>in_trade</td>\n",
       "      <td>NaN</td>\n",
       "      <td>NaN</td>\n",
       "      <td>NaN</td>\n",
       "    </tr>\n",
       "    <tr>\n",
       "      <th>29164</th>\n",
       "      <td>2024-09-05 12:00:00+00:00</td>\n",
       "      <td>10722.0</td>\n",
       "      <td>1.10954</td>\n",
       "      <td>1.11198</td>\n",
       "      <td>1.10872</td>\n",
       "      <td>1.10924</td>\n",
       "      <td>1.10946</td>\n",
       "      <td>1.11190</td>\n",
       "      <td>1.10865</td>\n",
       "      <td>1.10917</td>\n",
       "      <td>1.10961</td>\n",
       "      <td>1.11206</td>\n",
       "      <td>1.10879</td>\n",
       "      <td>1.10932</td>\n",
       "      <td>s24-09-05 12:00</td>\n",
       "      <td>1.108858</td>\n",
       "      <td>1.106484</td>\n",
       "      <td>1.106287</td>\n",
       "      <td>1.107644</td>\n",
       "      <td>False</td>\n",
       "      <td>False</td>\n",
       "      <td>-0.00030</td>\n",
       "      <td>0.00326</td>\n",
       "      <td>0.00244</td>\n",
       "      <td>0.00052</td>\n",
       "      <td>-0.092025</td>\n",
       "      <td>0.000943</td>\n",
       "      <td>True</td>\n",
       "      <td>False</td>\n",
       "      <td>False</td>\n",
       "      <td>False</td>\n",
       "      <td>None</td>\n",
       "      <td>None</td>\n",
       "      <td>None</td>\n",
       "      <td>None</td>\n",
       "      <td>None</td>\n",
       "      <td>in_trade</td>\n",
       "      <td>NaN</td>\n",
       "      <td>NaN</td>\n",
       "      <td>NaN</td>\n",
       "    </tr>\n",
       "    <tr>\n",
       "      <th>29165</th>\n",
       "      <td>2024-09-05 13:00:00+00:00</td>\n",
       "      <td>8909.0</td>\n",
       "      <td>1.10926</td>\n",
       "      <td>1.11088</td>\n",
       "      <td>1.10905</td>\n",
       "      <td>1.11061</td>\n",
       "      <td>1.10918</td>\n",
       "      <td>1.11077</td>\n",
       "      <td>1.10897</td>\n",
       "      <td>1.11048</td>\n",
       "      <td>1.10935</td>\n",
       "      <td>1.11103</td>\n",
       "      <td>1.10913</td>\n",
       "      <td>1.11074</td>\n",
       "      <td>s24-09-05 13:00</td>\n",
       "      <td>1.109148</td>\n",
       "      <td>1.106624</td>\n",
       "      <td>1.106310</td>\n",
       "      <td>1.107611</td>\n",
       "      <td>False</td>\n",
       "      <td>False</td>\n",
       "      <td>0.00135</td>\n",
       "      <td>0.00183</td>\n",
       "      <td>0.00027</td>\n",
       "      <td>0.00021</td>\n",
       "      <td>0.737705</td>\n",
       "      <td>0.000933</td>\n",
       "      <td>True</td>\n",
       "      <td>True</td>\n",
       "      <td>True</td>\n",
       "      <td>True</td>\n",
       "      <td>None</td>\n",
       "      <td>None</td>\n",
       "      <td>None</td>\n",
       "      <td>None</td>\n",
       "      <td>None</td>\n",
       "      <td>in_trade</td>\n",
       "      <td>NaN</td>\n",
       "      <td>NaN</td>\n",
       "      <td>NaN</td>\n",
       "    </tr>\n",
       "    <tr>\n",
       "      <th>29166</th>\n",
       "      <td>2024-09-05 14:00:00+00:00</td>\n",
       "      <td>11571.0</td>\n",
       "      <td>1.11060</td>\n",
       "      <td>1.11060</td>\n",
       "      <td>1.10763</td>\n",
       "      <td>1.10796</td>\n",
       "      <td>1.11048</td>\n",
       "      <td>1.11048</td>\n",
       "      <td>1.10755</td>\n",
       "      <td>1.10788</td>\n",
       "      <td>1.11073</td>\n",
       "      <td>1.11073</td>\n",
       "      <td>1.10771</td>\n",
       "      <td>1.10804</td>\n",
       "      <td>s24-09-05 14:00</td>\n",
       "      <td>1.109174</td>\n",
       "      <td>1.106687</td>\n",
       "      <td>1.106310</td>\n",
       "      <td>1.107570</td>\n",
       "      <td>False</td>\n",
       "      <td>False</td>\n",
       "      <td>-0.00264</td>\n",
       "      <td>0.00297</td>\n",
       "      <td>0.00000</td>\n",
       "      <td>0.00033</td>\n",
       "      <td>-0.888889</td>\n",
       "      <td>0.001024</td>\n",
       "      <td>True</td>\n",
       "      <td>False</td>\n",
       "      <td>False</td>\n",
       "      <td>False</td>\n",
       "      <td>None</td>\n",
       "      <td>None</td>\n",
       "      <td>None</td>\n",
       "      <td>None</td>\n",
       "      <td>None</td>\n",
       "      <td>in_trade</td>\n",
       "      <td>NaN</td>\n",
       "      <td>NaN</td>\n",
       "      <td>NaN</td>\n",
       "    </tr>\n",
       "    <tr>\n",
       "      <th>29167</th>\n",
       "      <td>2024-09-05 15:00:00+00:00</td>\n",
       "      <td>6394.0</td>\n",
       "      <td>1.10796</td>\n",
       "      <td>1.10958</td>\n",
       "      <td>1.10782</td>\n",
       "      <td>1.10955</td>\n",
       "      <td>1.10788</td>\n",
       "      <td>1.10950</td>\n",
       "      <td>1.10774</td>\n",
       "      <td>1.10947</td>\n",
       "      <td>1.10805</td>\n",
       "      <td>1.10966</td>\n",
       "      <td>1.10789</td>\n",
       "      <td>1.10963</td>\n",
       "      <td>s24-09-05 15:00</td>\n",
       "      <td>1.109326</td>\n",
       "      <td>1.106755</td>\n",
       "      <td>1.106324</td>\n",
       "      <td>1.107543</td>\n",
       "      <td>False</td>\n",
       "      <td>False</td>\n",
       "      <td>0.00159</td>\n",
       "      <td>0.00176</td>\n",
       "      <td>0.00003</td>\n",
       "      <td>0.00014</td>\n",
       "      <td>0.903409</td>\n",
       "      <td>0.001073</td>\n",
       "      <td>True</td>\n",
       "      <td>True</td>\n",
       "      <td>True</td>\n",
       "      <td>True</td>\n",
       "      <td>None</td>\n",
       "      <td>None</td>\n",
       "      <td>None</td>\n",
       "      <td>None</td>\n",
       "      <td>None</td>\n",
       "      <td>in_trade</td>\n",
       "      <td>NaN</td>\n",
       "      <td>NaN</td>\n",
       "      <td>NaN</td>\n",
       "    </tr>\n",
       "    <tr>\n",
       "      <th>29168</th>\n",
       "      <td>2024-09-05 16:00:00+00:00</td>\n",
       "      <td>4539.0</td>\n",
       "      <td>1.10954</td>\n",
       "      <td>1.11054</td>\n",
       "      <td>1.10954</td>\n",
       "      <td>1.11009</td>\n",
       "      <td>1.10946</td>\n",
       "      <td>1.11046</td>\n",
       "      <td>1.10946</td>\n",
       "      <td>1.11001</td>\n",
       "      <td>1.10963</td>\n",
       "      <td>1.11061</td>\n",
       "      <td>1.10963</td>\n",
       "      <td>1.11017</td>\n",
       "      <td>s24-09-05 16:00</td>\n",
       "      <td>1.109497</td>\n",
       "      <td>1.106873</td>\n",
       "      <td>1.106357</td>\n",
       "      <td>1.107527</td>\n",
       "      <td>False</td>\n",
       "      <td>False</td>\n",
       "      <td>0.00055</td>\n",
       "      <td>0.00100</td>\n",
       "      <td>0.00045</td>\n",
       "      <td>0.00000</td>\n",
       "      <td>0.550000</td>\n",
       "      <td>0.001082</td>\n",
       "      <td>False</td>\n",
       "      <td>False</td>\n",
       "      <td>False</td>\n",
       "      <td>False</td>\n",
       "      <td>None</td>\n",
       "      <td>None</td>\n",
       "      <td>None</td>\n",
       "      <td>None</td>\n",
       "      <td>None</td>\n",
       "      <td>in_trade</td>\n",
       "      <td>NaN</td>\n",
       "      <td>NaN</td>\n",
       "      <td>NaN</td>\n",
       "    </tr>\n",
       "    <tr>\n",
       "      <th>29169</th>\n",
       "      <td>2024-09-05 17:00:00+00:00</td>\n",
       "      <td>3638.0</td>\n",
       "      <td>1.11010</td>\n",
       "      <td>1.11073</td>\n",
       "      <td>1.10996</td>\n",
       "      <td>1.11067</td>\n",
       "      <td>1.11002</td>\n",
       "      <td>1.11065</td>\n",
       "      <td>1.10987</td>\n",
       "      <td>1.11060</td>\n",
       "      <td>1.11017</td>\n",
       "      <td>1.11081</td>\n",
       "      <td>1.11004</td>\n",
       "      <td>1.11074</td>\n",
       "      <td>s24-09-05 17:00</td>\n",
       "      <td>1.109692</td>\n",
       "      <td>1.107001</td>\n",
       "      <td>1.106392</td>\n",
       "      <td>1.107517</td>\n",
       "      <td>False</td>\n",
       "      <td>False</td>\n",
       "      <td>0.00057</td>\n",
       "      <td>0.00077</td>\n",
       "      <td>0.00006</td>\n",
       "      <td>0.00014</td>\n",
       "      <td>0.740260</td>\n",
       "      <td>0.001114</td>\n",
       "      <td>False</td>\n",
       "      <td>True</td>\n",
       "      <td>True</td>\n",
       "      <td>False</td>\n",
       "      <td>None</td>\n",
       "      <td>None</td>\n",
       "      <td>None</td>\n",
       "      <td>None</td>\n",
       "      <td>None</td>\n",
       "      <td>in_trade</td>\n",
       "      <td>NaN</td>\n",
       "      <td>NaN</td>\n",
       "      <td>NaN</td>\n",
       "    </tr>\n",
       "    <tr>\n",
       "      <th>29170</th>\n",
       "      <td>2024-09-05 18:00:00+00:00</td>\n",
       "      <td>3494.0</td>\n",
       "      <td>1.11071</td>\n",
       "      <td>1.11134</td>\n",
       "      <td>1.11025</td>\n",
       "      <td>1.11043</td>\n",
       "      <td>1.11064</td>\n",
       "      <td>1.11126</td>\n",
       "      <td>1.11018</td>\n",
       "      <td>1.11035</td>\n",
       "      <td>1.11078</td>\n",
       "      <td>1.11142</td>\n",
       "      <td>1.11032</td>\n",
       "      <td>1.11051</td>\n",
       "      <td>s24-09-05 18:00</td>\n",
       "      <td>1.109744</td>\n",
       "      <td>1.107131</td>\n",
       "      <td>1.106427</td>\n",
       "      <td>1.107512</td>\n",
       "      <td>False</td>\n",
       "      <td>False</td>\n",
       "      <td>-0.00028</td>\n",
       "      <td>0.00109</td>\n",
       "      <td>0.00063</td>\n",
       "      <td>0.00018</td>\n",
       "      <td>-0.256881</td>\n",
       "      <td>0.001150</td>\n",
       "      <td>False</td>\n",
       "      <td>False</td>\n",
       "      <td>False</td>\n",
       "      <td>False</td>\n",
       "      <td>None</td>\n",
       "      <td>None</td>\n",
       "      <td>None</td>\n",
       "      <td>None</td>\n",
       "      <td>None</td>\n",
       "      <td>in_trade</td>\n",
       "      <td>NaN</td>\n",
       "      <td>NaN</td>\n",
       "      <td>NaN</td>\n",
       "    </tr>\n",
       "  </tbody>\n",
       "</table>\n",
       "</div>"
      ],
      "text/plain": [
       "                           time   volume    mid_o    mid_h    mid_l    mid_c  \\\n",
       "29121 2024-09-03 17:00:00+00:00   3909.0  1.10394  1.10402  1.10264  1.10280   \n",
       "29122 2024-09-03 18:00:00+00:00   3456.0  1.10280  1.10393  1.10266  1.10380   \n",
       "29123 2024-09-03 19:00:00+00:00   3816.0  1.10379  1.10422  1.10374  1.10418   \n",
       "29124 2024-09-03 20:00:00+00:00   1448.0  1.10420  1.10446  1.10397  1.10433   \n",
       "29125 2024-09-03 21:00:00+00:00   1116.0  1.10436  1.10462  1.10396  1.10460   \n",
       "29126 2024-09-03 22:00:00+00:00   1027.0  1.10462  1.10469  1.10396  1.10458   \n",
       "29127 2024-09-03 23:00:00+00:00   1862.0  1.10458  1.10506  1.10451  1.10486   \n",
       "29128 2024-09-04 00:00:00+00:00   4896.0  1.10482  1.10514  1.10466  1.10483   \n",
       "29129 2024-09-04 01:00:00+00:00   3479.0  1.10482  1.10564  1.10476  1.10532   \n",
       "29130 2024-09-04 02:00:00+00:00   3376.0  1.10534  1.10564  1.10495  1.10526   \n",
       "29131 2024-09-04 03:00:00+00:00   2081.0  1.10526  1.10554  1.10503  1.10540   \n",
       "29132 2024-09-04 04:00:00+00:00   1636.0  1.10540  1.10572  1.10536  1.10564   \n",
       "29133 2024-09-04 05:00:00+00:00   2969.0  1.10564  1.10600  1.10546  1.10578   \n",
       "29134 2024-09-04 06:00:00+00:00   5120.0  1.10579  1.10580  1.10474  1.10534   \n",
       "29135 2024-09-04 07:00:00+00:00   6672.0  1.10536  1.10629  1.10468  1.10560   \n",
       "29136 2024-09-04 08:00:00+00:00   6029.0  1.10559  1.10590  1.10496  1.10518   \n",
       "29137 2024-09-04 09:00:00+00:00   3833.0  1.10520  1.10587  1.10503  1.10533   \n",
       "29138 2024-09-04 10:00:00+00:00   3582.0  1.10534  1.10560  1.10500  1.10532   \n",
       "29139 2024-09-04 11:00:00+00:00   4379.0  1.10531  1.10540  1.10428  1.10504   \n",
       "29140 2024-09-04 12:00:00+00:00   5382.0  1.10504  1.10526  1.10400  1.10525   \n",
       "29141 2024-09-04 13:00:00+00:00   5846.0  1.10524  1.10593  1.10500  1.10576   \n",
       "29142 2024-09-04 14:00:00+00:00  12377.0  1.10576  1.10952  1.10574  1.10898   \n",
       "29143 2024-09-04 15:00:00+00:00   6170.0  1.10897  1.10918  1.10764  1.10809   \n",
       "29144 2024-09-04 16:00:00+00:00   4822.0  1.10808  1.10868  1.10760  1.10845   \n",
       "29145 2024-09-04 17:00:00+00:00   4218.0  1.10842  1.10862  1.10658  1.10662   \n",
       "29146 2024-09-04 18:00:00+00:00   4182.0  1.10661  1.10768  1.10653  1.10760   \n",
       "29147 2024-09-04 19:00:00+00:00   3331.0  1.10761  1.10827  1.10750  1.10782   \n",
       "29148 2024-09-04 20:00:00+00:00   1862.0  1.10784  1.10839  1.10756  1.10832   \n",
       "29149 2024-09-04 21:00:00+00:00    473.0  1.10838  1.10838  1.10826  1.10830   \n",
       "29150 2024-09-04 22:00:00+00:00    716.0  1.10836  1.10865  1.10826  1.10849   \n",
       "29151 2024-09-04 23:00:00+00:00   2071.0  1.10851  1.10853  1.10790  1.10802   \n",
       "29152 2024-09-05 00:00:00+00:00   3352.0  1.10802  1.10820  1.10757  1.10792   \n",
       "29153 2024-09-05 01:00:00+00:00   3433.0  1.10793  1.10856  1.10775  1.10789   \n",
       "29154 2024-09-05 02:00:00+00:00   2650.0  1.10792  1.10835  1.10784  1.10798   \n",
       "29155 2024-09-05 03:00:00+00:00   2276.0  1.10797  1.10798  1.10762  1.10771   \n",
       "29156 2024-09-05 04:00:00+00:00   1697.0  1.10769  1.10780  1.10748  1.10770   \n",
       "29157 2024-09-05 05:00:00+00:00   2175.0  1.10770  1.10808  1.10767  1.10803   \n",
       "29158 2024-09-05 06:00:00+00:00   4535.0  1.10804  1.10883  1.10796  1.10838   \n",
       "29159 2024-09-05 07:00:00+00:00   5844.0  1.10837  1.10904  1.10798  1.10872   \n",
       "29160 2024-09-05 08:00:00+00:00   5180.0  1.10872  1.11004  1.10841  1.10991   \n",
       "29161 2024-09-05 09:00:00+00:00   4869.0  1.10990  1.11006  1.10927  1.10947   \n",
       "29162 2024-09-05 10:00:00+00:00   3927.0  1.10946  1.10998  1.10922  1.10990   \n",
       "29163 2024-09-05 11:00:00+00:00   3834.0  1.10987  1.11083  1.10930  1.10952   \n",
       "29164 2024-09-05 12:00:00+00:00  10722.0  1.10954  1.11198  1.10872  1.10924   \n",
       "29165 2024-09-05 13:00:00+00:00   8909.0  1.10926  1.11088  1.10905  1.11061   \n",
       "29166 2024-09-05 14:00:00+00:00  11571.0  1.11060  1.11060  1.10763  1.10796   \n",
       "29167 2024-09-05 15:00:00+00:00   6394.0  1.10796  1.10958  1.10782  1.10955   \n",
       "29168 2024-09-05 16:00:00+00:00   4539.0  1.10954  1.11054  1.10954  1.11009   \n",
       "29169 2024-09-05 17:00:00+00:00   3638.0  1.11010  1.11073  1.10996  1.11067   \n",
       "29170 2024-09-05 18:00:00+00:00   3494.0  1.11071  1.11134  1.11025  1.11043   \n",
       "\n",
       "         bid_o    bid_h    bid_l    bid_c    ask_o    ask_h    ask_l    ask_c  \\\n",
       "29121  1.10386  1.10394  1.10256  1.10272  1.10401  1.10409  1.10272  1.10288   \n",
       "29122  1.10273  1.10386  1.10258  1.10373  1.10288  1.10400  1.10273  1.10388   \n",
       "29123  1.10371  1.10414  1.10366  1.10410  1.10387  1.10430  1.10381  1.10425   \n",
       "29124  1.10412  1.10438  1.10389  1.10426  1.10427  1.10453  1.10405  1.10440   \n",
       "29125  1.10420  1.10447  1.10370  1.10445  1.10452  1.10479  1.10410  1.10474   \n",
       "29126  1.10445  1.10461  1.10385  1.10449  1.10478  1.10478  1.10407  1.10466   \n",
       "29127  1.10450  1.10499  1.10444  1.10478  1.10466  1.10514  1.10458  1.10493   \n",
       "29128  1.10474  1.10506  1.10457  1.10475  1.10489  1.10523  1.10473  1.10491   \n",
       "29129  1.10475  1.10556  1.10467  1.10525  1.10490  1.10572  1.10484  1.10539   \n",
       "29130  1.10527  1.10556  1.10487  1.10519  1.10541  1.10572  1.10503  1.10533   \n",
       "29131  1.10519  1.10546  1.10495  1.10532  1.10534  1.10562  1.10511  1.10548   \n",
       "29132  1.10532  1.10564  1.10528  1.10556  1.10547  1.10580  1.10543  1.10572   \n",
       "29133  1.10555  1.10592  1.10538  1.10571  1.10572  1.10607  1.10554  1.10586   \n",
       "29134  1.10572  1.10573  1.10466  1.10526  1.10586  1.10588  1.10482  1.10541   \n",
       "29135  1.10528  1.10621  1.10460  1.10553  1.10544  1.10637  1.10476  1.10568   \n",
       "29136  1.10552  1.10582  1.10489  1.10510  1.10566  1.10597  1.10504  1.10526   \n",
       "29137  1.10512  1.10579  1.10496  1.10526  1.10527  1.10595  1.10510  1.10540   \n",
       "29138  1.10526  1.10552  1.10492  1.10524  1.10541  1.10567  1.10508  1.10539   \n",
       "29139  1.10523  1.10532  1.10420  1.10496  1.10539  1.10548  1.10435  1.10512   \n",
       "29140  1.10496  1.10518  1.10392  1.10518  1.10511  1.10534  1.10408  1.10532   \n",
       "29141  1.10517  1.10586  1.10493  1.10564  1.10532  1.10600  1.10507  1.10589   \n",
       "29142  1.10564  1.10944  1.10564  1.10891  1.10587  1.10959  1.10583  1.10905   \n",
       "29143  1.10890  1.10911  1.10757  1.10802  1.10904  1.10925  1.10772  1.10816   \n",
       "29144  1.10801  1.10860  1.10752  1.10838  1.10816  1.10876  1.10767  1.10852   \n",
       "29145  1.10835  1.10855  1.10651  1.10655  1.10849  1.10870  1.10666  1.10670   \n",
       "29146  1.10653  1.10761  1.10645  1.10753  1.10669  1.10777  1.10661  1.10768   \n",
       "29147  1.10753  1.10820  1.10742  1.10775  1.10769  1.10835  1.10757  1.10790   \n",
       "29148  1.10777  1.10832  1.10748  1.10823  1.10791  1.10846  1.10764  1.10840   \n",
       "29149  1.10821  1.10828  1.10816  1.10817  1.10854  1.10854  1.10835  1.10843   \n",
       "29150  1.10829  1.10857  1.10818  1.10841  1.10843  1.10873  1.10835  1.10857   \n",
       "29151  1.10843  1.10845  1.10782  1.10794  1.10859  1.10862  1.10798  1.10810   \n",
       "29152  1.10794  1.10812  1.10749  1.10785  1.10809  1.10828  1.10765  1.10800   \n",
       "29153  1.10786  1.10849  1.10768  1.10781  1.10800  1.10865  1.10782  1.10797   \n",
       "29154  1.10783  1.10828  1.10776  1.10791  1.10800  1.10842  1.10791  1.10806   \n",
       "29155  1.10790  1.10790  1.10754  1.10763  1.10804  1.10805  1.10770  1.10779   \n",
       "29156  1.10761  1.10771  1.10740  1.10762  1.10777  1.10788  1.10755  1.10778   \n",
       "29157  1.10762  1.10800  1.10759  1.10795  1.10777  1.10816  1.10775  1.10811   \n",
       "29158  1.10796  1.10875  1.10789  1.10830  1.10811  1.10891  1.10803  1.10846   \n",
       "29159  1.10830  1.10896  1.10791  1.10864  1.10844  1.10913  1.10806  1.10880   \n",
       "29160  1.10864  1.10996  1.10833  1.10983  1.10881  1.11012  1.10849  1.10999   \n",
       "29161  1.10982  1.10998  1.10919  1.10939  1.10997  1.11013  1.10934  1.10955   \n",
       "29162  1.10939  1.10990  1.10914  1.10982  1.10954  1.11005  1.10930  1.10998   \n",
       "29163  1.10979  1.11075  1.10923  1.10944  1.10995  1.11091  1.10938  1.10959   \n",
       "29164  1.10946  1.11190  1.10865  1.10917  1.10961  1.11206  1.10879  1.10932   \n",
       "29165  1.10918  1.11077  1.10897  1.11048  1.10935  1.11103  1.10913  1.11074   \n",
       "29166  1.11048  1.11048  1.10755  1.10788  1.11073  1.11073  1.10771  1.10804   \n",
       "29167  1.10788  1.10950  1.10774  1.10947  1.10805  1.10966  1.10789  1.10963   \n",
       "29168  1.10946  1.11046  1.10946  1.11001  1.10963  1.11061  1.10963  1.11017   \n",
       "29169  1.11002  1.11065  1.10987  1.11060  1.11017  1.11081  1.11004  1.11074   \n",
       "29170  1.11064  1.11126  1.11018  1.11035  1.11078  1.11142  1.11032  1.11051   \n",
       "\n",
       "                 sTime     ma_10     ma_50    ma_100    ma_150 in_downtrend  \\\n",
       "29121  s24-09-03 17:00  1.104222  1.105660  1.107620  1.110482         True   \n",
       "29122  s24-09-03 18:00  1.104116  1.105637  1.107527  1.110400         True   \n",
       "29123  s24-09-03 19:00  1.104132  1.105615  1.107443  1.110321         True   \n",
       "29124  s24-09-03 20:00  1.104207  1.105598  1.107371  1.110232         True   \n",
       "29125  s24-09-03 21:00  1.104304  1.105584  1.107311  1.110154         True   \n",
       "29126  s24-09-03 22:00  1.104282  1.105582  1.107241  1.110070         True   \n",
       "29127  s24-09-03 23:00  1.104154  1.105581  1.107176  1.109989         True   \n",
       "29128  s24-09-04 00:00  1.104214  1.105586  1.107104  1.109912         True   \n",
       "29129  s24-09-04 01:00  1.104322  1.105603  1.107037  1.109841         True   \n",
       "29130  s24-09-04 02:00  1.104456  1.105601  1.106966  1.109769         True   \n",
       "29131  s24-09-04 03:00  1.104716  1.105606  1.106895  1.109698         True   \n",
       "29132  s24-09-04 04:00  1.104900  1.105616  1.106820  1.109627         True   \n",
       "29133  s24-09-04 05:00  1.105060  1.105634  1.106749  1.109555         True   \n",
       "29134  s24-09-04 06:00  1.105161  1.105644  1.106671  1.109484         True   \n",
       "29135  s24-09-04 07:00  1.105261  1.105645  1.106591  1.109408         True   \n",
       "29136  s24-09-04 08:00  1.105321  1.105617  1.106507  1.109331         True   \n",
       "29137  s24-09-04 09:00  1.105368  1.105590  1.106425  1.109255         True   \n",
       "29138  s24-09-04 10:00  1.105417  1.105562  1.106350  1.109178         True   \n",
       "29139  s24-09-04 11:00  1.105389  1.105524  1.106270  1.109101         True   \n",
       "29140  s24-09-04 12:00  1.105388  1.105496  1.106238  1.109028         True   \n",
       "29141  s24-09-04 13:00  1.105424  1.105491  1.106202  1.108957         True   \n",
       "29142  s24-09-04 14:00  1.105758  1.105535  1.106194  1.108905        False   \n",
       "29143  s24-09-04 15:00  1.105989  1.105561  1.106178  1.108847        False   \n",
       "29144  s24-09-04 16:00  1.106300  1.105592  1.106179  1.108793        False   \n",
       "29145  s24-09-04 17:00  1.106402  1.105589  1.106163  1.108730        False   \n",
       "29146  s24-09-04 18:00  1.106644  1.105609  1.106169  1.108675        False   \n",
       "29147  s24-09-04 19:00  1.106893  1.105628  1.106162  1.108615        False   \n",
       "29148  s24-09-04 20:00  1.107193  1.105652  1.106164  1.108559        False   \n",
       "29149  s24-09-04 21:00  1.107519  1.105674  1.106163  1.108508        False   \n",
       "29150  s24-09-04 22:00  1.107843  1.105698  1.106168  1.108454        False   \n",
       "29151  s24-09-04 23:00  1.108069  1.105716  1.106173  1.108387        False   \n",
       "29152  s24-09-05 00:00  1.107963  1.105741  1.106174  1.108316        False   \n",
       "29153  s24-09-05 01:00  1.107943  1.105765  1.106175  1.108245        False   \n",
       "29154  s24-09-05 02:00  1.107896  1.105803  1.106174  1.108176        False   \n",
       "29155  s24-09-05 03:00  1.108005  1.105823  1.106171  1.108104        False   \n",
       "29156  s24-09-05 04:00  1.108015  1.105849  1.106167  1.108033        False   \n",
       "29157  s24-09-05 05:00  1.108036  1.105894  1.106176  1.107968        False   \n",
       "29158  s24-09-05 06:00  1.108042  1.105953  1.106188  1.107904        False   \n",
       "29159  s24-09-05 07:00  1.108084  1.106008  1.106201  1.107847        False   \n",
       "29160  s24-09-05 08:00  1.108226  1.106083  1.106226  1.107802        False   \n",
       "29161  s24-09-05 09:00  1.108371  1.106160  1.106244  1.107754        False   \n",
       "29162  s24-09-05 10:00  1.108569  1.106261  1.106258  1.107714        False   \n",
       "29163  s24-09-05 11:00  1.108732  1.106371  1.106269  1.107681        False   \n",
       "29164  s24-09-05 12:00  1.108858  1.106484  1.106287  1.107644        False   \n",
       "29165  s24-09-05 13:00  1.109148  1.106624  1.106310  1.107611        False   \n",
       "29166  s24-09-05 14:00  1.109174  1.106687  1.106310  1.107570        False   \n",
       "29167  s24-09-05 15:00  1.109326  1.106755  1.106324  1.107543        False   \n",
       "29168  s24-09-05 16:00  1.109497  1.106873  1.106357  1.107527        False   \n",
       "29169  s24-09-05 17:00  1.109692  1.107001  1.106392  1.107517        False   \n",
       "29170  s24-09-05 18:00  1.109744  1.107131  1.106427  1.107512        False   \n",
       "\n",
       "      is_bottom     body  total_range  upper_wick  lower_wick  wick_ratio  \\\n",
       "29121      True -0.00114      0.00138     0.00008     0.00016   -0.826087   \n",
       "29122     False  0.00100      0.00127     0.00013     0.00014    0.787402   \n",
       "29123     False  0.00039      0.00048     0.00004     0.00005    0.812500   \n",
       "29124     False  0.00013      0.00049     0.00013     0.00023    0.265306   \n",
       "29125     False  0.00024      0.00066     0.00002     0.00040    0.363636   \n",
       "29126     False -0.00004      0.00073     0.00007     0.00062   -0.054795   \n",
       "29127     False  0.00028      0.00055     0.00020     0.00007    0.509091   \n",
       "29128     False  0.00001      0.00048     0.00031     0.00016    0.020833   \n",
       "29129     False  0.00050      0.00088     0.00032     0.00006    0.568182   \n",
       "29130     False -0.00008      0.00069     0.00030     0.00031   -0.115942   \n",
       "29131     False  0.00014      0.00051     0.00014     0.00023    0.274510   \n",
       "29132     False  0.00024      0.00036     0.00008     0.00004    0.666667   \n",
       "29133     False  0.00014      0.00054     0.00022     0.00018    0.259259   \n",
       "29134     False -0.00045      0.00106     0.00001     0.00060   -0.424528   \n",
       "29135     False  0.00024      0.00161     0.00069     0.00068    0.149068   \n",
       "29136     False -0.00041      0.00094     0.00031     0.00022   -0.436170   \n",
       "29137     False  0.00013      0.00084     0.00054     0.00017    0.154762   \n",
       "29138     False -0.00002      0.00060     0.00026     0.00032   -0.033333   \n",
       "29139     False -0.00027      0.00112     0.00009     0.00076   -0.241071   \n",
       "29140     False  0.00021      0.00126     0.00001     0.00104    0.166667   \n",
       "29141     False  0.00052      0.00093     0.00017     0.00024    0.559140   \n",
       "29142     False  0.00322      0.00378     0.00054     0.00002    0.851852   \n",
       "29143     False -0.00088      0.00154     0.00021     0.00045   -0.571429   \n",
       "29144     False  0.00037      0.00108     0.00023     0.00048    0.342593   \n",
       "29145     False -0.00180      0.00204     0.00020     0.00004   -0.882353   \n",
       "29146     False  0.00099      0.00115     0.00008     0.00008    0.860870   \n",
       "29147     False  0.00021      0.00077     0.00045     0.00011    0.272727   \n",
       "29148     False  0.00048      0.00083     0.00007     0.00028    0.578313   \n",
       "29149     False -0.00008      0.00012     0.00000     0.00004   -0.666667   \n",
       "29150     False  0.00013      0.00039     0.00016     0.00010    0.333333   \n",
       "29151     False -0.00049      0.00063     0.00002     0.00012   -0.777778   \n",
       "29152     False -0.00010      0.00063     0.00018     0.00035   -0.158730   \n",
       "29153     False -0.00004      0.00081     0.00063     0.00014   -0.049383   \n",
       "29154     False  0.00006      0.00051     0.00037     0.00008    0.117647   \n",
       "29155     False -0.00026      0.00036     0.00001     0.00009   -0.722222   \n",
       "29156     False  0.00001      0.00032     0.00010     0.00021    0.031250   \n",
       "29157     False  0.00033      0.00041     0.00005     0.00003    0.804878   \n",
       "29158     False  0.00034      0.00087     0.00045     0.00008    0.390805   \n",
       "29159     False  0.00035      0.00106     0.00032     0.00039    0.330189   \n",
       "29160     False  0.00119      0.00163     0.00013     0.00031    0.730061   \n",
       "29161     False -0.00043      0.00079     0.00016     0.00020   -0.544304   \n",
       "29162     False  0.00044      0.00076     0.00008     0.00024    0.578947   \n",
       "29163     False -0.00035      0.00153     0.00096     0.00022   -0.228758   \n",
       "29164     False -0.00030      0.00326     0.00244     0.00052   -0.092025   \n",
       "29165     False  0.00135      0.00183     0.00027     0.00021    0.737705   \n",
       "29166     False -0.00264      0.00297     0.00000     0.00033   -0.888889   \n",
       "29167     False  0.00159      0.00176     0.00003     0.00014    0.903409   \n",
       "29168     False  0.00055      0.00100     0.00045     0.00000    0.550000   \n",
       "29169     False  0.00057      0.00077     0.00006     0.00014    0.740260   \n",
       "29170     False -0.00028      0.00109     0.00063     0.00018   -0.256881   \n",
       "\n",
       "       avg_range range_ok wick_ok close_near_high strong_bullish   trade  \\\n",
       "29121   0.001094    False   False           False          False    None   \n",
       "29122   0.001126    False    True            True          False    None   \n",
       "29123   0.001132    False    True            True          False    None   \n",
       "29124   0.001108    False   False           False          False    None   \n",
       "29125   0.001099    False   False            True          False    None   \n",
       "29126   0.001099    False   False            True          False    None   \n",
       "29127   0.001095    False   False           False          False    None   \n",
       "29128   0.001095    False   False           False          False    None   \n",
       "29129   0.001110    False   False           False          False    None   \n",
       "29130   0.001092    False   False           False          False    None   \n",
       "29131   0.001057    False   False           False          False    None   \n",
       "29132   0.001016    False   False           False          False    None   \n",
       "29133   0.000961    False   False           False          False    None   \n",
       "29134   0.000970    False   False           False          False    None   \n",
       "29135   0.001005     True   False           False          False    None   \n",
       "29136   0.000958    False   False           False          False    None   \n",
       "29137   0.000923    False   False           False          False    None   \n",
       "29138   0.000792    False   False           False          False    None   \n",
       "29139   0.000805    False   False           False          False    None   \n",
       "29140   0.000822     True   False            True          False    None   \n",
       "29141   0.000800    False   False            True          False    None   \n",
       "29142   0.000925     True    True            True           True  opened   \n",
       "29143   0.000978     True   False           False          False    None   \n",
       "29144   0.001008    False   False           False          False    None   \n",
       "29145   0.001077     True   False           False          False    None   \n",
       "29146   0.001098    False    True            True          False    None   \n",
       "29147   0.001109    False   False           False          False    None   \n",
       "29148   0.001127    False   False            True          False    None   \n",
       "29149   0.001089    False   False           False          False    None   \n",
       "29150   0.001074    False   False           False          False    None   \n",
       "29151   0.001079    False   False           False          False    None   \n",
       "29152   0.001093    False   False           False          False    None   \n",
       "29153   0.001106    False   False           False          False    None   \n",
       "29154   0.001079    False   False           False          False    None   \n",
       "29155   0.001017    False   False           False          False    None   \n",
       "29156   0.000985    False   False           False          False    None   \n",
       "29157   0.000964    False    True            True          False    None   \n",
       "29158   0.000977    False   False           False          False    None   \n",
       "29159   0.000975    False   False           False          False    None   \n",
       "29160   0.000993     True    True            True           True    None   \n",
       "29161   0.000986    False   False           False          False    None   \n",
       "29162   0.000835    False   False            True          False    None   \n",
       "29163   0.000834     True   False           False          False    None   \n",
       "29164   0.000943     True   False           False          False    None   \n",
       "29165   0.000933     True    True            True           True    None   \n",
       "29166   0.001024     True   False           False          False    None   \n",
       "29167   0.001073     True    True            True           True    None   \n",
       "29168   0.001082    False   False           False          False    None   \n",
       "29169   0.001114    False    True            True          False    None   \n",
       "29170   0.001150    False   False           False          False    None   \n",
       "\n",
       "      entry_price stop_loss take_profit  pips     stage  rows_since_bottom  \\\n",
       "29121        None      None        None  None    bottom                NaN   \n",
       "29122        None      None        None  None    bottom                NaN   \n",
       "29123        None      None        None  None    bottom                NaN   \n",
       "29124        None      None        None  None    bottom                NaN   \n",
       "29125        None      None        None  None    bottom                NaN   \n",
       "29126        None      None        None  None    bottom                NaN   \n",
       "29127        None      None        None  None      exit                NaN   \n",
       "29128        None      None        None  None      exit                NaN   \n",
       "29129        None      None        None  None      exit                NaN   \n",
       "29130        None      None        None  None      exit                NaN   \n",
       "29131        None      None        None  None      exit                NaN   \n",
       "29132        None      None        None  None      exit                NaN   \n",
       "29133        None      None        None  None      exit                NaN   \n",
       "29134        None      None        None  None      exit                NaN   \n",
       "29135        None      None        None  None      exit                NaN   \n",
       "29136        None      None        None  None      exit                NaN   \n",
       "29137        None      None        None  None      exit                NaN   \n",
       "29138        None      None        None  None      exit                NaN   \n",
       "29139        None      None        None  None      exit                NaN   \n",
       "29140        None      None        None  None   reentry                NaN   \n",
       "29141        None      None        None  None   reentry                NaN   \n",
       "29142     1.10898   1.10264     1.11215  None  in_trade               21.0   \n",
       "29143        None      None        None  None  in_trade                NaN   \n",
       "29144        None      None        None  None  in_trade                NaN   \n",
       "29145        None      None        None  None  in_trade                NaN   \n",
       "29146        None      None        None  None  in_trade                NaN   \n",
       "29147        None      None        None  None  in_trade                NaN   \n",
       "29148        None      None        None  None  in_trade                NaN   \n",
       "29149        None      None        None  None  in_trade                NaN   \n",
       "29150        None      None        None  None  in_trade                NaN   \n",
       "29151        None      None        None  None  in_trade                NaN   \n",
       "29152        None      None        None  None  in_trade                NaN   \n",
       "29153        None      None        None  None  in_trade                NaN   \n",
       "29154        None      None        None  None  in_trade                NaN   \n",
       "29155        None      None        None  None  in_trade                NaN   \n",
       "29156        None      None        None  None  in_trade                NaN   \n",
       "29157        None      None        None  None  in_trade                NaN   \n",
       "29158        None      None        None  None  in_trade                NaN   \n",
       "29159        None      None        None  None  in_trade                NaN   \n",
       "29160        None      None        None  None  in_trade                NaN   \n",
       "29161        None      None        None  None  in_trade                NaN   \n",
       "29162        None      None        None  None  in_trade                NaN   \n",
       "29163        None      None        None  None  in_trade                NaN   \n",
       "29164        None      None        None  None  in_trade                NaN   \n",
       "29165        None      None        None  None  in_trade                NaN   \n",
       "29166        None      None        None  None  in_trade                NaN   \n",
       "29167        None      None        None  None  in_trade                NaN   \n",
       "29168        None      None        None  None  in_trade                NaN   \n",
       "29169        None      None        None  None  in_trade                NaN   \n",
       "29170        None      None        None  None  in_trade                NaN   \n",
       "\n",
       "       bottom_low  rows_since_entry  \n",
       "29121         NaN               NaN  \n",
       "29122         NaN               NaN  \n",
       "29123         NaN               NaN  \n",
       "29124         NaN               NaN  \n",
       "29125         NaN               NaN  \n",
       "29126         NaN               NaN  \n",
       "29127         NaN               NaN  \n",
       "29128         NaN               NaN  \n",
       "29129         NaN               NaN  \n",
       "29130         NaN               NaN  \n",
       "29131         NaN               NaN  \n",
       "29132         NaN               NaN  \n",
       "29133         NaN               NaN  \n",
       "29134         NaN               NaN  \n",
       "29135         NaN               NaN  \n",
       "29136         NaN               NaN  \n",
       "29137         NaN               NaN  \n",
       "29138         NaN               NaN  \n",
       "29139         NaN               NaN  \n",
       "29140         NaN               NaN  \n",
       "29141         NaN               NaN  \n",
       "29142     1.10264               NaN  \n",
       "29143         NaN               NaN  \n",
       "29144         NaN               NaN  \n",
       "29145         NaN               NaN  \n",
       "29146         NaN               NaN  \n",
       "29147         NaN               NaN  \n",
       "29148         NaN               NaN  \n",
       "29149         NaN               NaN  \n",
       "29150         NaN               NaN  \n",
       "29151         NaN               NaN  \n",
       "29152         NaN               NaN  \n",
       "29153         NaN               NaN  \n",
       "29154         NaN               NaN  \n",
       "29155         NaN               NaN  \n",
       "29156         NaN               NaN  \n",
       "29157         NaN               NaN  \n",
       "29158         NaN               NaN  \n",
       "29159         NaN               NaN  \n",
       "29160         NaN               NaN  \n",
       "29161         NaN               NaN  \n",
       "29162         NaN               NaN  \n",
       "29163         NaN               NaN  \n",
       "29164         NaN               NaN  \n",
       "29165         NaN               NaN  \n",
       "29166         NaN               NaN  \n",
       "29167         NaN               NaN  \n",
       "29168         NaN               NaN  \n",
       "29169         NaN               NaN  \n",
       "29170         NaN               NaN  "
      ]
     },
     "execution_count": 6,
     "metadata": {},
     "output_type": "execute_result"
    }
   ],
   "source": [
    "\n",
    "print(len(df))\n",
    "df.head(50)"
   ]
  },
  {
   "cell_type": "code",
   "execution_count": null,
   "metadata": {},
   "outputs": [],
   "source": [
    "\n",
    "df.reset_index(drop=True, inplace=True)\n",
    "df[df['trade'] == 'opened'].head(20)\n",
    "# df[df['trade'] == 'closed - tp'].head()\n",
    "# df[df['trade'] == 'closed - sl'].head()\n",
    "# df.head(30)\n",
    "# trade_locs = df.index[df['trade'] == 'opened'].tolist()\n",
    "# print(trade_locs[3])\n",
    "# bottom_index = 1263 - int(df.loc[1263, 'rows_since_bottom'])\n",
    "# print(bottom_index)\n",
    "# df.iloc[bottom_index:1266].head(30)\n",
    "# 12585 - 12418 opened\n",
    "# 12855 - 12418 closed\n",
    "# df[df['setup_stage'] == 'exit'].head(50)\n",
    "# print(len(df_trades[1]))\n",
    "# print((df_trades[0]['trade'] == 'opened').sum())"
   ]
  },
  {
   "cell_type": "code",
   "execution_count": 95,
   "metadata": {},
   "outputs": [],
   "source": [
    "def draw_candlestick_chart(df):\n",
    "    fig = go.Figure()\n",
    "\n",
    "    trade_colors = {\n",
    "        'opened': 'dodgerblue',\n",
    "        'closed - tp': 'limegreen',\n",
    "        'closed - sl': 'red'\n",
    "    }\n",
    "\n",
    "    fig.add_trace(go.Candlestick(\n",
    "        x=df.sTime,\n",
    "        open=df.mid_o,\n",
    "        high=df.mid_h,\n",
    "        low=df.mid_l,\n",
    "        close=df.mid_c,\n",
    "        line=dict(width=1), opacity=1,\n",
    "        increasing_fillcolor='#24A06B', \n",
    "        decreasing_fillcolor='#CC2E3C',\n",
    "        increasing_line_color='#24A06B',\n",
    "        decreasing_line_color='#FF3A4C'\n",
    "    ))\n",
    "\n",
    "    for trade_type, color in trade_colors.items():\n",
    "        subset = df[df['trade'] == trade_type]\n",
    "        fig.add_trace(go.Scatter(\n",
    "            x=subset['sTime'],\n",
    "            y=subset['mid_h'] + 0.0003,  # Slightly above the candle high\n",
    "            mode='markers',\n",
    "            marker=dict(color=color, size=8, symbol='circle'),\n",
    "            name=trade_type,\n",
    "            hoverinfo='text',\n",
    "            text=[f\"{trade_type} @ {p:.5f}\" for p in subset['mid_c']]\n",
    "        ))\n",
    "\n",
    "    apply_layout(df, fig)\n",
    "\n",
    "    return fig\n",
    "\n",
    "def apply_layout(df, fig):\n",
    "    x_start = df['sTime'].iloc[0]\n",
    "    x_end = df['sTime'].iloc[-1]\n",
    "    y_min = df['mid_l'].min()\n",
    "    y_max = df['mid_h'].max()\n",
    "    padding = (y_max - y_min) * 0.1\n",
    "\n",
    "    fig.update_yaxes(\n",
    "        autorange=True,\n",
    "        fixedrange=False,\n",
    "        rangemode='normal',\n",
    "        scaleratio=0.5,\n",
    "        automargin=True,\n",
    "        gridcolor=\"#1f292f\"\n",
    "    )\n",
    "\n",
    "    fig.update_xaxes(\n",
    "        gridcolor=\"#1f292f\",\n",
    "        # rangeslider=dict(visible=True),\n",
    "        nticks=5\n",
    "    )\n",
    "\n",
    "    fig.update_layout(\n",
    "        width=1500,\n",
    "        height=600,\n",
    "        margin=dict(l=10,r=10,b=10,t=10),\n",
    "        paper_bgcolor=\"#2c303c\",\n",
    "        plot_bgcolor=\"#2c303c\",\n",
    "        font=dict(size=10, color=\"#e1e1e1\")\n",
    "    )\n",
    "\n",
    "    fig.update_layout(\n",
    "        yaxis=dict(\n",
    "            range=[y_min - padding, y_max + padding],\n",
    "            fixedrange=False  # Allow zooming\n",
    "        )\n",
    "    )"
   ]
  },
  {
   "cell_type": "code",
   "execution_count": null,
   "metadata": {},
   "outputs": [],
   "source": [
    "\n",
    "\n",
    "fig = draw_candlestick_chart(df)\n",
    "\n",
    "draw.highlight_bottom_zones(fig, df, 'yellow')\n",
    "draw.highlight_strong_bullish_candles(fig, df, 'blue')\n",
    "\n",
    "fig.show()\n",
    "\n"
   ]
  },
  {
   "cell_type": "code",
   "execution_count": 58,
   "metadata": {},
   "outputs": [
    {
     "name": "stdout",
     "output_type": "stream",
     "text": [
      "opened trades: 107\n",
      "closed trades: 106\n"
     ]
    }
   ],
   "source": [
    "df = pd.read_pickle('../backtesting/results/EUR_USD_M5_analyzed.pkl')\n",
    "print(\"opened trades:\", (df['trade'] == 'opened').sum())\n",
    "print(\"closed trades:\", df['trade'].isin(['closed - tp', 'closed - sl']).sum())"
   ]
  },
  {
   "cell_type": "code",
   "execution_count": 78,
   "metadata": {},
   "outputs": [
    {
     "name": "stdout",
     "output_type": "stream",
     "text": [
      "EUR_USD M5\n",
      "📈 Total Trades: 53\n",
      "💰 Total Pips: -6.3\n",
      "✅ Win Rate: 52.83%\n",
      "💵 Total $ Gain: $506.47\n",
      "📊 Percent Gain: 5.06%\n"
     ]
    },
    {
     "data": {
      "application/vnd.plotly.v1+json": {
       "config": {
        "plotlyServerURL": "https://plot.ly"
       },
       "data": [
        {
         "line": {
          "width": 2
         },
         "marker": {
          "size": 4
         },
         "mode": "lines+markers",
         "name": "Cumulative Pips",
         "type": "scatter",
         "x": [
          "2024-01-03T05:00:00+00:00",
          "2024-01-03T19:10:00+00:00",
          "2024-01-09T15:50:00+00:00",
          "2024-01-23T04:50:00+00:00",
          "2024-03-12T01:45:00+00:00",
          "2024-03-15T00:25:00+00:00",
          "2024-03-22T19:10:00+00:00",
          "2024-04-01T12:25:00+00:00",
          "2024-04-11T12:15:00+00:00",
          "2024-04-11T18:05:00+00:00",
          "2024-04-19T12:30:00+00:00",
          "2024-04-24T19:10:00+00:00",
          "2024-04-30T05:40:00+00:00",
          "2024-04-30T15:50:00+00:00",
          "2024-05-17T07:15:00+00:00",
          "2024-05-17T14:00:00+00:00",
          "2024-05-21T02:05:00+00:00",
          "2024-05-29T08:00:00+00:00",
          "2024-06-09T21:00:00+00:00",
          "2024-06-12T08:30:00+00:00",
          "2024-06-14T05:55:00+00:00",
          "2024-06-18T11:05:00+00:00",
          "2024-06-18T14:25:00+00:00",
          "2024-06-21T02:25:00+00:00",
          "2024-07-10T03:20:00+00:00",
          "2024-07-21T22:30:00+00:00",
          "2024-08-22T07:15:00+00:00",
          "2024-08-29T00:15:00+00:00",
          "2024-09-02T06:45:00+00:00",
          "2024-09-09T06:50:00+00:00",
          "2024-09-10T00:20:00+00:00",
          "2024-09-11T01:30:00+00:00",
          "2024-09-24T08:00:00+00:00",
          "2024-10-03T05:10:00+00:00",
          "2024-10-16T06:00:00+00:00",
          "2024-10-22T05:30:00+00:00",
          "2024-10-23T07:00:00+00:00",
          "2024-10-28T03:55:00+00:00",
          "2024-11-05T18:30:00+00:00",
          "2024-11-08T13:30:00+00:00",
          "2024-11-13T13:30:00+00:00",
          "2024-11-14T09:15:00+00:00",
          "2024-11-22T07:40:00+00:00",
          "2024-11-24T22:00:00+00:00",
          "2024-11-29T18:00:00+00:00",
          "2024-12-06T08:05:00+00:00",
          "2024-12-10T06:00:00+00:00",
          "2024-12-11T07:40:00+00:00",
          "2024-12-11T12:15:00+00:00",
          "2024-12-13T04:00:00+00:00",
          "2024-12-13T08:10:00+00:00",
          "2024-12-18T15:45:00+00:00",
          "2024-12-24T17:45:00+00:00"
         ],
         "y": [
          14.699999999998603,
          -3.900000000001125,
          -25.800000000000267,
          -12.400000000001299,
          -0.7000000000023654,
          -14.200000000001989,
          -36.200000000001786,
          -48.600000000003085,
          -67.10000000000215,
          -48.000000000003595,
          -16.80000000000348,
          -3.3000000000038554,
          -10.900000000002574,
          -37.20000000000168,
          -28.20000000000045,
          -15.200000000001882,
          -24.500000000000636,
          -37.89999999999961,
          -48.59999999999865,
          -31.49999999999987,
          -42.09999999999826,
          -54.49999999999956,
          -28.300000000001113,
          -19.700000000002504,
          -10.00000000000335,
          2.0999999999959833,
          15.699999999996262,
          30.09999999999512,
          44.89999999999438,
          1.5999999999949281,
          -16.6000000000044,
          -7.800000000004481,
          9.999999999994447,
          -9.500000000004515,
          -33.50000000000409,
          -25.100000000004574,
          -42.5000000000031,
          -59.70000000000253,
          -4.900000000003239,
          -40.30000000000201,
          -12.500000000001961,
          -33.70000000000318,
          -20.9000000000037,
          -0.10000000000288267,
          17.19999999999499,
          30.899999999995924,
          41.19999999999457,
          17.79999999999448,
          35.69999999999406,
          21.79999999999404,
          30.99999999999436,
          13.099999999994775,
          -6.300000000003532
         ]
        },
        {
         "line": {
          "width": 2
         },
         "marker": {
          "size": 4
         },
         "mode": "lines+markers",
         "name": "Account Balance ($)",
         "type": "scatter",
         "x": [
          "2024-01-03T05:00:00+00:00",
          "2024-01-03T19:10:00+00:00",
          "2024-01-09T15:50:00+00:00",
          "2024-01-23T04:50:00+00:00",
          "2024-03-12T01:45:00+00:00",
          "2024-03-15T00:25:00+00:00",
          "2024-03-22T19:10:00+00:00",
          "2024-04-01T12:25:00+00:00",
          "2024-04-11T12:15:00+00:00",
          "2024-04-11T18:05:00+00:00",
          "2024-04-19T12:30:00+00:00",
          "2024-04-24T19:10:00+00:00",
          "2024-04-30T05:40:00+00:00",
          "2024-04-30T15:50:00+00:00",
          "2024-05-17T07:15:00+00:00",
          "2024-05-17T14:00:00+00:00",
          "2024-05-21T02:05:00+00:00",
          "2024-05-29T08:00:00+00:00",
          "2024-06-09T21:00:00+00:00",
          "2024-06-12T08:30:00+00:00",
          "2024-06-14T05:55:00+00:00",
          "2024-06-18T11:05:00+00:00",
          "2024-06-18T14:25:00+00:00",
          "2024-06-21T02:25:00+00:00",
          "2024-07-10T03:20:00+00:00",
          "2024-07-21T22:30:00+00:00",
          "2024-08-22T07:15:00+00:00",
          "2024-08-29T00:15:00+00:00",
          "2024-09-02T06:45:00+00:00",
          "2024-09-09T06:50:00+00:00",
          "2024-09-10T00:20:00+00:00",
          "2024-09-11T01:30:00+00:00",
          "2024-09-24T08:00:00+00:00",
          "2024-10-03T05:10:00+00:00",
          "2024-10-16T06:00:00+00:00",
          "2024-10-22T05:30:00+00:00",
          "2024-10-23T07:00:00+00:00",
          "2024-10-28T03:55:00+00:00",
          "2024-11-05T18:30:00+00:00",
          "2024-11-08T13:30:00+00:00",
          "2024-11-13T13:30:00+00:00",
          "2024-11-14T09:15:00+00:00",
          "2024-11-22T07:40:00+00:00",
          "2024-11-24T22:00:00+00:00",
          "2024-11-29T18:00:00+00:00",
          "2024-12-06T08:05:00+00:00",
          "2024-12-10T06:00:00+00:00",
          "2024-12-11T07:40:00+00:00",
          "2024-12-11T12:15:00+00:00",
          "2024-12-13T04:00:00+00:00",
          "2024-12-13T08:10:00+00:00",
          "2024-12-18T15:45:00+00:00",
          "2024-12-24T17:45:00+00:00"
         ],
         "y": {
          "bdata": "AAAAAADsw0AAAAAAAIbDQNejcD0KIsNA1sVtNACEw0Ci7Zi66+fDQB/zQ50AgsNAs6twUh8ew0BjLWRqPbzCQFLQ0qpQXMJAsAfXR1K6wkB7+Ms0NRrDQANAAxIDfMNAfrTuckAYw0DNApiZfLbCQL19WORLFsNAGCTVugV4w0ADFASJVxTDQF8JW7SnssJAG9vJB+xSwkD4cxCNvbDCQHM+Fa4LUcJAAIozxEPzwUDXupCFK0/CQGtiCdXprMJA/H3bG4gMw0CqXHTzD27DQEdUZyaL0cNAU2VpsQM3xEBa51HEg57EQDR3g8XxNMRA5qLNS3zNw0DrG+EP4DLEQFsXevFKmsRA+MR8kM4wxED96epFbsnDQG7kUEe9LsRA8Y2wkmfHw0DxLgnxImLDQGabkxRhxcNAF+Wa0SZgw0D+oY7LWsPDQHm9NOYqXsNA5zGct1TBw0Cz/2ZAeibEQIgjF6iljcRA4hQsSuH2xECV9iy3N2LFQO7Sobi79MRAq0LYJwdgxUDbLF5flvLEQHlM6tHWXcVAbF9bPnHwxECYi1nHO4XEQA==",
          "dtype": "f8"
         },
         "yaxis": "y2"
        }
       ],
       "layout": {
        "hovermode": "x unified",
        "legend": {
         "x": 0.01,
         "y": 0.99
        },
        "template": {
         "data": {
          "bar": [
           {
            "error_x": {
             "color": "#2a3f5f"
            },
            "error_y": {
             "color": "#2a3f5f"
            },
            "marker": {
             "line": {
              "color": "white",
              "width": 0.5
             },
             "pattern": {
              "fillmode": "overlay",
              "size": 10,
              "solidity": 0.2
             }
            },
            "type": "bar"
           }
          ],
          "barpolar": [
           {
            "marker": {
             "line": {
              "color": "white",
              "width": 0.5
             },
             "pattern": {
              "fillmode": "overlay",
              "size": 10,
              "solidity": 0.2
             }
            },
            "type": "barpolar"
           }
          ],
          "carpet": [
           {
            "aaxis": {
             "endlinecolor": "#2a3f5f",
             "gridcolor": "#C8D4E3",
             "linecolor": "#C8D4E3",
             "minorgridcolor": "#C8D4E3",
             "startlinecolor": "#2a3f5f"
            },
            "baxis": {
             "endlinecolor": "#2a3f5f",
             "gridcolor": "#C8D4E3",
             "linecolor": "#C8D4E3",
             "minorgridcolor": "#C8D4E3",
             "startlinecolor": "#2a3f5f"
            },
            "type": "carpet"
           }
          ],
          "choropleth": [
           {
            "colorbar": {
             "outlinewidth": 0,
             "ticks": ""
            },
            "type": "choropleth"
           }
          ],
          "contour": [
           {
            "colorbar": {
             "outlinewidth": 0,
             "ticks": ""
            },
            "colorscale": [
             [
              0,
              "#0d0887"
             ],
             [
              0.1111111111111111,
              "#46039f"
             ],
             [
              0.2222222222222222,
              "#7201a8"
             ],
             [
              0.3333333333333333,
              "#9c179e"
             ],
             [
              0.4444444444444444,
              "#bd3786"
             ],
             [
              0.5555555555555556,
              "#d8576b"
             ],
             [
              0.6666666666666666,
              "#ed7953"
             ],
             [
              0.7777777777777778,
              "#fb9f3a"
             ],
             [
              0.8888888888888888,
              "#fdca26"
             ],
             [
              1,
              "#f0f921"
             ]
            ],
            "type": "contour"
           }
          ],
          "contourcarpet": [
           {
            "colorbar": {
             "outlinewidth": 0,
             "ticks": ""
            },
            "type": "contourcarpet"
           }
          ],
          "heatmap": [
           {
            "colorbar": {
             "outlinewidth": 0,
             "ticks": ""
            },
            "colorscale": [
             [
              0,
              "#0d0887"
             ],
             [
              0.1111111111111111,
              "#46039f"
             ],
             [
              0.2222222222222222,
              "#7201a8"
             ],
             [
              0.3333333333333333,
              "#9c179e"
             ],
             [
              0.4444444444444444,
              "#bd3786"
             ],
             [
              0.5555555555555556,
              "#d8576b"
             ],
             [
              0.6666666666666666,
              "#ed7953"
             ],
             [
              0.7777777777777778,
              "#fb9f3a"
             ],
             [
              0.8888888888888888,
              "#fdca26"
             ],
             [
              1,
              "#f0f921"
             ]
            ],
            "type": "heatmap"
           }
          ],
          "histogram": [
           {
            "marker": {
             "pattern": {
              "fillmode": "overlay",
              "size": 10,
              "solidity": 0.2
             }
            },
            "type": "histogram"
           }
          ],
          "histogram2d": [
           {
            "colorbar": {
             "outlinewidth": 0,
             "ticks": ""
            },
            "colorscale": [
             [
              0,
              "#0d0887"
             ],
             [
              0.1111111111111111,
              "#46039f"
             ],
             [
              0.2222222222222222,
              "#7201a8"
             ],
             [
              0.3333333333333333,
              "#9c179e"
             ],
             [
              0.4444444444444444,
              "#bd3786"
             ],
             [
              0.5555555555555556,
              "#d8576b"
             ],
             [
              0.6666666666666666,
              "#ed7953"
             ],
             [
              0.7777777777777778,
              "#fb9f3a"
             ],
             [
              0.8888888888888888,
              "#fdca26"
             ],
             [
              1,
              "#f0f921"
             ]
            ],
            "type": "histogram2d"
           }
          ],
          "histogram2dcontour": [
           {
            "colorbar": {
             "outlinewidth": 0,
             "ticks": ""
            },
            "colorscale": [
             [
              0,
              "#0d0887"
             ],
             [
              0.1111111111111111,
              "#46039f"
             ],
             [
              0.2222222222222222,
              "#7201a8"
             ],
             [
              0.3333333333333333,
              "#9c179e"
             ],
             [
              0.4444444444444444,
              "#bd3786"
             ],
             [
              0.5555555555555556,
              "#d8576b"
             ],
             [
              0.6666666666666666,
              "#ed7953"
             ],
             [
              0.7777777777777778,
              "#fb9f3a"
             ],
             [
              0.8888888888888888,
              "#fdca26"
             ],
             [
              1,
              "#f0f921"
             ]
            ],
            "type": "histogram2dcontour"
           }
          ],
          "mesh3d": [
           {
            "colorbar": {
             "outlinewidth": 0,
             "ticks": ""
            },
            "type": "mesh3d"
           }
          ],
          "parcoords": [
           {
            "line": {
             "colorbar": {
              "outlinewidth": 0,
              "ticks": ""
             }
            },
            "type": "parcoords"
           }
          ],
          "pie": [
           {
            "automargin": true,
            "type": "pie"
           }
          ],
          "scatter": [
           {
            "fillpattern": {
             "fillmode": "overlay",
             "size": 10,
             "solidity": 0.2
            },
            "type": "scatter"
           }
          ],
          "scatter3d": [
           {
            "line": {
             "colorbar": {
              "outlinewidth": 0,
              "ticks": ""
             }
            },
            "marker": {
             "colorbar": {
              "outlinewidth": 0,
              "ticks": ""
             }
            },
            "type": "scatter3d"
           }
          ],
          "scattercarpet": [
           {
            "marker": {
             "colorbar": {
              "outlinewidth": 0,
              "ticks": ""
             }
            },
            "type": "scattercarpet"
           }
          ],
          "scattergeo": [
           {
            "marker": {
             "colorbar": {
              "outlinewidth": 0,
              "ticks": ""
             }
            },
            "type": "scattergeo"
           }
          ],
          "scattergl": [
           {
            "marker": {
             "colorbar": {
              "outlinewidth": 0,
              "ticks": ""
             }
            },
            "type": "scattergl"
           }
          ],
          "scattermap": [
           {
            "marker": {
             "colorbar": {
              "outlinewidth": 0,
              "ticks": ""
             }
            },
            "type": "scattermap"
           }
          ],
          "scattermapbox": [
           {
            "marker": {
             "colorbar": {
              "outlinewidth": 0,
              "ticks": ""
             }
            },
            "type": "scattermapbox"
           }
          ],
          "scatterpolar": [
           {
            "marker": {
             "colorbar": {
              "outlinewidth": 0,
              "ticks": ""
             }
            },
            "type": "scatterpolar"
           }
          ],
          "scatterpolargl": [
           {
            "marker": {
             "colorbar": {
              "outlinewidth": 0,
              "ticks": ""
             }
            },
            "type": "scatterpolargl"
           }
          ],
          "scatterternary": [
           {
            "marker": {
             "colorbar": {
              "outlinewidth": 0,
              "ticks": ""
             }
            },
            "type": "scatterternary"
           }
          ],
          "surface": [
           {
            "colorbar": {
             "outlinewidth": 0,
             "ticks": ""
            },
            "colorscale": [
             [
              0,
              "#0d0887"
             ],
             [
              0.1111111111111111,
              "#46039f"
             ],
             [
              0.2222222222222222,
              "#7201a8"
             ],
             [
              0.3333333333333333,
              "#9c179e"
             ],
             [
              0.4444444444444444,
              "#bd3786"
             ],
             [
              0.5555555555555556,
              "#d8576b"
             ],
             [
              0.6666666666666666,
              "#ed7953"
             ],
             [
              0.7777777777777778,
              "#fb9f3a"
             ],
             [
              0.8888888888888888,
              "#fdca26"
             ],
             [
              1,
              "#f0f921"
             ]
            ],
            "type": "surface"
           }
          ],
          "table": [
           {
            "cells": {
             "fill": {
              "color": "#EBF0F8"
             },
             "line": {
              "color": "white"
             }
            },
            "header": {
             "fill": {
              "color": "#C8D4E3"
             },
             "line": {
              "color": "white"
             }
            },
            "type": "table"
           }
          ]
         },
         "layout": {
          "annotationdefaults": {
           "arrowcolor": "#2a3f5f",
           "arrowhead": 0,
           "arrowwidth": 1
          },
          "autotypenumbers": "strict",
          "coloraxis": {
           "colorbar": {
            "outlinewidth": 0,
            "ticks": ""
           }
          },
          "colorscale": {
           "diverging": [
            [
             0,
             "#8e0152"
            ],
            [
             0.1,
             "#c51b7d"
            ],
            [
             0.2,
             "#de77ae"
            ],
            [
             0.3,
             "#f1b6da"
            ],
            [
             0.4,
             "#fde0ef"
            ],
            [
             0.5,
             "#f7f7f7"
            ],
            [
             0.6,
             "#e6f5d0"
            ],
            [
             0.7,
             "#b8e186"
            ],
            [
             0.8,
             "#7fbc41"
            ],
            [
             0.9,
             "#4d9221"
            ],
            [
             1,
             "#276419"
            ]
           ],
           "sequential": [
            [
             0,
             "#0d0887"
            ],
            [
             0.1111111111111111,
             "#46039f"
            ],
            [
             0.2222222222222222,
             "#7201a8"
            ],
            [
             0.3333333333333333,
             "#9c179e"
            ],
            [
             0.4444444444444444,
             "#bd3786"
            ],
            [
             0.5555555555555556,
             "#d8576b"
            ],
            [
             0.6666666666666666,
             "#ed7953"
            ],
            [
             0.7777777777777778,
             "#fb9f3a"
            ],
            [
             0.8888888888888888,
             "#fdca26"
            ],
            [
             1,
             "#f0f921"
            ]
           ],
           "sequentialminus": [
            [
             0,
             "#0d0887"
            ],
            [
             0.1111111111111111,
             "#46039f"
            ],
            [
             0.2222222222222222,
             "#7201a8"
            ],
            [
             0.3333333333333333,
             "#9c179e"
            ],
            [
             0.4444444444444444,
             "#bd3786"
            ],
            [
             0.5555555555555556,
             "#d8576b"
            ],
            [
             0.6666666666666666,
             "#ed7953"
            ],
            [
             0.7777777777777778,
             "#fb9f3a"
            ],
            [
             0.8888888888888888,
             "#fdca26"
            ],
            [
             1,
             "#f0f921"
            ]
           ]
          },
          "colorway": [
           "#636efa",
           "#EF553B",
           "#00cc96",
           "#ab63fa",
           "#FFA15A",
           "#19d3f3",
           "#FF6692",
           "#B6E880",
           "#FF97FF",
           "#FECB52"
          ],
          "font": {
           "color": "#2a3f5f"
          },
          "geo": {
           "bgcolor": "white",
           "lakecolor": "white",
           "landcolor": "white",
           "showlakes": true,
           "showland": true,
           "subunitcolor": "#C8D4E3"
          },
          "hoverlabel": {
           "align": "left"
          },
          "hovermode": "closest",
          "mapbox": {
           "style": "light"
          },
          "paper_bgcolor": "white",
          "plot_bgcolor": "white",
          "polar": {
           "angularaxis": {
            "gridcolor": "#EBF0F8",
            "linecolor": "#EBF0F8",
            "ticks": ""
           },
           "bgcolor": "white",
           "radialaxis": {
            "gridcolor": "#EBF0F8",
            "linecolor": "#EBF0F8",
            "ticks": ""
           }
          },
          "scene": {
           "xaxis": {
            "backgroundcolor": "white",
            "gridcolor": "#DFE8F3",
            "gridwidth": 2,
            "linecolor": "#EBF0F8",
            "showbackground": true,
            "ticks": "",
            "zerolinecolor": "#EBF0F8"
           },
           "yaxis": {
            "backgroundcolor": "white",
            "gridcolor": "#DFE8F3",
            "gridwidth": 2,
            "linecolor": "#EBF0F8",
            "showbackground": true,
            "ticks": "",
            "zerolinecolor": "#EBF0F8"
           },
           "zaxis": {
            "backgroundcolor": "white",
            "gridcolor": "#DFE8F3",
            "gridwidth": 2,
            "linecolor": "#EBF0F8",
            "showbackground": true,
            "ticks": "",
            "zerolinecolor": "#EBF0F8"
           }
          },
          "shapedefaults": {
           "line": {
            "color": "#2a3f5f"
           }
          },
          "ternary": {
           "aaxis": {
            "gridcolor": "#DFE8F3",
            "linecolor": "#A2B1C6",
            "ticks": ""
           },
           "baxis": {
            "gridcolor": "#DFE8F3",
            "linecolor": "#A2B1C6",
            "ticks": ""
           },
           "bgcolor": "white",
           "caxis": {
            "gridcolor": "#DFE8F3",
            "linecolor": "#A2B1C6",
            "ticks": ""
           }
          },
          "title": {
           "x": 0.05
          },
          "xaxis": {
           "automargin": true,
           "gridcolor": "#EBF0F8",
           "linecolor": "#EBF0F8",
           "ticks": "",
           "title": {
            "standoff": 15
           },
           "zerolinecolor": "#EBF0F8",
           "zerolinewidth": 2
          },
          "yaxis": {
           "automargin": true,
           "gridcolor": "#EBF0F8",
           "linecolor": "#EBF0F8",
           "ticks": "",
           "title": {
            "standoff": 15
           },
           "zerolinecolor": "#EBF0F8",
           "zerolinewidth": 2
          }
         }
        },
        "title": {
         "text": "📈 Strategy Performance"
        },
        "xaxis": {
         "title": {
          "text": "Time"
         }
        },
        "yaxis": {
         "title": {
          "text": "Cumulative Pips"
         }
        },
        "yaxis2": {
         "overlaying": "y",
         "side": "right",
         "title": {
          "text": "Account Balance ($)"
         }
        }
       }
      }
     },
     "metadata": {},
     "output_type": "display_data"
    }
   ],
   "source": [
    "pairs = [\"EUR_USD\"]\n",
    "granularities = ['M5']\n",
    "\n",
    "for pair in pairs:\n",
    "    for g in granularities:\n",
    "        print(f\"{pair} {g}\")\n",
    "        df = pd.read_pickle(f\"../backtesting/results/{pair}_{g}_analyzed.pkl\")\n",
    "        summarize_trades(df)"
   ]
  },
  {
   "cell_type": "code",
   "execution_count": 95,
   "metadata": {},
   "outputs": [
    {
     "name": "stdout",
     "output_type": "stream",
     "text": [
      "EUR_USD M5\n",
      "📈 Total Trades: 332\n",
      "💰 Total Pips: 150.9\n",
      "✅ Win Rate: 65.66%\n",
      "💵 Total $ Gain: $64922.12\n",
      "📊 Percent Gain: 649.22%\n"
     ]
    },
    {
     "data": {
      "application/vnd.plotly.v1+json": {
       "config": {
        "plotlyServerURL": "https://plot.ly"
       },
       "data": [
        {
         "line": {
          "width": 2
         },
         "marker": {
          "size": 4
         },
         "mode": "lines+markers",
         "name": "Cumulative Pips",
         "type": "scatter",
         "x": [
          "2020-01-07T21:55:00+00:00",
          "2020-01-20T15:45:00+00:00",
          "2020-01-27T15:20:00+00:00",
          "2020-01-29T15:10:00+00:00",
          "2020-02-06T07:30:00+00:00",
          "2020-02-07T14:45:00+00:00",
          "2020-02-11T01:10:00+00:00",
          "2020-02-11T10:55:00+00:00",
          "2020-02-13T04:50:00+00:00",
          "2020-02-20T14:05:00+00:00",
          "2020-02-24T09:00:00+00:00",
          "2020-02-25T15:25:00+00:00",
          "2020-03-03T12:35:00+00:00",
          "2020-03-04T08:10:00+00:00",
          "2020-03-10T07:55:00+00:00",
          "2020-03-24T19:55:00+00:00",
          "2020-03-31T08:45:00+00:00",
          "2020-04-06T15:20:00+00:00",
          "2020-04-21T05:50:00+00:00",
          "2020-04-23T13:35:00+00:00",
          "2020-04-24T05:50:00+00:00",
          "2020-04-24T06:50:00+00:00",
          "2020-04-24T10:35:00+00:00",
          "2020-04-28T22:25:00+00:00",
          "2020-05-04T08:05:00+00:00",
          "2020-05-06T06:05:00+00:00",
          "2020-05-07T15:55:00+00:00",
          "2020-05-11T20:55:00+00:00",
          "2020-05-14T07:00:00+00:00",
          "2020-05-21T05:25:00+00:00",
          "2020-05-22T10:50:00+00:00",
          "2020-05-27T06:10:00+00:00",
          "2020-05-27T09:00:00+00:00",
          "2020-06-02T09:10:00+00:00",
          "2020-06-04T06:15:00+00:00",
          "2020-06-04T11:45:00+00:00",
          "2020-06-09T05:35:00+00:00",
          "2020-06-09T12:10:00+00:00",
          "2020-06-12T00:00:00+00:00",
          "2020-06-25T02:10:00+00:00",
          "2020-07-10T05:35:00+00:00",
          "2020-07-14T07:20:00+00:00",
          "2020-07-28T12:20:00+00:00",
          "2020-08-07T12:25:00+00:00",
          "2020-08-12T01:45:00+00:00",
          "2020-08-12T07:35:00+00:00",
          "2020-08-20T07:20:00+00:00",
          "2020-08-27T13:20:00+00:00",
          "2020-09-02T11:20:00+00:00",
          "2020-09-02T13:15:00+00:00",
          "2020-09-04T12:30:00+00:00",
          "2020-09-07T10:10:00+00:00",
          "2020-09-08T05:55:00+00:00",
          "2020-09-23T06:15:00+00:00",
          "2020-09-30T13:35:00+00:00",
          "2020-10-07T05:40:00+00:00",
          "2020-10-08T05:20:00+00:00",
          "2020-10-13T08:30:00+00:00",
          "2020-10-22T07:20:00+00:00",
          "2020-10-23T00:00:00+00:00",
          "2020-10-26T08:00:00+00:00",
          "2020-10-26T13:10:00+00:00",
          "2020-10-27T00:35:00+00:00",
          "2020-10-28T01:20:00+00:00",
          "2020-11-02T07:55:00+00:00",
          "2020-12-08T02:45:00+00:00",
          "2020-12-13T22:00:00+00:00",
          "2020-12-24T14:20:00+00:00",
          "2021-01-03T22:00:00+00:00",
          "2021-01-11T06:50:00+00:00",
          "2021-01-12T09:25:00+00:00",
          "2021-01-17T23:20:00+00:00",
          "2021-02-01T08:00:00+00:00",
          "2021-02-02T13:20:00+00:00",
          "2021-02-08T13:45:00+00:00",
          "2021-02-11T03:00:00+00:00",
          "2021-02-12T07:50:00+00:00",
          "2021-02-26T07:30:00+00:00",
          "2021-03-01T14:05:00+00:00",
          "2021-03-03T15:55:00+00:00",
          "2021-03-08T12:00:00+00:00",
          "2021-03-15T07:25:00+00:00",
          "2021-03-18T12:20:00+00:00",
          "2021-03-18T16:10:00+00:00",
          "2021-03-23T07:35:00+00:00",
          "2021-03-24T01:50:00+00:00",
          "2021-03-24T19:55:00+00:00",
          "2021-03-25T00:50:00+00:00",
          "2021-03-29T13:30:00+00:00",
          "2021-03-30T08:50:00+00:00",
          "2021-03-31T05:20:00+00:00",
          "2021-04-09T08:45:00+00:00",
          "2021-04-12T07:00:00+00:00",
          "2021-04-13T12:40:00+00:00",
          "2021-04-21T14:45:00+00:00",
          "2021-04-28T18:40:00+00:00",
          "2021-05-04T11:40:00+00:00",
          "2021-05-10T08:45:00+00:00",
          "2021-05-10T23:30:00+00:00",
          "2021-05-27T00:50:00+00:00",
          "2021-05-28T03:45:00+00:00",
          "2021-05-28T07:35:00+00:00",
          "2021-06-08T05:50:00+00:00",
          "2021-06-08T07:15:00+00:00",
          "2021-06-10T06:00:00+00:00",
          "2021-06-10T11:15:00+00:00",
          "2021-06-17T01:25:00+00:00",
          "2021-06-17T13:35:00+00:00",
          "2021-06-17T17:30:00+00:00",
          "2021-06-22T16:20:00+00:00",
          "2021-07-01T10:55:00+00:00",
          "2021-07-14T00:15:00+00:00",
          "2021-07-20T12:15:00+00:00",
          "2021-07-21T08:30:00+00:00",
          "2021-07-22T19:05:00+00:00",
          "2021-07-27T10:45:00+00:00",
          "2021-07-28T16:10:00+00:00",
          "2021-08-05T00:40:00+00:00",
          "2021-08-06T04:50:00+00:00",
          "2021-08-10T06:25:00+00:00",
          "2021-08-17T06:05:00+00:00",
          "2021-08-17T12:30:00+00:00",
          "2021-08-17T20:40:00+00:00",
          "2021-08-30T14:45:00+00:00",
          "2021-09-08T13:25:00+00:00",
          "2021-09-12T22:25:00+00:00",
          "2021-09-21T19:30:00+00:00",
          "2021-09-24T06:25:00+00:00",
          "2021-10-05T07:15:00+00:00",
          "2021-10-26T07:00:00+00:00",
          "2021-11-02T18:50:00+00:00",
          "2021-11-10T11:15:00+00:00",
          "2021-11-16T00:00:00+00:00",
          "2021-11-16T19:45:00+00:00",
          "2021-11-17T00:05:00+00:00",
          "2021-11-22T07:05:00+00:00",
          "2021-11-25T03:20:00+00:00",
          "2021-12-03T10:25:00+00:00",
          "2021-12-09T14:45:00+00:00",
          "2021-12-20T02:55:00+00:00",
          "2021-12-22T10:20:00+00:00",
          "2021-12-27T09:05:00+00:00",
          "2021-12-31T09:05:00+00:00",
          "2022-01-03T04:50:00+00:00",
          "2022-01-03T11:20:00+00:00",
          "2022-01-10T07:05:00+00:00",
          "2022-01-10T16:15:00+00:00",
          "2022-01-20T15:15:00+00:00",
          "2022-01-24T15:35:00+00:00",
          "2022-02-14T12:40:00+00:00",
          "2022-02-21T01:35:00+00:00",
          "2022-02-22T08:25:00+00:00",
          "2022-02-23T19:05:00+00:00",
          "2022-03-01T19:30:00+00:00",
          "2022-03-04T21:45:00+00:00",
          "2022-03-21T08:15:00+00:00",
          "2022-03-24T13:55:00+00:00",
          "2022-03-31T12:30:00+00:00",
          "2022-04-12T04:20:00+00:00",
          "2022-04-12T16:30:00+00:00",
          "2022-04-13T14:50:00+00:00",
          "2022-04-20T09:35:00+00:00",
          "2022-04-21T05:25:00+00:00",
          "2022-04-26T00:25:00+00:00",
          "2022-04-27T11:35:00+00:00",
          "2022-05-03T00:40:00+00:00",
          "2022-05-04T12:25:00+00:00",
          "2022-05-05T11:10:00+00:00",
          "2022-05-12T08:05:00+00:00",
          "2022-06-01T07:05:00+00:00",
          "2022-06-03T16:35:00+00:00",
          "2022-06-10T00:35:00+00:00",
          "2022-06-13T13:40:00+00:00",
          "2022-06-14T00:25:00+00:00",
          "2022-06-15T19:20:00+00:00",
          "2022-06-17T08:45:00+00:00",
          "2022-06-22T00:15:00+00:00",
          "2022-06-23T13:50:00+00:00",
          "2022-06-30T02:25:00+00:00",
          "2022-06-30T13:20:00+00:00",
          "2022-07-01T09:00:00+00:00",
          "2022-07-06T15:50:00+00:00",
          "2022-07-12T06:30:00+00:00",
          "2022-07-13T12:05:00+00:00",
          "2022-07-14T09:55:00+00:00",
          "2022-07-25T02:40:00+00:00",
          "2022-07-27T18:00:00+00:00",
          "2022-07-28T12:55:00+00:00",
          "2022-08-05T12:30:00+00:00",
          "2022-08-19T18:55:00+00:00",
          "2022-08-21T23:25:00+00:00",
          "2022-09-01T07:20:00+00:00",
          "2022-09-05T02:20:00+00:00",
          "2022-09-07T04:35:00+00:00",
          "2022-09-15T01:40:00+00:00",
          "2022-09-21T14:30:00+00:00",
          "2022-09-22T07:30:00+00:00",
          "2022-09-23T06:05:00+00:00",
          "2022-10-07T01:25:00+00:00",
          "2022-10-10T12:25:00+00:00",
          "2022-10-11T06:20:00+00:00",
          "2022-10-14T12:55:00+00:00",
          "2022-10-19T13:30:00+00:00",
          "2022-10-21T08:40:00+00:00",
          "2022-10-21T12:10:00+00:00",
          "2022-10-25T13:15:00+00:00",
          "2022-10-27T09:05:00+00:00",
          "2022-11-10T13:45:00+00:00",
          "2022-11-14T06:50:00+00:00",
          "2022-11-29T01:40:00+00:00",
          "2022-11-30T00:35:00+00:00",
          "2022-12-12T02:40:00+00:00",
          "2022-12-18T23:45:00+00:00",
          "2023-01-03T13:20:00+00:00",
          "2023-01-05T18:20:00+00:00",
          "2023-01-06T13:30:00+00:00",
          "2023-01-18T01:55:00+00:00",
          "2023-01-26T18:35:00+00:00",
          "2023-02-06T00:35:00+00:00",
          "2023-02-06T14:00:00+00:00",
          "2023-02-10T05:45:00+00:00",
          "2023-02-10T15:45:00+00:00",
          "2023-02-15T09:35:00+00:00",
          "2023-02-17T09:10:00+00:00",
          "2023-02-28T08:00:00+00:00",
          "2023-03-08T02:15:00+00:00",
          "2023-03-14T10:55:00+00:00",
          "2023-03-31T14:50:00+00:00",
          "2023-04-21T08:00:00+00:00",
          "2023-05-02T16:00:00+00:00",
          "2023-05-11T11:20:00+00:00",
          "2023-05-18T12:30:00+00:00",
          "2023-05-23T12:15:00+00:00",
          "2023-05-25T14:40:00+00:00",
          "2023-05-30T01:10:00+00:00",
          "2023-05-31T11:00:00+00:00",
          "2023-06-06T14:50:00+00:00",
          "2023-06-28T14:10:00+00:00",
          "2023-06-29T07:00:00+00:00",
          "2023-07-04T06:35:00+00:00",
          "2023-07-18T18:45:00+00:00",
          "2023-07-19T14:05:00+00:00",
          "2023-07-23T21:40:00+00:00",
          "2023-07-25T00:35:00+00:00",
          "2023-07-31T05:55:00+00:00",
          "2023-08-04T13:05:00+00:00",
          "2023-08-10T04:05:00+00:00",
          "2023-08-23T12:35:00+00:00",
          "2023-08-24T11:55:00+00:00",
          "2023-08-25T07:50:00+00:00",
          "2023-08-31T13:05:00+00:00",
          "2023-09-01T06:20:00+00:00",
          "2023-09-05T06:05:00+00:00",
          "2023-09-08T00:35:00+00:00",
          "2023-09-11T02:25:00+00:00",
          "2023-09-12T09:45:00+00:00",
          "2023-09-13T11:50:00+00:00",
          "2023-09-19T07:15:00+00:00",
          "2023-09-27T07:25:00+00:00",
          "2023-09-27T17:10:00+00:00",
          "2023-10-01T22:00:00+00:00",
          "2023-10-03T06:15:00+00:00",
          "2023-10-15T21:15:00+00:00",
          "2023-10-19T11:15:00+00:00",
          "2023-10-27T12:50:00+00:00",
          "2023-10-31T05:20:00+00:00",
          "2023-11-01T06:00:00+00:00",
          "2023-11-08T15:25:00+00:00",
          "2023-11-10T10:55:00+00:00",
          "2023-11-30T12:35:00+00:00",
          "2023-12-08T08:45:00+00:00",
          "2023-12-11T18:20:00+00:00",
          "2023-12-13T10:15:00+00:00",
          "2024-01-03T01:30:00+00:00",
          "2024-01-03T19:05:00+00:00",
          "2024-01-09T15:40:00+00:00",
          "2024-01-23T01:55:00+00:00",
          "2024-03-11T18:50:00+00:00",
          "2024-03-14T17:30:00+00:00",
          "2024-03-22T16:20:00+00:00",
          "2024-04-01T10:05:00+00:00",
          "2024-04-10T17:25:00+00:00",
          "2024-04-11T11:55:00+00:00",
          "2024-04-11T14:25:00+00:00",
          "2024-04-11T15:55:00+00:00",
          "2024-04-19T07:05:00+00:00",
          "2024-04-24T12:10:00+00:00",
          "2024-04-30T05:00:00+00:00",
          "2024-04-30T09:00:00+00:00",
          "2024-05-17T05:35:00+00:00",
          "2024-05-17T13:05:00+00:00",
          "2024-05-21T01:55:00+00:00",
          "2024-05-29T07:15:00+00:00",
          "2024-06-07T19:25:00+00:00",
          "2024-06-11T13:20:00+00:00",
          "2024-06-14T02:10:00+00:00",
          "2024-06-18T06:20:00+00:00",
          "2024-06-18T13:45:00+00:00",
          "2024-06-20T23:20:00+00:00",
          "2024-07-09T17:10:00+00:00",
          "2024-07-19T11:10:00+00:00",
          "2024-08-22T07:10:00+00:00",
          "2024-08-28T20:40:00+00:00",
          "2024-09-02T06:00:00+00:00",
          "2024-09-06T15:00:00+00:00",
          "2024-09-09T14:10:00+00:00",
          "2024-09-11T00:05:00+00:00",
          "2024-09-11T01:30:00+00:00",
          "2024-09-24T07:15:00+00:00",
          "2024-10-03T03:35:00+00:00",
          "2024-10-15T08:45:00+00:00",
          "2024-10-21T20:05:00+00:00",
          "2024-10-23T07:00:00+00:00",
          "2024-10-28T02:55:00+00:00",
          "2024-11-04T11:35:00+00:00",
          "2024-11-05T02:15:00+00:00",
          "2024-11-08T13:25:00+00:00",
          "2024-11-13T09:35:00+00:00",
          "2024-11-14T08:55:00+00:00",
          "2024-11-22T03:25:00+00:00",
          "2024-11-22T07:20:00+00:00",
          "2024-11-22T17:40:00+00:00",
          "2024-11-29T15:40:00+00:00",
          "2024-12-01T23:25:00+00:00",
          "2024-12-06T07:50:00+00:00",
          "2024-12-10T01:35:00+00:00",
          "2024-12-10T18:50:00+00:00",
          "2024-12-11T12:00:00+00:00",
          "2024-12-13T00:50:00+00:00",
          "2024-12-13T06:40:00+00:00",
          "2024-12-18T14:50:00+00:00",
          "2024-12-24T12:55:00+00:00"
         ],
         "y": [
          5.999999999999339,
          1.40000000000029,
          -13.199999999999878,
          -8.599999999998609,
          -5.799999999998029,
          2.6000000000037105,
          4.100000000002435,
          8.700000000003705,
          0.7000000000045858,
          14.100000000003554,
          24.75000000000449,
          31.55000000000463,
          40.10000000000513,
          48.200000000004906,
          65.95000000000351,
          72.85000000000431,
          58.650000000004546,
          72.75000000000367,
          77.00000000000264,
          90.10000000000409,
          76.90000000000421,
          67.3000000000035,
          85.15000000000497,
          87.55000000000514,
          76.0500000000053,
          68.3500000000037,
          82.40000000000249,
          69.10000000000196,
          59.200000000001495,
          53.70000000000099,
          59.200000000001495,
          62.450000000000585,
          39.55000000000155,
          61.15000000000095,
          51.95000000000063,
          58.50000000000135,
          60.8500000000012,
          77.54999999999959,
          68.55000000000058,
          57.84999999999931,
          52.44999999999946,
          40.94999999999962,
          48.50000000000023,
          53.29999999999836,
          38.799999999998846,
          49.39999999999945,
          59.64999999999777,
          95.29999999999816,
          78.29999999999782,
          48.59999999999643,
          18.099999999996456,
          6.299999999996867,
          11.299999999998537,
          0.09999999999843823,
          -18.000000000000234,
          -13.800000000001585,
          -8.90000000000057,
          -3.100000000000321,
          2.499999999998618,
          -16.3000000000002,
          -29.400000000001643,
          -24.30000000000154,
          -21.000000000002125,
          -15.70000000000293,
          -24.800000000002594,
          -22.10000000000267,
          -16.70000000000282,
          -27.90000000000292,
          -19.150000000001107,
          -11.650000000000823,
          2.9499999999993456,
          6.500000000000398,
          -7.49999999999806,
          -1.2499999999970832,
          4.8000000000025835,
          7.500000000002508,
          -0.49999999999883116,
          -42.49999999999865,
          -30.249999999998334,
          -21.249999999997105,
          -35.84999999999727,
          -44.24999999999679,
          -57.64999999999797,
          -49.34999999999689,
          -58.64999999999786,
          -53.749999999996845,
          -73.94999999999595,
          -71.54999999999578,
          -61.99999999999538,
          -57.59999999999542,
          -55.849999999995056,
          -70.24999999999613,
          -77.44999999999668,
          -61.29999999999524,
          -53.69999999999652,
          -30.5999999999984,
          -23.99999999999735,
          -12.799999999997251,
          -8.599999999998602,
          -22.39999999999797,
          -20.149999999998773,
          -14.749999999998924,
          -18.049999999998338,
          -23.149999999998442,
          -26.949999999998912,
          -18.949999999999793,
          -13.950000000000344,
          -5.64999999999926,
          1.6500000000019348,
          14.30000000000043,
          22.999999999999694,
          14.199999999999775,
          -2.000000000001993,
          3.6999999999998217,
          9.69999999999916,
          16.149999999999228,
          26.599999999998854,
          21.400000000000315,
          23.200000000001005,
          26.250000000001002,
          19.950000000001918,
          3.4500000000004043,
          -6.149999999998094,
          -1.5499999999968246,
          -16.049999999996338,
          -19.649999999997718,
          -13.949999999998123,
          -19.749999999998373,
          -15.79999999999692,
          -23.299999999997205,
          -19.99999999999779,
          -43.89999999999893,
          -38.59999999999752,
          -49.09999999999748,
          -45.599999999996754,
          -58.19999999999715,
          -48.099999999995376,
          -40.59999999999509,
          -50.29999999999424,
          -45.34999999999512,
          -37.549999999995094,
          -60.34999999999347,
          -54.74999999999453,
          -62.14999999999416,
          -51.74999999999264,
          -49.19999999999369,
          -35.09999999999458,
          -48.69999999999486,
          -39.09999999999414,
          -26.29999999999244,
          -16.699999999993942,
          -5.0499999999931156,
          -2.349999999993191,
          10.100000000006215,
          27.300000000005653,
          36.80000000000572,
          11.40000000000585,
          19.80000000000537,
          24.300000000005983,
          12.500000000006395,
          23.700000000006494,
          57.00000000000705,
          65.2500000000078,
          72.65000000000742,
          35.45000000000797,
          45.15000000000934,
          55.35000000000955,
          39.15000000001,
          -47.249999999989804,
          -37.849999999990395,
          -29.699999999990293,
          -27.099999999991024,
          -50.2999999999898,
          -43.64999999999064,
          -11.399999999990307,
          -1.0499999999913356,
          -17.649999999991284,
          -1.599999999990498,
          5.400000000008731,
          16.40000000000752,
          26.250000000007656,
          -5.14999999999155,
          5.100000000008986,
          31.000000000007688,
          44.850000000007384,
          54.30000000000712,
          70.90000000000707,
          89.05000000000607,
          71.25000000000713,
          62.25000000000813,
          54.95000000000694,
          62.95000000000606,
          43.95000000000593,
          49.20000000000591,
          52.6500000000063,
          40.350000000006766,
          54.05000000000659,
          60.60000000000731,
          64.55000000000766,
          72.40000000000802,
          79.80000000000766,
          102.3000000000074,
          114.20000000000765,
          78.00000000000696,
          51.70000000000675,
          71.05000000000695,
          48.45000000000544,
          123.15000000000632,
          131.050000000007,
          139.40000000000842,
          146.30000000000922,
          150.7500000000095,
          141.7500000000105,
          154.60000000001028,
          162.00000000000992,
          170.20000000000812,
          173.50000000000753,
          183.65000000000742,
          173.55000000000786,
          150.7500000000095,
          153.10000000000935,
          128.10000000000989,
          137.80000000001127,
          144.30000000001166,
          149.50000000001242,
          141.300000000012,
          155.00000000001293,
          127.60000000001328,
          135.25000000001234,
          154.15000000001402,
          158.7500000000153,
          146.9500000000157,
          151.05000000001593,
          159.5500000000161,
          164.35000000001645,
          171.2000000000147,
          177.25000000001438,
          158.85000000001597,
          165.55000000001544,
          170.5000000000168,
          177.35000000001727,
          164.45000000001937,
          172.0500000000181,
          174.75000000001802,
          177.00000000001944,
          199.25000000001864,
          204.8500000000176,
          198.65000000001695,
          189.45000000001662,
          178.05000000001743,
          156.25000000001896,
          140.95000000001863,
          135.75000000001788,
          144.5500000000178,
          153.5500000000168,
          157.95000000001676,
          161.60000000001847,
          154.70000000001767,
          160.45000000001758,
          151.05000000001596,
          153.35000000001548,
          156.2500000000167,
          163.40000000001692,
          175.40000000001783,
          183.75000000001702,
          186.25000000001785,
          188.2000000000173,
          199.2000000000183,
          209.6000000000176,
          215.40000000001783,
          221.00000000001899,
          225.65000000001837,
          216.05000000001763,
          220.9000000000183,
          207.30000000001803,
          190.40000000001834,
          194.600000000017,
          197.95000000001673,
          189.45000000001656,
          172.45000000001622,
          165.05000000001436,
          171.80000000001417,
          164.80000000001272,
          124.20000000001097,
          131.25000000001052,
          144.35000000001196,
          135.8500000000118,
          137.15000000001143,
          147.80000000001237,
          149.80000000001215,
          153.80000000001172,
          149.50000000001242,
          153.70000000001107,
          148.00000000001148,
          135.90000000001214,
          138.70000000001272,
          142.40000000001254,
          153.0000000000109,
          154.8000000000094,
          157.15000000000924,
          160.70000000000806,
          165.00000000000736,
          169.70000000000707,
          174.60000000000585,
          193.75000000000696,
          180.5500000000071,
          176.75000000000662,
          180.6000000000052,
          187.00000000000495,
          172.50000000000543,
          182.00000000000549,
          183.70000000000553,
          171.30000000000646,
          159.10000000000647,
          184.0000000000075,
          186.2000000000086,
          155.80000000000928,
          167.20000000000846,
          151.00000000000668,
          154.9000000000078,
          159.2000000000071,
          167.10000000000778,
          173.25000000000588,
          137.55000000000737,
          141.900000000007,
          136.6000000000078,
          145.80000000000814,
          152.2500000000082,
          156.70000000000852,
          158.80000000000894,
          165.250000000009,
          150.85000000001014
         ]
        },
        {
         "line": {
          "width": 2
         },
         "marker": {
          "size": 4
         },
         "mode": "lines+markers",
         "name": "Account Balance ($)",
         "type": "scatter",
         "x": [
          "2020-01-07T21:55:00+00:00",
          "2020-01-20T15:45:00+00:00",
          "2020-01-27T15:20:00+00:00",
          "2020-01-29T15:10:00+00:00",
          "2020-02-06T07:30:00+00:00",
          "2020-02-07T14:45:00+00:00",
          "2020-02-11T01:10:00+00:00",
          "2020-02-11T10:55:00+00:00",
          "2020-02-13T04:50:00+00:00",
          "2020-02-20T14:05:00+00:00",
          "2020-02-24T09:00:00+00:00",
          "2020-02-25T15:25:00+00:00",
          "2020-03-03T12:35:00+00:00",
          "2020-03-04T08:10:00+00:00",
          "2020-03-10T07:55:00+00:00",
          "2020-03-24T19:55:00+00:00",
          "2020-03-31T08:45:00+00:00",
          "2020-04-06T15:20:00+00:00",
          "2020-04-21T05:50:00+00:00",
          "2020-04-23T13:35:00+00:00",
          "2020-04-24T05:50:00+00:00",
          "2020-04-24T06:50:00+00:00",
          "2020-04-24T10:35:00+00:00",
          "2020-04-28T22:25:00+00:00",
          "2020-05-04T08:05:00+00:00",
          "2020-05-06T06:05:00+00:00",
          "2020-05-07T15:55:00+00:00",
          "2020-05-11T20:55:00+00:00",
          "2020-05-14T07:00:00+00:00",
          "2020-05-21T05:25:00+00:00",
          "2020-05-22T10:50:00+00:00",
          "2020-05-27T06:10:00+00:00",
          "2020-05-27T09:00:00+00:00",
          "2020-06-02T09:10:00+00:00",
          "2020-06-04T06:15:00+00:00",
          "2020-06-04T11:45:00+00:00",
          "2020-06-09T05:35:00+00:00",
          "2020-06-09T12:10:00+00:00",
          "2020-06-12T00:00:00+00:00",
          "2020-06-25T02:10:00+00:00",
          "2020-07-10T05:35:00+00:00",
          "2020-07-14T07:20:00+00:00",
          "2020-07-28T12:20:00+00:00",
          "2020-08-07T12:25:00+00:00",
          "2020-08-12T01:45:00+00:00",
          "2020-08-12T07:35:00+00:00",
          "2020-08-20T07:20:00+00:00",
          "2020-08-27T13:20:00+00:00",
          "2020-09-02T11:20:00+00:00",
          "2020-09-02T13:15:00+00:00",
          "2020-09-04T12:30:00+00:00",
          "2020-09-07T10:10:00+00:00",
          "2020-09-08T05:55:00+00:00",
          "2020-09-23T06:15:00+00:00",
          "2020-09-30T13:35:00+00:00",
          "2020-10-07T05:40:00+00:00",
          "2020-10-08T05:20:00+00:00",
          "2020-10-13T08:30:00+00:00",
          "2020-10-22T07:20:00+00:00",
          "2020-10-23T00:00:00+00:00",
          "2020-10-26T08:00:00+00:00",
          "2020-10-26T13:10:00+00:00",
          "2020-10-27T00:35:00+00:00",
          "2020-10-28T01:20:00+00:00",
          "2020-11-02T07:55:00+00:00",
          "2020-12-08T02:45:00+00:00",
          "2020-12-13T22:00:00+00:00",
          "2020-12-24T14:20:00+00:00",
          "2021-01-03T22:00:00+00:00",
          "2021-01-11T06:50:00+00:00",
          "2021-01-12T09:25:00+00:00",
          "2021-01-17T23:20:00+00:00",
          "2021-02-01T08:00:00+00:00",
          "2021-02-02T13:20:00+00:00",
          "2021-02-08T13:45:00+00:00",
          "2021-02-11T03:00:00+00:00",
          "2021-02-12T07:50:00+00:00",
          "2021-02-26T07:30:00+00:00",
          "2021-03-01T14:05:00+00:00",
          "2021-03-03T15:55:00+00:00",
          "2021-03-08T12:00:00+00:00",
          "2021-03-15T07:25:00+00:00",
          "2021-03-18T12:20:00+00:00",
          "2021-03-18T16:10:00+00:00",
          "2021-03-23T07:35:00+00:00",
          "2021-03-24T01:50:00+00:00",
          "2021-03-24T19:55:00+00:00",
          "2021-03-25T00:50:00+00:00",
          "2021-03-29T13:30:00+00:00",
          "2021-03-30T08:50:00+00:00",
          "2021-03-31T05:20:00+00:00",
          "2021-04-09T08:45:00+00:00",
          "2021-04-12T07:00:00+00:00",
          "2021-04-13T12:40:00+00:00",
          "2021-04-21T14:45:00+00:00",
          "2021-04-28T18:40:00+00:00",
          "2021-05-04T11:40:00+00:00",
          "2021-05-10T08:45:00+00:00",
          "2021-05-10T23:30:00+00:00",
          "2021-05-27T00:50:00+00:00",
          "2021-05-28T03:45:00+00:00",
          "2021-05-28T07:35:00+00:00",
          "2021-06-08T05:50:00+00:00",
          "2021-06-08T07:15:00+00:00",
          "2021-06-10T06:00:00+00:00",
          "2021-06-10T11:15:00+00:00",
          "2021-06-17T01:25:00+00:00",
          "2021-06-17T13:35:00+00:00",
          "2021-06-17T17:30:00+00:00",
          "2021-06-22T16:20:00+00:00",
          "2021-07-01T10:55:00+00:00",
          "2021-07-14T00:15:00+00:00",
          "2021-07-20T12:15:00+00:00",
          "2021-07-21T08:30:00+00:00",
          "2021-07-22T19:05:00+00:00",
          "2021-07-27T10:45:00+00:00",
          "2021-07-28T16:10:00+00:00",
          "2021-08-05T00:40:00+00:00",
          "2021-08-06T04:50:00+00:00",
          "2021-08-10T06:25:00+00:00",
          "2021-08-17T06:05:00+00:00",
          "2021-08-17T12:30:00+00:00",
          "2021-08-17T20:40:00+00:00",
          "2021-08-30T14:45:00+00:00",
          "2021-09-08T13:25:00+00:00",
          "2021-09-12T22:25:00+00:00",
          "2021-09-21T19:30:00+00:00",
          "2021-09-24T06:25:00+00:00",
          "2021-10-05T07:15:00+00:00",
          "2021-10-26T07:00:00+00:00",
          "2021-11-02T18:50:00+00:00",
          "2021-11-10T11:15:00+00:00",
          "2021-11-16T00:00:00+00:00",
          "2021-11-16T19:45:00+00:00",
          "2021-11-17T00:05:00+00:00",
          "2021-11-22T07:05:00+00:00",
          "2021-11-25T03:20:00+00:00",
          "2021-12-03T10:25:00+00:00",
          "2021-12-09T14:45:00+00:00",
          "2021-12-20T02:55:00+00:00",
          "2021-12-22T10:20:00+00:00",
          "2021-12-27T09:05:00+00:00",
          "2021-12-31T09:05:00+00:00",
          "2022-01-03T04:50:00+00:00",
          "2022-01-03T11:20:00+00:00",
          "2022-01-10T07:05:00+00:00",
          "2022-01-10T16:15:00+00:00",
          "2022-01-20T15:15:00+00:00",
          "2022-01-24T15:35:00+00:00",
          "2022-02-14T12:40:00+00:00",
          "2022-02-21T01:35:00+00:00",
          "2022-02-22T08:25:00+00:00",
          "2022-02-23T19:05:00+00:00",
          "2022-03-01T19:30:00+00:00",
          "2022-03-04T21:45:00+00:00",
          "2022-03-21T08:15:00+00:00",
          "2022-03-24T13:55:00+00:00",
          "2022-03-31T12:30:00+00:00",
          "2022-04-12T04:20:00+00:00",
          "2022-04-12T16:30:00+00:00",
          "2022-04-13T14:50:00+00:00",
          "2022-04-20T09:35:00+00:00",
          "2022-04-21T05:25:00+00:00",
          "2022-04-26T00:25:00+00:00",
          "2022-04-27T11:35:00+00:00",
          "2022-05-03T00:40:00+00:00",
          "2022-05-04T12:25:00+00:00",
          "2022-05-05T11:10:00+00:00",
          "2022-05-12T08:05:00+00:00",
          "2022-06-01T07:05:00+00:00",
          "2022-06-03T16:35:00+00:00",
          "2022-06-10T00:35:00+00:00",
          "2022-06-13T13:40:00+00:00",
          "2022-06-14T00:25:00+00:00",
          "2022-06-15T19:20:00+00:00",
          "2022-06-17T08:45:00+00:00",
          "2022-06-22T00:15:00+00:00",
          "2022-06-23T13:50:00+00:00",
          "2022-06-30T02:25:00+00:00",
          "2022-06-30T13:20:00+00:00",
          "2022-07-01T09:00:00+00:00",
          "2022-07-06T15:50:00+00:00",
          "2022-07-12T06:30:00+00:00",
          "2022-07-13T12:05:00+00:00",
          "2022-07-14T09:55:00+00:00",
          "2022-07-25T02:40:00+00:00",
          "2022-07-27T18:00:00+00:00",
          "2022-07-28T12:55:00+00:00",
          "2022-08-05T12:30:00+00:00",
          "2022-08-19T18:55:00+00:00",
          "2022-08-21T23:25:00+00:00",
          "2022-09-01T07:20:00+00:00",
          "2022-09-05T02:20:00+00:00",
          "2022-09-07T04:35:00+00:00",
          "2022-09-15T01:40:00+00:00",
          "2022-09-21T14:30:00+00:00",
          "2022-09-22T07:30:00+00:00",
          "2022-09-23T06:05:00+00:00",
          "2022-10-07T01:25:00+00:00",
          "2022-10-10T12:25:00+00:00",
          "2022-10-11T06:20:00+00:00",
          "2022-10-14T12:55:00+00:00",
          "2022-10-19T13:30:00+00:00",
          "2022-10-21T08:40:00+00:00",
          "2022-10-21T12:10:00+00:00",
          "2022-10-25T13:15:00+00:00",
          "2022-10-27T09:05:00+00:00",
          "2022-11-10T13:45:00+00:00",
          "2022-11-14T06:50:00+00:00",
          "2022-11-29T01:40:00+00:00",
          "2022-11-30T00:35:00+00:00",
          "2022-12-12T02:40:00+00:00",
          "2022-12-18T23:45:00+00:00",
          "2023-01-03T13:20:00+00:00",
          "2023-01-05T18:20:00+00:00",
          "2023-01-06T13:30:00+00:00",
          "2023-01-18T01:55:00+00:00",
          "2023-01-26T18:35:00+00:00",
          "2023-02-06T00:35:00+00:00",
          "2023-02-06T14:00:00+00:00",
          "2023-02-10T05:45:00+00:00",
          "2023-02-10T15:45:00+00:00",
          "2023-02-15T09:35:00+00:00",
          "2023-02-17T09:10:00+00:00",
          "2023-02-28T08:00:00+00:00",
          "2023-03-08T02:15:00+00:00",
          "2023-03-14T10:55:00+00:00",
          "2023-03-31T14:50:00+00:00",
          "2023-04-21T08:00:00+00:00",
          "2023-05-02T16:00:00+00:00",
          "2023-05-11T11:20:00+00:00",
          "2023-05-18T12:30:00+00:00",
          "2023-05-23T12:15:00+00:00",
          "2023-05-25T14:40:00+00:00",
          "2023-05-30T01:10:00+00:00",
          "2023-05-31T11:00:00+00:00",
          "2023-06-06T14:50:00+00:00",
          "2023-06-28T14:10:00+00:00",
          "2023-06-29T07:00:00+00:00",
          "2023-07-04T06:35:00+00:00",
          "2023-07-18T18:45:00+00:00",
          "2023-07-19T14:05:00+00:00",
          "2023-07-23T21:40:00+00:00",
          "2023-07-25T00:35:00+00:00",
          "2023-07-31T05:55:00+00:00",
          "2023-08-04T13:05:00+00:00",
          "2023-08-10T04:05:00+00:00",
          "2023-08-23T12:35:00+00:00",
          "2023-08-24T11:55:00+00:00",
          "2023-08-25T07:50:00+00:00",
          "2023-08-31T13:05:00+00:00",
          "2023-09-01T06:20:00+00:00",
          "2023-09-05T06:05:00+00:00",
          "2023-09-08T00:35:00+00:00",
          "2023-09-11T02:25:00+00:00",
          "2023-09-12T09:45:00+00:00",
          "2023-09-13T11:50:00+00:00",
          "2023-09-19T07:15:00+00:00",
          "2023-09-27T07:25:00+00:00",
          "2023-09-27T17:10:00+00:00",
          "2023-10-01T22:00:00+00:00",
          "2023-10-03T06:15:00+00:00",
          "2023-10-15T21:15:00+00:00",
          "2023-10-19T11:15:00+00:00",
          "2023-10-27T12:50:00+00:00",
          "2023-10-31T05:20:00+00:00",
          "2023-11-01T06:00:00+00:00",
          "2023-11-08T15:25:00+00:00",
          "2023-11-10T10:55:00+00:00",
          "2023-11-30T12:35:00+00:00",
          "2023-12-08T08:45:00+00:00",
          "2023-12-11T18:20:00+00:00",
          "2023-12-13T10:15:00+00:00",
          "2024-01-03T01:30:00+00:00",
          "2024-01-03T19:05:00+00:00",
          "2024-01-09T15:40:00+00:00",
          "2024-01-23T01:55:00+00:00",
          "2024-03-11T18:50:00+00:00",
          "2024-03-14T17:30:00+00:00",
          "2024-03-22T16:20:00+00:00",
          "2024-04-01T10:05:00+00:00",
          "2024-04-10T17:25:00+00:00",
          "2024-04-11T11:55:00+00:00",
          "2024-04-11T14:25:00+00:00",
          "2024-04-11T15:55:00+00:00",
          "2024-04-19T07:05:00+00:00",
          "2024-04-24T12:10:00+00:00",
          "2024-04-30T05:00:00+00:00",
          "2024-04-30T09:00:00+00:00",
          "2024-05-17T05:35:00+00:00",
          "2024-05-17T13:05:00+00:00",
          "2024-05-21T01:55:00+00:00",
          "2024-05-29T07:15:00+00:00",
          "2024-06-07T19:25:00+00:00",
          "2024-06-11T13:20:00+00:00",
          "2024-06-14T02:10:00+00:00",
          "2024-06-18T06:20:00+00:00",
          "2024-06-18T13:45:00+00:00",
          "2024-06-20T23:20:00+00:00",
          "2024-07-09T17:10:00+00:00",
          "2024-07-19T11:10:00+00:00",
          "2024-08-22T07:10:00+00:00",
          "2024-08-28T20:40:00+00:00",
          "2024-09-02T06:00:00+00:00",
          "2024-09-06T15:00:00+00:00",
          "2024-09-09T14:10:00+00:00",
          "2024-09-11T00:05:00+00:00",
          "2024-09-11T01:30:00+00:00",
          "2024-09-24T07:15:00+00:00",
          "2024-10-03T03:35:00+00:00",
          "2024-10-15T08:45:00+00:00",
          "2024-10-21T20:05:00+00:00",
          "2024-10-23T07:00:00+00:00",
          "2024-10-28T02:55:00+00:00",
          "2024-11-04T11:35:00+00:00",
          "2024-11-05T02:15:00+00:00",
          "2024-11-08T13:25:00+00:00",
          "2024-11-13T09:35:00+00:00",
          "2024-11-14T08:55:00+00:00",
          "2024-11-22T03:25:00+00:00",
          "2024-11-22T07:20:00+00:00",
          "2024-11-22T17:40:00+00:00",
          "2024-11-29T15:40:00+00:00",
          "2024-12-01T23:25:00+00:00",
          "2024-12-06T07:50:00+00:00",
          "2024-12-10T01:35:00+00:00",
          "2024-12-10T18:50:00+00:00",
          "2024-12-11T12:00:00+00:00",
          "2024-12-13T00:50:00+00:00",
          "2024-12-13T06:40:00+00:00",
          "2024-12-18T14:50:00+00:00",
          "2024-12-24T12:55:00+00:00"
         ],
         "y": {
          "bdata": "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",
          "dtype": "f8"
         },
         "yaxis": "y2"
        }
       ],
       "layout": {
        "hovermode": "x unified",
        "legend": {
         "x": 0.01,
         "y": 0.99
        },
        "template": {
         "data": {
          "bar": [
           {
            "error_x": {
             "color": "#2a3f5f"
            },
            "error_y": {
             "color": "#2a3f5f"
            },
            "marker": {
             "line": {
              "color": "white",
              "width": 0.5
             },
             "pattern": {
              "fillmode": "overlay",
              "size": 10,
              "solidity": 0.2
             }
            },
            "type": "bar"
           }
          ],
          "barpolar": [
           {
            "marker": {
             "line": {
              "color": "white",
              "width": 0.5
             },
             "pattern": {
              "fillmode": "overlay",
              "size": 10,
              "solidity": 0.2
             }
            },
            "type": "barpolar"
           }
          ],
          "carpet": [
           {
            "aaxis": {
             "endlinecolor": "#2a3f5f",
             "gridcolor": "#C8D4E3",
             "linecolor": "#C8D4E3",
             "minorgridcolor": "#C8D4E3",
             "startlinecolor": "#2a3f5f"
            },
            "baxis": {
             "endlinecolor": "#2a3f5f",
             "gridcolor": "#C8D4E3",
             "linecolor": "#C8D4E3",
             "minorgridcolor": "#C8D4E3",
             "startlinecolor": "#2a3f5f"
            },
            "type": "carpet"
           }
          ],
          "choropleth": [
           {
            "colorbar": {
             "outlinewidth": 0,
             "ticks": ""
            },
            "type": "choropleth"
           }
          ],
          "contour": [
           {
            "colorbar": {
             "outlinewidth": 0,
             "ticks": ""
            },
            "colorscale": [
             [
              0,
              "#0d0887"
             ],
             [
              0.1111111111111111,
              "#46039f"
             ],
             [
              0.2222222222222222,
              "#7201a8"
             ],
             [
              0.3333333333333333,
              "#9c179e"
             ],
             [
              0.4444444444444444,
              "#bd3786"
             ],
             [
              0.5555555555555556,
              "#d8576b"
             ],
             [
              0.6666666666666666,
              "#ed7953"
             ],
             [
              0.7777777777777778,
              "#fb9f3a"
             ],
             [
              0.8888888888888888,
              "#fdca26"
             ],
             [
              1,
              "#f0f921"
             ]
            ],
            "type": "contour"
           }
          ],
          "contourcarpet": [
           {
            "colorbar": {
             "outlinewidth": 0,
             "ticks": ""
            },
            "type": "contourcarpet"
           }
          ],
          "heatmap": [
           {
            "colorbar": {
             "outlinewidth": 0,
             "ticks": ""
            },
            "colorscale": [
             [
              0,
              "#0d0887"
             ],
             [
              0.1111111111111111,
              "#46039f"
             ],
             [
              0.2222222222222222,
              "#7201a8"
             ],
             [
              0.3333333333333333,
              "#9c179e"
             ],
             [
              0.4444444444444444,
              "#bd3786"
             ],
             [
              0.5555555555555556,
              "#d8576b"
             ],
             [
              0.6666666666666666,
              "#ed7953"
             ],
             [
              0.7777777777777778,
              "#fb9f3a"
             ],
             [
              0.8888888888888888,
              "#fdca26"
             ],
             [
              1,
              "#f0f921"
             ]
            ],
            "type": "heatmap"
           }
          ],
          "histogram": [
           {
            "marker": {
             "pattern": {
              "fillmode": "overlay",
              "size": 10,
              "solidity": 0.2
             }
            },
            "type": "histogram"
           }
          ],
          "histogram2d": [
           {
            "colorbar": {
             "outlinewidth": 0,
             "ticks": ""
            },
            "colorscale": [
             [
              0,
              "#0d0887"
             ],
             [
              0.1111111111111111,
              "#46039f"
             ],
             [
              0.2222222222222222,
              "#7201a8"
             ],
             [
              0.3333333333333333,
              "#9c179e"
             ],
             [
              0.4444444444444444,
              "#bd3786"
             ],
             [
              0.5555555555555556,
              "#d8576b"
             ],
             [
              0.6666666666666666,
              "#ed7953"
             ],
             [
              0.7777777777777778,
              "#fb9f3a"
             ],
             [
              0.8888888888888888,
              "#fdca26"
             ],
             [
              1,
              "#f0f921"
             ]
            ],
            "type": "histogram2d"
           }
          ],
          "histogram2dcontour": [
           {
            "colorbar": {
             "outlinewidth": 0,
             "ticks": ""
            },
            "colorscale": [
             [
              0,
              "#0d0887"
             ],
             [
              0.1111111111111111,
              "#46039f"
             ],
             [
              0.2222222222222222,
              "#7201a8"
             ],
             [
              0.3333333333333333,
              "#9c179e"
             ],
             [
              0.4444444444444444,
              "#bd3786"
             ],
             [
              0.5555555555555556,
              "#d8576b"
             ],
             [
              0.6666666666666666,
              "#ed7953"
             ],
             [
              0.7777777777777778,
              "#fb9f3a"
             ],
             [
              0.8888888888888888,
              "#fdca26"
             ],
             [
              1,
              "#f0f921"
             ]
            ],
            "type": "histogram2dcontour"
           }
          ],
          "mesh3d": [
           {
            "colorbar": {
             "outlinewidth": 0,
             "ticks": ""
            },
            "type": "mesh3d"
           }
          ],
          "parcoords": [
           {
            "line": {
             "colorbar": {
              "outlinewidth": 0,
              "ticks": ""
             }
            },
            "type": "parcoords"
           }
          ],
          "pie": [
           {
            "automargin": true,
            "type": "pie"
           }
          ],
          "scatter": [
           {
            "fillpattern": {
             "fillmode": "overlay",
             "size": 10,
             "solidity": 0.2
            },
            "type": "scatter"
           }
          ],
          "scatter3d": [
           {
            "line": {
             "colorbar": {
              "outlinewidth": 0,
              "ticks": ""
             }
            },
            "marker": {
             "colorbar": {
              "outlinewidth": 0,
              "ticks": ""
             }
            },
            "type": "scatter3d"
           }
          ],
          "scattercarpet": [
           {
            "marker": {
             "colorbar": {
              "outlinewidth": 0,
              "ticks": ""
             }
            },
            "type": "scattercarpet"
           }
          ],
          "scattergeo": [
           {
            "marker": {
             "colorbar": {
              "outlinewidth": 0,
              "ticks": ""
             }
            },
            "type": "scattergeo"
           }
          ],
          "scattergl": [
           {
            "marker": {
             "colorbar": {
              "outlinewidth": 0,
              "ticks": ""
             }
            },
            "type": "scattergl"
           }
          ],
          "scattermap": [
           {
            "marker": {
             "colorbar": {
              "outlinewidth": 0,
              "ticks": ""
             }
            },
            "type": "scattermap"
           }
          ],
          "scattermapbox": [
           {
            "marker": {
             "colorbar": {
              "outlinewidth": 0,
              "ticks": ""
             }
            },
            "type": "scattermapbox"
           }
          ],
          "scatterpolar": [
           {
            "marker": {
             "colorbar": {
              "outlinewidth": 0,
              "ticks": ""
             }
            },
            "type": "scatterpolar"
           }
          ],
          "scatterpolargl": [
           {
            "marker": {
             "colorbar": {
              "outlinewidth": 0,
              "ticks": ""
             }
            },
            "type": "scatterpolargl"
           }
          ],
          "scatterternary": [
           {
            "marker": {
             "colorbar": {
              "outlinewidth": 0,
              "ticks": ""
             }
            },
            "type": "scatterternary"
           }
          ],
          "surface": [
           {
            "colorbar": {
             "outlinewidth": 0,
             "ticks": ""
            },
            "colorscale": [
             [
              0,
              "#0d0887"
             ],
             [
              0.1111111111111111,
              "#46039f"
             ],
             [
              0.2222222222222222,
              "#7201a8"
             ],
             [
              0.3333333333333333,
              "#9c179e"
             ],
             [
              0.4444444444444444,
              "#bd3786"
             ],
             [
              0.5555555555555556,
              "#d8576b"
             ],
             [
              0.6666666666666666,
              "#ed7953"
             ],
             [
              0.7777777777777778,
              "#fb9f3a"
             ],
             [
              0.8888888888888888,
              "#fdca26"
             ],
             [
              1,
              "#f0f921"
             ]
            ],
            "type": "surface"
           }
          ],
          "table": [
           {
            "cells": {
             "fill": {
              "color": "#EBF0F8"
             },
             "line": {
              "color": "white"
             }
            },
            "header": {
             "fill": {
              "color": "#C8D4E3"
             },
             "line": {
              "color": "white"
             }
            },
            "type": "table"
           }
          ]
         },
         "layout": {
          "annotationdefaults": {
           "arrowcolor": "#2a3f5f",
           "arrowhead": 0,
           "arrowwidth": 1
          },
          "autotypenumbers": "strict",
          "coloraxis": {
           "colorbar": {
            "outlinewidth": 0,
            "ticks": ""
           }
          },
          "colorscale": {
           "diverging": [
            [
             0,
             "#8e0152"
            ],
            [
             0.1,
             "#c51b7d"
            ],
            [
             0.2,
             "#de77ae"
            ],
            [
             0.3,
             "#f1b6da"
            ],
            [
             0.4,
             "#fde0ef"
            ],
            [
             0.5,
             "#f7f7f7"
            ],
            [
             0.6,
             "#e6f5d0"
            ],
            [
             0.7,
             "#b8e186"
            ],
            [
             0.8,
             "#7fbc41"
            ],
            [
             0.9,
             "#4d9221"
            ],
            [
             1,
             "#276419"
            ]
           ],
           "sequential": [
            [
             0,
             "#0d0887"
            ],
            [
             0.1111111111111111,
             "#46039f"
            ],
            [
             0.2222222222222222,
             "#7201a8"
            ],
            [
             0.3333333333333333,
             "#9c179e"
            ],
            [
             0.4444444444444444,
             "#bd3786"
            ],
            [
             0.5555555555555556,
             "#d8576b"
            ],
            [
             0.6666666666666666,
             "#ed7953"
            ],
            [
             0.7777777777777778,
             "#fb9f3a"
            ],
            [
             0.8888888888888888,
             "#fdca26"
            ],
            [
             1,
             "#f0f921"
            ]
           ],
           "sequentialminus": [
            [
             0,
             "#0d0887"
            ],
            [
             0.1111111111111111,
             "#46039f"
            ],
            [
             0.2222222222222222,
             "#7201a8"
            ],
            [
             0.3333333333333333,
             "#9c179e"
            ],
            [
             0.4444444444444444,
             "#bd3786"
            ],
            [
             0.5555555555555556,
             "#d8576b"
            ],
            [
             0.6666666666666666,
             "#ed7953"
            ],
            [
             0.7777777777777778,
             "#fb9f3a"
            ],
            [
             0.8888888888888888,
             "#fdca26"
            ],
            [
             1,
             "#f0f921"
            ]
           ]
          },
          "colorway": [
           "#636efa",
           "#EF553B",
           "#00cc96",
           "#ab63fa",
           "#FFA15A",
           "#19d3f3",
           "#FF6692",
           "#B6E880",
           "#FF97FF",
           "#FECB52"
          ],
          "font": {
           "color": "#2a3f5f"
          },
          "geo": {
           "bgcolor": "white",
           "lakecolor": "white",
           "landcolor": "white",
           "showlakes": true,
           "showland": true,
           "subunitcolor": "#C8D4E3"
          },
          "hoverlabel": {
           "align": "left"
          },
          "hovermode": "closest",
          "mapbox": {
           "style": "light"
          },
          "paper_bgcolor": "white",
          "plot_bgcolor": "white",
          "polar": {
           "angularaxis": {
            "gridcolor": "#EBF0F8",
            "linecolor": "#EBF0F8",
            "ticks": ""
           },
           "bgcolor": "white",
           "radialaxis": {
            "gridcolor": "#EBF0F8",
            "linecolor": "#EBF0F8",
            "ticks": ""
           }
          },
          "scene": {
           "xaxis": {
            "backgroundcolor": "white",
            "gridcolor": "#DFE8F3",
            "gridwidth": 2,
            "linecolor": "#EBF0F8",
            "showbackground": true,
            "ticks": "",
            "zerolinecolor": "#EBF0F8"
           },
           "yaxis": {
            "backgroundcolor": "white",
            "gridcolor": "#DFE8F3",
            "gridwidth": 2,
            "linecolor": "#EBF0F8",
            "showbackground": true,
            "ticks": "",
            "zerolinecolor": "#EBF0F8"
           },
           "zaxis": {
            "backgroundcolor": "white",
            "gridcolor": "#DFE8F3",
            "gridwidth": 2,
            "linecolor": "#EBF0F8",
            "showbackground": true,
            "ticks": "",
            "zerolinecolor": "#EBF0F8"
           }
          },
          "shapedefaults": {
           "line": {
            "color": "#2a3f5f"
           }
          },
          "ternary": {
           "aaxis": {
            "gridcolor": "#DFE8F3",
            "linecolor": "#A2B1C6",
            "ticks": ""
           },
           "baxis": {
            "gridcolor": "#DFE8F3",
            "linecolor": "#A2B1C6",
            "ticks": ""
           },
           "bgcolor": "white",
           "caxis": {
            "gridcolor": "#DFE8F3",
            "linecolor": "#A2B1C6",
            "ticks": ""
           }
          },
          "title": {
           "x": 0.05
          },
          "xaxis": {
           "automargin": true,
           "gridcolor": "#EBF0F8",
           "linecolor": "#EBF0F8",
           "ticks": "",
           "title": {
            "standoff": 15
           },
           "zerolinecolor": "#EBF0F8",
           "zerolinewidth": 2
          },
          "yaxis": {
           "automargin": true,
           "gridcolor": "#EBF0F8",
           "linecolor": "#EBF0F8",
           "ticks": "",
           "title": {
            "standoff": 15
           },
           "zerolinecolor": "#EBF0F8",
           "zerolinewidth": 2
          }
         }
        },
        "title": {
         "text": "📈 Strategy Performance"
        },
        "xaxis": {
         "title": {
          "text": "Time"
         }
        },
        "yaxis": {
         "title": {
          "text": "Cumulative Pips"
         }
        },
        "yaxis2": {
         "overlaying": "y",
         "side": "right",
         "title": {
          "text": "Account Balance ($)"
         }
        }
       }
      }
     },
     "metadata": {},
     "output_type": "display_data"
    },
    {
     "name": "stdout",
     "output_type": "stream",
     "text": [
      "EUR_USD M30\n",
      "📈 Total Trades: 68\n",
      "💰 Total Pips: -189.9\n",
      "✅ Win Rate: 61.76%\n",
      "💵 Total $ Gain: $3585.8\n",
      "📊 Percent Gain: 35.86%\n"
     ]
    },
    {
     "data": {
      "application/vnd.plotly.v1+json": {
       "config": {
        "plotlyServerURL": "https://plot.ly"
       },
       "data": [
        {
         "line": {
          "width": 2
         },
         "marker": {
          "size": 4
         },
         "mode": "lines+markers",
         "name": "Cumulative Pips",
         "type": "scatter",
         "x": [
          "2020-01-09T09:30:00+00:00",
          "2020-01-24T08:30:00+00:00",
          "2020-01-27T09:00:00+00:00",
          "2020-02-07T16:00:00+00:00",
          "2020-02-12T15:00:00+00:00",
          "2020-04-02T12:00:00+00:00",
          "2020-06-19T12:00:00+00:00",
          "2020-08-11T10:00:00+00:00",
          "2020-10-16T10:30:00+00:00",
          "2021-02-03T01:00:00+00:00",
          "2021-03-17T18:00:00+00:00",
          "2021-03-26T15:30:00+00:00",
          "2021-05-13T07:00:00+00:00",
          "2021-05-14T08:00:00+00:00",
          "2021-06-14T07:00:00+00:00",
          "2021-07-01T12:00:00+00:00",
          "2021-07-22T11:30:00+00:00",
          "2021-08-04T14:00:00+00:00",
          "2021-08-09T15:00:00+00:00",
          "2021-09-09T08:30:00+00:00",
          "2021-09-22T18:00:00+00:00",
          "2021-09-29T07:00:00+00:00",
          "2021-09-30T10:00:00+00:00",
          "2021-11-16T10:00:00+00:00",
          "2021-11-24T08:30:00+00:00",
          "2021-11-26T08:00:00+00:00",
          "2021-12-03T13:30:00+00:00",
          "2021-12-06T10:00:00+00:00",
          "2021-12-07T09:00:00+00:00",
          "2021-12-14T10:00:00+00:00",
          "2021-12-15T14:30:00+00:00",
          "2022-01-26T19:30:00+00:00",
          "2022-02-22T10:00:00+00:00",
          "2022-03-14T09:30:00+00:00",
          "2022-04-05T10:30:00+00:00",
          "2022-04-20T03:30:00+00:00",
          "2022-06-02T07:30:00+00:00",
          "2022-08-23T13:30:00+00:00",
          "2022-09-22T08:00:00+00:00",
          "2022-11-02T19:00:00+00:00",
          "2022-11-29T13:30:00+00:00",
          "2022-12-20T03:00:00+00:00",
          "2023-02-13T15:00:00+00:00",
          "2023-06-07T13:30:00+00:00",
          "2023-07-24T07:00:00+00:00",
          "2023-08-03T07:00:00+00:00",
          "2023-08-03T16:30:00+00:00",
          "2023-08-17T12:30:00+00:00",
          "2023-09-04T06:00:00+00:00",
          "2023-09-06T02:30:00+00:00",
          "2023-09-08T13:30:00+00:00",
          "2023-11-08T15:30:00+00:00",
          "2023-11-13T16:30:00+00:00",
          "2023-12-04T14:00:00+00:00",
          "2023-12-07T17:00:00+00:00",
          "2024-01-05T13:30:00+00:00",
          "2024-01-17T13:30:00+00:00",
          "2024-03-15T09:30:00+00:00",
          "2024-03-29T02:00:00+00:00",
          "2024-04-02T14:00:00+00:00",
          "2024-05-24T08:30:00+00:00",
          "2024-07-29T11:30:00+00:00",
          "2024-08-01T08:00:00+00:00",
          "2024-08-30T13:00:00+00:00",
          "2024-09-10T11:30:00+00:00",
          "2024-09-11T01:30:00+00:00",
          "2024-10-02T08:00:00+00:00",
          "2024-11-07T14:30:00+00:00"
         ],
         "y": [
          -15.899999999999803,
          -8.900000000000574,
          -23.300000000001653,
          -46.8000000000024,
          -70.20000000000249,
          -105.60000000000348,
          -93.2500000000025,
          -68.55000000000278,
          -56.800000000001305,
          -44.000000000001826,
          -31.500000000002093,
          -18.650000000002287,
          -5.650000000003718,
          16.849999999994914,
          22.74999999999582,
          37.49999999999697,
          55.2499999999978,
          8.149999999997874,
          -14.150000000001668,
          -3.750000000000149,
          13.499999999999616,
          -7.099999999999891,
          -25.69999999999962,
          -48.90000000000062,
          -80.10000000000073,
          -60.40000000000046,
          -48.09999999999982,
          -36.49999999999932,
          -64.79999999999819,
          -48.24999999999857,
          -67.94999999999885,
          -100.34999999999795,
          -83.54999999999669,
          -59.099999999996385,
          -80.29999999999538,
          -59.84999999999464,
          -39.59999999999298,
          -18.599999999993074,
          -2.949999999992688,
          -94.74999999999345,
          -137.94999999999226,
          -118.59999999999206,
          -99.4999999999935,
          -79.19999999999374,
          -67.19999999999284,
          -89.09999999999198,
          -74.19999999999206,
          -57.74999999999088,
          -51.24999999999048,
          -42.09999999999049,
          -29.349999999991336,
          -13.849999999991933,
          1.5500000000090353,
          -41.44999999999289,
          -26.149999999992577,
          -100.84999999999123,
          -122.14999999999088,
          -114.59999999999027,
          -147.79999999999018,
          -129.8999999999906,
          -122.44999999999064,
          -155.1499999999917,
          -199.04999999999063,
          -228.44999999999007,
          -249.7499999999897,
          -243.69999999999004,
          -232.7999999999897,
          -189.94999999998873
         ]
        },
        {
         "line": {
          "width": 2
         },
         "marker": {
          "size": 4
         },
         "mode": "lines+markers",
         "name": "Account Balance ($)",
         "type": "scatter",
         "x": [
          "2020-01-09T09:30:00+00:00",
          "2020-01-24T08:30:00+00:00",
          "2020-01-27T09:00:00+00:00",
          "2020-02-07T16:00:00+00:00",
          "2020-02-12T15:00:00+00:00",
          "2020-04-02T12:00:00+00:00",
          "2020-06-19T12:00:00+00:00",
          "2020-08-11T10:00:00+00:00",
          "2020-10-16T10:30:00+00:00",
          "2021-02-03T01:00:00+00:00",
          "2021-03-17T18:00:00+00:00",
          "2021-03-26T15:30:00+00:00",
          "2021-05-13T07:00:00+00:00",
          "2021-05-14T08:00:00+00:00",
          "2021-06-14T07:00:00+00:00",
          "2021-07-01T12:00:00+00:00",
          "2021-07-22T11:30:00+00:00",
          "2021-08-04T14:00:00+00:00",
          "2021-08-09T15:00:00+00:00",
          "2021-09-09T08:30:00+00:00",
          "2021-09-22T18:00:00+00:00",
          "2021-09-29T07:00:00+00:00",
          "2021-09-30T10:00:00+00:00",
          "2021-11-16T10:00:00+00:00",
          "2021-11-24T08:30:00+00:00",
          "2021-11-26T08:00:00+00:00",
          "2021-12-03T13:30:00+00:00",
          "2021-12-06T10:00:00+00:00",
          "2021-12-07T09:00:00+00:00",
          "2021-12-14T10:00:00+00:00",
          "2021-12-15T14:30:00+00:00",
          "2022-01-26T19:30:00+00:00",
          "2022-02-22T10:00:00+00:00",
          "2022-03-14T09:30:00+00:00",
          "2022-04-05T10:30:00+00:00",
          "2022-04-20T03:30:00+00:00",
          "2022-06-02T07:30:00+00:00",
          "2022-08-23T13:30:00+00:00",
          "2022-09-22T08:00:00+00:00",
          "2022-11-02T19:00:00+00:00",
          "2022-11-29T13:30:00+00:00",
          "2022-12-20T03:00:00+00:00",
          "2023-02-13T15:00:00+00:00",
          "2023-06-07T13:30:00+00:00",
          "2023-07-24T07:00:00+00:00",
          "2023-08-03T07:00:00+00:00",
          "2023-08-03T16:30:00+00:00",
          "2023-08-17T12:30:00+00:00",
          "2023-09-04T06:00:00+00:00",
          "2023-09-06T02:30:00+00:00",
          "2023-09-08T13:30:00+00:00",
          "2023-11-08T15:30:00+00:00",
          "2023-11-13T16:30:00+00:00",
          "2023-12-04T14:00:00+00:00",
          "2023-12-07T17:00:00+00:00",
          "2024-01-05T13:30:00+00:00",
          "2024-01-17T13:30:00+00:00",
          "2024-03-15T09:30:00+00:00",
          "2024-03-29T02:00:00+00:00",
          "2024-04-02T14:00:00+00:00",
          "2024-05-24T08:30:00+00:00",
          "2024-07-29T11:30:00+00:00",
          "2024-08-01T08:00:00+00:00",
          "2024-08-30T13:00:00+00:00",
          "2024-09-10T11:30:00+00:00",
          "2024-09-11T01:30:00+00:00",
          "2024-10-02T08:00:00+00:00",
          "2024-11-07T14:30:00+00:00"
         ],
         "y": {
          "bdata": "AAAAAAAkw0AAAAAAAIbDQNejcD0KIsNA2IFzRhTAwkCmZaTeE2DCQFaCB/7+AcJAOeYRLDJewkBjLWRqPbzCQHSK9SkqHMNAOQ0UDAJ+w0D4IVzjzuHDQO4DtbSaR8RAVDxSuG+vxEDGR7paWBnFQGl80j1fhcVAs0vwOY/zxUBL++9e82PGQKEFj8hP8cVAcNfTJfeAxUBtoxqSEO/FQNsCv7NdX8ZAZhyNltHsxUD+99H0j3zFQIOHwxONDsVAzQSmdL2ixEBClLMVZQzFQBqSnaopeMVAtFwRBRbmxUCmpwHc9nXFQM334vTX48VAfGMHR8RzxUAYe5Fu7gXFQNbeqOuRccVA71PahFzfxUCJM+DJX2/FQJsL9CQf3cVAM5tAaBBNxkBDx7zQPr/GQJGD6dS1M8dAiZrag+q8xkCvobxsf0jGQI8VCHSWusZACO1Pn/Uux0Bp4mCdqKXHQAWV2Fi7HshA115ZuDyjx0AEwvQNQxzIQDd+HQm1l8hABeJqDp8VyUCK5ufBDZbJQP0OWAgOGcpAnMeCCK2eykA0ZYUs+CbLQC7j3jXzm8pAZy8HZTAky0BgALCqOZnKQFQp9G4KEcpA/83uZoCWykBltTEdXw7KQJX7k2rHk8pABOe/w9oby0BvOZi1DpHKQFMPkEsJCcpAD+YrT7yDyUC9QrXSGQHJQOpnpHUfgclAg1WYkbQDykC+QpZC5ojKQA==",
          "dtype": "f8"
         },
         "yaxis": "y2"
        }
       ],
       "layout": {
        "hovermode": "x unified",
        "legend": {
         "x": 0.01,
         "y": 0.99
        },
        "template": {
         "data": {
          "bar": [
           {
            "error_x": {
             "color": "#2a3f5f"
            },
            "error_y": {
             "color": "#2a3f5f"
            },
            "marker": {
             "line": {
              "color": "white",
              "width": 0.5
             },
             "pattern": {
              "fillmode": "overlay",
              "size": 10,
              "solidity": 0.2
             }
            },
            "type": "bar"
           }
          ],
          "barpolar": [
           {
            "marker": {
             "line": {
              "color": "white",
              "width": 0.5
             },
             "pattern": {
              "fillmode": "overlay",
              "size": 10,
              "solidity": 0.2
             }
            },
            "type": "barpolar"
           }
          ],
          "carpet": [
           {
            "aaxis": {
             "endlinecolor": "#2a3f5f",
             "gridcolor": "#C8D4E3",
             "linecolor": "#C8D4E3",
             "minorgridcolor": "#C8D4E3",
             "startlinecolor": "#2a3f5f"
            },
            "baxis": {
             "endlinecolor": "#2a3f5f",
             "gridcolor": "#C8D4E3",
             "linecolor": "#C8D4E3",
             "minorgridcolor": "#C8D4E3",
             "startlinecolor": "#2a3f5f"
            },
            "type": "carpet"
           }
          ],
          "choropleth": [
           {
            "colorbar": {
             "outlinewidth": 0,
             "ticks": ""
            },
            "type": "choropleth"
           }
          ],
          "contour": [
           {
            "colorbar": {
             "outlinewidth": 0,
             "ticks": ""
            },
            "colorscale": [
             [
              0,
              "#0d0887"
             ],
             [
              0.1111111111111111,
              "#46039f"
             ],
             [
              0.2222222222222222,
              "#7201a8"
             ],
             [
              0.3333333333333333,
              "#9c179e"
             ],
             [
              0.4444444444444444,
              "#bd3786"
             ],
             [
              0.5555555555555556,
              "#d8576b"
             ],
             [
              0.6666666666666666,
              "#ed7953"
             ],
             [
              0.7777777777777778,
              "#fb9f3a"
             ],
             [
              0.8888888888888888,
              "#fdca26"
             ],
             [
              1,
              "#f0f921"
             ]
            ],
            "type": "contour"
           }
          ],
          "contourcarpet": [
           {
            "colorbar": {
             "outlinewidth": 0,
             "ticks": ""
            },
            "type": "contourcarpet"
           }
          ],
          "heatmap": [
           {
            "colorbar": {
             "outlinewidth": 0,
             "ticks": ""
            },
            "colorscale": [
             [
              0,
              "#0d0887"
             ],
             [
              0.1111111111111111,
              "#46039f"
             ],
             [
              0.2222222222222222,
              "#7201a8"
             ],
             [
              0.3333333333333333,
              "#9c179e"
             ],
             [
              0.4444444444444444,
              "#bd3786"
             ],
             [
              0.5555555555555556,
              "#d8576b"
             ],
             [
              0.6666666666666666,
              "#ed7953"
             ],
             [
              0.7777777777777778,
              "#fb9f3a"
             ],
             [
              0.8888888888888888,
              "#fdca26"
             ],
             [
              1,
              "#f0f921"
             ]
            ],
            "type": "heatmap"
           }
          ],
          "histogram": [
           {
            "marker": {
             "pattern": {
              "fillmode": "overlay",
              "size": 10,
              "solidity": 0.2
             }
            },
            "type": "histogram"
           }
          ],
          "histogram2d": [
           {
            "colorbar": {
             "outlinewidth": 0,
             "ticks": ""
            },
            "colorscale": [
             [
              0,
              "#0d0887"
             ],
             [
              0.1111111111111111,
              "#46039f"
             ],
             [
              0.2222222222222222,
              "#7201a8"
             ],
             [
              0.3333333333333333,
              "#9c179e"
             ],
             [
              0.4444444444444444,
              "#bd3786"
             ],
             [
              0.5555555555555556,
              "#d8576b"
             ],
             [
              0.6666666666666666,
              "#ed7953"
             ],
             [
              0.7777777777777778,
              "#fb9f3a"
             ],
             [
              0.8888888888888888,
              "#fdca26"
             ],
             [
              1,
              "#f0f921"
             ]
            ],
            "type": "histogram2d"
           }
          ],
          "histogram2dcontour": [
           {
            "colorbar": {
             "outlinewidth": 0,
             "ticks": ""
            },
            "colorscale": [
             [
              0,
              "#0d0887"
             ],
             [
              0.1111111111111111,
              "#46039f"
             ],
             [
              0.2222222222222222,
              "#7201a8"
             ],
             [
              0.3333333333333333,
              "#9c179e"
             ],
             [
              0.4444444444444444,
              "#bd3786"
             ],
             [
              0.5555555555555556,
              "#d8576b"
             ],
             [
              0.6666666666666666,
              "#ed7953"
             ],
             [
              0.7777777777777778,
              "#fb9f3a"
             ],
             [
              0.8888888888888888,
              "#fdca26"
             ],
             [
              1,
              "#f0f921"
             ]
            ],
            "type": "histogram2dcontour"
           }
          ],
          "mesh3d": [
           {
            "colorbar": {
             "outlinewidth": 0,
             "ticks": ""
            },
            "type": "mesh3d"
           }
          ],
          "parcoords": [
           {
            "line": {
             "colorbar": {
              "outlinewidth": 0,
              "ticks": ""
             }
            },
            "type": "parcoords"
           }
          ],
          "pie": [
           {
            "automargin": true,
            "type": "pie"
           }
          ],
          "scatter": [
           {
            "fillpattern": {
             "fillmode": "overlay",
             "size": 10,
             "solidity": 0.2
            },
            "type": "scatter"
           }
          ],
          "scatter3d": [
           {
            "line": {
             "colorbar": {
              "outlinewidth": 0,
              "ticks": ""
             }
            },
            "marker": {
             "colorbar": {
              "outlinewidth": 0,
              "ticks": ""
             }
            },
            "type": "scatter3d"
           }
          ],
          "scattercarpet": [
           {
            "marker": {
             "colorbar": {
              "outlinewidth": 0,
              "ticks": ""
             }
            },
            "type": "scattercarpet"
           }
          ],
          "scattergeo": [
           {
            "marker": {
             "colorbar": {
              "outlinewidth": 0,
              "ticks": ""
             }
            },
            "type": "scattergeo"
           }
          ],
          "scattergl": [
           {
            "marker": {
             "colorbar": {
              "outlinewidth": 0,
              "ticks": ""
             }
            },
            "type": "scattergl"
           }
          ],
          "scattermap": [
           {
            "marker": {
             "colorbar": {
              "outlinewidth": 0,
              "ticks": ""
             }
            },
            "type": "scattermap"
           }
          ],
          "scattermapbox": [
           {
            "marker": {
             "colorbar": {
              "outlinewidth": 0,
              "ticks": ""
             }
            },
            "type": "scattermapbox"
           }
          ],
          "scatterpolar": [
           {
            "marker": {
             "colorbar": {
              "outlinewidth": 0,
              "ticks": ""
             }
            },
            "type": "scatterpolar"
           }
          ],
          "scatterpolargl": [
           {
            "marker": {
             "colorbar": {
              "outlinewidth": 0,
              "ticks": ""
             }
            },
            "type": "scatterpolargl"
           }
          ],
          "scatterternary": [
           {
            "marker": {
             "colorbar": {
              "outlinewidth": 0,
              "ticks": ""
             }
            },
            "type": "scatterternary"
           }
          ],
          "surface": [
           {
            "colorbar": {
             "outlinewidth": 0,
             "ticks": ""
            },
            "colorscale": [
             [
              0,
              "#0d0887"
             ],
             [
              0.1111111111111111,
              "#46039f"
             ],
             [
              0.2222222222222222,
              "#7201a8"
             ],
             [
              0.3333333333333333,
              "#9c179e"
             ],
             [
              0.4444444444444444,
              "#bd3786"
             ],
             [
              0.5555555555555556,
              "#d8576b"
             ],
             [
              0.6666666666666666,
              "#ed7953"
             ],
             [
              0.7777777777777778,
              "#fb9f3a"
             ],
             [
              0.8888888888888888,
              "#fdca26"
             ],
             [
              1,
              "#f0f921"
             ]
            ],
            "type": "surface"
           }
          ],
          "table": [
           {
            "cells": {
             "fill": {
              "color": "#EBF0F8"
             },
             "line": {
              "color": "white"
             }
            },
            "header": {
             "fill": {
              "color": "#C8D4E3"
             },
             "line": {
              "color": "white"
             }
            },
            "type": "table"
           }
          ]
         },
         "layout": {
          "annotationdefaults": {
           "arrowcolor": "#2a3f5f",
           "arrowhead": 0,
           "arrowwidth": 1
          },
          "autotypenumbers": "strict",
          "coloraxis": {
           "colorbar": {
            "outlinewidth": 0,
            "ticks": ""
           }
          },
          "colorscale": {
           "diverging": [
            [
             0,
             "#8e0152"
            ],
            [
             0.1,
             "#c51b7d"
            ],
            [
             0.2,
             "#de77ae"
            ],
            [
             0.3,
             "#f1b6da"
            ],
            [
             0.4,
             "#fde0ef"
            ],
            [
             0.5,
             "#f7f7f7"
            ],
            [
             0.6,
             "#e6f5d0"
            ],
            [
             0.7,
             "#b8e186"
            ],
            [
             0.8,
             "#7fbc41"
            ],
            [
             0.9,
             "#4d9221"
            ],
            [
             1,
             "#276419"
            ]
           ],
           "sequential": [
            [
             0,
             "#0d0887"
            ],
            [
             0.1111111111111111,
             "#46039f"
            ],
            [
             0.2222222222222222,
             "#7201a8"
            ],
            [
             0.3333333333333333,
             "#9c179e"
            ],
            [
             0.4444444444444444,
             "#bd3786"
            ],
            [
             0.5555555555555556,
             "#d8576b"
            ],
            [
             0.6666666666666666,
             "#ed7953"
            ],
            [
             0.7777777777777778,
             "#fb9f3a"
            ],
            [
             0.8888888888888888,
             "#fdca26"
            ],
            [
             1,
             "#f0f921"
            ]
           ],
           "sequentialminus": [
            [
             0,
             "#0d0887"
            ],
            [
             0.1111111111111111,
             "#46039f"
            ],
            [
             0.2222222222222222,
             "#7201a8"
            ],
            [
             0.3333333333333333,
             "#9c179e"
            ],
            [
             0.4444444444444444,
             "#bd3786"
            ],
            [
             0.5555555555555556,
             "#d8576b"
            ],
            [
             0.6666666666666666,
             "#ed7953"
            ],
            [
             0.7777777777777778,
             "#fb9f3a"
            ],
            [
             0.8888888888888888,
             "#fdca26"
            ],
            [
             1,
             "#f0f921"
            ]
           ]
          },
          "colorway": [
           "#636efa",
           "#EF553B",
           "#00cc96",
           "#ab63fa",
           "#FFA15A",
           "#19d3f3",
           "#FF6692",
           "#B6E880",
           "#FF97FF",
           "#FECB52"
          ],
          "font": {
           "color": "#2a3f5f"
          },
          "geo": {
           "bgcolor": "white",
           "lakecolor": "white",
           "landcolor": "white",
           "showlakes": true,
           "showland": true,
           "subunitcolor": "#C8D4E3"
          },
          "hoverlabel": {
           "align": "left"
          },
          "hovermode": "closest",
          "mapbox": {
           "style": "light"
          },
          "paper_bgcolor": "white",
          "plot_bgcolor": "white",
          "polar": {
           "angularaxis": {
            "gridcolor": "#EBF0F8",
            "linecolor": "#EBF0F8",
            "ticks": ""
           },
           "bgcolor": "white",
           "radialaxis": {
            "gridcolor": "#EBF0F8",
            "linecolor": "#EBF0F8",
            "ticks": ""
           }
          },
          "scene": {
           "xaxis": {
            "backgroundcolor": "white",
            "gridcolor": "#DFE8F3",
            "gridwidth": 2,
            "linecolor": "#EBF0F8",
            "showbackground": true,
            "ticks": "",
            "zerolinecolor": "#EBF0F8"
           },
           "yaxis": {
            "backgroundcolor": "white",
            "gridcolor": "#DFE8F3",
            "gridwidth": 2,
            "linecolor": "#EBF0F8",
            "showbackground": true,
            "ticks": "",
            "zerolinecolor": "#EBF0F8"
           },
           "zaxis": {
            "backgroundcolor": "white",
            "gridcolor": "#DFE8F3",
            "gridwidth": 2,
            "linecolor": "#EBF0F8",
            "showbackground": true,
            "ticks": "",
            "zerolinecolor": "#EBF0F8"
           }
          },
          "shapedefaults": {
           "line": {
            "color": "#2a3f5f"
           }
          },
          "ternary": {
           "aaxis": {
            "gridcolor": "#DFE8F3",
            "linecolor": "#A2B1C6",
            "ticks": ""
           },
           "baxis": {
            "gridcolor": "#DFE8F3",
            "linecolor": "#A2B1C6",
            "ticks": ""
           },
           "bgcolor": "white",
           "caxis": {
            "gridcolor": "#DFE8F3",
            "linecolor": "#A2B1C6",
            "ticks": ""
           }
          },
          "title": {
           "x": 0.05
          },
          "xaxis": {
           "automargin": true,
           "gridcolor": "#EBF0F8",
           "linecolor": "#EBF0F8",
           "ticks": "",
           "title": {
            "standoff": 15
           },
           "zerolinecolor": "#EBF0F8",
           "zerolinewidth": 2
          },
          "yaxis": {
           "automargin": true,
           "gridcolor": "#EBF0F8",
           "linecolor": "#EBF0F8",
           "ticks": "",
           "title": {
            "standoff": 15
           },
           "zerolinecolor": "#EBF0F8",
           "zerolinewidth": 2
          }
         }
        },
        "title": {
         "text": "📈 Strategy Performance"
        },
        "xaxis": {
         "title": {
          "text": "Time"
         }
        },
        "yaxis": {
         "title": {
          "text": "Cumulative Pips"
         }
        },
        "yaxis2": {
         "overlaying": "y",
         "side": "right",
         "title": {
          "text": "Account Balance ($)"
         }
        }
       }
      }
     },
     "metadata": {},
     "output_type": "display_data"
    },
    {
     "name": "stdout",
     "output_type": "stream",
     "text": [
      "EUR_USD H1\n",
      "📈 Total Trades: 18\n",
      "💰 Total Pips: -9.8\n",
      "✅ Win Rate: 66.67%\n",
      "💵 Total $ Gain: $1234.62\n",
      "📊 Percent Gain: 12.35%\n"
     ]
    },
    {
     "data": {
      "application/vnd.plotly.v1+json": {
       "config": {
        "plotlyServerURL": "https://plot.ly"
       },
       "data": [
        {
         "line": {
          "width": 2
         },
         "marker": {
          "size": 4
         },
         "mode": "lines+markers",
         "name": "Cumulative Pips",
         "type": "scatter",
         "x": [
          "2020-02-12T15:00:00+00:00",
          "2020-02-20T14:00:00+00:00",
          "2020-10-30T15:00:00+00:00",
          "2021-02-18T20:00:00+00:00",
          "2021-03-10T20:00:00+00:00",
          "2021-07-20T13:00:00+00:00",
          "2021-07-22T11:00:00+00:00",
          "2023-02-13T18:00:00+00:00",
          "2023-07-11T00:00:00+00:00",
          "2023-07-26T10:00:00+00:00",
          "2023-09-11T14:00:00+00:00",
          "2023-09-28T14:00:00+00:00",
          "2024-01-31T13:00:00+00:00",
          "2024-03-22T04:00:00+00:00",
          "2024-04-17T13:00:00+00:00",
          "2024-06-14T06:00:00+00:00",
          "2024-09-06T12:00:00+00:00",
          "2024-10-22T12:00:00+00:00"
         ],
         "y": [
          -23.400000000000087,
          -10.100000000001774,
          -59.30000000000213,
          -36.500000000001535,
          -6.150000000002546,
          -42.15000000000302,
          -24.400000000002198,
          0.29999999999752447,
          57.99999999999805,
          78.69999999999821,
          98.74999999999633,
          124.44999999999817,
          145.94999999999914,
          66.34999999999947,
          83.19999999999884,
          -23.80000000000048,
          7.900000000000691,
          -9.799999999999802
         ]
        },
        {
         "line": {
          "width": 2
         },
         "marker": {
          "size": 4
         },
         "mode": "lines+markers",
         "name": "Account Balance ($)",
         "type": "scatter",
         "x": [
          "2020-02-12T15:00:00+00:00",
          "2020-02-20T14:00:00+00:00",
          "2020-10-30T15:00:00+00:00",
          "2021-02-18T20:00:00+00:00",
          "2021-03-10T20:00:00+00:00",
          "2021-07-20T13:00:00+00:00",
          "2021-07-22T11:00:00+00:00",
          "2023-02-13T18:00:00+00:00",
          "2023-07-11T00:00:00+00:00",
          "2023-07-26T10:00:00+00:00",
          "2023-09-11T14:00:00+00:00",
          "2023-09-28T14:00:00+00:00",
          "2024-01-31T13:00:00+00:00",
          "2024-03-22T04:00:00+00:00",
          "2024-04-17T13:00:00+00:00",
          "2024-06-14T06:00:00+00:00",
          "2024-09-06T12:00:00+00:00",
          "2024-10-22T12:00:00+00:00"
         ],
         "y": {
          "bdata": "AAAAAAAkw0AAAAAAAIbDQNejcD0KIsNA1sVtNACEw0Ci7Zi66+fDQB/zQ50AgsNAizoX6OHlw0ATS7GVwkvEQJPMXeCss8RAOhPGNqsdxUCSPP08yInFQE2pkc0O+MVAP++j+oloxkDxfkTmzvXFQHuBto4+ZsZAsUvwOY/zxUBJ++9e82PGQJ8Fj8hP8cVA",
          "dtype": "f8"
         },
         "yaxis": "y2"
        }
       ],
       "layout": {
        "hovermode": "x unified",
        "legend": {
         "x": 0.01,
         "y": 0.99
        },
        "template": {
         "data": {
          "bar": [
           {
            "error_x": {
             "color": "#2a3f5f"
            },
            "error_y": {
             "color": "#2a3f5f"
            },
            "marker": {
             "line": {
              "color": "white",
              "width": 0.5
             },
             "pattern": {
              "fillmode": "overlay",
              "size": 10,
              "solidity": 0.2
             }
            },
            "type": "bar"
           }
          ],
          "barpolar": [
           {
            "marker": {
             "line": {
              "color": "white",
              "width": 0.5
             },
             "pattern": {
              "fillmode": "overlay",
              "size": 10,
              "solidity": 0.2
             }
            },
            "type": "barpolar"
           }
          ],
          "carpet": [
           {
            "aaxis": {
             "endlinecolor": "#2a3f5f",
             "gridcolor": "#C8D4E3",
             "linecolor": "#C8D4E3",
             "minorgridcolor": "#C8D4E3",
             "startlinecolor": "#2a3f5f"
            },
            "baxis": {
             "endlinecolor": "#2a3f5f",
             "gridcolor": "#C8D4E3",
             "linecolor": "#C8D4E3",
             "minorgridcolor": "#C8D4E3",
             "startlinecolor": "#2a3f5f"
            },
            "type": "carpet"
           }
          ],
          "choropleth": [
           {
            "colorbar": {
             "outlinewidth": 0,
             "ticks": ""
            },
            "type": "choropleth"
           }
          ],
          "contour": [
           {
            "colorbar": {
             "outlinewidth": 0,
             "ticks": ""
            },
            "colorscale": [
             [
              0,
              "#0d0887"
             ],
             [
              0.1111111111111111,
              "#46039f"
             ],
             [
              0.2222222222222222,
              "#7201a8"
             ],
             [
              0.3333333333333333,
              "#9c179e"
             ],
             [
              0.4444444444444444,
              "#bd3786"
             ],
             [
              0.5555555555555556,
              "#d8576b"
             ],
             [
              0.6666666666666666,
              "#ed7953"
             ],
             [
              0.7777777777777778,
              "#fb9f3a"
             ],
             [
              0.8888888888888888,
              "#fdca26"
             ],
             [
              1,
              "#f0f921"
             ]
            ],
            "type": "contour"
           }
          ],
          "contourcarpet": [
           {
            "colorbar": {
             "outlinewidth": 0,
             "ticks": ""
            },
            "type": "contourcarpet"
           }
          ],
          "heatmap": [
           {
            "colorbar": {
             "outlinewidth": 0,
             "ticks": ""
            },
            "colorscale": [
             [
              0,
              "#0d0887"
             ],
             [
              0.1111111111111111,
              "#46039f"
             ],
             [
              0.2222222222222222,
              "#7201a8"
             ],
             [
              0.3333333333333333,
              "#9c179e"
             ],
             [
              0.4444444444444444,
              "#bd3786"
             ],
             [
              0.5555555555555556,
              "#d8576b"
             ],
             [
              0.6666666666666666,
              "#ed7953"
             ],
             [
              0.7777777777777778,
              "#fb9f3a"
             ],
             [
              0.8888888888888888,
              "#fdca26"
             ],
             [
              1,
              "#f0f921"
             ]
            ],
            "type": "heatmap"
           }
          ],
          "histogram": [
           {
            "marker": {
             "pattern": {
              "fillmode": "overlay",
              "size": 10,
              "solidity": 0.2
             }
            },
            "type": "histogram"
           }
          ],
          "histogram2d": [
           {
            "colorbar": {
             "outlinewidth": 0,
             "ticks": ""
            },
            "colorscale": [
             [
              0,
              "#0d0887"
             ],
             [
              0.1111111111111111,
              "#46039f"
             ],
             [
              0.2222222222222222,
              "#7201a8"
             ],
             [
              0.3333333333333333,
              "#9c179e"
             ],
             [
              0.4444444444444444,
              "#bd3786"
             ],
             [
              0.5555555555555556,
              "#d8576b"
             ],
             [
              0.6666666666666666,
              "#ed7953"
             ],
             [
              0.7777777777777778,
              "#fb9f3a"
             ],
             [
              0.8888888888888888,
              "#fdca26"
             ],
             [
              1,
              "#f0f921"
             ]
            ],
            "type": "histogram2d"
           }
          ],
          "histogram2dcontour": [
           {
            "colorbar": {
             "outlinewidth": 0,
             "ticks": ""
            },
            "colorscale": [
             [
              0,
              "#0d0887"
             ],
             [
              0.1111111111111111,
              "#46039f"
             ],
             [
              0.2222222222222222,
              "#7201a8"
             ],
             [
              0.3333333333333333,
              "#9c179e"
             ],
             [
              0.4444444444444444,
              "#bd3786"
             ],
             [
              0.5555555555555556,
              "#d8576b"
             ],
             [
              0.6666666666666666,
              "#ed7953"
             ],
             [
              0.7777777777777778,
              "#fb9f3a"
             ],
             [
              0.8888888888888888,
              "#fdca26"
             ],
             [
              1,
              "#f0f921"
             ]
            ],
            "type": "histogram2dcontour"
           }
          ],
          "mesh3d": [
           {
            "colorbar": {
             "outlinewidth": 0,
             "ticks": ""
            },
            "type": "mesh3d"
           }
          ],
          "parcoords": [
           {
            "line": {
             "colorbar": {
              "outlinewidth": 0,
              "ticks": ""
             }
            },
            "type": "parcoords"
           }
          ],
          "pie": [
           {
            "automargin": true,
            "type": "pie"
           }
          ],
          "scatter": [
           {
            "fillpattern": {
             "fillmode": "overlay",
             "size": 10,
             "solidity": 0.2
            },
            "type": "scatter"
           }
          ],
          "scatter3d": [
           {
            "line": {
             "colorbar": {
              "outlinewidth": 0,
              "ticks": ""
             }
            },
            "marker": {
             "colorbar": {
              "outlinewidth": 0,
              "ticks": ""
             }
            },
            "type": "scatter3d"
           }
          ],
          "scattercarpet": [
           {
            "marker": {
             "colorbar": {
              "outlinewidth": 0,
              "ticks": ""
             }
            },
            "type": "scattercarpet"
           }
          ],
          "scattergeo": [
           {
            "marker": {
             "colorbar": {
              "outlinewidth": 0,
              "ticks": ""
             }
            },
            "type": "scattergeo"
           }
          ],
          "scattergl": [
           {
            "marker": {
             "colorbar": {
              "outlinewidth": 0,
              "ticks": ""
             }
            },
            "type": "scattergl"
           }
          ],
          "scattermap": [
           {
            "marker": {
             "colorbar": {
              "outlinewidth": 0,
              "ticks": ""
             }
            },
            "type": "scattermap"
           }
          ],
          "scattermapbox": [
           {
            "marker": {
             "colorbar": {
              "outlinewidth": 0,
              "ticks": ""
             }
            },
            "type": "scattermapbox"
           }
          ],
          "scatterpolar": [
           {
            "marker": {
             "colorbar": {
              "outlinewidth": 0,
              "ticks": ""
             }
            },
            "type": "scatterpolar"
           }
          ],
          "scatterpolargl": [
           {
            "marker": {
             "colorbar": {
              "outlinewidth": 0,
              "ticks": ""
             }
            },
            "type": "scatterpolargl"
           }
          ],
          "scatterternary": [
           {
            "marker": {
             "colorbar": {
              "outlinewidth": 0,
              "ticks": ""
             }
            },
            "type": "scatterternary"
           }
          ],
          "surface": [
           {
            "colorbar": {
             "outlinewidth": 0,
             "ticks": ""
            },
            "colorscale": [
             [
              0,
              "#0d0887"
             ],
             [
              0.1111111111111111,
              "#46039f"
             ],
             [
              0.2222222222222222,
              "#7201a8"
             ],
             [
              0.3333333333333333,
              "#9c179e"
             ],
             [
              0.4444444444444444,
              "#bd3786"
             ],
             [
              0.5555555555555556,
              "#d8576b"
             ],
             [
              0.6666666666666666,
              "#ed7953"
             ],
             [
              0.7777777777777778,
              "#fb9f3a"
             ],
             [
              0.8888888888888888,
              "#fdca26"
             ],
             [
              1,
              "#f0f921"
             ]
            ],
            "type": "surface"
           }
          ],
          "table": [
           {
            "cells": {
             "fill": {
              "color": "#EBF0F8"
             },
             "line": {
              "color": "white"
             }
            },
            "header": {
             "fill": {
              "color": "#C8D4E3"
             },
             "line": {
              "color": "white"
             }
            },
            "type": "table"
           }
          ]
         },
         "layout": {
          "annotationdefaults": {
           "arrowcolor": "#2a3f5f",
           "arrowhead": 0,
           "arrowwidth": 1
          },
          "autotypenumbers": "strict",
          "coloraxis": {
           "colorbar": {
            "outlinewidth": 0,
            "ticks": ""
           }
          },
          "colorscale": {
           "diverging": [
            [
             0,
             "#8e0152"
            ],
            [
             0.1,
             "#c51b7d"
            ],
            [
             0.2,
             "#de77ae"
            ],
            [
             0.3,
             "#f1b6da"
            ],
            [
             0.4,
             "#fde0ef"
            ],
            [
             0.5,
             "#f7f7f7"
            ],
            [
             0.6,
             "#e6f5d0"
            ],
            [
             0.7,
             "#b8e186"
            ],
            [
             0.8,
             "#7fbc41"
            ],
            [
             0.9,
             "#4d9221"
            ],
            [
             1,
             "#276419"
            ]
           ],
           "sequential": [
            [
             0,
             "#0d0887"
            ],
            [
             0.1111111111111111,
             "#46039f"
            ],
            [
             0.2222222222222222,
             "#7201a8"
            ],
            [
             0.3333333333333333,
             "#9c179e"
            ],
            [
             0.4444444444444444,
             "#bd3786"
            ],
            [
             0.5555555555555556,
             "#d8576b"
            ],
            [
             0.6666666666666666,
             "#ed7953"
            ],
            [
             0.7777777777777778,
             "#fb9f3a"
            ],
            [
             0.8888888888888888,
             "#fdca26"
            ],
            [
             1,
             "#f0f921"
            ]
           ],
           "sequentialminus": [
            [
             0,
             "#0d0887"
            ],
            [
             0.1111111111111111,
             "#46039f"
            ],
            [
             0.2222222222222222,
             "#7201a8"
            ],
            [
             0.3333333333333333,
             "#9c179e"
            ],
            [
             0.4444444444444444,
             "#bd3786"
            ],
            [
             0.5555555555555556,
             "#d8576b"
            ],
            [
             0.6666666666666666,
             "#ed7953"
            ],
            [
             0.7777777777777778,
             "#fb9f3a"
            ],
            [
             0.8888888888888888,
             "#fdca26"
            ],
            [
             1,
             "#f0f921"
            ]
           ]
          },
          "colorway": [
           "#636efa",
           "#EF553B",
           "#00cc96",
           "#ab63fa",
           "#FFA15A",
           "#19d3f3",
           "#FF6692",
           "#B6E880",
           "#FF97FF",
           "#FECB52"
          ],
          "font": {
           "color": "#2a3f5f"
          },
          "geo": {
           "bgcolor": "white",
           "lakecolor": "white",
           "landcolor": "white",
           "showlakes": true,
           "showland": true,
           "subunitcolor": "#C8D4E3"
          },
          "hoverlabel": {
           "align": "left"
          },
          "hovermode": "closest",
          "mapbox": {
           "style": "light"
          },
          "paper_bgcolor": "white",
          "plot_bgcolor": "white",
          "polar": {
           "angularaxis": {
            "gridcolor": "#EBF0F8",
            "linecolor": "#EBF0F8",
            "ticks": ""
           },
           "bgcolor": "white",
           "radialaxis": {
            "gridcolor": "#EBF0F8",
            "linecolor": "#EBF0F8",
            "ticks": ""
           }
          },
          "scene": {
           "xaxis": {
            "backgroundcolor": "white",
            "gridcolor": "#DFE8F3",
            "gridwidth": 2,
            "linecolor": "#EBF0F8",
            "showbackground": true,
            "ticks": "",
            "zerolinecolor": "#EBF0F8"
           },
           "yaxis": {
            "backgroundcolor": "white",
            "gridcolor": "#DFE8F3",
            "gridwidth": 2,
            "linecolor": "#EBF0F8",
            "showbackground": true,
            "ticks": "",
            "zerolinecolor": "#EBF0F8"
           },
           "zaxis": {
            "backgroundcolor": "white",
            "gridcolor": "#DFE8F3",
            "gridwidth": 2,
            "linecolor": "#EBF0F8",
            "showbackground": true,
            "ticks": "",
            "zerolinecolor": "#EBF0F8"
           }
          },
          "shapedefaults": {
           "line": {
            "color": "#2a3f5f"
           }
          },
          "ternary": {
           "aaxis": {
            "gridcolor": "#DFE8F3",
            "linecolor": "#A2B1C6",
            "ticks": ""
           },
           "baxis": {
            "gridcolor": "#DFE8F3",
            "linecolor": "#A2B1C6",
            "ticks": ""
           },
           "bgcolor": "white",
           "caxis": {
            "gridcolor": "#DFE8F3",
            "linecolor": "#A2B1C6",
            "ticks": ""
           }
          },
          "title": {
           "x": 0.05
          },
          "xaxis": {
           "automargin": true,
           "gridcolor": "#EBF0F8",
           "linecolor": "#EBF0F8",
           "ticks": "",
           "title": {
            "standoff": 15
           },
           "zerolinecolor": "#EBF0F8",
           "zerolinewidth": 2
          },
          "yaxis": {
           "automargin": true,
           "gridcolor": "#EBF0F8",
           "linecolor": "#EBF0F8",
           "ticks": "",
           "title": {
            "standoff": 15
           },
           "zerolinecolor": "#EBF0F8",
           "zerolinewidth": 2
          }
         }
        },
        "title": {
         "text": "📈 Strategy Performance"
        },
        "xaxis": {
         "title": {
          "text": "Time"
         }
        },
        "yaxis": {
         "title": {
          "text": "Cumulative Pips"
         }
        },
        "yaxis2": {
         "overlaying": "y",
         "side": "right",
         "title": {
          "text": "Account Balance ($)"
         }
        }
       }
      }
     },
     "metadata": {},
     "output_type": "display_data"
    },
    {
     "name": "stdout",
     "output_type": "stream",
     "text": [
      "EUR_USD H4\n",
      "📈 Total Trades: 7\n",
      "💰 Total Pips: 30.6\n",
      "✅ Win Rate: 71.43%\n",
      "💵 Total $ Gain: $603.59\n",
      "📊 Percent Gain: 6.04%\n"
     ]
    },
    {
     "data": {
      "application/vnd.plotly.v1+json": {
       "config": {
        "plotlyServerURL": "https://plot.ly"
       },
       "data": [
        {
         "line": {
          "width": 2
         },
         "marker": {
          "size": 4
         },
         "mode": "lines+markers",
         "name": "Cumulative Pips",
         "type": "scatter",
         "x": [
          "2020-02-27T06:00:00+00:00",
          "2021-06-30T13:00:00+00:00",
          "2021-07-28T17:00:00+00:00",
          "2022-05-04T17:00:00+00:00",
          "2024-01-31T18:00:00+00:00",
          "2024-02-11T22:00:00+00:00",
          "2024-10-30T09:00:00+00:00"
         ],
         "y": [
          46.4500000000001,
          -40.75000000000051,
          -10.44999999999963,
          37.80000000000116,
          -23.800000000000495,
          1.5999999999993726,
          30.60000000000062
         ]
        },
        {
         "line": {
          "width": 2
         },
         "marker": {
          "size": 4
         },
         "mode": "lines+markers",
         "name": "Account Balance ($)",
         "type": "scatter",
         "x": [
          "2020-02-27T06:00:00+00:00",
          "2021-06-30T13:00:00+00:00",
          "2021-07-28T17:00:00+00:00",
          "2022-05-04T17:00:00+00:00",
          "2024-01-31T18:00:00+00:00",
          "2024-02-11T22:00:00+00:00",
          "2024-10-30T09:00:00+00:00"
         ],
         "y": {
          "bdata": "AAAAAADsw0AAAAAAAIbDQClcj8L16cNAfPKwUOtPxECi7Zi66+fDQCXo7dfWTcRAv5XEx8u1xEA=",
          "dtype": "f8"
         },
         "yaxis": "y2"
        }
       ],
       "layout": {
        "hovermode": "x unified",
        "legend": {
         "x": 0.01,
         "y": 0.99
        },
        "template": {
         "data": {
          "bar": [
           {
            "error_x": {
             "color": "#2a3f5f"
            },
            "error_y": {
             "color": "#2a3f5f"
            },
            "marker": {
             "line": {
              "color": "white",
              "width": 0.5
             },
             "pattern": {
              "fillmode": "overlay",
              "size": 10,
              "solidity": 0.2
             }
            },
            "type": "bar"
           }
          ],
          "barpolar": [
           {
            "marker": {
             "line": {
              "color": "white",
              "width": 0.5
             },
             "pattern": {
              "fillmode": "overlay",
              "size": 10,
              "solidity": 0.2
             }
            },
            "type": "barpolar"
           }
          ],
          "carpet": [
           {
            "aaxis": {
             "endlinecolor": "#2a3f5f",
             "gridcolor": "#C8D4E3",
             "linecolor": "#C8D4E3",
             "minorgridcolor": "#C8D4E3",
             "startlinecolor": "#2a3f5f"
            },
            "baxis": {
             "endlinecolor": "#2a3f5f",
             "gridcolor": "#C8D4E3",
             "linecolor": "#C8D4E3",
             "minorgridcolor": "#C8D4E3",
             "startlinecolor": "#2a3f5f"
            },
            "type": "carpet"
           }
          ],
          "choropleth": [
           {
            "colorbar": {
             "outlinewidth": 0,
             "ticks": ""
            },
            "type": "choropleth"
           }
          ],
          "contour": [
           {
            "colorbar": {
             "outlinewidth": 0,
             "ticks": ""
            },
            "colorscale": [
             [
              0,
              "#0d0887"
             ],
             [
              0.1111111111111111,
              "#46039f"
             ],
             [
              0.2222222222222222,
              "#7201a8"
             ],
             [
              0.3333333333333333,
              "#9c179e"
             ],
             [
              0.4444444444444444,
              "#bd3786"
             ],
             [
              0.5555555555555556,
              "#d8576b"
             ],
             [
              0.6666666666666666,
              "#ed7953"
             ],
             [
              0.7777777777777778,
              "#fb9f3a"
             ],
             [
              0.8888888888888888,
              "#fdca26"
             ],
             [
              1,
              "#f0f921"
             ]
            ],
            "type": "contour"
           }
          ],
          "contourcarpet": [
           {
            "colorbar": {
             "outlinewidth": 0,
             "ticks": ""
            },
            "type": "contourcarpet"
           }
          ],
          "heatmap": [
           {
            "colorbar": {
             "outlinewidth": 0,
             "ticks": ""
            },
            "colorscale": [
             [
              0,
              "#0d0887"
             ],
             [
              0.1111111111111111,
              "#46039f"
             ],
             [
              0.2222222222222222,
              "#7201a8"
             ],
             [
              0.3333333333333333,
              "#9c179e"
             ],
             [
              0.4444444444444444,
              "#bd3786"
             ],
             [
              0.5555555555555556,
              "#d8576b"
             ],
             [
              0.6666666666666666,
              "#ed7953"
             ],
             [
              0.7777777777777778,
              "#fb9f3a"
             ],
             [
              0.8888888888888888,
              "#fdca26"
             ],
             [
              1,
              "#f0f921"
             ]
            ],
            "type": "heatmap"
           }
          ],
          "histogram": [
           {
            "marker": {
             "pattern": {
              "fillmode": "overlay",
              "size": 10,
              "solidity": 0.2
             }
            },
            "type": "histogram"
           }
          ],
          "histogram2d": [
           {
            "colorbar": {
             "outlinewidth": 0,
             "ticks": ""
            },
            "colorscale": [
             [
              0,
              "#0d0887"
             ],
             [
              0.1111111111111111,
              "#46039f"
             ],
             [
              0.2222222222222222,
              "#7201a8"
             ],
             [
              0.3333333333333333,
              "#9c179e"
             ],
             [
              0.4444444444444444,
              "#bd3786"
             ],
             [
              0.5555555555555556,
              "#d8576b"
             ],
             [
              0.6666666666666666,
              "#ed7953"
             ],
             [
              0.7777777777777778,
              "#fb9f3a"
             ],
             [
              0.8888888888888888,
              "#fdca26"
             ],
             [
              1,
              "#f0f921"
             ]
            ],
            "type": "histogram2d"
           }
          ],
          "histogram2dcontour": [
           {
            "colorbar": {
             "outlinewidth": 0,
             "ticks": ""
            },
            "colorscale": [
             [
              0,
              "#0d0887"
             ],
             [
              0.1111111111111111,
              "#46039f"
             ],
             [
              0.2222222222222222,
              "#7201a8"
             ],
             [
              0.3333333333333333,
              "#9c179e"
             ],
             [
              0.4444444444444444,
              "#bd3786"
             ],
             [
              0.5555555555555556,
              "#d8576b"
             ],
             [
              0.6666666666666666,
              "#ed7953"
             ],
             [
              0.7777777777777778,
              "#fb9f3a"
             ],
             [
              0.8888888888888888,
              "#fdca26"
             ],
             [
              1,
              "#f0f921"
             ]
            ],
            "type": "histogram2dcontour"
           }
          ],
          "mesh3d": [
           {
            "colorbar": {
             "outlinewidth": 0,
             "ticks": ""
            },
            "type": "mesh3d"
           }
          ],
          "parcoords": [
           {
            "line": {
             "colorbar": {
              "outlinewidth": 0,
              "ticks": ""
             }
            },
            "type": "parcoords"
           }
          ],
          "pie": [
           {
            "automargin": true,
            "type": "pie"
           }
          ],
          "scatter": [
           {
            "fillpattern": {
             "fillmode": "overlay",
             "size": 10,
             "solidity": 0.2
            },
            "type": "scatter"
           }
          ],
          "scatter3d": [
           {
            "line": {
             "colorbar": {
              "outlinewidth": 0,
              "ticks": ""
             }
            },
            "marker": {
             "colorbar": {
              "outlinewidth": 0,
              "ticks": ""
             }
            },
            "type": "scatter3d"
           }
          ],
          "scattercarpet": [
           {
            "marker": {
             "colorbar": {
              "outlinewidth": 0,
              "ticks": ""
             }
            },
            "type": "scattercarpet"
           }
          ],
          "scattergeo": [
           {
            "marker": {
             "colorbar": {
              "outlinewidth": 0,
              "ticks": ""
             }
            },
            "type": "scattergeo"
           }
          ],
          "scattergl": [
           {
            "marker": {
             "colorbar": {
              "outlinewidth": 0,
              "ticks": ""
             }
            },
            "type": "scattergl"
           }
          ],
          "scattermap": [
           {
            "marker": {
             "colorbar": {
              "outlinewidth": 0,
              "ticks": ""
             }
            },
            "type": "scattermap"
           }
          ],
          "scattermapbox": [
           {
            "marker": {
             "colorbar": {
              "outlinewidth": 0,
              "ticks": ""
             }
            },
            "type": "scattermapbox"
           }
          ],
          "scatterpolar": [
           {
            "marker": {
             "colorbar": {
              "outlinewidth": 0,
              "ticks": ""
             }
            },
            "type": "scatterpolar"
           }
          ],
          "scatterpolargl": [
           {
            "marker": {
             "colorbar": {
              "outlinewidth": 0,
              "ticks": ""
             }
            },
            "type": "scatterpolargl"
           }
          ],
          "scatterternary": [
           {
            "marker": {
             "colorbar": {
              "outlinewidth": 0,
              "ticks": ""
             }
            },
            "type": "scatterternary"
           }
          ],
          "surface": [
           {
            "colorbar": {
             "outlinewidth": 0,
             "ticks": ""
            },
            "colorscale": [
             [
              0,
              "#0d0887"
             ],
             [
              0.1111111111111111,
              "#46039f"
             ],
             [
              0.2222222222222222,
              "#7201a8"
             ],
             [
              0.3333333333333333,
              "#9c179e"
             ],
             [
              0.4444444444444444,
              "#bd3786"
             ],
             [
              0.5555555555555556,
              "#d8576b"
             ],
             [
              0.6666666666666666,
              "#ed7953"
             ],
             [
              0.7777777777777778,
              "#fb9f3a"
             ],
             [
              0.8888888888888888,
              "#fdca26"
             ],
             [
              1,
              "#f0f921"
             ]
            ],
            "type": "surface"
           }
          ],
          "table": [
           {
            "cells": {
             "fill": {
              "color": "#EBF0F8"
             },
             "line": {
              "color": "white"
             }
            },
            "header": {
             "fill": {
              "color": "#C8D4E3"
             },
             "line": {
              "color": "white"
             }
            },
            "type": "table"
           }
          ]
         },
         "layout": {
          "annotationdefaults": {
           "arrowcolor": "#2a3f5f",
           "arrowhead": 0,
           "arrowwidth": 1
          },
          "autotypenumbers": "strict",
          "coloraxis": {
           "colorbar": {
            "outlinewidth": 0,
            "ticks": ""
           }
          },
          "colorscale": {
           "diverging": [
            [
             0,
             "#8e0152"
            ],
            [
             0.1,
             "#c51b7d"
            ],
            [
             0.2,
             "#de77ae"
            ],
            [
             0.3,
             "#f1b6da"
            ],
            [
             0.4,
             "#fde0ef"
            ],
            [
             0.5,
             "#f7f7f7"
            ],
            [
             0.6,
             "#e6f5d0"
            ],
            [
             0.7,
             "#b8e186"
            ],
            [
             0.8,
             "#7fbc41"
            ],
            [
             0.9,
             "#4d9221"
            ],
            [
             1,
             "#276419"
            ]
           ],
           "sequential": [
            [
             0,
             "#0d0887"
            ],
            [
             0.1111111111111111,
             "#46039f"
            ],
            [
             0.2222222222222222,
             "#7201a8"
            ],
            [
             0.3333333333333333,
             "#9c179e"
            ],
            [
             0.4444444444444444,
             "#bd3786"
            ],
            [
             0.5555555555555556,
             "#d8576b"
            ],
            [
             0.6666666666666666,
             "#ed7953"
            ],
            [
             0.7777777777777778,
             "#fb9f3a"
            ],
            [
             0.8888888888888888,
             "#fdca26"
            ],
            [
             1,
             "#f0f921"
            ]
           ],
           "sequentialminus": [
            [
             0,
             "#0d0887"
            ],
            [
             0.1111111111111111,
             "#46039f"
            ],
            [
             0.2222222222222222,
             "#7201a8"
            ],
            [
             0.3333333333333333,
             "#9c179e"
            ],
            [
             0.4444444444444444,
             "#bd3786"
            ],
            [
             0.5555555555555556,
             "#d8576b"
            ],
            [
             0.6666666666666666,
             "#ed7953"
            ],
            [
             0.7777777777777778,
             "#fb9f3a"
            ],
            [
             0.8888888888888888,
             "#fdca26"
            ],
            [
             1,
             "#f0f921"
            ]
           ]
          },
          "colorway": [
           "#636efa",
           "#EF553B",
           "#00cc96",
           "#ab63fa",
           "#FFA15A",
           "#19d3f3",
           "#FF6692",
           "#B6E880",
           "#FF97FF",
           "#FECB52"
          ],
          "font": {
           "color": "#2a3f5f"
          },
          "geo": {
           "bgcolor": "white",
           "lakecolor": "white",
           "landcolor": "white",
           "showlakes": true,
           "showland": true,
           "subunitcolor": "#C8D4E3"
          },
          "hoverlabel": {
           "align": "left"
          },
          "hovermode": "closest",
          "mapbox": {
           "style": "light"
          },
          "paper_bgcolor": "white",
          "plot_bgcolor": "white",
          "polar": {
           "angularaxis": {
            "gridcolor": "#EBF0F8",
            "linecolor": "#EBF0F8",
            "ticks": ""
           },
           "bgcolor": "white",
           "radialaxis": {
            "gridcolor": "#EBF0F8",
            "linecolor": "#EBF0F8",
            "ticks": ""
           }
          },
          "scene": {
           "xaxis": {
            "backgroundcolor": "white",
            "gridcolor": "#DFE8F3",
            "gridwidth": 2,
            "linecolor": "#EBF0F8",
            "showbackground": true,
            "ticks": "",
            "zerolinecolor": "#EBF0F8"
           },
           "yaxis": {
            "backgroundcolor": "white",
            "gridcolor": "#DFE8F3",
            "gridwidth": 2,
            "linecolor": "#EBF0F8",
            "showbackground": true,
            "ticks": "",
            "zerolinecolor": "#EBF0F8"
           },
           "zaxis": {
            "backgroundcolor": "white",
            "gridcolor": "#DFE8F3",
            "gridwidth": 2,
            "linecolor": "#EBF0F8",
            "showbackground": true,
            "ticks": "",
            "zerolinecolor": "#EBF0F8"
           }
          },
          "shapedefaults": {
           "line": {
            "color": "#2a3f5f"
           }
          },
          "ternary": {
           "aaxis": {
            "gridcolor": "#DFE8F3",
            "linecolor": "#A2B1C6",
            "ticks": ""
           },
           "baxis": {
            "gridcolor": "#DFE8F3",
            "linecolor": "#A2B1C6",
            "ticks": ""
           },
           "bgcolor": "white",
           "caxis": {
            "gridcolor": "#DFE8F3",
            "linecolor": "#A2B1C6",
            "ticks": ""
           }
          },
          "title": {
           "x": 0.05
          },
          "xaxis": {
           "automargin": true,
           "gridcolor": "#EBF0F8",
           "linecolor": "#EBF0F8",
           "ticks": "",
           "title": {
            "standoff": 15
           },
           "zerolinecolor": "#EBF0F8",
           "zerolinewidth": 2
          },
          "yaxis": {
           "automargin": true,
           "gridcolor": "#EBF0F8",
           "linecolor": "#EBF0F8",
           "ticks": "",
           "title": {
            "standoff": 15
           },
           "zerolinecolor": "#EBF0F8",
           "zerolinewidth": 2
          }
         }
        },
        "title": {
         "text": "📈 Strategy Performance"
        },
        "xaxis": {
         "title": {
          "text": "Time"
         }
        },
        "yaxis": {
         "title": {
          "text": "Cumulative Pips"
         }
        },
        "yaxis2": {
         "overlaying": "y",
         "side": "right",
         "title": {
          "text": "Account Balance ($)"
         }
        }
       }
      }
     },
     "metadata": {},
     "output_type": "display_data"
    }
   ],
   "source": [
    "pairs = [\"EUR_USD\"]\n",
    "granularities = ['M5', 'M30', 'H1', 'H4']\n",
    "\n",
    "for pair in pairs:\n",
    "    for g in granularities:\n",
    "        print(f\"{pair} {g}\")\n",
    "        df = pd.read_pickle(f\"../backtesting/results/{pair}_{g}_analyzed.pkl\")\n",
    "        summarize_trades(df)"
   ]
  },
  {
   "cell_type": "code",
   "execution_count": 79,
   "metadata": {},
   "outputs": [
    {
     "name": "stdout",
     "output_type": "stream",
     "text": [
      "AUD_USD M5\n"
     ]
    },
    {
     "ename": "FileNotFoundError",
     "evalue": "[Errno 2] No such file or directory: '../backtesting/results/AUD_USD_M5_analyzed.pkl'",
     "output_type": "error",
     "traceback": [
      "\u001b[31m---------------------------------------------------------------------------\u001b[39m",
      "\u001b[31mFileNotFoundError\u001b[39m                         Traceback (most recent call last)",
      "\u001b[36mCell\u001b[39m\u001b[36m \u001b[39m\u001b[32mIn[79]\u001b[39m\u001b[32m, line 7\u001b[39m\n\u001b[32m      5\u001b[39m \u001b[38;5;28;01mfor\u001b[39;00m g \u001b[38;5;129;01min\u001b[39;00m granularities:\n\u001b[32m      6\u001b[39m     \u001b[38;5;28mprint\u001b[39m(\u001b[33mf\u001b[39m\u001b[33m\"\u001b[39m\u001b[38;5;132;01m{\u001b[39;00mpair\u001b[38;5;132;01m}\u001b[39;00m\u001b[33m \u001b[39m\u001b[38;5;132;01m{\u001b[39;00mg\u001b[38;5;132;01m}\u001b[39;00m\u001b[33m\"\u001b[39m)\n\u001b[32m----> \u001b[39m\u001b[32m7\u001b[39m     df = \u001b[43mpd\u001b[49m\u001b[43m.\u001b[49m\u001b[43mread_pickle\u001b[49m\u001b[43m(\u001b[49m\u001b[33;43mf\u001b[39;49m\u001b[33;43m\"\u001b[39;49m\u001b[33;43m../backtesting/results/\u001b[39;49m\u001b[38;5;132;43;01m{\u001b[39;49;00m\u001b[43mpair\u001b[49m\u001b[38;5;132;43;01m}\u001b[39;49;00m\u001b[33;43m_\u001b[39;49m\u001b[38;5;132;43;01m{\u001b[39;49;00m\u001b[43mg\u001b[49m\u001b[38;5;132;43;01m}\u001b[39;49;00m\u001b[33;43m_analyzed.pkl\u001b[39;49m\u001b[33;43m\"\u001b[39;49m\u001b[43m)\u001b[49m\n\u001b[32m      8\u001b[39m     summarize_trades(df)\n",
      "\u001b[36mFile \u001b[39m\u001b[32mm:\\Documents\\trading\\bots\\wirly-dirly\\venv\\Lib\\site-packages\\pandas\\io\\pickle.py:185\u001b[39m, in \u001b[36mread_pickle\u001b[39m\u001b[34m(filepath_or_buffer, compression, storage_options)\u001b[39m\n\u001b[32m    123\u001b[39m \u001b[38;5;250m\u001b[39m\u001b[33;03m\"\"\"\u001b[39;00m\n\u001b[32m    124\u001b[39m \u001b[33;03mLoad pickled pandas object (or any object) from file.\u001b[39;00m\n\u001b[32m    125\u001b[39m \n\u001b[32m   (...)\u001b[39m\u001b[32m    182\u001b[39m \u001b[33;03m4    4    9\u001b[39;00m\n\u001b[32m    183\u001b[39m \u001b[33;03m\"\"\"\u001b[39;00m\n\u001b[32m    184\u001b[39m excs_to_catch = (\u001b[38;5;167;01mAttributeError\u001b[39;00m, \u001b[38;5;167;01mImportError\u001b[39;00m, \u001b[38;5;167;01mModuleNotFoundError\u001b[39;00m, \u001b[38;5;167;01mTypeError\u001b[39;00m)\n\u001b[32m--> \u001b[39m\u001b[32m185\u001b[39m \u001b[38;5;28;01mwith\u001b[39;00m \u001b[43mget_handle\u001b[49m\u001b[43m(\u001b[49m\n\u001b[32m    186\u001b[39m \u001b[43m    \u001b[49m\u001b[43mfilepath_or_buffer\u001b[49m\u001b[43m,\u001b[49m\n\u001b[32m    187\u001b[39m \u001b[43m    \u001b[49m\u001b[33;43m\"\u001b[39;49m\u001b[33;43mrb\u001b[39;49m\u001b[33;43m\"\u001b[39;49m\u001b[43m,\u001b[49m\n\u001b[32m    188\u001b[39m \u001b[43m    \u001b[49m\u001b[43mcompression\u001b[49m\u001b[43m=\u001b[49m\u001b[43mcompression\u001b[49m\u001b[43m,\u001b[49m\n\u001b[32m    189\u001b[39m \u001b[43m    \u001b[49m\u001b[43mis_text\u001b[49m\u001b[43m=\u001b[49m\u001b[38;5;28;43;01mFalse\u001b[39;49;00m\u001b[43m,\u001b[49m\n\u001b[32m    190\u001b[39m \u001b[43m    \u001b[49m\u001b[43mstorage_options\u001b[49m\u001b[43m=\u001b[49m\u001b[43mstorage_options\u001b[49m\u001b[43m,\u001b[49m\n\u001b[32m    191\u001b[39m \u001b[43m\u001b[49m\u001b[43m)\u001b[49m \u001b[38;5;28;01mas\u001b[39;00m handles:\n\u001b[32m    192\u001b[39m     \u001b[38;5;66;03m# 1) try standard library Pickle\u001b[39;00m\n\u001b[32m    193\u001b[39m     \u001b[38;5;66;03m# 2) try pickle_compat (older pandas version) to handle subclass changes\u001b[39;00m\n\u001b[32m    194\u001b[39m     \u001b[38;5;66;03m# 3) try pickle_compat with latin-1 encoding upon a UnicodeDecodeError\u001b[39;00m\n\u001b[32m    196\u001b[39m     \u001b[38;5;28;01mtry\u001b[39;00m:\n\u001b[32m    197\u001b[39m         \u001b[38;5;66;03m# TypeError for Cython complaints about object.__new__ vs Tick.__new__\u001b[39;00m\n\u001b[32m    198\u001b[39m         \u001b[38;5;28;01mtry\u001b[39;00m:\n",
      "\u001b[36mFile \u001b[39m\u001b[32mm:\\Documents\\trading\\bots\\wirly-dirly\\venv\\Lib\\site-packages\\pandas\\io\\common.py:882\u001b[39m, in \u001b[36mget_handle\u001b[39m\u001b[34m(path_or_buf, mode, encoding, compression, memory_map, is_text, errors, storage_options)\u001b[39m\n\u001b[32m    873\u001b[39m         handle = \u001b[38;5;28mopen\u001b[39m(\n\u001b[32m    874\u001b[39m             handle,\n\u001b[32m    875\u001b[39m             ioargs.mode,\n\u001b[32m   (...)\u001b[39m\u001b[32m    878\u001b[39m             newline=\u001b[33m\"\u001b[39m\u001b[33m\"\u001b[39m,\n\u001b[32m    879\u001b[39m         )\n\u001b[32m    880\u001b[39m     \u001b[38;5;28;01melse\u001b[39;00m:\n\u001b[32m    881\u001b[39m         \u001b[38;5;66;03m# Binary mode\u001b[39;00m\n\u001b[32m--> \u001b[39m\u001b[32m882\u001b[39m         handle = \u001b[38;5;28;43mopen\u001b[39;49m\u001b[43m(\u001b[49m\u001b[43mhandle\u001b[49m\u001b[43m,\u001b[49m\u001b[43m \u001b[49m\u001b[43mioargs\u001b[49m\u001b[43m.\u001b[49m\u001b[43mmode\u001b[49m\u001b[43m)\u001b[49m\n\u001b[32m    883\u001b[39m     handles.append(handle)\n\u001b[32m    885\u001b[39m \u001b[38;5;66;03m# Convert BytesIO or file objects passed with an encoding\u001b[39;00m\n",
      "\u001b[31mFileNotFoundError\u001b[39m: [Errno 2] No such file or directory: '../backtesting/results/AUD_USD_M5_analyzed.pkl'"
     ]
    }
   ],
   "source": [
    "pairs = [\"AUD_USD\", \"EUR_USD\", \"GBP_USD\", \"USD_CHF\", \"USD_JPY\"]\n",
    "granularities = ['M5', 'M30', 'H1', 'H4']\n",
    "\n",
    "for pair in pairs:\n",
    "    for g in granularities:\n",
    "        print(f\"{pair} {g}\")\n",
    "        df = pd.read_pickle(f\"../backtesting/results/{pair}_{g}_analyzed.pkl\")\n",
    "        summarize_trades(df)"
   ]
  },
  {
   "cell_type": "code",
   "execution_count": null,
   "metadata": {},
   "outputs": [],
   "source": [
    "pairs = [\"AUD_USD\", \"EUR_USD\", \"GBP_USD\", \"USD_CHF\", \"USD_JPY\", \"NZD_USD\", \"USD_CAD\"]\n",
    "for pair in pairs:\n",
    "    print(pair)\n",
    "    summarize_trades(f\"../backtesting/results/{pair}_H1_analyzed.pkl\")"
   ]
  },
  {
   "cell_type": "code",
   "execution_count": null,
   "metadata": {},
   "outputs": [],
   "source": [
    "df_an = pd.read_pickle('../data/GBP_USD_H4.pkl').copy()\n",
    "def apply_technicals(df):\n",
    "    df['sTime'] = [dt.datetime.strftime(x, \"s%y-%m-%d %H:%M\") for x in df.time]\n",
    "    trend.apply_downtrend(df)\n",
    "    df['bullish_strength_score'] = df.apply(pattern.bullish_strength, axis=1)\n",
    "    #need to make this not return a df but add in place\n",
    "    df = pattern.detect_bottom_reversal_setups(df)\n",
    "    zone.attach_zones_to_confirmations(df)\n",
    "    return df\n",
    "\n",
    "df_an = apply_technicals(df_an)\n",
    "df_an.head(40)"
   ]
  },
  {
   "cell_type": "code",
   "execution_count": null,
   "metadata": {},
   "outputs": [],
   "source": []
  },
  {
   "cell_type": "code",
   "execution_count": null,
   "metadata": {},
   "outputs": [],
   "source": [
    "\n"
   ]
  },
  {
   "cell_type": "code",
   "execution_count": null,
   "metadata": {},
   "outputs": [],
   "source": [
    "\n"
   ]
  },
  {
   "cell_type": "code",
   "execution_count": null,
   "metadata": {},
   "outputs": [],
   "source": []
  },
  {
   "cell_type": "code",
   "execution_count": null,
   "metadata": {},
   "outputs": [],
   "source": []
  },
  {
   "cell_type": "code",
   "execution_count": null,
   "metadata": {},
   "outputs": [],
   "source": []
  },
  {
   "cell_type": "code",
   "execution_count": null,
   "metadata": {},
   "outputs": [],
   "source": []
  },
  {
   "cell_type": "code",
   "execution_count": null,
   "metadata": {},
   "outputs": [],
   "source": []
  },
  {
   "cell_type": "code",
   "execution_count": null,
   "metadata": {},
   "outputs": [],
   "source": []
  },
  {
   "cell_type": "code",
   "execution_count": null,
   "metadata": {},
   "outputs": [],
   "source": []
  }
 ],
 "metadata": {
  "kernelspec": {
   "display_name": "venv",
   "language": "python",
   "name": "python3"
  },
  "language_info": {
   "codemirror_mode": {
    "name": "ipython",
    "version": 3
   },
   "file_extension": ".py",
   "mimetype": "text/x-python",
   "name": "python",
   "nbconvert_exporter": "python",
   "pygments_lexer": "ipython3",
   "version": "3.12.5"
  }
 },
 "nbformat": 4,
 "nbformat_minor": 2
}
