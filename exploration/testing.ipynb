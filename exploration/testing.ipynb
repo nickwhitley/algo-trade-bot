{
 "cells": [
  {
   "cell_type": "code",
   "execution_count": 7,
   "metadata": {},
   "outputs": [],
   "source": [
    "import sys\n",
    "sys.path.append(\"../\")\n",
    "import pandas as pd\n",
    "import datetime as dt\n",
    "from api.oanda_api import OandaApi\n",
    "from dateutil import parser\n",
    "import timeit\n",
    "import plotly.graph_objects as go\n",
    "import numpy as np\n",
    "from technicals import trend_checker\n",
    "from technicals import zone_detector\n",
    "from technicals import pattern_detector\n",
    "from scipy.signal import argrelextrema\n",
    "pd.set_option('display.max_columns', None)"
   ]
  },
  {
   "cell_type": "code",
   "execution_count": 3,
   "metadata": {},
   "outputs": [],
   "source": [
    "def apply_downtrend(df):\n",
    "    df['ma_10'] = df.mid_c.rolling(window=10).mean()\n",
    "    df['ma_50'] = df.mid_c.rolling(window=50).mean()\n",
    "    df['ma_100'] = df.mid_c.rolling(window=100).mean()\n",
    "    df['ma_150'] = df.mid_c.rolling(window=150).mean()\n",
    "    df['ma_200'] = df.mid_c.rolling(window=200).mean()\n",
    "    df['in_downtrend'] = df['ma_10'] < df['ma_150']\n",
    "    df.dropna(inplace=True)\n",
    "\n",
    "def detect_setup(\n",
    "    df,\n",
    "    strength_col='bullish_strength_score',\n",
    "    strength_threshold=0.7,\n",
    "    lookahead=25,\n",
    "    proximity_pips=0.0030,\n",
    "    rolling_window=40,\n",
    "    breakout_threshold=20  # in pips\n",
    "):\n",
    "    df = df.copy().reset_index(drop=True)\n",
    "    df['setup_stage'] = None\n",
    "\n",
    "    # Step 1: Bottom detection\n",
    "    df['is_bottom'] = (\n",
    "        (df['mid_l'] == df['mid_l'].rolling(window=rolling_window).min()) &\n",
    "        (df['in_downtrend'] == True)\n",
    "    )\n",
    "    df.loc[df['is_bottom'], 'setup_stage'] = 'bottom'\n",
    "\n",
    "    # Step 2: Track active zone\n",
    "    df['active_zone_low'] = None\n",
    "    df['active_zone_high'] = None\n",
    "\n",
    "    current_low = None\n",
    "    current_high = None\n",
    "    last_bottom_idx = None\n",
    "    breakout_found = False\n",
    "    reentry_found = False\n",
    "    confirmation_found = False\n",
    "\n",
    "    for i in range(len(df)):\n",
    "        if df.at[i, 'is_bottom']:\n",
    "            # New setup: reset everything\n",
    "            current_low = df.at[i, 'mid_l']\n",
    "            current_high = df.at[i, 'mid_h']\n",
    "            last_bottom_idx = i\n",
    "            breakout_found = False\n",
    "            reentry_found = False\n",
    "            confirmation_found = False\n",
    "\n",
    "        df.at[i, 'active_zone_low'] = current_low\n",
    "        df.at[i, 'active_zone_high'] = current_high\n",
    "\n",
    "        # Skip if setup was invalidated\n",
    "        if current_high is None:\n",
    "            continue\n",
    "\n",
    "        max_allowed_low = current_high + breakout_threshold / 10000.0\n",
    "\n",
    "        # Invalidate if price goes too far from zone\n",
    "        if breakout_found and df.at[i, 'mid_l'] > max_allowed_low:\n",
    "            current_low = None\n",
    "            current_high = None\n",
    "            last_bottom_idx = None\n",
    "            breakout_found = False\n",
    "            reentry_found = False\n",
    "            confirmation_found = False\n",
    "            df.at[i, 'active_zone_low'] = None\n",
    "            df.at[i, 'active_zone_high'] = None\n",
    "            continue\n",
    "\n",
    "        # Step 2: Breakout\n",
    "        if not breakout_found and df.at[i, 'mid_l'] > current_high:\n",
    "            df.at[i, 'setup_stage'] = 'breakout'\n",
    "            breakout_found = True\n",
    "            continue  # Reentry can't be on breakout candle\n",
    "\n",
    "        # Step 3: Reentry\n",
    "        if breakout_found and not reentry_found:\n",
    "            if current_low <= df.at[i, 'mid_l'] <= current_high:\n",
    "                df.at[i, 'setup_stage'] = 'reentry'\n",
    "                reentry_found = True\n",
    "                continue  # Confirmation comes after reentry\n",
    "\n",
    "        # Step 4: Confirmation (with spacing from bottom)\n",
    "        if breakout_found and reentry_found and not confirmation_found:\n",
    "            if df.at[i, strength_col] > strength_threshold:\n",
    "                if i - last_bottom_idx >= 6:  # ✅ Enforce minimum spacing from bottom\n",
    "                    df.at[i, 'setup_stage'] = 'confirmation'\n",
    "                    confirmation_found = True\n",
    "\n",
    "    return df\n",
    "\n",
    "\n",
    "\n",
    "\n",
    "def detect_bottom_reversal_setups(\n",
    "    df,\n",
    "    strength_col='bullish_strength_score',\n",
    "    strength_threshold=0.7,\n",
    "    lookahead=25,\n",
    "    proximity_pips=0.0030,\n",
    "    rolling_window=40,\n",
    "    breakout_threshold=20  # in pips (e.g. 30 = 0.0030)\n",
    "):\n",
    "    \"\"\"\n",
    "    Detects bottom reversal setups using new lows that occur only during downtrends.\n",
    "\n",
    "    A setup is:\n",
    "    1. A bottom candle (lowest in a window, while in_downtrend is True)\n",
    "    2. A breakout candle (low + high > zone high)\n",
    "    3. A reentry candle (low reenters the zone but never breaks below zone low)\n",
    "    4. A strong bullish candle (close near zone high and strength score high)\n",
    "\n",
    "    The setup is invalidated if any candle after reentry has a low greater than\n",
    "    breakout_threshold above the zone high.\n",
    "\n",
    "    Returns:\n",
    "        DataFrame with setup_stage column added.\n",
    "    \"\"\"\n",
    "    df = df.copy().reset_index(drop=True)\n",
    "    df['setup_stage'] = None\n",
    "\n",
    "    # Step 1: Tag bottom candles\n",
    "    df['is_bottom'] = (\n",
    "        (df['mid_l'] == df['mid_l'].rolling(window=rolling_window).min()) &\n",
    "        (df['in_downtrend'] == True)\n",
    "    )\n",
    "\n",
    "    df.loc[df['is_bottom'], 'setup_stage'] = 'bottom'\n",
    "    bottom_indexes = df.index[df['is_bottom']].tolist()\n",
    "\n",
    "    for i in bottom_indexes:\n",
    "        # 🔥 Always reset the active zone on every new bottom\n",
    "        active_zone_low = df.at[i, 'mid_l']\n",
    "        active_zone_high = df.at[i, 'mid_h']\n",
    "        active_bottom_idx = i\n",
    "\n",
    "        # Step 2: Look for breakout\n",
    "        breakout_idx = None\n",
    "        for j in range(i + 1, len(df)):\n",
    "            row_j = df.iloc[j]\n",
    "            if row_j['mid_l'] < active_zone_low:\n",
    "                break  # Setup invalidated by lower low\n",
    "            if row_j['mid_l'] > active_zone_high and row_j['mid_h'] > active_zone_high:\n",
    "                breakout_idx = j\n",
    "                break\n",
    "\n",
    "        if breakout_idx is None or breakout_idx - i > lookahead:\n",
    "            continue\n",
    "\n",
    "        # Step 3: Reentry\n",
    "        reentry_idx = None\n",
    "        for k in range(breakout_idx + 1, breakout_idx + lookahead):\n",
    "            if k >= len(df):\n",
    "                break\n",
    "            row_k = df.iloc[k]\n",
    "            if active_zone_low <= row_k['mid_l'] <= active_zone_high:\n",
    "                reentry_idx = k\n",
    "                break\n",
    "            if row_k['mid_l'] < active_zone_low:\n",
    "                break  # Invalidated by new low\n",
    "\n",
    "        if reentry_idx is None:\n",
    "            continue\n",
    "\n",
    "        # Step 4: Confirmation + breakout distance check\n",
    "        confirmation_found = False\n",
    "        breakout_distance_limit = active_zone_high + breakout_threshold / 10000.0\n",
    "        df['breakout_distance_limit'] = breakout_distance_limit\n",
    "        df['active_zone_high'] = active_zone_high\n",
    "        df['breakout_threshold'] = breakout_threshold / 10000.0\n",
    "        for m in range(reentry_idx + 1, reentry_idx + lookahead):\n",
    "            if m >= len(df):\n",
    "                break\n",
    "            row_m = df.iloc[m]\n",
    "\n",
    "            if row_m['mid_l'] < active_zone_low:\n",
    "                break  # Invalidated by new low\n",
    "            if row_m['mid_l'] > breakout_distance_limit:\n",
    "                break  # Price went too far — invalidated\n",
    "\n",
    "            if row_m[strength_col] >= strength_threshold:\n",
    "                if abs(row_m['mid_l'] - active_zone_high) <= proximity_pips:\n",
    "                    df.at[breakout_idx, 'setup_stage'] = 'breakout'\n",
    "                    df.at[reentry_idx, 'setup_stage'] = 'reentry'\n",
    "                    df.at[m, 'setup_stage'] = 'confirmation'\n",
    "                    confirmation_found = True\n",
    "                    break\n",
    "\n",
    "        # No need to manually reset active_* vars — loop resets on next bottom\n",
    "\n",
    "    return df\n",
    "\n",
    "\n",
    "def find_support_resistance(df, price_col='mid_c', high_col='mid_h', low_col='mid_l', window=3, clustering_threshold=0.0050):\n",
    "    \"\"\"\n",
    "    Identifies support and resistance levels in candlestick data.\n",
    "    \n",
    "    Args:\n",
    "        df (pd.DataFrame): Your OHLC dataframe.\n",
    "        price_col (str): Column name for close/mid price.\n",
    "        high_col (str): Column name for highs.\n",
    "        low_col (str): Column name for lows.\n",
    "        window (int): Lookback window to detect local highs/lows.\n",
    "        clustering_threshold (float): Maximum distance between levels to consider them the same zone.\n",
    "\n",
    "    Returns:\n",
    "        Tuple[List[float], List[float]]: (support_levels, resistance_levels)\n",
    "    \"\"\"\n",
    "    \n",
    "    local_min_idx = argrelextrema(df[low_col].values, np.less_equal, order=window)[0]\n",
    "    local_max_idx = argrelextrema(df[high_col].values, np.greater_equal, order=window)[0]\n",
    "\n",
    "    raw_supports = df.iloc[local_min_idx][low_col].values\n",
    "    raw_resistances = df.iloc[local_max_idx][high_col].values\n",
    "\n",
    "    def cluster_levels(levels):\n",
    "        clustered = []\n",
    "        levels = sorted(levels)\n",
    "        for level in levels:\n",
    "            if not clustered:\n",
    "                clustered.append([level])\n",
    "            elif abs(level - np.mean(clustered[-1])) <= clustering_threshold:\n",
    "                clustered[-1].append(level)\n",
    "            else:\n",
    "                clustered.append([level])\n",
    "        return [round(np.mean(group), 5) for group in clustered if len(group) >= 2]  # Only return stronger levels\n",
    "\n",
    "    support_levels = cluster_levels(raw_supports)\n",
    "    resistance_levels = cluster_levels(raw_resistances)\n",
    "\n",
    "    return support_levels, resistance_levels\n",
    "\n",
    "def get_zones_for_price(price, support_levels, resistance_levels, num_of_zones=3, min_gap=0.0, min_width=0.0015):\n",
    "    \"\"\"\n",
    "    Returns non-overlapping (support, resistance) zones where the support is above the given price,\n",
    "    and there's at least `min_gap` space and `min_width` size.\n",
    "\n",
    "    Args:\n",
    "        price (float): Current price.\n",
    "        support_levels (list of float): Detected support levels.\n",
    "        resistance_levels (list of float): Detected resistance levels.\n",
    "        num_of_zones (int): Number of zones to return.\n",
    "        min_gap (float): Minimum gap between zones.\n",
    "        min_width (float): Minimum acceptable width of a zone.\n",
    "\n",
    "    Returns:\n",
    "        List of tuples: [(support1, resistance1), (support2, resistance2), ...]\n",
    "    \"\"\"\n",
    "\n",
    "    support_levels = sorted(support_levels)\n",
    "    resistance_levels = sorted(resistance_levels)\n",
    "\n",
    "    zones = []\n",
    "    last_resistance = price\n",
    "\n",
    "    sup_above = [s for s in support_levels if s > price]\n",
    "\n",
    "    for support in sup_above:\n",
    "        if support <= last_resistance + min_gap:\n",
    "            continue\n",
    "\n",
    "        possible_resistances = [r for r in resistance_levels if r > support]\n",
    "        for resistance in possible_resistances:\n",
    "            width = resistance - support\n",
    "            if width >= min_width:\n",
    "                zones.append((support, resistance))\n",
    "                last_resistance = resistance\n",
    "                break  # Move on to the next zone\n",
    "\n",
    "        if len(zones) == num_of_zones:\n",
    "            break\n",
    "\n",
    "    return zones\n",
    "\n",
    "\n",
    "def attach_zones_to_confirmations(\n",
    "    df,\n",
    "    window=3,\n",
    "    clustering_threshold=0.0050,\n",
    "    num_of_zones=3\n",
    "):\n",
    "    \"\"\"\n",
    "    For each confirmation candle:\n",
    "        - Attach relevant support/resistance zones based on past data only\n",
    "        - Compute zone-to-stop-loss ratio using second zone\n",
    "        - Add 'confirmation_zones', 'zone_sl_ratio', and 'meets_ratio' columns\n",
    "    \"\"\"\n",
    "    from copy import deepcopy\n",
    "    df['confirmation_zones'] = None\n",
    "    df['zone_sl_ratio'] = None\n",
    "    df['meets_ratio'] = False\n",
    "\n",
    "    for i in range(len(df)):\n",
    "        if df.at[i, 'setup_stage'] == 'confirmation':\n",
    "            past_df = df.iloc[:i]\n",
    "            if len(past_df) < window * 2:\n",
    "                continue\n",
    "\n",
    "            support_levels, resistance_levels = find_support_resistance(\n",
    "                past_df,\n",
    "                price_col='mid_c',\n",
    "                high_col='mid_h',\n",
    "                low_col='mid_l',\n",
    "                window=window,\n",
    "                clustering_threshold=clustering_threshold\n",
    "            )\n",
    "\n",
    "            current_price = df.at[i, 'mid_c']\n",
    "            current_low = df.at[i, 'mid_l']\n",
    "\n",
    "            zones = get_zones_for_price(\n",
    "                price=current_price,\n",
    "                support_levels=support_levels,\n",
    "                resistance_levels=resistance_levels,\n",
    "                num_of_zones=num_of_zones\n",
    "            )\n",
    "\n",
    "            df.at[i, 'confirmation_zones'] = deepcopy(zones)\n",
    "\n",
    "            if len(zones) >= 2:\n",
    "                zone_top = zones[1][1]  # Top of second zone (resistance)\n",
    "                reward = zone_top - current_price\n",
    "                risk = current_price - current_low\n",
    "\n",
    "                if risk > 0:\n",
    "                    ratio = reward / risk\n",
    "                    df.at[i, 'zone_sl_ratio'] = round(ratio, 3)\n",
    "                    df.at[i, 'meets_ratio'] = ratio >= 1.0\n",
    "\n",
    "def apply_technicals(df):\n",
    "    df['sTime'] = [dt.datetime.strftime(x, \"s%y-%m-%d %H:%M\") for x in df.time]\n",
    "    apply_downtrend(df)\n",
    "    df['bullish_strength_score'] = [bullish_strength_with_context(df, i) for i in range(len(df))]\n",
    "    #need to make this not return a df but add in place\n",
    "    df = detect_setup(df)\n",
    "    attach_zones_to_confirmations(df)\n",
    "    return df\n",
    "\n",
    "def simulate_trades(df):\n",
    "    df['trade'] = None\n",
    "    df['pips'] = None\n",
    "\n",
    "    pip_size = 0.0001\n",
    "    active_trade = None\n",
    "\n",
    "    for i in range(len(df)):\n",
    "        row = df.iloc[i]\n",
    "\n",
    "        # Manage active trade\n",
    "        if active_trade:\n",
    "            high = row['mid_h']\n",
    "            low = row['mid_l']\n",
    "            price = row['mid_c']\n",
    "\n",
    "            # SL hit\n",
    "            if low <= active_trade['stop_loss']:\n",
    "                df.at[i, 'trade'] = 'closed - sl hit'\n",
    "                pnl = (active_trade['stop_loss'] - active_trade['entry_price']) / pip_size\n",
    "                df.at[i, 'pips'] = round(pnl, 1)\n",
    "                active_trade = None\n",
    "                continue\n",
    "\n",
    "            # TP hit\n",
    "            if high >= active_trade['take_profit']:\n",
    "                df.at[i, 'trade'] = 'closed - tp hit'\n",
    "                pnl = (active_trade['take_profit'] - active_trade['entry_price']) / pip_size\n",
    "                df.at[i, 'pips'] = round(pnl, 1)\n",
    "                active_trade = None\n",
    "                continue\n",
    "\n",
    "        # Entry condition\n",
    "        if not active_trade and row['setup_stage'] == 'confirmation' and row['meets_ratio']:\n",
    "            if isinstance(row['confirmation_zones'], list) and len(row['confirmation_zones']) >= 2:\n",
    "                # Find the linked bottom candle\n",
    "                bottom_idx = df.index[:i][df['setup_stage'][:i] == 'bottom'].max()\n",
    "                bottom_candle = df.loc[bottom_idx]\n",
    "                entry_price = row['ask_c']\n",
    "                stop_loss = bottom_candle['mid_l'] - 0.0005\n",
    "                take_profit = row['confirmation_zones'][1][1]  # top of zone 2\n",
    "\n",
    "                active_trade = {\n",
    "                    'entry_idx': i,\n",
    "                    'entry_price': entry_price,\n",
    "                    'stop_loss': stop_loss,\n",
    "                    'take_profit': take_profit,\n",
    "                    'zones': row['confirmation_zones'],\n",
    "                }\n",
    "\n",
    "                df.at[i, 'trade'] = 'opened'\n",
    "\n",
    "    return df\n",
    "\n",
    "def plot_trade_zones(df, title=\"Trade Zones & Entries\"):\n",
    "    fig = go.Figure()\n",
    "\n",
    "    y_min = df['mid_l'].min()\n",
    "    y_max = df['mid_h'].max()\n",
    "    padding = (y_max - y_min) * 0.1\n",
    "\n",
    "    # Candlesticks\n",
    "    fig.add_trace(go.Candlestick(\n",
    "        x=df['sTime'],\n",
    "        open=df['mid_o'],\n",
    "        high=df['mid_h'],\n",
    "        low=df['mid_l'],\n",
    "        close=df['mid_c'],\n",
    "        line=dict(width=1), opacity=1,\n",
    "        increasing_fillcolor='#24A06B', \n",
    "        decreasing_fillcolor='#CC2E3C',\n",
    "        increasing_line_color='#24A06B',\n",
    "        decreasing_line_color='#FF3A4C',\n",
    "        name=\"Candles\"\n",
    "    ))\n",
    "\n",
    "    # Add MAs\n",
    "    # fig.add_trace(go.Scatter(\n",
    "    #     x=df['sTime'],\n",
    "    #     y=df['ma_10'],\n",
    "    #     line=dict(width=2),\n",
    "    #     line_shape='spline',\n",
    "    #     name='MA_10'\n",
    "    # ))\n",
    "    # fig.add_trace(go.Scatter(\n",
    "    #     x=df['sTime'],\n",
    "    #     y=df['ma_150'],\n",
    "    #     line=dict(width=2),\n",
    "    #     line_shape='spline',\n",
    "    #     name='MA_150'\n",
    "    # ))\n",
    "\n",
    "    # Mark confirmation (entry) candles\n",
    "    entry_df = df[df['setup_stage'] == 'confirmation']\n",
    "    fig.add_trace(go.Candlestick(\n",
    "        x=entry_df['sTime'],\n",
    "        open=entry_df['mid_o'],\n",
    "        high=entry_df['mid_h'],\n",
    "        low=entry_df['mid_l'],\n",
    "        close=entry_df['mid_c'],\n",
    "        line=dict(width=2), opacity=1,\n",
    "        increasing_fillcolor='yellow',\n",
    "        increasing_line_color='yellow'\n",
    "        \n",
    "    ))\n",
    "\n",
    "    # Mark bottom candles\n",
    "    bottom_df = df[df['setup_stage'] == 'bottom']\n",
    "    fig.add_trace(go.Scatter(\n",
    "        x=bottom_df['sTime'],\n",
    "        y=bottom_df['mid_l'],\n",
    "        mode='markers',\n",
    "        marker=dict(color='green', size=15, symbol='triangle-up'),\n",
    "        name='Bottm',\n",
    "        showlegend=True\n",
    "    ))\n",
    "\n",
    "    # Mark reentry candles\n",
    "    reentry_df = df[df['setup_stage'] == 'reentry']\n",
    "    fig.add_trace(go.Scatter(\n",
    "        x=reentry_df['sTime'],\n",
    "        y=reentry_df['mid_h'],\n",
    "        mode='markers',\n",
    "        marker=dict(color='blue', size=15, symbol='triangle-down'),\n",
    "        name='Reentry',\n",
    "        showlegend=True\n",
    "    ))\n",
    "\n",
    "    for i, row in entry_df.iterrows():\n",
    "        zones = row['confirmation_zones']  # This should be a list of tuples\n",
    "        time = row['sTime']\n",
    "\n",
    "        for zone in zones:\n",
    "            low, high = zone\n",
    "            fig.add_trace(go.Scatter(\n",
    "                x=[time, time],\n",
    "                y=[low, high],\n",
    "                mode='lines',\n",
    "                line=dict(color='yellow', width=2, dash='dot'),\n",
    "                name='Zone'  # Show legend only once\n",
    "            ))\n",
    "\n",
    "    # Mark downtrend candles\n",
    "    # downtrend_df = df[df['in_downtrend'] == True]\n",
    "    # fig.add_trace(go.Candlestick(\n",
    "    #     x=downtrend_df['sTime'],\n",
    "    #     open=downtrend_df['mid_o'],\n",
    "    #     high=downtrend_df['mid_h'],\n",
    "    #     low=downtrend_df['mid_l'],\n",
    "    #     close=downtrend_df['mid_c'],\n",
    "    #     line=dict(width=1), opacity=1,\n",
    "    #     increasing_fillcolor='yellow',\n",
    "    #     increasing_line_color='yellow',\n",
    "    #     decreasing_line_color='yellow',\n",
    "    #     name=\"Candles\"\n",
    "    # ))\n",
    "\n",
    "    # Layout\n",
    "    fig.update_layout(\n",
    "        title=title,\n",
    "        xaxis_title='Time',\n",
    "        yaxis_title='Price',\n",
    "        width=2000,\n",
    "        height=1000,\n",
    "        hovermode='x unified',\n",
    "        margin=dict(l=10, r=10, b=10, t=30),\n",
    "        paper_bgcolor=\"#2c303c\",\n",
    "        plot_bgcolor=\"#2c303c\",\n",
    "        font=dict(size=10, color=\"#e1e1e1\"),\n",
    "        yaxis=dict(\n",
    "            range=[y_min - padding, y_max + padding],\n",
    "            fixedrange=False  # Allow zooming\n",
    "        )\n",
    "    )\n",
    "\n",
    "    fig.update_xaxes(\n",
    "        gridcolor=\"#1f292f\",\n",
    "        rangeslider=dict(visible=True),\n",
    "        nticks=5\n",
    "    )\n",
    "\n",
    "    fig.update_yaxes(\n",
    "        gridcolor=\"#1f292f\"\n",
    "    )\n",
    "\n",
    "    fig.show()\n",
    "\n",
    "def filter_df_by_date(df, start, end):\n",
    "    start = pd.to_datetime(start)\n",
    "    end = pd.to_datetime(end)\n",
    "    return df[(df['time'] >= start) & (df['time'] <= end)]\n",
    "    \n",
    "def bullish_strength_with_context(df, index, lookback=200):\n",
    "    row = df.iloc[index]\n",
    "    \n",
    "    open_price = row['mid_o']\n",
    "    close_price = row['mid_c']\n",
    "    high = row['mid_h']\n",
    "    low = row['mid_l']\n",
    "\n",
    "    # 1. Must be bullish\n",
    "    if close_price <= open_price:\n",
    "        return 0.0\n",
    "\n",
    "    body = close_price - open_price\n",
    "    total_range = high - low\n",
    "\n",
    "    #2. Body must make up most of candle\n",
    "    if body < (total_range * 0.7):\n",
    "        return 0.0\n",
    "\n",
    "    # 3. Relative size vs past lookback of candles\n",
    "    start = max(index - lookback, 0)\n",
    "    candle_sizes = []\n",
    "    for i in range(start, index):\n",
    "        row_i = df.iloc[i]\n",
    "        body_i = row_i['mid_h'] - row_i['mid_l']\n",
    "        candle_sizes.append(body_i)\n",
    "\n",
    "    if not candle_sizes:\n",
    "        return 0.0\n",
    "\n",
    "    # Percentile rank of this candle's body size\n",
    "    candle_avg = np.mean(candle_sizes)\n",
    "    if body >= candle_avg:\n",
    "        return 1.0\n",
    "    else:\n",
    "        return round((body / candle_avg) * 0.9, 3)\n",
    "\n",
    "def summarize_trades(filepath):\n",
    "\n",
    "    df = pd.read_pickle(filepath)\n",
    "\n",
    "    # Filter only closed trades\n",
    "    closed_trades = df[df['trade'].isin(['closed - sl hit', 'closed - tp hit'])].copy()\n",
    "\n",
    "    if closed_trades.empty:\n",
    "        print(\"No closed trades found.\")\n",
    "        return\n",
    "\n",
    "    # Calculate metrics\n",
    "    total_trades = len(closed_trades)\n",
    "    total_pips = closed_trades['pips'].sum()\n",
    "    win_rate = (closed_trades['trade'] == 'closed - tp hit').mean() * 100\n",
    "\n",
    "    # Cumulative profit over time\n",
    "    closed_trades['cumulative_pips'] = closed_trades['pips'].cumsum()\n",
    "    closed_trades['time'] = pd.to_datetime(closed_trades['time'])\n",
    "\n",
    "    # Print summary\n",
    "    print(f\"📈 Total Trades: {total_trades}\")\n",
    "    print(f\"💰 Total Pips: {round(total_pips, 1)}\")\n",
    "    print(f\"✅ Win Rate: {round(win_rate, 2)}%\")\n",
    "\n",
    "    # Plot using Plotly\n",
    "    fig = go.Figure()\n",
    "\n",
    "    fig.add_trace(go.Scatter(\n",
    "        x=closed_trades['time'],\n",
    "        y=closed_trades['cumulative_pips'],\n",
    "        mode='lines+markers',\n",
    "        name='Cumulative Pips',\n",
    "        line=dict(width=2),\n",
    "        marker=dict(size=4)\n",
    "    ))\n",
    "\n",
    "    fig.update_layout(\n",
    "        title=\"📈 Strategy Profit Over Time\",\n",
    "        xaxis_title=\"Time\",\n",
    "        yaxis_title=\"Cumulative Pips\",\n",
    "        template=\"plotly_white\",\n",
    "        hovermode=\"x unified\"\n",
    "    )\n",
    "\n",
    "    fig.show()"
   ]
  },
  {
   "cell_type": "code",
   "execution_count": 4,
   "metadata": {},
   "outputs": [],
   "source": [
    "df = pd.read_pickle('../data/EUR_USD_H4.pkl')\n",
    "# df = filter_df_by_date(df, \"2022-01-01T00:00:00Z\", \"2023-01-01T00:00:00Z\")\n",
    "df = apply_technicals(df)\n",
    "df = simulate_trades(df)\n",
    "# df_between.head(45)"
   ]
  },
  {
   "cell_type": "code",
   "execution_count": 5,
   "metadata": {},
   "outputs": [
    {
     "name": "stdout",
     "output_type": "stream",
     "text": [
      "total trades: 15\n"
     ]
    }
   ],
   "source": [
    "# USED TO VIEW EACH TRADE ONE AT A TIME LIKE THIS plot_trade_zone(df_trades[0])\n",
    "df_trades = []\n",
    "pre_context = 40\n",
    "\n",
    "# Get indexes of trade entries\n",
    "entry_indexes = df.index[df['trade'] == 'opened'].tolist()\n",
    "\n",
    "for entry_idx in entry_indexes:\n",
    "    # Find the most recent 'bottom' before this trade\n",
    "    subset = df.loc[:entry_idx]\n",
    "    bottom_idx = subset[subset['setup_stage'] == 'bottom'].last_valid_index()\n",
    "    if bottom_idx is None:\n",
    "        continue\n",
    "\n",
    "    # Look ahead to find where this trade closes\n",
    "    close_idx = None\n",
    "    for j in range(entry_idx + 1, len(df)):\n",
    "        if df.at[j, 'trade'] in ('closed - sl hit', 'closed - tp hit'):\n",
    "            close_idx = j\n",
    "            break\n",
    "\n",
    "    if close_idx is None:\n",
    "        continue  # trade never closed in the available data\n",
    "\n",
    "    start_idx = max(bottom_idx - pre_context, 0)\n",
    "    trade_df = df.iloc[start_idx:close_idx + 1].copy()\n",
    "    df_trades.append(trade_df)\n",
    "\n",
    "print(f'total trades: { len(df_trades) }')\n"
   ]
  },
  {
   "cell_type": "code",
   "execution_count": null,
   "metadata": {},
   "outputs": [],
   "source": [
    "for i, trade_df in enumerate(df_trades):\n",
    "    print(f\"Plotting trade #{i + 1}\")\n",
    "    plot_trade_zones(trade_df)"
   ]
  },
  {
   "cell_type": "code",
   "execution_count": null,
   "metadata": {},
   "outputs": [],
   "source": [
    "df_between = df[(df['sTime'] >= \"s22-04-11 00:00\") & (df['sTime'] <= \"s22-04-13 00:00\")]\n",
    "df_between.head(60)"
   ]
  },
  {
   "cell_type": "code",
   "execution_count": 57,
   "metadata": {},
   "outputs": [
    {
     "data": {
      "application/vnd.plotly.v1+json": {
       "config": {
        "plotlyServerURL": "https://plot.ly"
       },
       "data": [
        {
         "close": {
          "bdata": "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",
          "dtype": "f8"
         },
         "decreasing": {
          "fillcolor": "#CC2E3C",
          "line": {
           "color": "#FF3A4C"
          }
         },
         "high": {
          "bdata": "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",
          "dtype": "f8"
         },
         "increasing": {
          "fillcolor": "#24A06B",
          "line": {
           "color": "#24A06B"
          }
         },
         "line": {
          "width": 1
         },
         "low": {
          "bdata": "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",
          "dtype": "f8"
         },
         "name": "Candles",
         "opacity": 1,
         "open": {
          "bdata": "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",
          "dtype": "f8"
         },
         "type": "candlestick",
         "x": [
          "s22-02-17 02:00",
          "s22-02-17 06:00",
          "s22-02-17 10:00",
          "s22-02-17 14:00",
          "s22-02-17 18:00",
          "s22-02-17 22:00",
          "s22-02-18 02:00",
          "s22-02-18 06:00",
          "s22-02-18 10:00",
          "s22-02-18 14:00",
          "s22-02-18 18:00",
          "s22-02-20 22:00",
          "s22-02-21 02:00",
          "s22-02-21 06:00",
          "s22-02-21 10:00",
          "s22-02-21 14:00",
          "s22-02-21 18:00",
          "s22-02-21 22:00",
          "s22-02-22 02:00",
          "s22-02-22 06:00",
          "s22-02-22 10:00",
          "s22-02-22 14:00",
          "s22-02-22 18:00",
          "s22-02-22 22:00",
          "s22-02-23 02:00",
          "s22-02-23 06:00",
          "s22-02-23 10:00",
          "s22-02-23 14:00",
          "s22-02-23 18:00",
          "s22-02-23 22:00",
          "s22-02-24 02:00",
          "s22-02-24 06:00",
          "s22-02-24 10:00",
          "s22-02-24 14:00",
          "s22-02-24 18:00",
          "s22-02-24 22:00",
          "s22-02-25 02:00",
          "s22-02-25 06:00",
          "s22-02-25 10:00",
          "s22-02-25 14:00",
          "s22-02-25 18:00",
          "s22-02-27 22:00",
          "s22-02-28 02:00",
          "s22-02-28 06:00",
          "s22-02-28 10:00",
          "s22-02-28 14:00",
          "s22-02-28 18:00",
          "s22-02-28 22:00",
          "s22-03-01 02:00",
          "s22-03-01 06:00",
          "s22-03-01 10:00",
          "s22-03-01 14:00",
          "s22-03-01 18:00",
          "s22-03-01 22:00",
          "s22-03-02 02:00",
          "s22-03-02 06:00",
          "s22-03-02 10:00",
          "s22-03-02 14:00",
          "s22-03-02 18:00",
          "s22-03-02 22:00",
          "s22-03-03 02:00",
          "s22-03-03 06:00",
          "s22-03-03 10:00",
          "s22-03-03 14:00",
          "s22-03-03 18:00",
          "s22-03-03 22:00",
          "s22-03-04 02:00",
          "s22-03-04 06:00",
          "s22-03-04 10:00",
          "s22-03-04 14:00",
          "s22-03-04 18:00",
          "s22-03-06 22:00",
          "s22-03-07 02:00",
          "s22-03-07 06:00",
          "s22-03-07 10:00",
          "s22-03-07 14:00",
          "s22-03-07 18:00",
          "s22-03-07 22:00",
          "s22-03-08 02:00",
          "s22-03-08 06:00",
          "s22-03-08 10:00",
          "s22-03-08 14:00",
          "s22-03-08 18:00",
          "s22-03-08 22:00",
          "s22-03-09 02:00",
          "s22-03-09 06:00",
          "s22-03-09 10:00",
          "s22-03-09 14:00",
          "s22-03-09 18:00",
          "s22-03-09 22:00",
          "s22-03-10 02:00",
          "s22-03-10 06:00",
          "s22-03-10 10:00",
          "s22-03-10 14:00",
          "s22-03-10 18:00",
          "s22-03-10 22:00",
          "s22-03-11 02:00",
          "s22-03-11 06:00",
          "s22-03-11 10:00",
          "s22-03-11 14:00",
          "s22-03-11 18:00",
          "s22-03-13 21:00",
          "s22-03-14 01:00",
          "s22-03-14 05:00",
          "s22-03-14 09:00",
          "s22-03-14 13:00",
          "s22-03-14 17:00",
          "s22-03-14 21:00",
          "s22-03-15 01:00",
          "s22-03-15 05:00",
          "s22-03-15 09:00",
          "s22-03-15 13:00",
          "s22-03-15 17:00",
          "s22-03-15 21:00",
          "s22-03-16 01:00",
          "s22-03-16 05:00",
          "s22-03-16 09:00",
          "s22-03-16 13:00",
          "s22-03-16 17:00",
          "s22-03-16 21:00",
          "s22-03-17 01:00",
          "s22-03-17 05:00",
          "s22-03-17 09:00",
          "s22-03-17 13:00",
          "s22-03-17 17:00",
          "s22-03-17 21:00",
          "s22-03-18 01:00",
          "s22-03-18 05:00",
          "s22-03-18 09:00",
          "s22-03-18 13:00",
          "s22-03-18 17:00",
          "s22-03-20 21:00",
          "s22-03-21 01:00",
          "s22-03-21 05:00",
          "s22-03-21 09:00",
          "s22-03-21 13:00",
          "s22-03-21 17:00",
          "s22-03-21 21:00",
          "s22-03-22 01:00",
          "s22-03-22 05:00",
          "s22-03-22 09:00",
          "s22-03-22 13:00",
          "s22-03-22 17:00",
          "s22-03-22 21:00",
          "s22-03-23 01:00",
          "s22-03-23 05:00",
          "s22-03-23 09:00",
          "s22-03-23 13:00",
          "s22-03-23 17:00",
          "s22-03-23 21:00",
          "s22-03-24 01:00",
          "s22-03-24 05:00",
          "s22-03-24 09:00",
          "s22-03-24 13:00",
          "s22-03-24 17:00",
          "s22-03-24 21:00",
          "s22-03-25 01:00",
          "s22-03-25 05:00",
          "s22-03-25 09:00",
          "s22-03-25 13:00",
          "s22-03-25 17:00",
          "s22-03-27 21:00",
          "s22-03-28 01:00",
          "s22-03-28 05:00",
          "s22-03-28 09:00",
          "s22-03-28 13:00",
          "s22-03-28 17:00",
          "s22-03-28 21:00",
          "s22-03-29 01:00",
          "s22-03-29 05:00",
          "s22-03-29 09:00",
          "s22-03-29 13:00",
          "s22-03-29 17:00",
          "s22-03-29 21:00",
          "s22-03-30 01:00",
          "s22-03-30 05:00",
          "s22-03-30 09:00",
          "s22-03-30 13:00",
          "s22-03-30 17:00",
          "s22-03-30 21:00",
          "s22-03-31 01:00",
          "s22-03-31 05:00",
          "s22-03-31 09:00",
          "s22-03-31 13:00",
          "s22-03-31 17:00",
          "s22-03-31 21:00",
          "s22-04-01 01:00",
          "s22-04-01 05:00",
          "s22-04-01 09:00",
          "s22-04-01 13:00",
          "s22-04-01 17:00",
          "s22-04-03 21:00",
          "s22-04-04 01:00",
          "s22-04-04 05:00",
          "s22-04-04 09:00",
          "s22-04-04 13:00",
          "s22-04-04 17:00",
          "s22-04-04 21:00",
          "s22-04-05 01:00",
          "s22-04-05 05:00",
          "s22-04-05 09:00",
          "s22-04-05 13:00",
          "s22-04-05 17:00",
          "s22-04-05 21:00",
          "s22-04-06 01:00",
          "s22-04-06 05:00",
          "s22-04-06 09:00",
          "s22-04-06 13:00",
          "s22-04-06 17:00",
          "s22-04-06 21:00",
          "s22-04-07 01:00",
          "s22-04-07 05:00",
          "s22-04-07 09:00",
          "s22-04-07 13:00",
          "s22-04-07 17:00",
          "s22-04-07 21:00",
          "s22-04-08 01:00",
          "s22-04-08 05:00",
          "s22-04-08 09:00",
          "s22-04-08 13:00",
          "s22-04-08 17:00",
          "s22-04-10 21:00",
          "s22-04-11 01:00",
          "s22-04-11 05:00",
          "s22-04-11 09:00",
          "s22-04-11 13:00",
          "s22-04-11 17:00",
          "s22-04-11 21:00",
          "s22-04-12 01:00",
          "s22-04-12 05:00",
          "s22-04-12 09:00",
          "s22-04-12 13:00",
          "s22-04-12 17:00",
          "s22-04-12 21:00",
          "s22-04-13 01:00",
          "s22-04-13 05:00",
          "s22-04-13 09:00",
          "s22-04-13 13:00",
          "s22-04-13 17:00",
          "s22-04-13 21:00",
          "s22-04-14 01:00",
          "s22-04-14 05:00",
          "s22-04-14 09:00",
          "s22-04-14 13:00",
          "s22-04-14 17:00",
          "s22-04-14 21:00",
          "s22-04-15 01:00",
          "s22-04-15 05:00",
          "s22-04-15 09:00",
          "s22-04-15 13:00",
          "s22-04-15 17:00",
          "s22-04-17 21:00",
          "s22-04-18 01:00",
          "s22-04-18 05:00",
          "s22-04-18 09:00",
          "s22-04-18 13:00",
          "s22-04-18 17:00",
          "s22-04-18 21:00",
          "s22-04-19 01:00",
          "s22-04-19 05:00",
          "s22-04-19 09:00",
          "s22-04-19 13:00",
          "s22-04-19 17:00",
          "s22-04-19 21:00",
          "s22-04-20 01:00",
          "s22-04-20 05:00",
          "s22-04-20 09:00",
          "s22-04-20 13:00",
          "s22-04-20 17:00",
          "s22-04-20 21:00",
          "s22-04-21 01:00",
          "s22-04-21 05:00",
          "s22-04-21 09:00",
          "s22-04-21 13:00",
          "s22-04-21 17:00",
          "s22-04-21 21:00",
          "s22-04-22 01:00",
          "s22-04-22 05:00",
          "s22-04-22 09:00",
          "s22-04-22 13:00",
          "s22-04-22 17:00",
          "s22-04-24 21:00",
          "s22-04-25 01:00",
          "s22-04-25 05:00",
          "s22-04-25 09:00",
          "s22-04-25 13:00",
          "s22-04-25 17:00",
          "s22-04-25 21:00",
          "s22-04-26 01:00",
          "s22-04-26 05:00",
          "s22-04-26 09:00",
          "s22-04-26 13:00",
          "s22-04-26 17:00",
          "s22-04-26 21:00",
          "s22-04-27 01:00",
          "s22-04-27 05:00",
          "s22-04-27 09:00",
          "s22-04-27 13:00",
          "s22-04-27 17:00",
          "s22-04-27 21:00",
          "s22-04-28 01:00",
          "s22-04-28 05:00",
          "s22-04-28 09:00",
          "s22-04-28 13:00",
          "s22-04-28 17:00",
          "s22-04-28 21:00",
          "s22-04-29 01:00",
          "s22-04-29 05:00",
          "s22-04-29 09:00",
          "s22-04-29 13:00",
          "s22-04-29 17:00",
          "s22-05-01 21:00",
          "s22-05-02 01:00",
          "s22-05-02 05:00",
          "s22-05-02 09:00",
          "s22-05-02 13:00",
          "s22-05-02 17:00",
          "s22-05-02 21:00",
          "s22-05-03 01:00",
          "s22-05-03 05:00",
          "s22-05-03 09:00",
          "s22-05-03 13:00",
          "s22-05-03 17:00",
          "s22-05-03 21:00",
          "s22-05-04 01:00",
          "s22-05-04 05:00",
          "s22-05-04 09:00",
          "s22-05-04 13:00",
          "s22-05-04 17:00",
          "s22-05-04 21:00",
          "s22-05-05 01:00",
          "s22-05-05 05:00",
          "s22-05-05 09:00",
          "s22-05-05 13:00",
          "s22-05-05 17:00",
          "s22-05-05 21:00",
          "s22-05-06 01:00",
          "s22-05-06 05:00",
          "s22-05-06 09:00",
          "s22-05-06 13:00",
          "s22-05-06 17:00",
          "s22-05-08 21:00",
          "s22-05-09 01:00",
          "s22-05-09 05:00",
          "s22-05-09 09:00",
          "s22-05-09 13:00",
          "s22-05-09 17:00",
          "s22-05-09 21:00",
          "s22-05-10 01:00",
          "s22-05-10 05:00",
          "s22-05-10 09:00",
          "s22-05-10 13:00",
          "s22-05-10 17:00",
          "s22-05-10 21:00",
          "s22-05-11 01:00",
          "s22-05-11 05:00",
          "s22-05-11 09:00",
          "s22-05-11 13:00",
          "s22-05-11 17:00",
          "s22-05-11 21:00",
          "s22-05-12 01:00",
          "s22-05-12 05:00",
          "s22-05-12 09:00",
          "s22-05-12 13:00",
          "s22-05-12 17:00",
          "s22-05-12 21:00",
          "s22-05-13 01:00",
          "s22-05-13 05:00",
          "s22-05-13 09:00",
          "s22-05-13 13:00",
          "s22-05-13 17:00",
          "s22-05-15 21:00",
          "s22-05-16 01:00",
          "s22-05-16 05:00",
          "s22-05-16 09:00",
          "s22-05-16 13:00",
          "s22-05-16 17:00",
          "s22-05-16 21:00",
          "s22-05-17 01:00",
          "s22-05-17 05:00",
          "s22-05-17 09:00",
          "s22-05-17 13:00",
          "s22-05-17 17:00",
          "s22-05-17 21:00",
          "s22-05-18 01:00",
          "s22-05-18 05:00",
          "s22-05-18 09:00",
          "s22-05-18 13:00",
          "s22-05-18 17:00",
          "s22-05-18 21:00",
          "s22-05-19 01:00",
          "s22-05-19 05:00",
          "s22-05-19 09:00",
          "s22-05-19 13:00",
          "s22-05-19 17:00",
          "s22-05-19 21:00",
          "s22-05-20 01:00",
          "s22-05-20 05:00",
          "s22-05-20 09:00",
          "s22-05-20 13:00",
          "s22-05-20 17:00",
          "s22-05-22 21:00",
          "s22-05-23 01:00",
          "s22-05-23 05:00",
          "s22-05-23 09:00",
          "s22-05-23 13:00",
          "s22-05-23 17:00",
          "s22-05-23 21:00",
          "s22-05-24 01:00",
          "s22-05-24 05:00",
          "s22-05-24 09:00",
          "s22-05-24 13:00",
          "s22-05-24 17:00",
          "s22-05-24 21:00",
          "s22-05-25 01:00",
          "s22-05-25 05:00",
          "s22-05-25 09:00",
          "s22-05-25 13:00",
          "s22-05-25 17:00",
          "s22-05-25 21:00",
          "s22-05-26 01:00",
          "s22-05-26 05:00",
          "s22-05-26 09:00",
          "s22-05-26 13:00",
          "s22-05-26 17:00",
          "s22-05-26 21:00",
          "s22-05-27 01:00",
          "s22-05-27 05:00",
          "s22-05-27 09:00",
          "s22-05-27 13:00",
          "s22-05-27 17:00",
          "s22-05-29 21:00",
          "s22-05-30 01:00",
          "s22-05-30 05:00",
          "s22-05-30 09:00",
          "s22-05-30 13:00",
          "s22-05-30 17:00",
          "s22-05-30 21:00",
          "s22-05-31 01:00",
          "s22-05-31 05:00",
          "s22-05-31 09:00",
          "s22-05-31 13:00",
          "s22-05-31 17:00",
          "s22-05-31 21:00",
          "s22-06-01 01:00",
          "s22-06-01 05:00",
          "s22-06-01 09:00",
          "s22-06-01 13:00",
          "s22-06-01 17:00",
          "s22-06-01 21:00",
          "s22-06-02 01:00",
          "s22-06-02 05:00",
          "s22-06-02 09:00",
          "s22-06-02 13:00",
          "s22-06-02 17:00",
          "s22-06-02 21:00",
          "s22-06-03 01:00",
          "s22-06-03 05:00",
          "s22-06-03 09:00",
          "s22-06-03 13:00",
          "s22-06-03 17:00",
          "s22-06-05 21:00",
          "s22-06-06 01:00",
          "s22-06-06 05:00",
          "s22-06-06 09:00",
          "s22-06-06 13:00",
          "s22-06-06 17:00",
          "s22-06-06 21:00",
          "s22-06-07 01:00",
          "s22-06-07 05:00",
          "s22-06-07 09:00",
          "s22-06-07 13:00",
          "s22-06-07 17:00",
          "s22-06-07 21:00",
          "s22-06-08 01:00",
          "s22-06-08 05:00",
          "s22-06-08 09:00",
          "s22-06-08 13:00",
          "s22-06-08 17:00",
          "s22-06-08 21:00",
          "s22-06-09 01:00",
          "s22-06-09 05:00",
          "s22-06-09 09:00",
          "s22-06-09 13:00",
          "s22-06-09 17:00",
          "s22-06-09 21:00",
          "s22-06-10 01:00",
          "s22-06-10 05:00",
          "s22-06-10 09:00",
          "s22-06-10 13:00",
          "s22-06-10 17:00",
          "s22-06-12 21:00",
          "s22-06-13 01:00",
          "s22-06-13 05:00",
          "s22-06-13 09:00",
          "s22-06-13 13:00",
          "s22-06-13 17:00",
          "s22-06-13 21:00",
          "s22-06-14 01:00",
          "s22-06-14 05:00",
          "s22-06-14 09:00",
          "s22-06-14 13:00",
          "s22-06-14 17:00",
          "s22-06-14 21:00",
          "s22-06-15 01:00",
          "s22-06-15 05:00",
          "s22-06-15 09:00",
          "s22-06-15 13:00",
          "s22-06-15 17:00",
          "s22-06-15 21:00",
          "s22-06-16 01:00",
          "s22-06-16 05:00",
          "s22-06-16 09:00",
          "s22-06-16 13:00",
          "s22-06-16 17:00",
          "s22-06-16 21:00",
          "s22-06-17 01:00",
          "s22-06-17 05:00",
          "s22-06-17 09:00",
          "s22-06-17 13:00",
          "s22-06-17 17:00",
          "s22-06-19 21:00",
          "s22-06-20 01:00",
          "s22-06-20 05:00",
          "s22-06-20 09:00",
          "s22-06-20 13:00",
          "s22-06-20 17:00",
          "s22-06-20 21:00",
          "s22-06-21 01:00",
          "s22-06-21 05:00",
          "s22-06-21 09:00",
          "s22-06-21 13:00",
          "s22-06-21 17:00",
          "s22-06-21 21:00",
          "s22-06-22 01:00",
          "s22-06-22 05:00",
          "s22-06-22 09:00",
          "s22-06-22 13:00",
          "s22-06-22 17:00",
          "s22-06-22 21:00",
          "s22-06-23 01:00",
          "s22-06-23 05:00",
          "s22-06-23 09:00",
          "s22-06-23 13:00",
          "s22-06-23 17:00",
          "s22-06-23 21:00",
          "s22-06-24 01:00",
          "s22-06-24 05:00",
          "s22-06-24 09:00",
          "s22-06-24 13:00",
          "s22-06-24 17:00",
          "s22-06-26 21:00",
          "s22-06-27 01:00",
          "s22-06-27 05:00",
          "s22-06-27 09:00",
          "s22-06-27 13:00",
          "s22-06-27 17:00",
          "s22-06-27 21:00",
          "s22-06-28 01:00",
          "s22-06-28 05:00",
          "s22-06-28 09:00",
          "s22-06-28 13:00",
          "s22-06-28 17:00",
          "s22-06-28 21:00",
          "s22-06-29 01:00",
          "s22-06-29 05:00",
          "s22-06-29 09:00",
          "s22-06-29 13:00",
          "s22-06-29 17:00",
          "s22-06-29 21:00",
          "s22-06-30 01:00",
          "s22-06-30 05:00",
          "s22-06-30 09:00",
          "s22-06-30 13:00",
          "s22-06-30 17:00",
          "s22-06-30 21:00",
          "s22-07-01 01:00",
          "s22-07-01 05:00",
          "s22-07-01 09:00",
          "s22-07-01 13:00",
          "s22-07-01 17:00",
          "s22-07-03 21:00",
          "s22-07-04 01:00",
          "s22-07-04 05:00",
          "s22-07-04 09:00",
          "s22-07-04 13:00",
          "s22-07-04 17:00",
          "s22-07-04 21:00",
          "s22-07-05 01:00",
          "s22-07-05 05:00",
          "s22-07-05 09:00",
          "s22-07-05 13:00",
          "s22-07-05 17:00",
          "s22-07-05 21:00",
          "s22-07-06 01:00",
          "s22-07-06 05:00",
          "s22-07-06 09:00",
          "s22-07-06 13:00",
          "s22-07-06 17:00",
          "s22-07-06 21:00",
          "s22-07-07 01:00",
          "s22-07-07 05:00",
          "s22-07-07 09:00",
          "s22-07-07 13:00",
          "s22-07-07 17:00",
          "s22-07-07 21:00",
          "s22-07-08 01:00",
          "s22-07-08 05:00",
          "s22-07-08 09:00",
          "s22-07-08 13:00",
          "s22-07-08 17:00",
          "s22-07-10 21:00",
          "s22-07-11 01:00",
          "s22-07-11 05:00",
          "s22-07-11 09:00",
          "s22-07-11 13:00",
          "s22-07-11 17:00",
          "s22-07-11 21:00",
          "s22-07-12 01:00",
          "s22-07-12 05:00",
          "s22-07-12 09:00",
          "s22-07-12 13:00",
          "s22-07-12 17:00",
          "s22-07-12 21:00",
          "s22-07-13 01:00",
          "s22-07-13 05:00",
          "s22-07-13 09:00",
          "s22-07-13 13:00",
          "s22-07-13 17:00",
          "s22-07-13 21:00",
          "s22-07-14 01:00",
          "s22-07-14 05:00",
          "s22-07-14 09:00",
          "s22-07-14 13:00",
          "s22-07-14 17:00",
          "s22-07-14 21:00",
          "s22-07-15 01:00",
          "s22-07-15 05:00",
          "s22-07-15 09:00",
          "s22-07-15 13:00",
          "s22-07-15 17:00",
          "s22-07-17 21:00",
          "s22-07-18 01:00",
          "s22-07-18 05:00",
          "s22-07-18 09:00",
          "s22-07-18 13:00",
          "s22-07-18 17:00",
          "s22-07-18 21:00",
          "s22-07-19 01:00",
          "s22-07-19 05:00",
          "s22-07-19 09:00",
          "s22-07-19 13:00",
          "s22-07-19 17:00",
          "s22-07-19 21:00",
          "s22-07-20 01:00",
          "s22-07-20 05:00",
          "s22-07-20 09:00",
          "s22-07-20 13:00",
          "s22-07-20 17:00",
          "s22-07-20 21:00",
          "s22-07-21 01:00",
          "s22-07-21 05:00",
          "s22-07-21 09:00",
          "s22-07-21 13:00",
          "s22-07-21 17:00",
          "s22-07-21 21:00",
          "s22-07-22 01:00",
          "s22-07-22 05:00",
          "s22-07-22 09:00",
          "s22-07-22 13:00",
          "s22-07-22 17:00",
          "s22-07-24 21:00",
          "s22-07-25 01:00",
          "s22-07-25 05:00",
          "s22-07-25 09:00",
          "s22-07-25 13:00",
          "s22-07-25 17:00",
          "s22-07-25 21:00",
          "s22-07-26 01:00",
          "s22-07-26 05:00",
          "s22-07-26 09:00",
          "s22-07-26 13:00",
          "s22-07-26 17:00",
          "s22-07-26 21:00",
          "s22-07-27 01:00",
          "s22-07-27 05:00",
          "s22-07-27 09:00",
          "s22-07-27 13:00",
          "s22-07-27 17:00",
          "s22-07-27 21:00",
          "s22-07-28 01:00",
          "s22-07-28 05:00",
          "s22-07-28 09:00",
          "s22-07-28 13:00",
          "s22-07-28 17:00",
          "s22-07-28 21:00",
          "s22-07-29 01:00",
          "s22-07-29 05:00",
          "s22-07-29 09:00",
          "s22-07-29 13:00",
          "s22-07-29 17:00",
          "s22-07-31 21:00",
          "s22-08-01 01:00",
          "s22-08-01 05:00",
          "s22-08-01 09:00",
          "s22-08-01 13:00",
          "s22-08-01 17:00",
          "s22-08-01 21:00",
          "s22-08-02 01:00",
          "s22-08-02 05:00",
          "s22-08-02 09:00",
          "s22-08-02 13:00",
          "s22-08-02 17:00",
          "s22-08-02 21:00",
          "s22-08-03 01:00",
          "s22-08-03 05:00",
          "s22-08-03 09:00",
          "s22-08-03 13:00",
          "s22-08-03 17:00",
          "s22-08-03 21:00",
          "s22-08-04 01:00",
          "s22-08-04 05:00",
          "s22-08-04 09:00",
          "s22-08-04 13:00",
          "s22-08-04 17:00",
          "s22-08-04 21:00",
          "s22-08-05 01:00",
          "s22-08-05 05:00",
          "s22-08-05 09:00",
          "s22-08-05 13:00",
          "s22-08-05 17:00",
          "s22-08-07 21:00",
          "s22-08-08 01:00",
          "s22-08-08 05:00",
          "s22-08-08 09:00",
          "s22-08-08 13:00",
          "s22-08-08 17:00",
          "s22-08-08 21:00",
          "s22-08-09 01:00",
          "s22-08-09 05:00",
          "s22-08-09 09:00",
          "s22-08-09 13:00",
          "s22-08-09 17:00",
          "s22-08-09 21:00",
          "s22-08-10 01:00",
          "s22-08-10 05:00",
          "s22-08-10 09:00",
          "s22-08-10 13:00",
          "s22-08-10 17:00",
          "s22-08-10 21:00",
          "s22-08-11 01:00",
          "s22-08-11 05:00",
          "s22-08-11 09:00",
          "s22-08-11 13:00",
          "s22-08-11 17:00",
          "s22-08-11 21:00",
          "s22-08-12 01:00",
          "s22-08-12 05:00",
          "s22-08-12 09:00",
          "s22-08-12 13:00",
          "s22-08-12 17:00",
          "s22-08-14 21:00",
          "s22-08-15 01:00",
          "s22-08-15 05:00",
          "s22-08-15 09:00",
          "s22-08-15 13:00",
          "s22-08-15 17:00",
          "s22-08-15 21:00",
          "s22-08-16 01:00",
          "s22-08-16 05:00",
          "s22-08-16 09:00",
          "s22-08-16 13:00",
          "s22-08-16 17:00",
          "s22-08-16 21:00",
          "s22-08-17 01:00",
          "s22-08-17 05:00",
          "s22-08-17 09:00",
          "s22-08-17 13:00",
          "s22-08-17 17:00",
          "s22-08-17 21:00",
          "s22-08-18 01:00",
          "s22-08-18 05:00",
          "s22-08-18 09:00",
          "s22-08-18 13:00",
          "s22-08-18 17:00",
          "s22-08-18 21:00",
          "s22-08-19 01:00",
          "s22-08-19 05:00",
          "s22-08-19 09:00",
          "s22-08-19 13:00",
          "s22-08-19 17:00",
          "s22-08-21 21:00",
          "s22-08-22 01:00",
          "s22-08-22 05:00",
          "s22-08-22 09:00",
          "s22-08-22 13:00",
          "s22-08-22 17:00",
          "s22-08-22 21:00",
          "s22-08-23 01:00",
          "s22-08-23 05:00",
          "s22-08-23 09:00",
          "s22-08-23 13:00",
          "s22-08-23 17:00",
          "s22-08-23 21:00",
          "s22-08-24 01:00",
          "s22-08-24 05:00",
          "s22-08-24 09:00",
          "s22-08-24 13:00",
          "s22-08-24 17:00",
          "s22-08-24 21:00",
          "s22-08-25 01:00",
          "s22-08-25 05:00",
          "s22-08-25 09:00",
          "s22-08-25 13:00",
          "s22-08-25 17:00",
          "s22-08-25 21:00",
          "s22-08-26 01:00",
          "s22-08-26 05:00",
          "s22-08-26 09:00",
          "s22-08-26 13:00",
          "s22-08-26 17:00",
          "s22-08-28 21:00",
          "s22-08-29 01:00",
          "s22-08-29 05:00",
          "s22-08-29 09:00",
          "s22-08-29 13:00",
          "s22-08-29 17:00",
          "s22-08-29 21:00",
          "s22-08-30 01:00",
          "s22-08-30 05:00",
          "s22-08-30 09:00",
          "s22-08-30 13:00",
          "s22-08-30 17:00",
          "s22-08-30 21:00",
          "s22-08-31 01:00",
          "s22-08-31 05:00",
          "s22-08-31 09:00",
          "s22-08-31 13:00",
          "s22-08-31 17:00",
          "s22-08-31 21:00",
          "s22-09-01 01:00",
          "s22-09-01 05:00",
          "s22-09-01 09:00",
          "s22-09-01 13:00",
          "s22-09-01 17:00",
          "s22-09-01 21:00",
          "s22-09-02 01:00",
          "s22-09-02 05:00",
          "s22-09-02 09:00",
          "s22-09-02 13:00",
          "s22-09-02 17:00",
          "s22-09-04 21:00",
          "s22-09-05 01:00",
          "s22-09-05 05:00",
          "s22-09-05 09:00",
          "s22-09-05 13:00",
          "s22-09-05 17:00",
          "s22-09-05 21:00",
          "s22-09-06 01:00",
          "s22-09-06 05:00",
          "s22-09-06 09:00",
          "s22-09-06 13:00",
          "s22-09-06 17:00",
          "s22-09-06 21:00",
          "s22-09-07 01:00",
          "s22-09-07 05:00",
          "s22-09-07 09:00",
          "s22-09-07 13:00",
          "s22-09-07 17:00",
          "s22-09-07 21:00",
          "s22-09-08 01:00",
          "s22-09-08 05:00",
          "s22-09-08 09:00",
          "s22-09-08 13:00",
          "s22-09-08 17:00",
          "s22-09-08 21:00",
          "s22-09-09 01:00",
          "s22-09-09 05:00",
          "s22-09-09 09:00",
          "s22-09-09 13:00",
          "s22-09-09 17:00",
          "s22-09-11 21:00",
          "s22-09-12 01:00",
          "s22-09-12 05:00",
          "s22-09-12 09:00",
          "s22-09-12 13:00",
          "s22-09-12 17:00",
          "s22-09-12 21:00",
          "s22-09-13 01:00",
          "s22-09-13 05:00",
          "s22-09-13 09:00",
          "s22-09-13 13:00",
          "s22-09-13 17:00",
          "s22-09-13 21:00",
          "s22-09-14 01:00",
          "s22-09-14 05:00",
          "s22-09-14 09:00",
          "s22-09-14 13:00",
          "s22-09-14 17:00",
          "s22-09-14 21:00",
          "s22-09-15 01:00",
          "s22-09-15 05:00",
          "s22-09-15 09:00",
          "s22-09-15 13:00",
          "s22-09-15 17:00",
          "s22-09-15 21:00",
          "s22-09-16 01:00",
          "s22-09-16 05:00",
          "s22-09-16 09:00",
          "s22-09-16 13:00",
          "s22-09-16 17:00",
          "s22-09-18 21:00",
          "s22-09-19 01:00",
          "s22-09-19 05:00",
          "s22-09-19 09:00",
          "s22-09-19 13:00",
          "s22-09-19 17:00",
          "s22-09-19 21:00",
          "s22-09-20 01:00",
          "s22-09-20 05:00",
          "s22-09-20 09:00",
          "s22-09-20 13:00",
          "s22-09-20 17:00",
          "s22-09-20 21:00",
          "s22-09-21 01:00",
          "s22-09-21 05:00",
          "s22-09-21 09:00",
          "s22-09-21 13:00",
          "s22-09-21 17:00",
          "s22-09-21 21:00",
          "s22-09-22 01:00",
          "s22-09-22 05:00",
          "s22-09-22 09:00",
          "s22-09-22 13:00",
          "s22-09-22 17:00",
          "s22-09-22 21:00",
          "s22-09-23 01:00",
          "s22-09-23 05:00",
          "s22-09-23 09:00",
          "s22-09-23 13:00",
          "s22-09-23 17:00",
          "s22-09-25 21:00",
          "s22-09-26 01:00",
          "s22-09-26 05:00",
          "s22-09-26 09:00",
          "s22-09-26 13:00",
          "s22-09-26 17:00",
          "s22-09-26 21:00",
          "s22-09-27 01:00",
          "s22-09-27 05:00",
          "s22-09-27 09:00",
          "s22-09-27 13:00",
          "s22-09-27 17:00",
          "s22-09-27 21:00",
          "s22-09-28 01:00",
          "s22-09-28 05:00",
          "s22-09-28 09:00",
          "s22-09-28 13:00",
          "s22-09-28 17:00",
          "s22-09-28 21:00",
          "s22-09-29 01:00",
          "s22-09-29 05:00",
          "s22-09-29 09:00",
          "s22-09-29 13:00",
          "s22-09-29 17:00",
          "s22-09-29 21:00",
          "s22-09-30 01:00",
          "s22-09-30 05:00",
          "s22-09-30 09:00",
          "s22-09-30 13:00",
          "s22-09-30 17:00",
          "s22-10-02 21:00",
          "s22-10-03 01:00",
          "s22-10-03 05:00",
          "s22-10-03 09:00",
          "s22-10-03 13:00",
          "s22-10-03 17:00",
          "s22-10-03 21:00",
          "s22-10-04 01:00",
          "s22-10-04 05:00",
          "s22-10-04 09:00",
          "s22-10-04 13:00",
          "s22-10-04 17:00",
          "s22-10-04 21:00",
          "s22-10-05 01:00",
          "s22-10-05 05:00",
          "s22-10-05 09:00",
          "s22-10-05 13:00",
          "s22-10-05 17:00",
          "s22-10-05 21:00",
          "s22-10-06 01:00",
          "s22-10-06 05:00",
          "s22-10-06 09:00",
          "s22-10-06 13:00",
          "s22-10-06 17:00",
          "s22-10-06 21:00",
          "s22-10-07 01:00",
          "s22-10-07 05:00",
          "s22-10-07 09:00",
          "s22-10-07 13:00",
          "s22-10-07 17:00",
          "s22-10-09 21:00",
          "s22-10-10 01:00",
          "s22-10-10 05:00",
          "s22-10-10 09:00",
          "s22-10-10 13:00",
          "s22-10-10 17:00",
          "s22-10-10 21:00",
          "s22-10-11 01:00",
          "s22-10-11 05:00",
          "s22-10-11 09:00",
          "s22-10-11 13:00",
          "s22-10-11 17:00",
          "s22-10-11 21:00",
          "s22-10-12 01:00",
          "s22-10-12 05:00",
          "s22-10-12 09:00",
          "s22-10-12 13:00",
          "s22-10-12 17:00",
          "s22-10-12 21:00",
          "s22-10-13 01:00",
          "s22-10-13 05:00",
          "s22-10-13 09:00",
          "s22-10-13 13:00",
          "s22-10-13 17:00",
          "s22-10-13 21:00",
          "s22-10-14 01:00",
          "s22-10-14 05:00",
          "s22-10-14 09:00",
          "s22-10-14 13:00",
          "s22-10-14 17:00",
          "s22-10-16 21:00",
          "s22-10-17 01:00",
          "s22-10-17 05:00",
          "s22-10-17 09:00",
          "s22-10-17 13:00",
          "s22-10-17 17:00",
          "s22-10-17 21:00",
          "s22-10-18 01:00",
          "s22-10-18 05:00",
          "s22-10-18 09:00",
          "s22-10-18 13:00",
          "s22-10-18 17:00",
          "s22-10-18 21:00",
          "s22-10-19 01:00",
          "s22-10-19 05:00",
          "s22-10-19 09:00",
          "s22-10-19 13:00",
          "s22-10-19 17:00",
          "s22-10-19 21:00",
          "s22-10-20 01:00",
          "s22-10-20 05:00",
          "s22-10-20 09:00",
          "s22-10-20 13:00",
          "s22-10-20 17:00",
          "s22-10-20 21:00",
          "s22-10-21 01:00",
          "s22-10-21 05:00",
          "s22-10-21 09:00",
          "s22-10-21 13:00",
          "s22-10-21 17:00",
          "s22-10-23 21:00",
          "s22-10-24 01:00",
          "s22-10-24 05:00",
          "s22-10-24 09:00",
          "s22-10-24 13:00",
          "s22-10-24 17:00",
          "s22-10-24 21:00",
          "s22-10-25 01:00",
          "s22-10-25 05:00",
          "s22-10-25 09:00",
          "s22-10-25 13:00",
          "s22-10-25 17:00",
          "s22-10-25 21:00",
          "s22-10-26 01:00",
          "s22-10-26 05:00",
          "s22-10-26 09:00",
          "s22-10-26 13:00",
          "s22-10-26 17:00",
          "s22-10-26 21:00",
          "s22-10-27 01:00",
          "s22-10-27 05:00",
          "s22-10-27 09:00",
          "s22-10-27 13:00",
          "s22-10-27 17:00",
          "s22-10-27 21:00",
          "s22-10-28 01:00",
          "s22-10-28 05:00",
          "s22-10-28 09:00",
          "s22-10-28 13:00",
          "s22-10-28 17:00",
          "s22-10-30 21:00",
          "s22-10-31 01:00",
          "s22-10-31 05:00",
          "s22-10-31 09:00",
          "s22-10-31 13:00",
          "s22-10-31 17:00",
          "s22-10-31 21:00",
          "s22-11-01 01:00",
          "s22-11-01 05:00",
          "s22-11-01 09:00",
          "s22-11-01 13:00",
          "s22-11-01 17:00",
          "s22-11-01 21:00",
          "s22-11-02 01:00",
          "s22-11-02 05:00",
          "s22-11-02 09:00",
          "s22-11-02 13:00",
          "s22-11-02 17:00",
          "s22-11-02 21:00",
          "s22-11-03 01:00",
          "s22-11-03 05:00",
          "s22-11-03 09:00",
          "s22-11-03 13:00",
          "s22-11-03 17:00",
          "s22-11-03 21:00",
          "s22-11-04 01:00",
          "s22-11-04 05:00",
          "s22-11-04 09:00",
          "s22-11-04 13:00",
          "s22-11-04 17:00",
          "s22-11-06 22:00",
          "s22-11-07 02:00",
          "s22-11-07 06:00",
          "s22-11-07 10:00",
          "s22-11-07 14:00",
          "s22-11-07 18:00",
          "s22-11-07 22:00",
          "s22-11-08 02:00",
          "s22-11-08 06:00",
          "s22-11-08 10:00",
          "s22-11-08 14:00",
          "s22-11-08 18:00",
          "s22-11-08 22:00",
          "s22-11-09 02:00",
          "s22-11-09 06:00",
          "s22-11-09 10:00",
          "s22-11-09 14:00",
          "s22-11-09 18:00",
          "s22-11-09 22:00",
          "s22-11-10 02:00",
          "s22-11-10 06:00",
          "s22-11-10 10:00",
          "s22-11-10 14:00",
          "s22-11-10 18:00",
          "s22-11-10 22:00",
          "s22-11-11 02:00",
          "s22-11-11 06:00",
          "s22-11-11 10:00",
          "s22-11-11 14:00",
          "s22-11-11 18:00",
          "s22-11-13 22:00",
          "s22-11-14 02:00",
          "s22-11-14 06:00",
          "s22-11-14 10:00",
          "s22-11-14 14:00",
          "s22-11-14 18:00",
          "s22-11-14 22:00",
          "s22-11-15 02:00",
          "s22-11-15 06:00",
          "s22-11-15 10:00",
          "s22-11-15 14:00",
          "s22-11-15 18:00",
          "s22-11-15 22:00",
          "s22-11-16 02:00",
          "s22-11-16 06:00",
          "s22-11-16 10:00",
          "s22-11-16 14:00",
          "s22-11-16 18:00",
          "s22-11-16 22:00",
          "s22-11-17 02:00",
          "s22-11-17 06:00",
          "s22-11-17 10:00",
          "s22-11-17 14:00",
          "s22-11-17 18:00",
          "s22-11-17 22:00",
          "s22-11-18 02:00",
          "s22-11-18 06:00",
          "s22-11-18 10:00",
          "s22-11-18 14:00",
          "s22-11-18 18:00",
          "s22-11-20 22:00",
          "s22-11-21 02:00",
          "s22-11-21 06:00",
          "s22-11-21 10:00",
          "s22-11-21 14:00",
          "s22-11-21 18:00",
          "s22-11-21 22:00",
          "s22-11-22 02:00",
          "s22-11-22 06:00",
          "s22-11-22 10:00",
          "s22-11-22 14:00",
          "s22-11-22 18:00",
          "s22-11-22 22:00",
          "s22-11-23 02:00",
          "s22-11-23 06:00",
          "s22-11-23 10:00",
          "s22-11-23 14:00",
          "s22-11-23 18:00",
          "s22-11-23 22:00",
          "s22-11-24 02:00",
          "s22-11-24 06:00",
          "s22-11-24 10:00",
          "s22-11-24 14:00",
          "s22-11-24 18:00",
          "s22-11-24 22:00",
          "s22-11-25 02:00",
          "s22-11-25 06:00",
          "s22-11-25 10:00",
          "s22-11-25 14:00",
          "s22-11-25 18:00",
          "s22-11-27 22:00",
          "s22-11-28 02:00",
          "s22-11-28 06:00",
          "s22-11-28 10:00",
          "s22-11-28 14:00",
          "s22-11-28 18:00",
          "s22-11-28 22:00",
          "s22-11-29 02:00",
          "s22-11-29 06:00",
          "s22-11-29 10:00",
          "s22-11-29 14:00",
          "s22-11-29 18:00",
          "s22-11-29 22:00",
          "s22-11-30 02:00",
          "s22-11-30 06:00",
          "s22-11-30 10:00",
          "s22-11-30 14:00",
          "s22-11-30 18:00",
          "s22-11-30 22:00",
          "s22-12-01 02:00",
          "s22-12-01 06:00",
          "s22-12-01 10:00",
          "s22-12-01 14:00",
          "s22-12-01 18:00",
          "s22-12-01 22:00",
          "s22-12-02 02:00",
          "s22-12-02 06:00",
          "s22-12-02 10:00",
          "s22-12-02 14:00",
          "s22-12-02 18:00",
          "s22-12-04 22:00",
          "s22-12-05 02:00",
          "s22-12-05 06:00",
          "s22-12-05 10:00",
          "s22-12-05 14:00",
          "s22-12-05 18:00",
          "s22-12-05 22:00",
          "s22-12-06 02:00",
          "s22-12-06 06:00",
          "s22-12-06 10:00",
          "s22-12-06 14:00",
          "s22-12-06 18:00",
          "s22-12-06 22:00",
          "s22-12-07 02:00",
          "s22-12-07 06:00",
          "s22-12-07 10:00",
          "s22-12-07 14:00",
          "s22-12-07 18:00",
          "s22-12-07 22:00",
          "s22-12-08 02:00",
          "s22-12-08 06:00",
          "s22-12-08 10:00",
          "s22-12-08 14:00",
          "s22-12-08 18:00",
          "s22-12-08 22:00",
          "s22-12-09 02:00",
          "s22-12-09 06:00",
          "s22-12-09 10:00",
          "s22-12-09 14:00",
          "s22-12-09 18:00",
          "s22-12-11 22:00",
          "s22-12-12 02:00",
          "s22-12-12 06:00",
          "s22-12-12 10:00",
          "s22-12-12 14:00",
          "s22-12-12 18:00",
          "s22-12-12 22:00",
          "s22-12-13 02:00",
          "s22-12-13 06:00",
          "s22-12-13 10:00",
          "s22-12-13 14:00",
          "s22-12-13 18:00",
          "s22-12-13 22:00",
          "s22-12-14 02:00",
          "s22-12-14 06:00",
          "s22-12-14 10:00",
          "s22-12-14 14:00",
          "s22-12-14 18:00",
          "s22-12-14 22:00",
          "s22-12-15 02:00",
          "s22-12-15 06:00",
          "s22-12-15 10:00",
          "s22-12-15 14:00",
          "s22-12-15 18:00",
          "s22-12-15 22:00",
          "s22-12-16 02:00",
          "s22-12-16 06:00",
          "s22-12-16 10:00",
          "s22-12-16 14:00",
          "s22-12-16 18:00",
          "s22-12-18 22:00",
          "s22-12-19 02:00",
          "s22-12-19 06:00",
          "s22-12-19 10:00",
          "s22-12-19 14:00",
          "s22-12-19 18:00",
          "s22-12-19 22:00",
          "s22-12-20 02:00",
          "s22-12-20 06:00",
          "s22-12-20 10:00",
          "s22-12-20 14:00",
          "s22-12-20 18:00",
          "s22-12-20 22:00",
          "s22-12-21 02:00",
          "s22-12-21 06:00",
          "s22-12-21 10:00",
          "s22-12-21 14:00",
          "s22-12-21 18:00",
          "s22-12-21 22:00",
          "s22-12-22 02:00",
          "s22-12-22 06:00",
          "s22-12-22 10:00",
          "s22-12-22 14:00",
          "s22-12-22 18:00",
          "s22-12-22 22:00",
          "s22-12-23 02:00",
          "s22-12-23 06:00",
          "s22-12-23 10:00",
          "s22-12-23 14:00",
          "s22-12-23 18:00",
          "s22-12-26 22:00",
          "s22-12-27 02:00",
          "s22-12-27 06:00",
          "s22-12-27 10:00",
          "s22-12-27 14:00",
          "s22-12-27 18:00",
          "s22-12-27 22:00",
          "s22-12-28 02:00",
          "s22-12-28 06:00",
          "s22-12-28 10:00",
          "s22-12-28 14:00",
          "s22-12-28 18:00",
          "s22-12-28 22:00",
          "s22-12-29 02:00",
          "s22-12-29 06:00",
          "s22-12-29 10:00",
          "s22-12-29 14:00",
          "s22-12-29 18:00",
          "s22-12-29 22:00",
          "s22-12-30 02:00",
          "s22-12-30 06:00",
          "s22-12-30 10:00",
          "s22-12-30 14:00",
          "s22-12-30 18:00"
         ]
        },
        {
         "close": {
          "bdata": "8RExJZLo8D9cPSe9b3zvPw==",
          "dtype": "f8"
         },
         "high": {
          "bdata": "eEXwv5Xs8D8Qr+sX7IbvPw==",
          "dtype": "f8"
         },
         "increasing": {
          "fillcolor": "yellow",
          "line": {
           "color": "yellow"
          }
         },
         "line": {
          "width": 2
         },
         "low": {
          "bdata": "KPIk6ZrJ8D/2C3bDtkXvPw==",
          "dtype": "f8"
         },
         "opacity": 1,
         "open": {
          "bdata": "zczMzMzM8D8O8+UF2EfvPw==",
          "dtype": "f8"
         },
         "type": "candlestick",
         "x": [
          "s22-05-03 09:00",
          "s22-10-17 13:00"
         ]
        },
        {
         "marker": {
          "color": "green",
          "size": 15,
          "symbol": "triangle-up"
         },
         "mode": "markers",
         "name": "Bottm",
         "showlegend": true,
         "type": "scatter",
         "x": [
          "s22-03-01 14:00",
          "s22-03-02 06:00",
          "s22-03-02 14:00",
          "s22-03-03 14:00",
          "s22-03-03 22:00",
          "s22-03-04 06:00",
          "s22-03-04 10:00",
          "s22-03-06 22:00",
          "s22-03-07 10:00",
          "s22-03-28 01:00",
          "s22-03-28 05:00",
          "s22-04-05 13:00",
          "s22-04-05 17:00",
          "s22-04-05 21:00",
          "s22-04-06 01:00",
          "s22-04-06 05:00",
          "s22-04-07 09:00",
          "s22-04-07 21:00",
          "s22-04-08 01:00",
          "s22-04-08 05:00",
          "s22-04-08 13:00",
          "s22-04-12 13:00",
          "s22-04-12 17:00",
          "s22-04-12 21:00",
          "s22-04-13 13:00",
          "s22-04-14 13:00",
          "s22-04-25 05:00",
          "s22-04-25 13:00",
          "s22-04-26 05:00",
          "s22-04-26 09:00",
          "s22-04-26 13:00",
          "s22-04-26 17:00",
          "s22-04-26 21:00",
          "s22-04-27 01:00",
          "s22-04-27 05:00",
          "s22-04-27 09:00",
          "s22-04-27 13:00",
          "s22-04-28 01:00",
          "s22-04-28 05:00",
          "s22-04-28 09:00",
          "s22-05-12 05:00",
          "s22-05-12 09:00",
          "s22-05-12 13:00",
          "s22-05-12 17:00",
          "s22-05-13 13:00",
          "s22-06-12 21:00",
          "s22-06-13 01:00",
          "s22-06-13 05:00",
          "s22-06-13 09:00",
          "s22-06-13 13:00",
          "s22-06-13 17:00",
          "s22-06-14 01:00",
          "s22-06-15 13:00",
          "s22-06-15 17:00",
          "s22-06-29 13:00",
          "s22-06-29 17:00",
          "s22-06-30 01:00",
          "s22-06-30 05:00",
          "s22-06-30 09:00",
          "s22-07-01 13:00",
          "s22-07-05 05:00",
          "s22-07-05 09:00",
          "s22-07-05 13:00",
          "s22-07-06 05:00",
          "s22-07-06 09:00",
          "s22-07-06 13:00",
          "s22-07-07 13:00",
          "s22-07-07 17:00",
          "s22-07-08 01:00",
          "s22-07-08 05:00",
          "s22-07-11 13:00",
          "s22-07-11 17:00",
          "s22-07-12 01:00",
          "s22-07-12 05:00",
          "s22-07-12 09:00",
          "s22-07-13 09:00",
          "s22-07-14 13:00",
          "s22-07-27 13:00",
          "s22-08-16 09:00",
          "s22-08-18 13:00",
          "s22-08-18 17:00",
          "s22-08-18 21:00",
          "s22-08-19 01:00",
          "s22-08-19 09:00",
          "s22-08-19 13:00",
          "s22-08-19 17:00",
          "s22-08-21 21:00",
          "s22-08-22 01:00",
          "s22-08-22 05:00",
          "s22-08-22 13:00",
          "s22-08-22 17:00",
          "s22-08-23 05:00",
          "s22-09-04 21:00",
          "s22-09-05 01:00",
          "s22-09-05 05:00",
          "s22-09-06 13:00",
          "s22-09-21 05:00",
          "s22-09-21 13:00",
          "s22-09-21 17:00",
          "s22-09-21 21:00",
          "s22-09-23 05:00",
          "s22-09-23 09:00",
          "s22-09-23 13:00",
          "s22-09-23 17:00",
          "s22-09-25 21:00",
          "s22-09-28 01:00",
          "s22-09-28 05:00",
          "s22-10-10 05:00",
          "s22-10-11 01:00",
          "s22-10-12 13:00",
          "s22-10-13 09:00"
         ],
         "y": {
          "bdata": "A+yjU1e+8T/EzhQ6r7HxP/7UeOkmsfE/ZapgVFKn8T/o3sMlx53xP+kOYmcKnfE/X0ax3NJq8T/G3LWEfFDxP+7rwDkjSvE/TP28qUiF8T+Jeyx96ILxP6HbSxqjdfE/cT0K16Nw8T+uu3mqQ27xPyLgEKrUbPE/LpCg+DFm8T81mIbhI2LxP+XyH9JvX/E/rmTHRiBe8T/s+gW7YVvxP/QyiuWWVvE/Tfilft5U8T9VGFsIclDxP1wgQfFjTPE/zywJUFNL8T8R/G8lOzbxP8R3YtaLIfE/6PaSxmgd8T9sQ8U4fxPxP1Ist7QaEvE/nuqQm+EG8T/430p2bATxP/n3GRcOBPE/Foczv5oD8T8AqU2c3O/wPx7htOBF3/A/ptWQuMfS8D/jUwCMZ9DwPzAS2nIuxfA/U5EKYwvB8D8VdHtJY7TwP+V+h6JAn/A//g5FgT6R8D9w626e6pDwPwKfH0YIj/A/ou4DkNrE8D9QGf8+48LwPyU7NgLxuvA/9YQlHlC28D/s3R/vVavwP8DnhxHCo/A/UWuad5yi8D/P91PjpZvwP94f71Urk/A/vK5fsBu28D/8jAsHQrLwPzarPldbsfA/cuFASBaw8D94YtaLoZzwP2iz6nO1lfA/IR/0bFZ98D9trS8S2nLwP6rU7IFWYPA/lE25wrtc8D8yWkdVE0TwP1JJnYAmQvA/rrZif9k98D97iEZ3EDvwP/DErBdDOfA/BW7dzVMd8D/3Bl+YTBXwP6+ZfLPNDfA/pgpGJXUC8D//z2G+vADwPwAAAAAAAPA/PE7RkVz+7z9iZwqd19jvP/LNNjemJ/A/isiwijcy8D9N845TdCTwP6pIhbGFIPA/rthfdk8e8D/pJjEIrBzwP4nqrYGtEvA/zCiWW1oN8D+TUtDtJQ3wPydO7ncoCvA/YVRSJ6AJ8D/zyB8MPPfvP9vcmJ6wxO8/a2CrBIvD7z8DfSJPkq7vPxtkkpGzsO8/kKD4Meau7z9ApN++DpzvP+PHmLuWkO8/4e6s3Xah7z9uizIbZJLvP7ubpzrkZu8/NZiG4SNi7z8VjErqBDTvP2N6whIPKO8/lZo90AoM7z+OzCN/MPDuP/8+48KBkO4/f/s6cM6I7j8y5q4l5IPuP5dzKa4q++4/GZC93v3x7j/kMQOV8e/uP4qO5PIf0u4/",
          "dtype": "f8"
         }
        },
        {
         "marker": {
          "color": "blue",
          "size": 15,
          "symbol": "triangle-down"
         },
         "mode": "markers",
         "name": "Reentry",
         "showlegend": true,
         "type": "scatter",
         "x": [
          "s22-04-11 13:00",
          "s22-04-14 09:00",
          "s22-04-21 13:00",
          "s22-05-01 21:00",
          "s22-05-13 09:00",
          "s22-07-04 13:00",
          "s22-08-24 01:00",
          "s22-09-06 09:00",
          "s22-09-22 13:00",
          "s22-10-14 05:00"
         ],
         "y": {
          "bdata": "F0hQ/Bhz8T8OEMzR43fxP5AUkWEVb/E/Su8bX3vm8D8svMtFfKfwP3pwd9Zuu/A/5NpQMc7f7z86QDBHj9/vP+tunuqQm+8/fZbnwd1Z7z8=",
          "dtype": "f8"
         }
        },
        {
         "line": {
          "color": "yellow",
          "dash": "dot",
          "width": 2
         },
         "mode": "lines",
         "name": "Zone",
         "type": "scatter",
         "x": [
          "s22-05-03 09:00",
          "s22-05-03 09:00"
         ],
         "y": [
          1.07859,
          1.08345
         ]
        },
        {
         "line": {
          "color": "yellow",
          "dash": "dot",
          "width": 2
         },
         "mode": "lines",
         "name": "Zone",
         "type": "scatter",
         "x": [
          "s22-05-03 09:00",
          "s22-05-03 09:00"
         ],
         "y": [
          1.08705,
          1.09295
         ]
        },
        {
         "line": {
          "color": "yellow",
          "dash": "dot",
          "width": 2
         },
         "mode": "lines",
         "name": "Zone",
         "type": "scatter",
         "x": [
          "s22-05-03 09:00",
          "s22-05-03 09:00"
         ],
         "y": [
          1.09504,
          1.10283
         ]
        },
        {
         "line": {
          "color": "yellow",
          "dash": "dot",
          "width": 2
         },
         "mode": "lines",
         "name": "Zone",
         "type": "scatter",
         "x": [
          "s22-10-17 13:00",
          "s22-10-17 13:00"
         ],
         "y": [
          0.986,
          1.00337
         ]
        },
        {
         "line": {
          "color": "yellow",
          "dash": "dot",
          "width": 2
         },
         "mode": "lines",
         "name": "Zone",
         "type": "scatter",
         "x": [
          "s22-10-17 13:00",
          "s22-10-17 13:00"
         ],
         "y": [
          1.01323,
          1.02355
         ]
        },
        {
         "line": {
          "color": "yellow",
          "dash": "dot",
          "width": 2
         },
         "mode": "lines",
         "name": "Zone",
         "type": "scatter",
         "x": [
          "s22-10-17 13:00",
          "s22-10-17 13:00"
         ],
         "y": [
          1.0378,
          1.04688
         ]
        }
       ],
       "layout": {
        "font": {
         "color": "#e1e1e1",
         "size": 10
        },
        "height": 1000,
        "hovermode": "x unified",
        "margin": {
         "b": 10,
         "l": 10,
         "r": 10,
         "t": 30
        },
        "paper_bgcolor": "#2c303c",
        "plot_bgcolor": "#2c303c",
        "template": {
         "data": {
          "bar": [
           {
            "error_x": {
             "color": "#2a3f5f"
            },
            "error_y": {
             "color": "#2a3f5f"
            },
            "marker": {
             "line": {
              "color": "#E5ECF6",
              "width": 0.5
             },
             "pattern": {
              "fillmode": "overlay",
              "size": 10,
              "solidity": 0.2
             }
            },
            "type": "bar"
           }
          ],
          "barpolar": [
           {
            "marker": {
             "line": {
              "color": "#E5ECF6",
              "width": 0.5
             },
             "pattern": {
              "fillmode": "overlay",
              "size": 10,
              "solidity": 0.2
             }
            },
            "type": "barpolar"
           }
          ],
          "carpet": [
           {
            "aaxis": {
             "endlinecolor": "#2a3f5f",
             "gridcolor": "white",
             "linecolor": "white",
             "minorgridcolor": "white",
             "startlinecolor": "#2a3f5f"
            },
            "baxis": {
             "endlinecolor": "#2a3f5f",
             "gridcolor": "white",
             "linecolor": "white",
             "minorgridcolor": "white",
             "startlinecolor": "#2a3f5f"
            },
            "type": "carpet"
           }
          ],
          "choropleth": [
           {
            "colorbar": {
             "outlinewidth": 0,
             "ticks": ""
            },
            "type": "choropleth"
           }
          ],
          "contour": [
           {
            "colorbar": {
             "outlinewidth": 0,
             "ticks": ""
            },
            "colorscale": [
             [
              0,
              "#0d0887"
             ],
             [
              0.1111111111111111,
              "#46039f"
             ],
             [
              0.2222222222222222,
              "#7201a8"
             ],
             [
              0.3333333333333333,
              "#9c179e"
             ],
             [
              0.4444444444444444,
              "#bd3786"
             ],
             [
              0.5555555555555556,
              "#d8576b"
             ],
             [
              0.6666666666666666,
              "#ed7953"
             ],
             [
              0.7777777777777778,
              "#fb9f3a"
             ],
             [
              0.8888888888888888,
              "#fdca26"
             ],
             [
              1,
              "#f0f921"
             ]
            ],
            "type": "contour"
           }
          ],
          "contourcarpet": [
           {
            "colorbar": {
             "outlinewidth": 0,
             "ticks": ""
            },
            "type": "contourcarpet"
           }
          ],
          "heatmap": [
           {
            "colorbar": {
             "outlinewidth": 0,
             "ticks": ""
            },
            "colorscale": [
             [
              0,
              "#0d0887"
             ],
             [
              0.1111111111111111,
              "#46039f"
             ],
             [
              0.2222222222222222,
              "#7201a8"
             ],
             [
              0.3333333333333333,
              "#9c179e"
             ],
             [
              0.4444444444444444,
              "#bd3786"
             ],
             [
              0.5555555555555556,
              "#d8576b"
             ],
             [
              0.6666666666666666,
              "#ed7953"
             ],
             [
              0.7777777777777778,
              "#fb9f3a"
             ],
             [
              0.8888888888888888,
              "#fdca26"
             ],
             [
              1,
              "#f0f921"
             ]
            ],
            "type": "heatmap"
           }
          ],
          "histogram": [
           {
            "marker": {
             "pattern": {
              "fillmode": "overlay",
              "size": 10,
              "solidity": 0.2
             }
            },
            "type": "histogram"
           }
          ],
          "histogram2d": [
           {
            "colorbar": {
             "outlinewidth": 0,
             "ticks": ""
            },
            "colorscale": [
             [
              0,
              "#0d0887"
             ],
             [
              0.1111111111111111,
              "#46039f"
             ],
             [
              0.2222222222222222,
              "#7201a8"
             ],
             [
              0.3333333333333333,
              "#9c179e"
             ],
             [
              0.4444444444444444,
              "#bd3786"
             ],
             [
              0.5555555555555556,
              "#d8576b"
             ],
             [
              0.6666666666666666,
              "#ed7953"
             ],
             [
              0.7777777777777778,
              "#fb9f3a"
             ],
             [
              0.8888888888888888,
              "#fdca26"
             ],
             [
              1,
              "#f0f921"
             ]
            ],
            "type": "histogram2d"
           }
          ],
          "histogram2dcontour": [
           {
            "colorbar": {
             "outlinewidth": 0,
             "ticks": ""
            },
            "colorscale": [
             [
              0,
              "#0d0887"
             ],
             [
              0.1111111111111111,
              "#46039f"
             ],
             [
              0.2222222222222222,
              "#7201a8"
             ],
             [
              0.3333333333333333,
              "#9c179e"
             ],
             [
              0.4444444444444444,
              "#bd3786"
             ],
             [
              0.5555555555555556,
              "#d8576b"
             ],
             [
              0.6666666666666666,
              "#ed7953"
             ],
             [
              0.7777777777777778,
              "#fb9f3a"
             ],
             [
              0.8888888888888888,
              "#fdca26"
             ],
             [
              1,
              "#f0f921"
             ]
            ],
            "type": "histogram2dcontour"
           }
          ],
          "mesh3d": [
           {
            "colorbar": {
             "outlinewidth": 0,
             "ticks": ""
            },
            "type": "mesh3d"
           }
          ],
          "parcoords": [
           {
            "line": {
             "colorbar": {
              "outlinewidth": 0,
              "ticks": ""
             }
            },
            "type": "parcoords"
           }
          ],
          "pie": [
           {
            "automargin": true,
            "type": "pie"
           }
          ],
          "scatter": [
           {
            "fillpattern": {
             "fillmode": "overlay",
             "size": 10,
             "solidity": 0.2
            },
            "type": "scatter"
           }
          ],
          "scatter3d": [
           {
            "line": {
             "colorbar": {
              "outlinewidth": 0,
              "ticks": ""
             }
            },
            "marker": {
             "colorbar": {
              "outlinewidth": 0,
              "ticks": ""
             }
            },
            "type": "scatter3d"
           }
          ],
          "scattercarpet": [
           {
            "marker": {
             "colorbar": {
              "outlinewidth": 0,
              "ticks": ""
             }
            },
            "type": "scattercarpet"
           }
          ],
          "scattergeo": [
           {
            "marker": {
             "colorbar": {
              "outlinewidth": 0,
              "ticks": ""
             }
            },
            "type": "scattergeo"
           }
          ],
          "scattergl": [
           {
            "marker": {
             "colorbar": {
              "outlinewidth": 0,
              "ticks": ""
             }
            },
            "type": "scattergl"
           }
          ],
          "scattermap": [
           {
            "marker": {
             "colorbar": {
              "outlinewidth": 0,
              "ticks": ""
             }
            },
            "type": "scattermap"
           }
          ],
          "scattermapbox": [
           {
            "marker": {
             "colorbar": {
              "outlinewidth": 0,
              "ticks": ""
             }
            },
            "type": "scattermapbox"
           }
          ],
          "scatterpolar": [
           {
            "marker": {
             "colorbar": {
              "outlinewidth": 0,
              "ticks": ""
             }
            },
            "type": "scatterpolar"
           }
          ],
          "scatterpolargl": [
           {
            "marker": {
             "colorbar": {
              "outlinewidth": 0,
              "ticks": ""
             }
            },
            "type": "scatterpolargl"
           }
          ],
          "scatterternary": [
           {
            "marker": {
             "colorbar": {
              "outlinewidth": 0,
              "ticks": ""
             }
            },
            "type": "scatterternary"
           }
          ],
          "surface": [
           {
            "colorbar": {
             "outlinewidth": 0,
             "ticks": ""
            },
            "colorscale": [
             [
              0,
              "#0d0887"
             ],
             [
              0.1111111111111111,
              "#46039f"
             ],
             [
              0.2222222222222222,
              "#7201a8"
             ],
             [
              0.3333333333333333,
              "#9c179e"
             ],
             [
              0.4444444444444444,
              "#bd3786"
             ],
             [
              0.5555555555555556,
              "#d8576b"
             ],
             [
              0.6666666666666666,
              "#ed7953"
             ],
             [
              0.7777777777777778,
              "#fb9f3a"
             ],
             [
              0.8888888888888888,
              "#fdca26"
             ],
             [
              1,
              "#f0f921"
             ]
            ],
            "type": "surface"
           }
          ],
          "table": [
           {
            "cells": {
             "fill": {
              "color": "#EBF0F8"
             },
             "line": {
              "color": "white"
             }
            },
            "header": {
             "fill": {
              "color": "#C8D4E3"
             },
             "line": {
              "color": "white"
             }
            },
            "type": "table"
           }
          ]
         },
         "layout": {
          "annotationdefaults": {
           "arrowcolor": "#2a3f5f",
           "arrowhead": 0,
           "arrowwidth": 1
          },
          "autotypenumbers": "strict",
          "coloraxis": {
           "colorbar": {
            "outlinewidth": 0,
            "ticks": ""
           }
          },
          "colorscale": {
           "diverging": [
            [
             0,
             "#8e0152"
            ],
            [
             0.1,
             "#c51b7d"
            ],
            [
             0.2,
             "#de77ae"
            ],
            [
             0.3,
             "#f1b6da"
            ],
            [
             0.4,
             "#fde0ef"
            ],
            [
             0.5,
             "#f7f7f7"
            ],
            [
             0.6,
             "#e6f5d0"
            ],
            [
             0.7,
             "#b8e186"
            ],
            [
             0.8,
             "#7fbc41"
            ],
            [
             0.9,
             "#4d9221"
            ],
            [
             1,
             "#276419"
            ]
           ],
           "sequential": [
            [
             0,
             "#0d0887"
            ],
            [
             0.1111111111111111,
             "#46039f"
            ],
            [
             0.2222222222222222,
             "#7201a8"
            ],
            [
             0.3333333333333333,
             "#9c179e"
            ],
            [
             0.4444444444444444,
             "#bd3786"
            ],
            [
             0.5555555555555556,
             "#d8576b"
            ],
            [
             0.6666666666666666,
             "#ed7953"
            ],
            [
             0.7777777777777778,
             "#fb9f3a"
            ],
            [
             0.8888888888888888,
             "#fdca26"
            ],
            [
             1,
             "#f0f921"
            ]
           ],
           "sequentialminus": [
            [
             0,
             "#0d0887"
            ],
            [
             0.1111111111111111,
             "#46039f"
            ],
            [
             0.2222222222222222,
             "#7201a8"
            ],
            [
             0.3333333333333333,
             "#9c179e"
            ],
            [
             0.4444444444444444,
             "#bd3786"
            ],
            [
             0.5555555555555556,
             "#d8576b"
            ],
            [
             0.6666666666666666,
             "#ed7953"
            ],
            [
             0.7777777777777778,
             "#fb9f3a"
            ],
            [
             0.8888888888888888,
             "#fdca26"
            ],
            [
             1,
             "#f0f921"
            ]
           ]
          },
          "colorway": [
           "#636efa",
           "#EF553B",
           "#00cc96",
           "#ab63fa",
           "#FFA15A",
           "#19d3f3",
           "#FF6692",
           "#B6E880",
           "#FF97FF",
           "#FECB52"
          ],
          "font": {
           "color": "#2a3f5f"
          },
          "geo": {
           "bgcolor": "white",
           "lakecolor": "white",
           "landcolor": "#E5ECF6",
           "showlakes": true,
           "showland": true,
           "subunitcolor": "white"
          },
          "hoverlabel": {
           "align": "left"
          },
          "hovermode": "closest",
          "mapbox": {
           "style": "light"
          },
          "paper_bgcolor": "white",
          "plot_bgcolor": "#E5ECF6",
          "polar": {
           "angularaxis": {
            "gridcolor": "white",
            "linecolor": "white",
            "ticks": ""
           },
           "bgcolor": "#E5ECF6",
           "radialaxis": {
            "gridcolor": "white",
            "linecolor": "white",
            "ticks": ""
           }
          },
          "scene": {
           "xaxis": {
            "backgroundcolor": "#E5ECF6",
            "gridcolor": "white",
            "gridwidth": 2,
            "linecolor": "white",
            "showbackground": true,
            "ticks": "",
            "zerolinecolor": "white"
           },
           "yaxis": {
            "backgroundcolor": "#E5ECF6",
            "gridcolor": "white",
            "gridwidth": 2,
            "linecolor": "white",
            "showbackground": true,
            "ticks": "",
            "zerolinecolor": "white"
           },
           "zaxis": {
            "backgroundcolor": "#E5ECF6",
            "gridcolor": "white",
            "gridwidth": 2,
            "linecolor": "white",
            "showbackground": true,
            "ticks": "",
            "zerolinecolor": "white"
           }
          },
          "shapedefaults": {
           "line": {
            "color": "#2a3f5f"
           }
          },
          "ternary": {
           "aaxis": {
            "gridcolor": "white",
            "linecolor": "white",
            "ticks": ""
           },
           "baxis": {
            "gridcolor": "white",
            "linecolor": "white",
            "ticks": ""
           },
           "bgcolor": "#E5ECF6",
           "caxis": {
            "gridcolor": "white",
            "linecolor": "white",
            "ticks": ""
           }
          },
          "title": {
           "x": 0.05
          },
          "xaxis": {
           "automargin": true,
           "gridcolor": "white",
           "linecolor": "white",
           "ticks": "",
           "title": {
            "standoff": 15
           },
           "zerolinecolor": "white",
           "zerolinewidth": 2
          },
          "yaxis": {
           "automargin": true,
           "gridcolor": "white",
           "linecolor": "white",
           "ticks": "",
           "title": {
            "standoff": 15
           },
           "zerolinecolor": "white",
           "zerolinewidth": 2
          }
         }
        },
        "title": {
         "text": "Trade Zones & Entries"
        },
        "width": 2000,
        "xaxis": {
         "gridcolor": "#1f292f",
         "nticks": 5,
         "rangeslider": {
          "visible": true
         },
         "title": {
          "text": "Time"
         }
        },
        "yaxis": {
         "fixedrange": false,
         "gridcolor": "#1f292f",
         "range": [
          0.935051,
          1.1576389999999999
         ],
         "title": {
          "text": "Price"
         }
        }
       }
      }
     },
     "metadata": {},
     "output_type": "display_data"
    }
   ],
   "source": [
    "plot_trade_zones(df)"
   ]
  },
  {
   "cell_type": "code",
   "execution_count": 17,
   "metadata": {},
   "outputs": [
    {
     "name": "stdout",
     "output_type": "stream",
     "text": [
      "USD_JPY\n",
      "📈 Total Trades: 5\n",
      "💰 Total Pips: -22.0\n",
      "✅ Win Rate: 60.0%\n"
     ]
    },
    {
     "data": {
      "application/vnd.plotly.v1+json": {
       "config": {
        "plotlyServerURL": "https://plot.ly"
       },
       "data": [
        {
         "line": {
          "width": 2
         },
         "marker": {
          "size": 4
         },
         "mode": "lines+markers",
         "name": "Cumulative Pips",
         "type": "scatter",
         "x": [
          "2016-05-03T00:00:00+00:00",
          "2017-09-11T12:00:00+00:00",
          "2019-06-06T18:00:00+00:00",
          "2019-06-25T16:00:00+00:00",
          "2023-03-16T12:00:00+00:00"
         ],
         "y": [
          -49.4,
          42.00000000000001,
          57.60000000000001,
          69.60000000000001,
          -21.999999999999986
         ]
        }
       ],
       "layout": {
        "hovermode": "x unified",
        "template": {
         "data": {
          "bar": [
           {
            "error_x": {
             "color": "#2a3f5f"
            },
            "error_y": {
             "color": "#2a3f5f"
            },
            "marker": {
             "line": {
              "color": "white",
              "width": 0.5
             },
             "pattern": {
              "fillmode": "overlay",
              "size": 10,
              "solidity": 0.2
             }
            },
            "type": "bar"
           }
          ],
          "barpolar": [
           {
            "marker": {
             "line": {
              "color": "white",
              "width": 0.5
             },
             "pattern": {
              "fillmode": "overlay",
              "size": 10,
              "solidity": 0.2
             }
            },
            "type": "barpolar"
           }
          ],
          "carpet": [
           {
            "aaxis": {
             "endlinecolor": "#2a3f5f",
             "gridcolor": "#C8D4E3",
             "linecolor": "#C8D4E3",
             "minorgridcolor": "#C8D4E3",
             "startlinecolor": "#2a3f5f"
            },
            "baxis": {
             "endlinecolor": "#2a3f5f",
             "gridcolor": "#C8D4E3",
             "linecolor": "#C8D4E3",
             "minorgridcolor": "#C8D4E3",
             "startlinecolor": "#2a3f5f"
            },
            "type": "carpet"
           }
          ],
          "choropleth": [
           {
            "colorbar": {
             "outlinewidth": 0,
             "ticks": ""
            },
            "type": "choropleth"
           }
          ],
          "contour": [
           {
            "colorbar": {
             "outlinewidth": 0,
             "ticks": ""
            },
            "colorscale": [
             [
              0,
              "#0d0887"
             ],
             [
              0.1111111111111111,
              "#46039f"
             ],
             [
              0.2222222222222222,
              "#7201a8"
             ],
             [
              0.3333333333333333,
              "#9c179e"
             ],
             [
              0.4444444444444444,
              "#bd3786"
             ],
             [
              0.5555555555555556,
              "#d8576b"
             ],
             [
              0.6666666666666666,
              "#ed7953"
             ],
             [
              0.7777777777777778,
              "#fb9f3a"
             ],
             [
              0.8888888888888888,
              "#fdca26"
             ],
             [
              1,
              "#f0f921"
             ]
            ],
            "type": "contour"
           }
          ],
          "contourcarpet": [
           {
            "colorbar": {
             "outlinewidth": 0,
             "ticks": ""
            },
            "type": "contourcarpet"
           }
          ],
          "heatmap": [
           {
            "colorbar": {
             "outlinewidth": 0,
             "ticks": ""
            },
            "colorscale": [
             [
              0,
              "#0d0887"
             ],
             [
              0.1111111111111111,
              "#46039f"
             ],
             [
              0.2222222222222222,
              "#7201a8"
             ],
             [
              0.3333333333333333,
              "#9c179e"
             ],
             [
              0.4444444444444444,
              "#bd3786"
             ],
             [
              0.5555555555555556,
              "#d8576b"
             ],
             [
              0.6666666666666666,
              "#ed7953"
             ],
             [
              0.7777777777777778,
              "#fb9f3a"
             ],
             [
              0.8888888888888888,
              "#fdca26"
             ],
             [
              1,
              "#f0f921"
             ]
            ],
            "type": "heatmap"
           }
          ],
          "histogram": [
           {
            "marker": {
             "pattern": {
              "fillmode": "overlay",
              "size": 10,
              "solidity": 0.2
             }
            },
            "type": "histogram"
           }
          ],
          "histogram2d": [
           {
            "colorbar": {
             "outlinewidth": 0,
             "ticks": ""
            },
            "colorscale": [
             [
              0,
              "#0d0887"
             ],
             [
              0.1111111111111111,
              "#46039f"
             ],
             [
              0.2222222222222222,
              "#7201a8"
             ],
             [
              0.3333333333333333,
              "#9c179e"
             ],
             [
              0.4444444444444444,
              "#bd3786"
             ],
             [
              0.5555555555555556,
              "#d8576b"
             ],
             [
              0.6666666666666666,
              "#ed7953"
             ],
             [
              0.7777777777777778,
              "#fb9f3a"
             ],
             [
              0.8888888888888888,
              "#fdca26"
             ],
             [
              1,
              "#f0f921"
             ]
            ],
            "type": "histogram2d"
           }
          ],
          "histogram2dcontour": [
           {
            "colorbar": {
             "outlinewidth": 0,
             "ticks": ""
            },
            "colorscale": [
             [
              0,
              "#0d0887"
             ],
             [
              0.1111111111111111,
              "#46039f"
             ],
             [
              0.2222222222222222,
              "#7201a8"
             ],
             [
              0.3333333333333333,
              "#9c179e"
             ],
             [
              0.4444444444444444,
              "#bd3786"
             ],
             [
              0.5555555555555556,
              "#d8576b"
             ],
             [
              0.6666666666666666,
              "#ed7953"
             ],
             [
              0.7777777777777778,
              "#fb9f3a"
             ],
             [
              0.8888888888888888,
              "#fdca26"
             ],
             [
              1,
              "#f0f921"
             ]
            ],
            "type": "histogram2dcontour"
           }
          ],
          "mesh3d": [
           {
            "colorbar": {
             "outlinewidth": 0,
             "ticks": ""
            },
            "type": "mesh3d"
           }
          ],
          "parcoords": [
           {
            "line": {
             "colorbar": {
              "outlinewidth": 0,
              "ticks": ""
             }
            },
            "type": "parcoords"
           }
          ],
          "pie": [
           {
            "automargin": true,
            "type": "pie"
           }
          ],
          "scatter": [
           {
            "fillpattern": {
             "fillmode": "overlay",
             "size": 10,
             "solidity": 0.2
            },
            "type": "scatter"
           }
          ],
          "scatter3d": [
           {
            "line": {
             "colorbar": {
              "outlinewidth": 0,
              "ticks": ""
             }
            },
            "marker": {
             "colorbar": {
              "outlinewidth": 0,
              "ticks": ""
             }
            },
            "type": "scatter3d"
           }
          ],
          "scattercarpet": [
           {
            "marker": {
             "colorbar": {
              "outlinewidth": 0,
              "ticks": ""
             }
            },
            "type": "scattercarpet"
           }
          ],
          "scattergeo": [
           {
            "marker": {
             "colorbar": {
              "outlinewidth": 0,
              "ticks": ""
             }
            },
            "type": "scattergeo"
           }
          ],
          "scattergl": [
           {
            "marker": {
             "colorbar": {
              "outlinewidth": 0,
              "ticks": ""
             }
            },
            "type": "scattergl"
           }
          ],
          "scattermap": [
           {
            "marker": {
             "colorbar": {
              "outlinewidth": 0,
              "ticks": ""
             }
            },
            "type": "scattermap"
           }
          ],
          "scattermapbox": [
           {
            "marker": {
             "colorbar": {
              "outlinewidth": 0,
              "ticks": ""
             }
            },
            "type": "scattermapbox"
           }
          ],
          "scatterpolar": [
           {
            "marker": {
             "colorbar": {
              "outlinewidth": 0,
              "ticks": ""
             }
            },
            "type": "scatterpolar"
           }
          ],
          "scatterpolargl": [
           {
            "marker": {
             "colorbar": {
              "outlinewidth": 0,
              "ticks": ""
             }
            },
            "type": "scatterpolargl"
           }
          ],
          "scatterternary": [
           {
            "marker": {
             "colorbar": {
              "outlinewidth": 0,
              "ticks": ""
             }
            },
            "type": "scatterternary"
           }
          ],
          "surface": [
           {
            "colorbar": {
             "outlinewidth": 0,
             "ticks": ""
            },
            "colorscale": [
             [
              0,
              "#0d0887"
             ],
             [
              0.1111111111111111,
              "#46039f"
             ],
             [
              0.2222222222222222,
              "#7201a8"
             ],
             [
              0.3333333333333333,
              "#9c179e"
             ],
             [
              0.4444444444444444,
              "#bd3786"
             ],
             [
              0.5555555555555556,
              "#d8576b"
             ],
             [
              0.6666666666666666,
              "#ed7953"
             ],
             [
              0.7777777777777778,
              "#fb9f3a"
             ],
             [
              0.8888888888888888,
              "#fdca26"
             ],
             [
              1,
              "#f0f921"
             ]
            ],
            "type": "surface"
           }
          ],
          "table": [
           {
            "cells": {
             "fill": {
              "color": "#EBF0F8"
             },
             "line": {
              "color": "white"
             }
            },
            "header": {
             "fill": {
              "color": "#C8D4E3"
             },
             "line": {
              "color": "white"
             }
            },
            "type": "table"
           }
          ]
         },
         "layout": {
          "annotationdefaults": {
           "arrowcolor": "#2a3f5f",
           "arrowhead": 0,
           "arrowwidth": 1
          },
          "autotypenumbers": "strict",
          "coloraxis": {
           "colorbar": {
            "outlinewidth": 0,
            "ticks": ""
           }
          },
          "colorscale": {
           "diverging": [
            [
             0,
             "#8e0152"
            ],
            [
             0.1,
             "#c51b7d"
            ],
            [
             0.2,
             "#de77ae"
            ],
            [
             0.3,
             "#f1b6da"
            ],
            [
             0.4,
             "#fde0ef"
            ],
            [
             0.5,
             "#f7f7f7"
            ],
            [
             0.6,
             "#e6f5d0"
            ],
            [
             0.7,
             "#b8e186"
            ],
            [
             0.8,
             "#7fbc41"
            ],
            [
             0.9,
             "#4d9221"
            ],
            [
             1,
             "#276419"
            ]
           ],
           "sequential": [
            [
             0,
             "#0d0887"
            ],
            [
             0.1111111111111111,
             "#46039f"
            ],
            [
             0.2222222222222222,
             "#7201a8"
            ],
            [
             0.3333333333333333,
             "#9c179e"
            ],
            [
             0.4444444444444444,
             "#bd3786"
            ],
            [
             0.5555555555555556,
             "#d8576b"
            ],
            [
             0.6666666666666666,
             "#ed7953"
            ],
            [
             0.7777777777777778,
             "#fb9f3a"
            ],
            [
             0.8888888888888888,
             "#fdca26"
            ],
            [
             1,
             "#f0f921"
            ]
           ],
           "sequentialminus": [
            [
             0,
             "#0d0887"
            ],
            [
             0.1111111111111111,
             "#46039f"
            ],
            [
             0.2222222222222222,
             "#7201a8"
            ],
            [
             0.3333333333333333,
             "#9c179e"
            ],
            [
             0.4444444444444444,
             "#bd3786"
            ],
            [
             0.5555555555555556,
             "#d8576b"
            ],
            [
             0.6666666666666666,
             "#ed7953"
            ],
            [
             0.7777777777777778,
             "#fb9f3a"
            ],
            [
             0.8888888888888888,
             "#fdca26"
            ],
            [
             1,
             "#f0f921"
            ]
           ]
          },
          "colorway": [
           "#636efa",
           "#EF553B",
           "#00cc96",
           "#ab63fa",
           "#FFA15A",
           "#19d3f3",
           "#FF6692",
           "#B6E880",
           "#FF97FF",
           "#FECB52"
          ],
          "font": {
           "color": "#2a3f5f"
          },
          "geo": {
           "bgcolor": "white",
           "lakecolor": "white",
           "landcolor": "white",
           "showlakes": true,
           "showland": true,
           "subunitcolor": "#C8D4E3"
          },
          "hoverlabel": {
           "align": "left"
          },
          "hovermode": "closest",
          "mapbox": {
           "style": "light"
          },
          "paper_bgcolor": "white",
          "plot_bgcolor": "white",
          "polar": {
           "angularaxis": {
            "gridcolor": "#EBF0F8",
            "linecolor": "#EBF0F8",
            "ticks": ""
           },
           "bgcolor": "white",
           "radialaxis": {
            "gridcolor": "#EBF0F8",
            "linecolor": "#EBF0F8",
            "ticks": ""
           }
          },
          "scene": {
           "xaxis": {
            "backgroundcolor": "white",
            "gridcolor": "#DFE8F3",
            "gridwidth": 2,
            "linecolor": "#EBF0F8",
            "showbackground": true,
            "ticks": "",
            "zerolinecolor": "#EBF0F8"
           },
           "yaxis": {
            "backgroundcolor": "white",
            "gridcolor": "#DFE8F3",
            "gridwidth": 2,
            "linecolor": "#EBF0F8",
            "showbackground": true,
            "ticks": "",
            "zerolinecolor": "#EBF0F8"
           },
           "zaxis": {
            "backgroundcolor": "white",
            "gridcolor": "#DFE8F3",
            "gridwidth": 2,
            "linecolor": "#EBF0F8",
            "showbackground": true,
            "ticks": "",
            "zerolinecolor": "#EBF0F8"
           }
          },
          "shapedefaults": {
           "line": {
            "color": "#2a3f5f"
           }
          },
          "ternary": {
           "aaxis": {
            "gridcolor": "#DFE8F3",
            "linecolor": "#A2B1C6",
            "ticks": ""
           },
           "baxis": {
            "gridcolor": "#DFE8F3",
            "linecolor": "#A2B1C6",
            "ticks": ""
           },
           "bgcolor": "white",
           "caxis": {
            "gridcolor": "#DFE8F3",
            "linecolor": "#A2B1C6",
            "ticks": ""
           }
          },
          "title": {
           "x": 0.05
          },
          "xaxis": {
           "automargin": true,
           "gridcolor": "#EBF0F8",
           "linecolor": "#EBF0F8",
           "ticks": "",
           "title": {
            "standoff": 15
           },
           "zerolinecolor": "#EBF0F8",
           "zerolinewidth": 2
          },
          "yaxis": {
           "automargin": true,
           "gridcolor": "#EBF0F8",
           "linecolor": "#EBF0F8",
           "ticks": "",
           "title": {
            "standoff": 15
           },
           "zerolinecolor": "#EBF0F8",
           "zerolinewidth": 2
          }
         }
        },
        "title": {
         "text": "📈 Strategy Profit Over Time"
        },
        "xaxis": {
         "title": {
          "text": "Time"
         }
        },
        "yaxis": {
         "title": {
          "text": "Cumulative Pips"
         }
        }
       }
      }
     },
     "metadata": {},
     "output_type": "display_data"
    }
   ],
   "source": [
    "pairs = [\"USD_JPY\"]\n",
    "for pair in pairs:\n",
    "    print(pair)\n",
    "    summarize_trades(f\"../backtesting/results/{pair}_H1_analyzed.pkl\")"
   ]
  },
  {
   "cell_type": "code",
   "execution_count": 14,
   "metadata": {},
   "outputs": [
    {
     "name": "stdout",
     "output_type": "stream",
     "text": [
      "AUD_USD\n"
     ]
    },
    {
     "ename": "FileNotFoundError",
     "evalue": "[Errno 2] No such file or directory: '../backtesting/results/AUD_USD_H1_analyzed.pkl'",
     "output_type": "error",
     "traceback": [
      "\u001b[31m---------------------------------------------------------------------------\u001b[39m",
      "\u001b[31mFileNotFoundError\u001b[39m                         Traceback (most recent call last)",
      "\u001b[36mCell\u001b[39m\u001b[36m \u001b[39m\u001b[32mIn[14]\u001b[39m\u001b[32m, line 4\u001b[39m\n\u001b[32m      2\u001b[39m \u001b[38;5;28;01mfor\u001b[39;00m pair \u001b[38;5;129;01min\u001b[39;00m pairs:\n\u001b[32m      3\u001b[39m     \u001b[38;5;28mprint\u001b[39m(pair)\n\u001b[32m----> \u001b[39m\u001b[32m4\u001b[39m     \u001b[43msummarize_trades\u001b[49m\u001b[43m(\u001b[49m\u001b[33;43mf\u001b[39;49m\u001b[33;43m\"\u001b[39;49m\u001b[33;43m../backtesting/results/\u001b[39;49m\u001b[38;5;132;43;01m{\u001b[39;49;00m\u001b[43mpair\u001b[49m\u001b[38;5;132;43;01m}\u001b[39;49;00m\u001b[33;43m_H1_analyzed.pkl\u001b[39;49m\u001b[33;43m\"\u001b[39;49m\u001b[43m)\u001b[49m\n",
      "\u001b[36mCell\u001b[39m\u001b[36m \u001b[39m\u001b[32mIn[3]\u001b[39m\u001b[32m, line 571\u001b[39m, in \u001b[36msummarize_trades\u001b[39m\u001b[34m(filepath)\u001b[39m\n\u001b[32m    569\u001b[39m \u001b[38;5;28;01mdef\u001b[39;00m\u001b[38;5;250m \u001b[39m\u001b[34msummarize_trades\u001b[39m(filepath):\n\u001b[32m--> \u001b[39m\u001b[32m571\u001b[39m     df = \u001b[43mpd\u001b[49m\u001b[43m.\u001b[49m\u001b[43mread_pickle\u001b[49m\u001b[43m(\u001b[49m\u001b[43mfilepath\u001b[49m\u001b[43m)\u001b[49m\n\u001b[32m    573\u001b[39m     \u001b[38;5;66;03m# Filter only closed trades\u001b[39;00m\n\u001b[32m    574\u001b[39m     closed_trades = df[df[\u001b[33m'\u001b[39m\u001b[33mtrade\u001b[39m\u001b[33m'\u001b[39m].isin([\u001b[33m'\u001b[39m\u001b[33mclosed - sl hit\u001b[39m\u001b[33m'\u001b[39m, \u001b[33m'\u001b[39m\u001b[33mclosed - tp hit\u001b[39m\u001b[33m'\u001b[39m])].copy()\n",
      "\u001b[36mFile \u001b[39m\u001b[32mm:\\Documents\\trading\\bots\\wirly-dirly\\venv\\Lib\\site-packages\\pandas\\io\\pickle.py:185\u001b[39m, in \u001b[36mread_pickle\u001b[39m\u001b[34m(filepath_or_buffer, compression, storage_options)\u001b[39m\n\u001b[32m    123\u001b[39m \u001b[38;5;250m\u001b[39m\u001b[33;03m\"\"\"\u001b[39;00m\n\u001b[32m    124\u001b[39m \u001b[33;03mLoad pickled pandas object (or any object) from file.\u001b[39;00m\n\u001b[32m    125\u001b[39m \n\u001b[32m   (...)\u001b[39m\u001b[32m    182\u001b[39m \u001b[33;03m4    4    9\u001b[39;00m\n\u001b[32m    183\u001b[39m \u001b[33;03m\"\"\"\u001b[39;00m\n\u001b[32m    184\u001b[39m excs_to_catch = (\u001b[38;5;167;01mAttributeError\u001b[39;00m, \u001b[38;5;167;01mImportError\u001b[39;00m, \u001b[38;5;167;01mModuleNotFoundError\u001b[39;00m, \u001b[38;5;167;01mTypeError\u001b[39;00m)\n\u001b[32m--> \u001b[39m\u001b[32m185\u001b[39m \u001b[38;5;28;01mwith\u001b[39;00m \u001b[43mget_handle\u001b[49m\u001b[43m(\u001b[49m\n\u001b[32m    186\u001b[39m \u001b[43m    \u001b[49m\u001b[43mfilepath_or_buffer\u001b[49m\u001b[43m,\u001b[49m\n\u001b[32m    187\u001b[39m \u001b[43m    \u001b[49m\u001b[33;43m\"\u001b[39;49m\u001b[33;43mrb\u001b[39;49m\u001b[33;43m\"\u001b[39;49m\u001b[43m,\u001b[49m\n\u001b[32m    188\u001b[39m \u001b[43m    \u001b[49m\u001b[43mcompression\u001b[49m\u001b[43m=\u001b[49m\u001b[43mcompression\u001b[49m\u001b[43m,\u001b[49m\n\u001b[32m    189\u001b[39m \u001b[43m    \u001b[49m\u001b[43mis_text\u001b[49m\u001b[43m=\u001b[49m\u001b[38;5;28;43;01mFalse\u001b[39;49;00m\u001b[43m,\u001b[49m\n\u001b[32m    190\u001b[39m \u001b[43m    \u001b[49m\u001b[43mstorage_options\u001b[49m\u001b[43m=\u001b[49m\u001b[43mstorage_options\u001b[49m\u001b[43m,\u001b[49m\n\u001b[32m    191\u001b[39m \u001b[43m\u001b[49m\u001b[43m)\u001b[49m \u001b[38;5;28;01mas\u001b[39;00m handles:\n\u001b[32m    192\u001b[39m     \u001b[38;5;66;03m# 1) try standard library Pickle\u001b[39;00m\n\u001b[32m    193\u001b[39m     \u001b[38;5;66;03m# 2) try pickle_compat (older pandas version) to handle subclass changes\u001b[39;00m\n\u001b[32m    194\u001b[39m     \u001b[38;5;66;03m# 3) try pickle_compat with latin-1 encoding upon a UnicodeDecodeError\u001b[39;00m\n\u001b[32m    196\u001b[39m     \u001b[38;5;28;01mtry\u001b[39;00m:\n\u001b[32m    197\u001b[39m         \u001b[38;5;66;03m# TypeError for Cython complaints about object.__new__ vs Tick.__new__\u001b[39;00m\n\u001b[32m    198\u001b[39m         \u001b[38;5;28;01mtry\u001b[39;00m:\n",
      "\u001b[36mFile \u001b[39m\u001b[32mm:\\Documents\\trading\\bots\\wirly-dirly\\venv\\Lib\\site-packages\\pandas\\io\\common.py:882\u001b[39m, in \u001b[36mget_handle\u001b[39m\u001b[34m(path_or_buf, mode, encoding, compression, memory_map, is_text, errors, storage_options)\u001b[39m\n\u001b[32m    873\u001b[39m         handle = \u001b[38;5;28mopen\u001b[39m(\n\u001b[32m    874\u001b[39m             handle,\n\u001b[32m    875\u001b[39m             ioargs.mode,\n\u001b[32m   (...)\u001b[39m\u001b[32m    878\u001b[39m             newline=\u001b[33m\"\u001b[39m\u001b[33m\"\u001b[39m,\n\u001b[32m    879\u001b[39m         )\n\u001b[32m    880\u001b[39m     \u001b[38;5;28;01melse\u001b[39;00m:\n\u001b[32m    881\u001b[39m         \u001b[38;5;66;03m# Binary mode\u001b[39;00m\n\u001b[32m--> \u001b[39m\u001b[32m882\u001b[39m         handle = \u001b[38;5;28;43mopen\u001b[39;49m\u001b[43m(\u001b[49m\u001b[43mhandle\u001b[49m\u001b[43m,\u001b[49m\u001b[43m \u001b[49m\u001b[43mioargs\u001b[49m\u001b[43m.\u001b[49m\u001b[43mmode\u001b[49m\u001b[43m)\u001b[49m\n\u001b[32m    883\u001b[39m     handles.append(handle)\n\u001b[32m    885\u001b[39m \u001b[38;5;66;03m# Convert BytesIO or file objects passed with an encoding\u001b[39;00m\n",
      "\u001b[31mFileNotFoundError\u001b[39m: [Errno 2] No such file or directory: '../backtesting/results/AUD_USD_H1_analyzed.pkl'"
     ]
    }
   ],
   "source": [
    "pairs = [\"AUD_USD\", \"EUR_USD\", \"GBP_USD\", \"USD_CHF\", \"USD_JPY\", \"NZD_USD\", \"USD_CAD\"]\n",
    "for pair in pairs:\n",
    "    print(pair)\n",
    "    summarize_trades(f\"../backtesting/results/{pair}_H1_analyzed.pkl\")"
   ]
  },
  {
   "cell_type": "code",
   "execution_count": null,
   "metadata": {},
   "outputs": [],
   "source": [
    "df_an = pd.read_pickle('../data/GBP_USD_H4.pkl').copy()\n",
    "def apply_technicals(df):\n",
    "    df['sTime'] = [dt.datetime.strftime(x, \"s%y-%m-%d %H:%M\") for x in df.time]\n",
    "    trend_checker.apply_downtrend(df)\n",
    "    df['bullish_strength_score'] = df.apply(pattern_detector.bullish_strength, axis=1)\n",
    "    #need to make this not return a df but add in place\n",
    "    df = pattern_detector.detect_bottom_reversal_setups(df)\n",
    "    zone_detector.attach_zones_to_confirmations(df)\n",
    "    return df\n",
    "\n",
    "df_an = apply_technicals(df_an)\n",
    "df_an.head(40)"
   ]
  },
  {
   "cell_type": "code",
   "execution_count": null,
   "metadata": {},
   "outputs": [],
   "source": [
    "df_an['sTime'] = [dt.datetime.strftime(x, \"s%y-%m-%d %H:%M\") for x in df_an.time]\n",
    "trend_checker.apply_downtrend(df_an)\n",
    "df_an.tail(20)\n",
    "support_levels, resistance_levels = zone_detector.find_support_resistance(df_an)\n",
    "zones = zone_detector.get_zones_for_price(1.01934, support_levels, resistance_levels)\n",
    "print(zones)"
   ]
  },
  {
   "cell_type": "code",
   "execution_count": null,
   "metadata": {},
   "outputs": [],
   "source": [
    "\n"
   ]
  },
  {
   "cell_type": "code",
   "execution_count": null,
   "metadata": {},
   "outputs": [],
   "source": [
    "df_bull = df_an.copy()\n",
    "df_bull['bullish_strength_score'] = df_bull.apply(pattern_detector.bullish_strength, axis=1)\n",
    "strength_threshold = 0.7\n",
    "df_bull['strong_bullish'] = df_bull['bullish_strength_score'] >= strength_threshold\n",
    "df_bull.head()\n"
   ]
  },
  {
   "cell_type": "code",
   "execution_count": null,
   "metadata": {},
   "outputs": [],
   "source": [
    "df_signals = pattern_detector.detect_bottom_reversal_setups(df_bull)\n",
    "zone_detector.attach_zones_to_confirmations(df_signals)\n",
    "df_signals = df_signals[df_signals['setup_stage'] == 'confirmation']\n",
    "df_signals.shape"
   ]
  },
  {
   "cell_type": "code",
   "execution_count": null,
   "metadata": {},
   "outputs": [],
   "source": [
    "fig = trend_checker.highlight_downtrend_candles(df_an)\n",
    "x_start = df_an['sTime'].iloc[0]\n",
    "x_end = df_an['sTime'].iloc[-1]\n",
    "y_min = df_an['mid_l'].min()\n",
    "y_max = df_an['mid_h'].max()\n",
    "padding = (y_max - y_min) * 0.1  # 10% vertical padding\n",
    "\n",
    "stage_colors = {\n",
    "    'bottom': 'blue',\n",
    "    'breakout': 'orange',\n",
    "    'reentry': 'purple',\n",
    "    'confirmation': 'green'\n",
    "}\n",
    "\n",
    "# Add a trace for each setup stage\n",
    "for _, row in df_signals.iterrows():\n",
    "    stage = row['setup_stage']\n",
    "    fig.add_trace(go.Scatter(\n",
    "        x=[row['sTime']],\n",
    "        y=[row['mid_c']],  # or mid_l if you want the low of the candle\n",
    "        mode='markers+text',\n",
    "        marker=dict(color=stage_colors.get(stage, 'black'), size=10, symbol='x'),\n",
    "        name=stage,\n",
    "        text=[stage],\n",
    "        textposition='top center',\n",
    "        showlegend=False  # Set to True if you want to display multiple legends\n",
    "    ))\n",
    "\n",
    "# # Plot support levels\n",
    "# for level in support_levels:\n",
    "#     fig.add_trace(go.Scatter(\n",
    "#         x=[x_start, x_end],\n",
    "#         y=[level, level],\n",
    "#         mode='lines',\n",
    "#         name=f'Support {level}',\n",
    "#         line=dict(color='green', width=1)\n",
    "#     ))\n",
    "\n",
    "#     # Plot resistance levels\n",
    "# for level in resistance_levels:\n",
    "#     fig.add_trace(go.Scatter(\n",
    "#         x=[x_start, x_end],\n",
    "#         y=[level, level],\n",
    "#         mode='lines',\n",
    "#         name=f'Resistance {level}',\n",
    "#         line=dict(color='red', width=1)\n",
    "#     ))\n",
    "\n",
    "fig.update_layout(\n",
    "    yaxis=dict(\n",
    "        range=[y_min - padding, y_max + padding],\n",
    "        fixedrange=False  # Allow zooming\n",
    "    )\n",
    ")\n",
    "\n",
    "fig.show()"
   ]
  },
  {
   "cell_type": "code",
   "execution_count": null,
   "metadata": {},
   "outputs": [],
   "source": []
  },
  {
   "cell_type": "code",
   "execution_count": null,
   "metadata": {},
   "outputs": [],
   "source": []
  },
  {
   "cell_type": "code",
   "execution_count": null,
   "metadata": {},
   "outputs": [],
   "source": []
  },
  {
   "cell_type": "code",
   "execution_count": null,
   "metadata": {},
   "outputs": [],
   "source": []
  },
  {
   "cell_type": "code",
   "execution_count": null,
   "metadata": {},
   "outputs": [],
   "source": []
  }
 ],
 "metadata": {
  "kernelspec": {
   "display_name": "venv",
   "language": "python",
   "name": "python3"
  },
  "language_info": {
   "codemirror_mode": {
    "name": "ipython",
    "version": 3
   },
   "file_extension": ".py",
   "mimetype": "text/x-python",
   "name": "python",
   "nbconvert_exporter": "python",
   "pygments_lexer": "ipython3",
   "version": "3.12.5"
  }
 },
 "nbformat": 4,
 "nbformat_minor": 2
}
