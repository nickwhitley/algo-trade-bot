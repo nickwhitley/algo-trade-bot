{
 "cells": [
  {
   "cell_type": "code",
   "execution_count": 1,
   "metadata": {},
   "outputs": [],
   "source": [
    "import sys\n",
    "sys.path.append(\"../\")\n",
    "import pandas as pd\n",
    "import datetime as dt\n",
    "from api.oanda_api import OandaApi\n",
    "from dateutil import parser\n",
    "import timeit\n",
    "import plotly.graph_objects as go\n",
    "from technicals import trend_checker\n",
    "from technicals import zone_detector\n",
    "pd.set_option('display.max_columns', None)"
   ]
  },
  {
   "cell_type": "code",
   "execution_count": 2,
   "metadata": {},
   "outputs": [
    {
     "data": {
      "text/html": [
       "<div>\n",
       "<style scoped>\n",
       "    .dataframe tbody tr th:only-of-type {\n",
       "        vertical-align: middle;\n",
       "    }\n",
       "\n",
       "    .dataframe tbody tr th {\n",
       "        vertical-align: top;\n",
       "    }\n",
       "\n",
       "    .dataframe thead th {\n",
       "        text-align: right;\n",
       "    }\n",
       "</style>\n",
       "<table border=\"1\" class=\"dataframe\">\n",
       "  <thead>\n",
       "    <tr style=\"text-align: right;\">\n",
       "      <th></th>\n",
       "      <th>time</th>\n",
       "      <th>volume</th>\n",
       "      <th>mid_o</th>\n",
       "      <th>mid_h</th>\n",
       "      <th>mid_l</th>\n",
       "      <th>mid_c</th>\n",
       "      <th>bid_o</th>\n",
       "      <th>bid_h</th>\n",
       "      <th>bid_l</th>\n",
       "      <th>bid_c</th>\n",
       "      <th>ask_o</th>\n",
       "      <th>ask_h</th>\n",
       "      <th>ask_l</th>\n",
       "      <th>ask_c</th>\n",
       "      <th>sTime</th>\n",
       "      <th>ma_10</th>\n",
       "      <th>ma_50</th>\n",
       "      <th>in_downtrend</th>\n",
       "    </tr>\n",
       "  </thead>\n",
       "  <tbody>\n",
       "    <tr>\n",
       "      <th>49</th>\n",
       "      <td>2024-10-11 01:00:00+00:00</td>\n",
       "      <td>9451</td>\n",
       "      <td>1.09374</td>\n",
       "      <td>1.09408</td>\n",
       "      <td>1.09296</td>\n",
       "      <td>1.09356</td>\n",
       "      <td>1.09367</td>\n",
       "      <td>1.09400</td>\n",
       "      <td>1.09289</td>\n",
       "      <td>1.09349</td>\n",
       "      <td>1.09382</td>\n",
       "      <td>1.09415</td>\n",
       "      <td>1.09303</td>\n",
       "      <td>1.09363</td>\n",
       "      <td>s24-10-11 01:00</td>\n",
       "      <td>1.093568</td>\n",
       "      <td>1.100100</td>\n",
       "      <td>True</td>\n",
       "    </tr>\n",
       "    <tr>\n",
       "      <th>50</th>\n",
       "      <td>2024-10-11 05:00:00+00:00</td>\n",
       "      <td>16781</td>\n",
       "      <td>1.09358</td>\n",
       "      <td>1.09538</td>\n",
       "      <td>1.09322</td>\n",
       "      <td>1.09496</td>\n",
       "      <td>1.09350</td>\n",
       "      <td>1.09530</td>\n",
       "      <td>1.09314</td>\n",
       "      <td>1.09489</td>\n",
       "      <td>1.09365</td>\n",
       "      <td>1.09546</td>\n",
       "      <td>1.09330</td>\n",
       "      <td>1.09503</td>\n",
       "      <td>s24-10-11 05:00</td>\n",
       "      <td>1.093648</td>\n",
       "      <td>1.099735</td>\n",
       "      <td>True</td>\n",
       "    </tr>\n",
       "    <tr>\n",
       "      <th>51</th>\n",
       "      <td>2024-10-11 09:00:00+00:00</td>\n",
       "      <td>24833</td>\n",
       "      <td>1.09494</td>\n",
       "      <td>1.09512</td>\n",
       "      <td>1.09261</td>\n",
       "      <td>1.09332</td>\n",
       "      <td>1.09487</td>\n",
       "      <td>1.09504</td>\n",
       "      <td>1.09253</td>\n",
       "      <td>1.09324</td>\n",
       "      <td>1.09501</td>\n",
       "      <td>1.09519</td>\n",
       "      <td>1.09269</td>\n",
       "      <td>1.09340</td>\n",
       "      <td>s24-10-11 09:00</td>\n",
       "      <td>1.093580</td>\n",
       "      <td>1.099320</td>\n",
       "      <td>True</td>\n",
       "    </tr>\n",
       "    <tr>\n",
       "      <th>52</th>\n",
       "      <td>2024-10-11 13:00:00+00:00</td>\n",
       "      <td>31036</td>\n",
       "      <td>1.09331</td>\n",
       "      <td>1.09525</td>\n",
       "      <td>1.09281</td>\n",
       "      <td>1.09449</td>\n",
       "      <td>1.09324</td>\n",
       "      <td>1.09518</td>\n",
       "      <td>1.09273</td>\n",
       "      <td>1.09441</td>\n",
       "      <td>1.09338</td>\n",
       "      <td>1.09532</td>\n",
       "      <td>1.09288</td>\n",
       "      <td>1.09457</td>\n",
       "      <td>s24-10-11 13:00</td>\n",
       "      <td>1.093623</td>\n",
       "      <td>1.099004</td>\n",
       "      <td>True</td>\n",
       "    </tr>\n",
       "    <tr>\n",
       "      <th>53</th>\n",
       "      <td>2024-10-11 17:00:00+00:00</td>\n",
       "      <td>11351</td>\n",
       "      <td>1.09448</td>\n",
       "      <td>1.09475</td>\n",
       "      <td>1.09325</td>\n",
       "      <td>1.09370</td>\n",
       "      <td>1.09440</td>\n",
       "      <td>1.09467</td>\n",
       "      <td>1.09317</td>\n",
       "      <td>1.09360</td>\n",
       "      <td>1.09457</td>\n",
       "      <td>1.09483</td>\n",
       "      <td>1.09333</td>\n",
       "      <td>1.09379</td>\n",
       "      <td>s24-10-11 17:00</td>\n",
       "      <td>1.093582</td>\n",
       "      <td>1.098736</td>\n",
       "      <td>True</td>\n",
       "    </tr>\n",
       "    <tr>\n",
       "      <th>54</th>\n",
       "      <td>2024-10-13 21:00:00+00:00</td>\n",
       "      <td>7016</td>\n",
       "      <td>1.09328</td>\n",
       "      <td>1.09338</td>\n",
       "      <td>1.09154</td>\n",
       "      <td>1.09216</td>\n",
       "      <td>1.09319</td>\n",
       "      <td>1.09329</td>\n",
       "      <td>1.09147</td>\n",
       "      <td>1.09208</td>\n",
       "      <td>1.09336</td>\n",
       "      <td>1.09352</td>\n",
       "      <td>1.09161</td>\n",
       "      <td>1.09223</td>\n",
       "      <td>s24-10-13 21:00</td>\n",
       "      <td>1.093468</td>\n",
       "      <td>1.098470</td>\n",
       "      <td>True</td>\n",
       "    </tr>\n",
       "    <tr>\n",
       "      <th>55</th>\n",
       "      <td>2024-10-14 01:00:00+00:00</td>\n",
       "      <td>11313</td>\n",
       "      <td>1.09215</td>\n",
       "      <td>1.09293</td>\n",
       "      <td>1.09180</td>\n",
       "      <td>1.09238</td>\n",
       "      <td>1.09208</td>\n",
       "      <td>1.09285</td>\n",
       "      <td>1.09171</td>\n",
       "      <td>1.09229</td>\n",
       "      <td>1.09222</td>\n",
       "      <td>1.09301</td>\n",
       "      <td>1.09188</td>\n",
       "      <td>1.09247</td>\n",
       "      <td>s24-10-14 01:00</td>\n",
       "      <td>1.093264</td>\n",
       "      <td>1.098182</td>\n",
       "      <td>True</td>\n",
       "    </tr>\n",
       "    <tr>\n",
       "      <th>56</th>\n",
       "      <td>2024-10-14 05:00:00+00:00</td>\n",
       "      <td>17397</td>\n",
       "      <td>1.09237</td>\n",
       "      <td>1.09318</td>\n",
       "      <td>1.09224</td>\n",
       "      <td>1.09270</td>\n",
       "      <td>1.09229</td>\n",
       "      <td>1.09310</td>\n",
       "      <td>1.09216</td>\n",
       "      <td>1.09262</td>\n",
       "      <td>1.09245</td>\n",
       "      <td>1.09326</td>\n",
       "      <td>1.09232</td>\n",
       "      <td>1.09278</td>\n",
       "      <td>s24-10-14 05:00</td>\n",
       "      <td>1.093472</td>\n",
       "      <td>1.097905</td>\n",
       "      <td>True</td>\n",
       "    </tr>\n",
       "    <tr>\n",
       "      <th>57</th>\n",
       "      <td>2024-10-14 09:00:00+00:00</td>\n",
       "      <td>19748</td>\n",
       "      <td>1.09270</td>\n",
       "      <td>1.09367</td>\n",
       "      <td>1.09074</td>\n",
       "      <td>1.09094</td>\n",
       "      <td>1.09263</td>\n",
       "      <td>1.09359</td>\n",
       "      <td>1.09065</td>\n",
       "      <td>1.09087</td>\n",
       "      <td>1.09278</td>\n",
       "      <td>1.09375</td>\n",
       "      <td>1.09081</td>\n",
       "      <td>1.09102</td>\n",
       "      <td>s24-10-14 09:00</td>\n",
       "      <td>1.093196</td>\n",
       "      <td>1.097598</td>\n",
       "      <td>True</td>\n",
       "    </tr>\n",
       "    <tr>\n",
       "      <th>58</th>\n",
       "      <td>2024-10-14 13:00:00+00:00</td>\n",
       "      <td>25470</td>\n",
       "      <td>1.09096</td>\n",
       "      <td>1.09276</td>\n",
       "      <td>1.09008</td>\n",
       "      <td>1.09016</td>\n",
       "      <td>1.09088</td>\n",
       "      <td>1.09267</td>\n",
       "      <td>1.09000</td>\n",
       "      <td>1.09008</td>\n",
       "      <td>1.09104</td>\n",
       "      <td>1.09284</td>\n",
       "      <td>1.09016</td>\n",
       "      <td>1.09023</td>\n",
       "      <td>s24-10-14 13:00</td>\n",
       "      <td>1.092837</td>\n",
       "      <td>1.097256</td>\n",
       "      <td>True</td>\n",
       "    </tr>\n",
       "    <tr>\n",
       "      <th>59</th>\n",
       "      <td>2024-10-14 17:00:00+00:00</td>\n",
       "      <td>11656</td>\n",
       "      <td>1.09016</td>\n",
       "      <td>1.09092</td>\n",
       "      <td>1.08882</td>\n",
       "      <td>1.09092</td>\n",
       "      <td>1.09008</td>\n",
       "      <td>1.09085</td>\n",
       "      <td>1.08874</td>\n",
       "      <td>1.09085</td>\n",
       "      <td>1.09024</td>\n",
       "      <td>1.09102</td>\n",
       "      <td>1.08890</td>\n",
       "      <td>1.09100</td>\n",
       "      <td>s24-10-14 17:00</td>\n",
       "      <td>1.092573</td>\n",
       "      <td>1.096968</td>\n",
       "      <td>True</td>\n",
       "    </tr>\n",
       "    <tr>\n",
       "      <th>60</th>\n",
       "      <td>2024-10-14 21:00:00+00:00</td>\n",
       "      <td>5882</td>\n",
       "      <td>1.09073</td>\n",
       "      <td>1.09104</td>\n",
       "      <td>1.09040</td>\n",
       "      <td>1.09074</td>\n",
       "      <td>1.09056</td>\n",
       "      <td>1.09095</td>\n",
       "      <td>1.09032</td>\n",
       "      <td>1.09065</td>\n",
       "      <td>1.09090</td>\n",
       "      <td>1.09113</td>\n",
       "      <td>1.09048</td>\n",
       "      <td>1.09082</td>\n",
       "      <td>s24-10-14 21:00</td>\n",
       "      <td>1.092151</td>\n",
       "      <td>1.096689</td>\n",
       "      <td>True</td>\n",
       "    </tr>\n",
       "    <tr>\n",
       "      <th>61</th>\n",
       "      <td>2024-10-15 01:00:00+00:00</td>\n",
       "      <td>9764</td>\n",
       "      <td>1.09072</td>\n",
       "      <td>1.09088</td>\n",
       "      <td>1.08916</td>\n",
       "      <td>1.08930</td>\n",
       "      <td>1.09065</td>\n",
       "      <td>1.09080</td>\n",
       "      <td>1.08907</td>\n",
       "      <td>1.08922</td>\n",
       "      <td>1.09080</td>\n",
       "      <td>1.09096</td>\n",
       "      <td>1.08923</td>\n",
       "      <td>1.08938</td>\n",
       "      <td>s24-10-15 01:00</td>\n",
       "      <td>1.091749</td>\n",
       "      <td>1.096384</td>\n",
       "      <td>True</td>\n",
       "    </tr>\n",
       "    <tr>\n",
       "      <th>62</th>\n",
       "      <td>2024-10-15 05:00:00+00:00</td>\n",
       "      <td>23648</td>\n",
       "      <td>1.08930</td>\n",
       "      <td>1.09164</td>\n",
       "      <td>1.08850</td>\n",
       "      <td>1.09104</td>\n",
       "      <td>1.08922</td>\n",
       "      <td>1.09156</td>\n",
       "      <td>1.08842</td>\n",
       "      <td>1.09096</td>\n",
       "      <td>1.08937</td>\n",
       "      <td>1.09171</td>\n",
       "      <td>1.08857</td>\n",
       "      <td>1.09113</td>\n",
       "      <td>s24-10-15 05:00</td>\n",
       "      <td>1.091404</td>\n",
       "      <td>1.096127</td>\n",
       "      <td>True</td>\n",
       "    </tr>\n",
       "    <tr>\n",
       "      <th>63</th>\n",
       "      <td>2024-10-15 09:00:00+00:00</td>\n",
       "      <td>26118</td>\n",
       "      <td>1.09106</td>\n",
       "      <td>1.09150</td>\n",
       "      <td>1.08972</td>\n",
       "      <td>1.09100</td>\n",
       "      <td>1.09096</td>\n",
       "      <td>1.09142</td>\n",
       "      <td>1.08964</td>\n",
       "      <td>1.09093</td>\n",
       "      <td>1.09115</td>\n",
       "      <td>1.09158</td>\n",
       "      <td>1.08980</td>\n",
       "      <td>1.09108</td>\n",
       "      <td>s24-10-15 09:00</td>\n",
       "      <td>1.091134</td>\n",
       "      <td>1.095881</td>\n",
       "      <td>True</td>\n",
       "    </tr>\n",
       "    <tr>\n",
       "      <th>64</th>\n",
       "      <td>2024-10-15 13:00:00+00:00</td>\n",
       "      <td>30824</td>\n",
       "      <td>1.09100</td>\n",
       "      <td>1.09168</td>\n",
       "      <td>1.08894</td>\n",
       "      <td>1.08895</td>\n",
       "      <td>1.09093</td>\n",
       "      <td>1.09160</td>\n",
       "      <td>1.08887</td>\n",
       "      <td>1.08887</td>\n",
       "      <td>1.09107</td>\n",
       "      <td>1.09176</td>\n",
       "      <td>1.08901</td>\n",
       "      <td>1.08903</td>\n",
       "      <td>s24-10-15 13:00</td>\n",
       "      <td>1.090813</td>\n",
       "      <td>1.095585</td>\n",
       "      <td>True</td>\n",
       "    </tr>\n",
       "    <tr>\n",
       "      <th>65</th>\n",
       "      <td>2024-10-15 17:00:00+00:00</td>\n",
       "      <td>14064</td>\n",
       "      <td>1.08896</td>\n",
       "      <td>1.08926</td>\n",
       "      <td>1.08819</td>\n",
       "      <td>1.08914</td>\n",
       "      <td>1.08888</td>\n",
       "      <td>1.08919</td>\n",
       "      <td>1.08811</td>\n",
       "      <td>1.08906</td>\n",
       "      <td>1.08903</td>\n",
       "      <td>1.08934</td>\n",
       "      <td>1.08826</td>\n",
       "      <td>1.08922</td>\n",
       "      <td>s24-10-15 17:00</td>\n",
       "      <td>1.090489</td>\n",
       "      <td>1.095303</td>\n",
       "      <td>True</td>\n",
       "    </tr>\n",
       "    <tr>\n",
       "      <th>66</th>\n",
       "      <td>2024-10-15 21:00:00+00:00</td>\n",
       "      <td>6149</td>\n",
       "      <td>1.08922</td>\n",
       "      <td>1.08933</td>\n",
       "      <td>1.08821</td>\n",
       "      <td>1.08854</td>\n",
       "      <td>1.08895</td>\n",
       "      <td>1.08919</td>\n",
       "      <td>1.08813</td>\n",
       "      <td>1.08846</td>\n",
       "      <td>1.08948</td>\n",
       "      <td>1.08949</td>\n",
       "      <td>1.08829</td>\n",
       "      <td>1.08862</td>\n",
       "      <td>s24-10-15 21:00</td>\n",
       "      <td>1.090073</td>\n",
       "      <td>1.095013</td>\n",
       "      <td>True</td>\n",
       "    </tr>\n",
       "    <tr>\n",
       "      <th>67</th>\n",
       "      <td>2024-10-16 01:00:00+00:00</td>\n",
       "      <td>11793</td>\n",
       "      <td>1.08854</td>\n",
       "      <td>1.08958</td>\n",
       "      <td>1.08844</td>\n",
       "      <td>1.08894</td>\n",
       "      <td>1.08846</td>\n",
       "      <td>1.08950</td>\n",
       "      <td>1.08836</td>\n",
       "      <td>1.08886</td>\n",
       "      <td>1.08863</td>\n",
       "      <td>1.08966</td>\n",
       "      <td>1.08852</td>\n",
       "      <td>1.08902</td>\n",
       "      <td>s24-10-16 01:00</td>\n",
       "      <td>1.089873</td>\n",
       "      <td>1.094732</td>\n",
       "      <td>True</td>\n",
       "    </tr>\n",
       "    <tr>\n",
       "      <th>68</th>\n",
       "      <td>2024-10-16 05:00:00+00:00</td>\n",
       "      <td>26049</td>\n",
       "      <td>1.08896</td>\n",
       "      <td>1.08904</td>\n",
       "      <td>1.08752</td>\n",
       "      <td>1.08834</td>\n",
       "      <td>1.08888</td>\n",
       "      <td>1.08895</td>\n",
       "      <td>1.08744</td>\n",
       "      <td>1.08826</td>\n",
       "      <td>1.08903</td>\n",
       "      <td>1.08912</td>\n",
       "      <td>1.08761</td>\n",
       "      <td>1.08841</td>\n",
       "      <td>s24-10-16 05:00</td>\n",
       "      <td>1.089691</td>\n",
       "      <td>1.094430</td>\n",
       "      <td>True</td>\n",
       "    </tr>\n",
       "  </tbody>\n",
       "</table>\n",
       "</div>"
      ],
      "text/plain": [
       "                        time  volume    mid_o    mid_h    mid_l    mid_c  \\\n",
       "49 2024-10-11 01:00:00+00:00    9451  1.09374  1.09408  1.09296  1.09356   \n",
       "50 2024-10-11 05:00:00+00:00   16781  1.09358  1.09538  1.09322  1.09496   \n",
       "51 2024-10-11 09:00:00+00:00   24833  1.09494  1.09512  1.09261  1.09332   \n",
       "52 2024-10-11 13:00:00+00:00   31036  1.09331  1.09525  1.09281  1.09449   \n",
       "53 2024-10-11 17:00:00+00:00   11351  1.09448  1.09475  1.09325  1.09370   \n",
       "54 2024-10-13 21:00:00+00:00    7016  1.09328  1.09338  1.09154  1.09216   \n",
       "55 2024-10-14 01:00:00+00:00   11313  1.09215  1.09293  1.09180  1.09238   \n",
       "56 2024-10-14 05:00:00+00:00   17397  1.09237  1.09318  1.09224  1.09270   \n",
       "57 2024-10-14 09:00:00+00:00   19748  1.09270  1.09367  1.09074  1.09094   \n",
       "58 2024-10-14 13:00:00+00:00   25470  1.09096  1.09276  1.09008  1.09016   \n",
       "59 2024-10-14 17:00:00+00:00   11656  1.09016  1.09092  1.08882  1.09092   \n",
       "60 2024-10-14 21:00:00+00:00    5882  1.09073  1.09104  1.09040  1.09074   \n",
       "61 2024-10-15 01:00:00+00:00    9764  1.09072  1.09088  1.08916  1.08930   \n",
       "62 2024-10-15 05:00:00+00:00   23648  1.08930  1.09164  1.08850  1.09104   \n",
       "63 2024-10-15 09:00:00+00:00   26118  1.09106  1.09150  1.08972  1.09100   \n",
       "64 2024-10-15 13:00:00+00:00   30824  1.09100  1.09168  1.08894  1.08895   \n",
       "65 2024-10-15 17:00:00+00:00   14064  1.08896  1.08926  1.08819  1.08914   \n",
       "66 2024-10-15 21:00:00+00:00    6149  1.08922  1.08933  1.08821  1.08854   \n",
       "67 2024-10-16 01:00:00+00:00   11793  1.08854  1.08958  1.08844  1.08894   \n",
       "68 2024-10-16 05:00:00+00:00   26049  1.08896  1.08904  1.08752  1.08834   \n",
       "\n",
       "      bid_o    bid_h    bid_l    bid_c    ask_o    ask_h    ask_l    ask_c  \\\n",
       "49  1.09367  1.09400  1.09289  1.09349  1.09382  1.09415  1.09303  1.09363   \n",
       "50  1.09350  1.09530  1.09314  1.09489  1.09365  1.09546  1.09330  1.09503   \n",
       "51  1.09487  1.09504  1.09253  1.09324  1.09501  1.09519  1.09269  1.09340   \n",
       "52  1.09324  1.09518  1.09273  1.09441  1.09338  1.09532  1.09288  1.09457   \n",
       "53  1.09440  1.09467  1.09317  1.09360  1.09457  1.09483  1.09333  1.09379   \n",
       "54  1.09319  1.09329  1.09147  1.09208  1.09336  1.09352  1.09161  1.09223   \n",
       "55  1.09208  1.09285  1.09171  1.09229  1.09222  1.09301  1.09188  1.09247   \n",
       "56  1.09229  1.09310  1.09216  1.09262  1.09245  1.09326  1.09232  1.09278   \n",
       "57  1.09263  1.09359  1.09065  1.09087  1.09278  1.09375  1.09081  1.09102   \n",
       "58  1.09088  1.09267  1.09000  1.09008  1.09104  1.09284  1.09016  1.09023   \n",
       "59  1.09008  1.09085  1.08874  1.09085  1.09024  1.09102  1.08890  1.09100   \n",
       "60  1.09056  1.09095  1.09032  1.09065  1.09090  1.09113  1.09048  1.09082   \n",
       "61  1.09065  1.09080  1.08907  1.08922  1.09080  1.09096  1.08923  1.08938   \n",
       "62  1.08922  1.09156  1.08842  1.09096  1.08937  1.09171  1.08857  1.09113   \n",
       "63  1.09096  1.09142  1.08964  1.09093  1.09115  1.09158  1.08980  1.09108   \n",
       "64  1.09093  1.09160  1.08887  1.08887  1.09107  1.09176  1.08901  1.08903   \n",
       "65  1.08888  1.08919  1.08811  1.08906  1.08903  1.08934  1.08826  1.08922   \n",
       "66  1.08895  1.08919  1.08813  1.08846  1.08948  1.08949  1.08829  1.08862   \n",
       "67  1.08846  1.08950  1.08836  1.08886  1.08863  1.08966  1.08852  1.08902   \n",
       "68  1.08888  1.08895  1.08744  1.08826  1.08903  1.08912  1.08761  1.08841   \n",
       "\n",
       "              sTime     ma_10     ma_50  in_downtrend  \n",
       "49  s24-10-11 01:00  1.093568  1.100100          True  \n",
       "50  s24-10-11 05:00  1.093648  1.099735          True  \n",
       "51  s24-10-11 09:00  1.093580  1.099320          True  \n",
       "52  s24-10-11 13:00  1.093623  1.099004          True  \n",
       "53  s24-10-11 17:00  1.093582  1.098736          True  \n",
       "54  s24-10-13 21:00  1.093468  1.098470          True  \n",
       "55  s24-10-14 01:00  1.093264  1.098182          True  \n",
       "56  s24-10-14 05:00  1.093472  1.097905          True  \n",
       "57  s24-10-14 09:00  1.093196  1.097598          True  \n",
       "58  s24-10-14 13:00  1.092837  1.097256          True  \n",
       "59  s24-10-14 17:00  1.092573  1.096968          True  \n",
       "60  s24-10-14 21:00  1.092151  1.096689          True  \n",
       "61  s24-10-15 01:00  1.091749  1.096384          True  \n",
       "62  s24-10-15 05:00  1.091404  1.096127          True  \n",
       "63  s24-10-15 09:00  1.091134  1.095881          True  \n",
       "64  s24-10-15 13:00  1.090813  1.095585          True  \n",
       "65  s24-10-15 17:00  1.090489  1.095303          True  \n",
       "66  s24-10-15 21:00  1.090073  1.095013          True  \n",
       "67  s24-10-16 01:00  1.089873  1.094732          True  \n",
       "68  s24-10-16 05:00  1.089691  1.094430          True  "
      ]
     },
     "execution_count": 2,
     "metadata": {},
     "output_type": "execute_result"
    }
   ],
   "source": [
    "df_an = pd.read_pickle('../data/EUR_USD_H4.pkl').copy()\n",
    "df_an['sTime'] = [dt.datetime.strftime(x, \"s%y-%m-%d %H:%M\") for x in df_an.time]\n",
    "trend_checker.apply_downtrend(df_an)\n",
    "df_an.head(20)"
   ]
  },
  {
   "cell_type": "code",
   "execution_count": 3,
   "metadata": {},
   "outputs": [],
   "source": [
    "support_levels, resistance_levels = zone_detector.find_support_resistance(df_an)"
   ]
  },
  {
   "cell_type": "code",
   "execution_count": 4,
   "metadata": {},
   "outputs": [
    {
     "data": {
      "application/vnd.plotly.v1+json": {
       "config": {
        "plotlyServerURL": "https://plot.ly"
       },
       "data": [
        {
         "close": {
          "bdata": "kGtDxTh/8T++2ebG9ITxP+cAwRw9fvE/3sg88geD8T/HKTqSy3/xP2H9n8N8efE/Jt9sc2N68T9dbcX+snvxPzFfXoB9dPE/jIS2nEtx8T9N1qiHaHTxP08GR8mrc/E/WYY41sVt8T+iC+pb5nTxP9v5fmq8dPE/zqrP1VZs8T8+P4wQHm3xP5g0RuuoavE/XOZ0WUxs8T+22y4012nxP7JLVG8NbPE/MjhKXp1j8T/FG5lH/mDxP/3ZjxSRYfE/dqbQeY1d8T931m670FzxP0XY8PRKWfE/by9pjNZR8T8VOq+xS1TxPxZqTfOOU/E/uOS4UzpY8T8s8YCyKVfxPxyxFp8CYPE/+3lTkQpj8T+lFHR7SWPxP4rlllZDYvE/chb2tMNf8T9Y/+cwX17xPzpY/+cwX/E/5ZttbkxP8T8h6j4AqU3xPzwx68VQTvE/42vPLAlQ8T80ETY8vVLxP7FtUWaDTPE/CTNt/8pK8T/zqzlAMEfxP/YLdsO2RfE/DcNHxJRI8T9QGf8+40LxP5NvtrkxPfE/sP7PYb488T84Sl6dY0DxP4nvxKwXQ/E/FLNeDOVE8T9+b9Of/UjxP0pBt5c0RvE/QMHFihpM8T8z+WabG1PxP6pla32RUPE/je4gdqZQ8T/9gt2wbVHxP7oUV5V9V/E/YMjqVs9J8T9nuAGfH0bxP4Vf6udNRfE/GEM50a5C8T+PNo5Yi0/xP5KWytsRTvE/INJvXwdO8T8jMqzijUzxP3UfgNQmTvE/Xmiu00hL8T9z1xLyQU/xP1g5tMh2PvE/1zTvOEVH8T8BE7h1N0/xPxsqxvmbUPE/dAexM4VO8T/Z690f71XxP3ZPHhZqTfE/G4F4Xb9g8T+tNCkF3V7xP3am0HmNXfE/ejarPldb8T/mIr4Ts17xP7g7a7ddaPE/yHvVyoRf8T+22y4012nxP+xph78ma/E/LEgzFk1n8T9TP28qUmHxPyVYHM78avE/6IL6ljld8T+FtpxLcVXxP+s56X3ja/E/AJF++zpw8T+QFJFhFW/xP4kkehnFcvE/sktUbw1s8T/X+iKhLWfxP/NZngd3Z/E/ZAYq499n8T8FUfcBSG3xP3b9gt2wbfE/lPsdigJ98T9bJVgcznzxP9i7P96rVvE/D7QCQ1Y38T++3v3xXjXxP/sFu2HbIvE/0sYRa/Ep8T/tDb4wmSrxPy4cCMkCJvE/xM4UOq8x8T/EzhQ6rzHxP4aPiCmRRPE/mrZ/ZaVJ8T9+b9Of/UjxP6eWrfVFQvE/cTjzqzlA8T9zgGCOHj/xP/j8MEJ4NPE/ilkvhnIi8T+8P96rVibxP9eGinH+JvE/Zwqd19gl8T/zjlN0JBfxPyh+jLlrCfE/C+9yEd8J8T+x4emVsgzxP33LnC6LCfE/LlbUYBoG8T/G+ZtQiADxPx6n6Egu//A/DeAtkKD48D+syr4rgv/wP8XJ/Q5FAfE/s+pztRX78D9wlLw6xwDxP4YDIVnABPE/1IIXfQXp8D/zcW2oGOfwP4iFWtO84/A/VYfcDDfg8D9pVyHlJ9XwP7ecS3FV2fA/MNgN2xbl8D+bPdAKDNnwP+5aQj7o2fA/WkdVE0Td8D8RGVbxRubwPxR5knTN5PA/G4F4Xb/g8D93vp8aL93wP8vbEU4L3vA/eO49XHLc8D9kBirj3+fwP/ERMSWS6PA/4KEo0Cfy8D9MpgpGJfXwP8L6P4f58vA/rIvbaADv8D+ppE5AE+HwP+ohGt1B7PA/6MHdWbvt8D8VAOMZNPTwP2fttgvN9fA/qiuf5Xnw8D/Bc+/hkuPwPzIge7374/A/0uP3Nv3Z8D90XmOXqN7wPzpAMEeP3/A/x2MGKuPf8D9PQBNhw9PwP18HzhlR2vA/SOF6FK7H8D/8471qZcLwP6neGtgqwfA/A+yjU1e+8D8UBfpEnqTwP6vP1Vbsr/A/CD2bVZ+r8D9BKzBkdavwP4e/JmvUw/A/ajANw0fE8D+b/uxHisjwP2N/2T152PA/ECOERxvH8D+ztb5IaMvwP+6UDtb/ufA/GEM50a7C8D850a5Cys/wP8pskElGzvA/xm00gLfA8D+4dTdPdcjwPyyC/61kx/A/pU5AE2HD8D8Wak3zjtPwPyZw626e6vA/IxCv6xfs8D8OoUrNHujwP05/9iNF5PA/4XoUrkfh8D/uWkI+6NnwP9CzWfW52vA/UfcBSG3i8D8X2c73U+PwP0w3iUFg5fA/Rl9BmrHo8D/4GRcOhOTwP588LNSa5vA/KgDGM2jo8D9bzqW4quzwP7ecS3FV2fA/hJ7Nqs/V8D81KQXdXtLwP5BOXfksz/A/uaXVkLjH8D/qW+Z0WczwP4C3QILix/A/DJOpglHJ8D9pVyHlJ9XwP2b35GGh1vA/DjLJyFnY8D/iOzHrxdDwP+WbbW5Mz/A/bef7qfHS8D8g0m9fB87wP/XzpiIVxvA/B0KygAnc8D8bEvdY+tDwP/1qDhDM0fA/8uocA7LX8D+4zOmymNjwP0d3EDtT6PA/f03WqIfo8D9Uxr/PuPDwP/D5YYTw6PA/7ZklAWrq8D+xM4XOa+zwP4Hs9e6P9/A/NrBVgsXh8D+4O2u3XejwP1IP0egO4vA/eQYN/RPc8D/VyoRf6ufwP0CH+fIC7PA/Y+5aQj7o8D/Co40j1uLwPxgJbTmX4vA/ERlW8Ubm8D9hN2xblNnwP/VKWYY41vA/cHfWbrvQ8D9jl6jeGtjwP17XL9gN2/A/2Ls/3qvW8D8Fo5I6Ac3wP9i7P96r1vA/nS6Lic3H8D8JG55eKcvwP3PXEvJBz/A/rK3YX3bP8D+pTZzc79DwP7vtQnOdxvA/6StIMxbN8D9zgGCOHr/wP8r9DkWBvvA/rYbEPZa+8D9kWMUbmcfwP4zWUdUE0fA/zywJUFPL8D/n+6nx0s3wPzGZKhiV1PA/2zNLAtTU8D/lszwP7s7wP44ev7fpz/A/jL6CNGPR8D/FrBdDOdHwP9oDrcCQ1fA/H6LRHcTO8D9JERlW8cbwPx+i0R3EzvA/6UMX1LfM8D9+VwT/W8nwP5KumXyzzfA/djdPdcjN8D/t0/GYgcrwP0Rpb/CFyfA/iQeUTbnC8D86deWzPI/wP9An8iTpmvA/lNkgk4yc8D8pXI/C9ajwPzPEsS5uo/A/FcYWghyU8D8UlnhA2ZTwP/ceLjnulPA/9dbAVgmW8D8/dEF9y5zwP/T91HjppvA/q+ek942v8D85C3va4a/wP/t0PGagsvA/MevFUE608D9JS+XtCKfwP91e0hito/A/+wW7Ydui8D8Rje4gdqbwPxTtKqT8pPA/UWuad5yi8D//lZUmpaDwP6Io0CfypPA/AfbRqSuf8D+KWS+GcqLwPxh9BWnGovA/3o5wWvCi8D8WTWcng6PwP6Io0CfypPA/Df0TXKyo8D/pZRTLLa3wP0W7Cik/qfA/ZJKRs7Cn8D8m5IOezarwPxakGYums/A/sacd/pqs8D/Jjo1AvK7wP5HQlnMprvA/dVlMbD6u8D+oV8oyxLHwP8kfDDz3nvA/4e6s3Xah8D/YnlkSoKbwP/CFyVTBqPA/hZm2f2Wl8D+z74rgf6vwP4y5awn5oPA/VwT/W8mO8D84FakwtpDwP6Zh+IiYkvA/TGw+rg2V8D+OklfnGJDwP3Gsi9togPA/BoGVQ4ts8D/o2az6XG3wPyGwcmiRbfA/Oq+xS1Rv8D9lpUkp6HbwP0fmkT8YePA/mbuWkA968D90JJf/kH7wP447pYP1f/A/dCSX/5B+8D/99nXgnJHwP0JbzqW4qvA/H4XrUbie8D+reCPzyJ/wPyMtlbcjnPA/beLkfoei8D8exM4UOq/wP4pZL4ZyovA/g/qWOV2W8D/sF+yGbYvwP+PHmLuWkPA/xSCwcmiR8D+Jeyx96ILwPwfwFkhQfPA/Wg2Jeyx98D/7V1aalILwP3CUvDrHgPA/y7kUV5V98D+vWpnwS33wPwN4CyQofvA/7yB2ptB58D+Xi/hOzHrwP11txf6ye/A/aR1VTRB18D97FK5H4XrwP7cLzXUaafA/+THmriVk8D+k5NU5BmTwP2w+rg0VY/A/7lpCPuhZ8D8BE7h1N0/wP6Et51JcVfA/Rdjw9EpZ8D8Wwf9WsmPwP9lCkIMSZvA/MQisHFpk8D8KEXAIVWrwP530vvG1Z/A/EojX9Qt28D/nAMEcPX7wP16dY0D2evA/R+aRPxh48D8CSG3i5H7wPyKOdXEbjfA/91j60AV18D/XaaSl8nbwP0pGzsKedvA/TwZHyatz8D8wL8A+OnXwP8HicOZXc/A/Yf2fw3x58D9dbcX+snvwPyI3ww34fPA/R+aRPxh48D9EhlW8kXnwP/Tg7qzddvA/F0hQ/Bhz8D86r7FLVG/wPxBAahMnd/A/Bwjm6PF78D8FqKlla33wP6Wg20sao/A/rvAuF/Gd8D8m5IOezarwP0jElEiil/A/7IZtizKb8D+NYrml1ZDwP3va4a/JmvA/P+PCgZCs8D9y+Q/pt6/wP0gbR6zFp/A/YOrnTUWq8D8QzNHj97bwP3CxogbTsPA/l6jeGtiq8D/ytWeWBKjwP6EQAYdQpfA/LhwIyQKm8D+bOLnfoajwP5xQiIBDqPA/3xXB/1ay8D/uJY3ROqrwP9GuQspPqvA/YqHWNO+48D/RXKeRlsrwP8ed0sH6v/A/jL6CNGPR8D/tuyL438rwPyGTjJyFvfA/duCcEaW98D8O2xZlNsjwP6JFtvP91PA/DtsWZTbI8D+2LcpskMnwP2wJ+aBns/A/UMJM27+y8D/8jAsHQrLwP1n60AX1rfA/kIgpkUSv8D//BBcrarDwP3Qprir7rvA/FXR7SWO08D+FmbZ/ZaXwP3TS+8bXnvA/sacd/pqs8D956SYxCKzwP+utga0SrPA/6X3ja8+s8D9JS+XtCKfwP0KygAncuvA/CW05l+Kq8D9xWvCir6DwP+V+h6JAn/A/V0PiHkuf8D/MlxdgH53wP5TZIJOMnPA/XHLcKR2s8D+kGYums5PwPzbIJCNnYfA/NIC3QIJi8D88iJ0pdF7wPyMQr+sXbPA/whIPKJty8D+Vgm4vaYzwPzLmriXkg/A/1SE3ww148D/Q0D/BxYrwP8+goX+Ci/A/mGn7V1aa8D96whIPKJvwP35S7dPxmPA/e9rhr8ma8D/2XRH8b6XwP0lL5e0Ip/A/ByXMtP2r8D8U7Sqk/KTwPzBkdavnpPA/PBQF+kSe8D9Q5EnSNZPwP0/MejGUk/A/QdR9AFKb8D8i/fZ14JzwP5OpglFJnfA/fSJPkq6Z8D8ArmTHRqDwP/ceLjnulPA/T135LM+D8D9nRGlv8IXwP7GiBtMwfPA/b2Qe+YOB8D/2fw7z5YXwP2vUQzS6g/A/jjulg/V/8D+Sy39Iv33wP11txf6ye/A/WyVYHM588D9uNIC3QILwP2q8dJMYhPA/BP9byY6N8D9OtKuQ8pPwP6QZi6azk/A/wsBz7+GS8D9i26LMBpnwP/HXZI16iPA/A30iT5Ku8D94YtaLoZzwPzKs4o3Mo/A/GQRWDi2y8D+vd3+8V63wP8anABjPoPA/5x2n6Eiu8D91sP7PYb7wP5W3I5wWvPA/KJtyhXe58D8wEtpyLsXwP2RA9nr3x/A/OdGuQsrP8D9EaW/whcnwP8k88gcDz/A/8Uv9vKnI8D810lJ5O8LwPzXSUnk7wvA/hEcbR6zF8D+gppat9cXwP61u9Zz0vvA/0QX1LXO68D/njCjtDb7wP6A3FakwtvA/9GxWfa628D/0bFZ9rrbwP54Hd2fttvA/JTs2AvG68D9y+Q/pt6/wPxkcJa/OsfA/K6T8pNqn8D+TGARWDq3wP7GnHf6arPA/OjsZHCWv8D/e5SK+E7PwP7pOIy2Vt/A/RrHc0mrI8D8Fi8OZX83wPyyC/61kx/A/tRX7y+7J8D8AdJgvL8DwP6Z+3lSkwvA/6KT3ja+98D+w/s9hvrzwP8Dsnjws1PA/pKXydoTT8D9TeTvCacHwPzqSy39Iv/A/qMZLN4nB8D+PxwxUxr/wPzvCacGLvvA/pU5AE2HD8D/EJced0sHwP7BVgsXhzPA/djdPdcjN8D/7IqEt59LwP8I0DB8R0/A/DJOpglHJ8D9dUN8yp8vwP5+OxwxUxvA/C3va4a/J8D8tsp3vp8bwP07RkVz+w/A/yv0ORYG+8D8RUyKJXsbwPwXFjzF3rfA/gjl6/N6m8D/B/1ayY6PwPwRWDi2ynfA/yAc9m1Wf8D81JO6x9KHwP9ieWRKgpvA/ilkvhnKi8D9gqwSLw5nwPw==",
          "dtype": "f8"
         },
         "decreasing": {
          "fillcolor": "#CC2E3C",
          "line": {
           "color": "#FF3A4C"
          }
         },
         "high": {
          "bdata": "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",
          "dtype": "f8"
         },
         "increasing": {
          "fillcolor": "#24A06B",
          "line": {
           "color": "#24A06B"
          }
         },
         "line": {
          "width": 1
         },
         "low": {
          "bdata": "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",
          "dtype": "f8"
         },
         "opacity": 1,
         "open": {
          "bdata": "jjulg/V/8T9z9Pi9TX/xP9tQMc7fhPE/dTxmoDJ+8T9sBOJ1/YLxPyDvVSsTfvE/7zhFR3J58T+1GhL3WHrxP11txf6ye/E/FOgTeZJ08T+MhLacS3HxP91B7Eyhc/E/a32R0JZz8T9ZhjjWxW3xP4WUn1T7dPE/2/l+arx08T8/bypSYWzxP8xiYvNxbfE/mDRG66hq8T8/bypSYWzxP0QX1LfMafE/ldQJaCJs8T8yOEpenWPxPzfg88MIYfE/jBU1mIZh8T92ptB5jV3xP1tfJLTlXPE/t5xLcVVZ8T/9ag4QzFHxP9xj6UMXVPE/FmpN845T8T+cbW5MT1jxPyzxgLIpV/E/HLEWnwJg8T/7eVORCmPxP/8JLlbUYPE//Knx0k1i8T9yFva0w1/xP+c6jbRUXvE/Olj/5zBf8T/lm21uTE/xPyDSb18HTvE/rvVFQltO8T/ja88sCVDxPzQRNjy9UvE/sW1RZoNM8T9798d71UrxP7q9pDFaR/E/aNDQP8FF8T9/h6JAn0jxP95UpMLYQvE/k2+2uTE98T8/OnXlszzxP41/n3HhQPE/+rMfKSJD8T+Fd7mI70TxP35v05/9SPE/LspskElG8T9AwcWKGkzxP23/ykqTUvE/GyrG+ZtQ8T//snvysFDxP/2C3bBtUfE/uhRXlX1X8T/SjEXT2UnxP6HWNO84RfE/odY07zhF8T8YQznRrkLxP6yt2F92T/E/kpbK2xFO8T+SlsrbEU7xP8ucLouJTfE/A1slWBxO8T/PLAlQU0vxPwETuHU3T/E/O8JpwYs+8T9I+Um1T0fxPx+6oL5lTvE/je4gdqZQ8T8DQ1a3ek7xPxLCo40jVvE/BYvDmV9N8T84+MJkqmDxP8mrcwzIXvE/kx0bgXhd8T+XrfVFQlvxP8mrcwzIXvE/uDtrt11o8T/Ie9XKhF/xP7SrkPKTavE/7GmHvyZr8T8sSDMWTWfxP+F6FK5HYfE/CeHRxhFr8T8F+kSeJF3xPwxZ3eo5afE/6znpfeNr8T9xVdl3RXDxP5AUkWEVb/E/++jUlc9y8T9Ah/nyAmzxPw2Jeyx9aPE/1uJTAIxn8T9kBirj32fxP+jZrPpcbfE/BDkoYaZt8T+U+x2KAn3xPyJPkq6ZfPE/9DKK5ZZW8T+BeF2/YDfxP0wao3VUNfE/iUFg5dAi8T/SxhFr8SnxP0JD/wQXK/E/vFetTPgl8T9SCrq9pDHxPzaTb7a5MfE/ho+IKZFE8T/vA5DaxEnxP+7rwDkjSvE/GFsIclBC8T9xOPOrOUDxP+VEuwopP/E/hjjWxW008T/8HYoCfSLxP4lBYOXQIvE/SUvl7Qgn8T9Lk1LQ7SXxP4LK+PcZF/E/DAdCsoAJ8T+2oWKcvwnxP86I0t7gC/E/DAdCsoAJ8T+8kXnkDwbxP1Q1QdR9APE/HqfoSC7/8D8N4C2QoPjwP1eVfVcE//A/N45Yi08B8T8lr84xIPvwP+JYF7fRAPE/hgMhWcAE8T+3C811GunwP4LF4cyv5vA/iIVa07zj8D9y/iYUIuDwP2lXIeUn1fA/t5xLcVXZ8D+inGhXIeXwP9MTlnhA2fA/fZbnwd3Z8D/ogvqWOd3wPxEZVvFG5vA/MPDce7jk8D//CS5W1ODwP7ecS3FV2fA/PKBsyhXe8D8joS3nUtzwP/JBz2bV5/A/8RExJZLo8D9u3c1THfLwP2gFhqxu9fA/UDblCu/y8D8eUDblCu/wPxppqbwd4fA/XOZ0WUzs8D92/YLdsO3wP4j029eB8/A/2bERiNf18D84Z0Rpb/DwP93qOel94/A/MiB7vfvj8D/uWkI+6NnwP3V2MjhK3vA/OkAwR4/f8D+r7Lsi+N/wP8AEbt3N0/A/XwfOGVHa8D/WHCCYo8fwPzXSUnk7wvA/qd4a2CrB8D+unpPeN77wP4bJVMGopPA/HZQw0/av8D8IPZtVn6vwP8CV7NgIxPA/MnIW9rTD8D9qMA3DR8TwP5v+7EeKyPA/1EM0uoPY8D8QI4RHG8fwPwpLPKBsyvA/YFlpUgq68D+mft5UpMLwP8gMVMa/z/A/PDHrxVDO8D9UqdkDrcDwP7ml1ZC4x/A/ur2kMVrH8D+lTkATYcPwPxZqTfOO0/A/tKuQ8pPq8D+V1AloIuzwP2Qe+YOB5/A/v0NRoE/k8D9TP28qUuHwP+5aQj7o2fA/0LNZ9bna8D/Du1zEd+LwP6dc4V0u4vA/TDeJQWDl8D/xETElkujwP4ZVvJF55PA/nzws1Jrm8D8NiXssfejwP/D5YYTw6PA/0xOWeEDZ8D+Ens2qz9XwPzUpBd1e0vA/c9cS8kHP8D+5pdWQuMfwPyNKe4MvzPA/8nub/uzH8D9+VwT/W8nwP0zg1t081fA/ZvfkYaHW8D8OMsnIWdjwP44ev7fpz/A/V2DI6lbP8D/CNAwfEdPwPyDSb18HzvA/9fOmIhXG8D95Bg39E9zwP+IjYkok0fA//WoOEMzR8D/y6hwDstfwP/G6fsFu2PA/R3cQO1Po8D8NiXssfejwP3AlOzYC8fA/Yr68APvo8D9fXoB9dOrwP5S8OseA7PA/ZHWr56T38D/E6/oFu+HwPzDYDdsW5fA/w9MrZRni8D95Bg39E9zwP7lTOlj/5/A/QIf58gLs8D8OoUrNHujwP4idKXRe4/A/pkQSvYzi8D8RGVbxRubwP2E3bFuU2fA/Zw+0AkPW8D/iOzHrxdDwP2OXqN4a2PA/e0563/ja8D9JgJpattbwP5TeN772zPA/9DKK5ZbW8D+5pdWQuMfwPwkbnl4py/A/V2DI6lbP8D8B++jUlc/wP1QAjGfQ0PA/n3b4a7LG8D/MtP0rK83wP3EgJAuYwPA/H0sfuqC+8D8fSx+6oL7wP9YcIJijx/A//pqsUQ/R8D/PLAlQU8vwP7h1N091yPA/ol2FlJ/U8D/4qpUJv9TwP+WzPA/uzvA/jh6/t+nP8D/9gt2wbdHwP6g1zTtO0fA/2gOtwJDV8D8fotEdxM7wP7vVc9L7xvA/rd12obnO8D94f7xXrczwP+8DkNrEyfA/WcAEbt3N8D+Srpl8s83wP+3T8ZiByvA/RGlv8IXJ8D+JB5RNucLwP/4mFCLgkPA/tLCnHf6a8D+xUGuad5zwP5sg6j4AqfA/wf9WsmOj8D8VxhaCHJTwP0xUbw1slfA/hlrTvOOU8D+EEmba/pXwP7A4nPnVnPA/gjl6/N6m8D/IXu/+eK/wP//sR4rIsPA/irDh6ZWy8D9OYhBYObTwP0lL5e0Ip/A/wOeHEcKj8D/7Bbth26LwP0gbR6zFp/A/oijQJ/Kk8D/fpj/7kaLwP6pIhbGFoPA/MGR1q+ek8D8B9tGpK5/wP0urIXGPpfA/NPRPcLGi8D/7Bbth26LwPxZNZyeDo/A/FO0qpPyk8D8N/RNcrKjwPyJseHqlrPA/RbsKKT+p8D/WVuwvu6fwPybkg57NqvA/FqQZi6az8D8/48KBkKzwP//sR4rIsPA/5x2n6Eiu8D8DlfHvM67wPzaTb7a5sfA/V1uxv+ye8D/h7qzddqHwP9r+lZUmpfA/8IXJVMGo8D9oImx4eqXwP0ErMGR1q/A//n3GhQOh8D90e0ljtI7wP8UgsHJokfA/GCZTBaOS8D/bp+MxA5XwP6sJou4DkPA//+cwX16A8D/qCUs8oGzwP9Ei2/l+avA/r+sX7IZt8D+scwzIXm/wP/Tg7qzddvA/1SE3ww148D+Zu5aQD3rwP8zR4/c2ffA/HXdKB+t/8D8DYDyDhn7wP2+70FynkfA/QlvOpbiq8D8CDqFKzZ7wPwRWDi2ynfA/smg6Oxmc8D9t4uR+h6LwPzo7GRwlr/A/ilkvhnKi8D8RNjy9UpbwPz81XrpJjPA/48eYu5aQ8D825QrvcpHwPxe30QDegvA/eLRxxFp88D/pSC7/IX3wPzZ2ieqtgfA/cJS8OseA8D89fm/Tn33wPz6WPnRBffA/A3gLJCh+8D8LmMCtu3nwPwk4hCo1e/A/XW3F/rJ78D9pHVVNEHXwP3sUrkfhevA/1IIXfQVp8D+HbYsyG2TwP8O7XMR3YvA/+3lTkQpj8D9gH5268lnwPwETuHU3T/A/oS3nUlxV8D9F2PD0SlnwP05/9iNFZPA/9bnaiv1l8D8VkWEVb2TwP5hMFYxKavA/nfS+8bVn8D8SiNf1C3bwP83pspjYfPA/0GG+vAB78D9H5pE/GHjwPwJIbeLkfvA/k1LQ7SWN8D/a4a/JGnXwP/YoXI/CdfA/Zr0Yyol28D9PBkfJq3PwPzAvwD46dfA/3lm77UJz8D9h/Z/DfHnwP7Uy4Zf6efA/BcB4Bg198D+5quy7InjwP9PB+j+HefA/9ODurN128D80v5oDBHPwP8HKoUW2c/A/LLe0GhJ38D8HCObo8XvwP3ZsBOJ1ffA/paDbSxqj8D8gtYmT+53wP9P2r6w0qfA/SMSUSKKX8D9eS8gHPZvwP/8+48KBkPA/0CfyJOma8D/NHmgFhqzwP1eyYyMQr/A/SBtHrMWn8D/uJY3ROqrwP4KQLGACt/A/jSjtDb6w8D8m5IOezarwPylcj8L1qPA/oRABh1Cl8D9Lk1LQ7aXwPyp0XmOXqPA/nFCIgEOo8D9R2ht8YbLwP7QfKSLDqvA/tTf4wmSq8D/w3Hu45LjwP9Fcp5GWyvA/Vdl3RfC/8D+oNc07TtHwP4V3uYjvxPA/k1fnGJC98D9ZaVIKur3wPw7bFmU2yPA/vrwA++jU8D8O2xZlNsjwP0RRoE/kyfA/iIBDqFKz8D80SwLU1LLwP/yMCwdCsvA/5zV2ieqt8D8BTYQNT6/wP49wWvCir/A/dCmuKvuu8D8VdHtJY7TwP4WZtn9lpfA/dNL7xtee8D+xpx3+mqzwPyScFrzoq/A/eekmMQis8D9bQj7o2azwP2XCL/XzpvA/tHbbhea68D8JbTmX4qrwPzUk7rH0ofA/V0PiHkuf8D/lfoeiQJ/wP8yXF2AfnfA/lNkgk4yc8D/rrYGtEqzwP/gZFw6EZPA/NsgkI2dh8D/Du1zEd2LwPzyInSl0XvA/ldQJaCJs8D9txf6ye3LwP0Otad5xivA/MuauJeSD8D+5quy7InjwP18M5US7ivA/z6Chf4KL8D8npaDbS5rwPye9b3ztmfA/8BZIUPyY8D8JFoczv5rwP2gibHh6pfA/LNSa5h2n8D+VYHE486vwP2cKndfYpfA/vp8aL92k8D88FAX6RJ7wP1DkSdI1k/A/wZDVrZ6T8D8lXTP5ZpvwP5J55A8GnvA/IeUn1T6d8D99Ik+SrpnwP47pCUs8oPA/aeOItfiU8D9PXfksz4PwPyuHFtnOd/A/saIG0zB88D/hKHl1joHwPxL3WPrQhfA/a9RDNLqD8D+OO6WD9X/wP1itTPilfvA/XW3F/rJ78D9bJVgcznzwP240gLdAgvA/3IDPDyOE8D8E/1vJjo3wP06c3O9QlPA/pBmLprOT8D/CwHPv4ZLwP0VkWMUbmfA/8ddkjXqI8D8DfSJPkq7wPyHNWDSdnfA/wOeHEcKj8D8ZBFYOLbLwP693f7xXrfA/xqcAGM+g8D91WUxsPq7wP3XIzXADvvA/lbcjnBa88D9FEr2MYrnwP0yJJHoZxfA/1QRR9wHI8D/IDFTGv8/wP4Ln3sMlx/A/yTzyBwPP8D+b/uxHisjwPzXSUnk7wvA/ih9j7lrC8D+ERxtHrMXwPxTLLa2GxPA/rW71nPS+8D/RBfUtc7rwPwQEc/T4vfA/oDcVqTC28D/0bFZ9rrbwPy1DHOvitvA/ngd3Z+228D9CsoAJ3LrwP+S9amXCr/A/qFfKMsSx8D+A8Qwa+qfwP8u+K4L/rfA/sacd/pqs8D8exM4UOq/wP/tcbcX+svA/1sVtNIC38D9jKCfaVcjwPyRiSiTRy/A/nUZaKm/H8D+1FfvL7snwP+P8TShEwPA/GEM50a7C8D924JwRpb3wPxzr4jYawPA/wOyePCzU8D+kpfJ2hNPwP2/whclUwfA/VwkWhzO/8D82AvG6fsHwPxzr4jYawPA/O8JpwYu+8D8ziuWWVsPwP8Qlx53SwfA/IhrdQezM8D92N091yM3wP4hGdxA70/A/M/lmmxvT8D9+VwT/W8nwP+uLhLacy/A/n47HDFTG8D8Le9rhr8nwPxA7U+i8xvA/3Qw34PPD8D9YObTIdr7wP7wFEhQ/xvA/kwA1tWyt8D9lwi/186bwP8DnhxHCo/A/Ic1YNJ2d8D/lfoeiQJ/wPzUk7rH0ofA/SWO0jqqm8D+m0HmNXaLwPw==",
          "dtype": "f8"
         },
         "type": "candlestick",
         "x": [
          "s24-10-11 01:00",
          "s24-10-11 05:00",
          "s24-10-11 09:00",
          "s24-10-11 13:00",
          "s24-10-11 17:00",
          "s24-10-13 21:00",
          "s24-10-14 01:00",
          "s24-10-14 05:00",
          "s24-10-14 09:00",
          "s24-10-14 13:00",
          "s24-10-14 17:00",
          "s24-10-14 21:00",
          "s24-10-15 01:00",
          "s24-10-15 05:00",
          "s24-10-15 09:00",
          "s24-10-15 13:00",
          "s24-10-15 17:00",
          "s24-10-15 21:00",
          "s24-10-16 01:00",
          "s24-10-16 05:00",
          "s24-10-16 09:00",
          "s24-10-16 13:00",
          "s24-10-16 17:00",
          "s24-10-16 21:00",
          "s24-10-17 01:00",
          "s24-10-17 05:00",
          "s24-10-17 09:00",
          "s24-10-17 13:00",
          "s24-10-17 17:00",
          "s24-10-17 21:00",
          "s24-10-18 01:00",
          "s24-10-18 05:00",
          "s24-10-18 09:00",
          "s24-10-18 13:00",
          "s24-10-18 17:00",
          "s24-10-20 21:00",
          "s24-10-21 01:00",
          "s24-10-21 05:00",
          "s24-10-21 09:00",
          "s24-10-21 13:00",
          "s24-10-21 17:00",
          "s24-10-21 21:00",
          "s24-10-22 01:00",
          "s24-10-22 05:00",
          "s24-10-22 09:00",
          "s24-10-22 13:00",
          "s24-10-22 17:00",
          "s24-10-22 21:00",
          "s24-10-23 01:00",
          "s24-10-23 05:00",
          "s24-10-23 09:00",
          "s24-10-23 13:00",
          "s24-10-23 17:00",
          "s24-10-23 21:00",
          "s24-10-24 01:00",
          "s24-10-24 05:00",
          "s24-10-24 09:00",
          "s24-10-24 13:00",
          "s24-10-24 17:00",
          "s24-10-24 21:00",
          "s24-10-25 01:00",
          "s24-10-25 05:00",
          "s24-10-25 09:00",
          "s24-10-25 13:00",
          "s24-10-25 17:00",
          "s24-10-27 21:00",
          "s24-10-28 01:00",
          "s24-10-28 05:00",
          "s24-10-28 09:00",
          "s24-10-28 13:00",
          "s24-10-28 17:00",
          "s24-10-28 21:00",
          "s24-10-29 01:00",
          "s24-10-29 05:00",
          "s24-10-29 09:00",
          "s24-10-29 13:00",
          "s24-10-29 17:00",
          "s24-10-29 21:00",
          "s24-10-30 01:00",
          "s24-10-30 05:00",
          "s24-10-30 09:00",
          "s24-10-30 13:00",
          "s24-10-30 17:00",
          "s24-10-30 21:00",
          "s24-10-31 01:00",
          "s24-10-31 05:00",
          "s24-10-31 09:00",
          "s24-10-31 13:00",
          "s24-10-31 17:00",
          "s24-10-31 21:00",
          "s24-11-01 01:00",
          "s24-11-01 05:00",
          "s24-11-01 09:00",
          "s24-11-01 13:00",
          "s24-11-01 17:00",
          "s24-11-03 22:00",
          "s24-11-04 02:00",
          "s24-11-04 06:00",
          "s24-11-04 10:00",
          "s24-11-04 14:00",
          "s24-11-04 18:00",
          "s24-11-04 22:00",
          "s24-11-05 02:00",
          "s24-11-05 06:00",
          "s24-11-05 10:00",
          "s24-11-05 14:00",
          "s24-11-05 18:00",
          "s24-11-05 22:00",
          "s24-11-06 02:00",
          "s24-11-06 06:00",
          "s24-11-06 10:00",
          "s24-11-06 14:00",
          "s24-11-06 18:00",
          "s24-11-06 22:00",
          "s24-11-07 02:00",
          "s24-11-07 06:00",
          "s24-11-07 10:00",
          "s24-11-07 14:00",
          "s24-11-07 18:00",
          "s24-11-07 22:00",
          "s24-11-08 02:00",
          "s24-11-08 06:00",
          "s24-11-08 10:00",
          "s24-11-08 14:00",
          "s24-11-08 18:00",
          "s24-11-10 22:00",
          "s24-11-11 02:00",
          "s24-11-11 06:00",
          "s24-11-11 10:00",
          "s24-11-11 14:00",
          "s24-11-11 18:00",
          "s24-11-11 22:00",
          "s24-11-12 02:00",
          "s24-11-12 06:00",
          "s24-11-12 10:00",
          "s24-11-12 14:00",
          "s24-11-12 18:00",
          "s24-11-12 22:00",
          "s24-11-13 02:00",
          "s24-11-13 06:00",
          "s24-11-13 10:00",
          "s24-11-13 14:00",
          "s24-11-13 18:00",
          "s24-11-13 22:00",
          "s24-11-14 02:00",
          "s24-11-14 06:00",
          "s24-11-14 10:00",
          "s24-11-14 14:00",
          "s24-11-14 18:00",
          "s24-11-14 22:00",
          "s24-11-15 02:00",
          "s24-11-15 06:00",
          "s24-11-15 10:00",
          "s24-11-15 14:00",
          "s24-11-15 18:00",
          "s24-11-17 22:00",
          "s24-11-18 02:00",
          "s24-11-18 06:00",
          "s24-11-18 10:00",
          "s24-11-18 14:00",
          "s24-11-18 18:00",
          "s24-11-18 22:00",
          "s24-11-19 02:00",
          "s24-11-19 06:00",
          "s24-11-19 10:00",
          "s24-11-19 14:00",
          "s24-11-19 18:00",
          "s24-11-19 22:00",
          "s24-11-20 02:00",
          "s24-11-20 06:00",
          "s24-11-20 10:00",
          "s24-11-20 14:00",
          "s24-11-20 18:00",
          "s24-11-20 22:00",
          "s24-11-21 02:00",
          "s24-11-21 06:00",
          "s24-11-21 10:00",
          "s24-11-21 14:00",
          "s24-11-21 18:00",
          "s24-11-21 22:00",
          "s24-11-22 02:00",
          "s24-11-22 06:00",
          "s24-11-22 10:00",
          "s24-11-22 14:00",
          "s24-11-22 18:00",
          "s24-11-24 22:00",
          "s24-11-25 02:00",
          "s24-11-25 06:00",
          "s24-11-25 10:00",
          "s24-11-25 14:00",
          "s24-11-25 18:00",
          "s24-11-25 22:00",
          "s24-11-26 02:00",
          "s24-11-26 06:00",
          "s24-11-26 10:00",
          "s24-11-26 14:00",
          "s24-11-26 18:00",
          "s24-11-26 22:00",
          "s24-11-27 02:00",
          "s24-11-27 06:00",
          "s24-11-27 10:00",
          "s24-11-27 14:00",
          "s24-11-27 18:00",
          "s24-11-27 22:00",
          "s24-11-28 02:00",
          "s24-11-28 06:00",
          "s24-11-28 10:00",
          "s24-11-28 14:00",
          "s24-11-28 18:00",
          "s24-11-28 22:00",
          "s24-11-29 02:00",
          "s24-11-29 06:00",
          "s24-11-29 10:00",
          "s24-11-29 14:00",
          "s24-11-29 18:00",
          "s24-12-01 22:00",
          "s24-12-02 02:00",
          "s24-12-02 06:00",
          "s24-12-02 10:00",
          "s24-12-02 14:00",
          "s24-12-02 18:00",
          "s24-12-02 22:00",
          "s24-12-03 02:00",
          "s24-12-03 06:00",
          "s24-12-03 10:00",
          "s24-12-03 14:00",
          "s24-12-03 18:00",
          "s24-12-03 22:00",
          "s24-12-04 02:00",
          "s24-12-04 06:00",
          "s24-12-04 10:00",
          "s24-12-04 14:00",
          "s24-12-04 18:00",
          "s24-12-04 22:00",
          "s24-12-05 02:00",
          "s24-12-05 06:00",
          "s24-12-05 10:00",
          "s24-12-05 14:00",
          "s24-12-05 18:00",
          "s24-12-05 22:00",
          "s24-12-06 02:00",
          "s24-12-06 06:00",
          "s24-12-06 10:00",
          "s24-12-06 14:00",
          "s24-12-06 18:00",
          "s24-12-08 22:00",
          "s24-12-09 02:00",
          "s24-12-09 06:00",
          "s24-12-09 10:00",
          "s24-12-09 14:00",
          "s24-12-09 18:00",
          "s24-12-09 22:00",
          "s24-12-10 02:00",
          "s24-12-10 06:00",
          "s24-12-10 10:00",
          "s24-12-10 14:00",
          "s24-12-10 18:00",
          "s24-12-10 22:00",
          "s24-12-11 02:00",
          "s24-12-11 06:00",
          "s24-12-11 10:00",
          "s24-12-11 14:00",
          "s24-12-11 18:00",
          "s24-12-11 22:00",
          "s24-12-12 02:00",
          "s24-12-12 06:00",
          "s24-12-12 10:00",
          "s24-12-12 14:00",
          "s24-12-12 18:00",
          "s24-12-12 22:00",
          "s24-12-13 02:00",
          "s24-12-13 06:00",
          "s24-12-13 10:00",
          "s24-12-13 14:00",
          "s24-12-13 18:00",
          "s24-12-15 22:00",
          "s24-12-16 02:00",
          "s24-12-16 06:00",
          "s24-12-16 10:00",
          "s24-12-16 14:00",
          "s24-12-16 18:00",
          "s24-12-16 22:00",
          "s24-12-17 02:00",
          "s24-12-17 06:00",
          "s24-12-17 10:00",
          "s24-12-17 14:00",
          "s24-12-17 18:00",
          "s24-12-17 22:00",
          "s24-12-18 02:00",
          "s24-12-18 06:00",
          "s24-12-18 10:00",
          "s24-12-18 14:00",
          "s24-12-18 18:00",
          "s24-12-18 22:00",
          "s24-12-19 02:00",
          "s24-12-19 06:00",
          "s24-12-19 10:00",
          "s24-12-19 14:00",
          "s24-12-19 18:00",
          "s24-12-19 22:00",
          "s24-12-20 02:00",
          "s24-12-20 06:00",
          "s24-12-20 10:00",
          "s24-12-20 14:00",
          "s24-12-20 18:00",
          "s24-12-22 22:00",
          "s24-12-23 02:00",
          "s24-12-23 06:00",
          "s24-12-23 10:00",
          "s24-12-23 14:00",
          "s24-12-23 18:00",
          "s24-12-23 22:00",
          "s24-12-24 02:00",
          "s24-12-24 06:00",
          "s24-12-24 10:00",
          "s24-12-24 14:00",
          "s24-12-24 18:00",
          "s24-12-25 22:00",
          "s24-12-26 02:00",
          "s24-12-26 06:00",
          "s24-12-26 10:00",
          "s24-12-26 14:00",
          "s24-12-26 18:00",
          "s24-12-26 22:00",
          "s24-12-27 02:00",
          "s24-12-27 06:00",
          "s24-12-27 10:00",
          "s24-12-27 14:00",
          "s24-12-27 18:00",
          "s24-12-29 22:00",
          "s24-12-30 02:00",
          "s24-12-30 06:00",
          "s24-12-30 10:00",
          "s24-12-30 14:00",
          "s24-12-30 18:00",
          "s24-12-30 22:00",
          "s24-12-31 02:00",
          "s24-12-31 06:00",
          "s24-12-31 10:00",
          "s24-12-31 14:00",
          "s24-12-31 18:00",
          "s25-01-01 22:00",
          "s25-01-02 02:00",
          "s25-01-02 06:00",
          "s25-01-02 10:00",
          "s25-01-02 14:00",
          "s25-01-02 18:00",
          "s25-01-02 22:00",
          "s25-01-03 02:00",
          "s25-01-03 06:00",
          "s25-01-03 10:00",
          "s25-01-03 14:00",
          "s25-01-03 18:00",
          "s25-01-05 22:00",
          "s25-01-06 02:00",
          "s25-01-06 06:00",
          "s25-01-06 10:00",
          "s25-01-06 14:00",
          "s25-01-06 18:00",
          "s25-01-06 22:00",
          "s25-01-07 02:00",
          "s25-01-07 06:00",
          "s25-01-07 10:00",
          "s25-01-07 14:00",
          "s25-01-07 18:00",
          "s25-01-07 22:00",
          "s25-01-08 02:00",
          "s25-01-08 06:00",
          "s25-01-08 10:00",
          "s25-01-08 14:00",
          "s25-01-08 18:00",
          "s25-01-08 22:00",
          "s25-01-09 02:00",
          "s25-01-09 06:00",
          "s25-01-09 10:00",
          "s25-01-09 14:00",
          "s25-01-09 18:00",
          "s25-01-09 22:00",
          "s25-01-10 02:00",
          "s25-01-10 06:00",
          "s25-01-10 10:00",
          "s25-01-10 14:00",
          "s25-01-10 18:00",
          "s25-01-12 22:00",
          "s25-01-13 02:00",
          "s25-01-13 06:00",
          "s25-01-13 10:00",
          "s25-01-13 14:00",
          "s25-01-13 18:00",
          "s25-01-13 22:00",
          "s25-01-14 02:00",
          "s25-01-14 06:00",
          "s25-01-14 10:00",
          "s25-01-14 14:00",
          "s25-01-14 18:00",
          "s25-01-14 22:00",
          "s25-01-15 02:00",
          "s25-01-15 06:00",
          "s25-01-15 10:00",
          "s25-01-15 14:00",
          "s25-01-15 18:00",
          "s25-01-15 22:00",
          "s25-01-16 02:00",
          "s25-01-16 06:00",
          "s25-01-16 10:00",
          "s25-01-16 14:00",
          "s25-01-16 18:00",
          "s25-01-16 22:00",
          "s25-01-17 02:00",
          "s25-01-17 06:00",
          "s25-01-17 10:00",
          "s25-01-17 14:00",
          "s25-01-17 18:00",
          "s25-01-19 22:00",
          "s25-01-20 02:00",
          "s25-01-20 06:00",
          "s25-01-20 10:00",
          "s25-01-20 14:00",
          "s25-01-20 18:00",
          "s25-01-20 22:00",
          "s25-01-21 02:00",
          "s25-01-21 06:00",
          "s25-01-21 10:00",
          "s25-01-21 14:00",
          "s25-01-21 18:00",
          "s25-01-21 22:00",
          "s25-01-22 02:00",
          "s25-01-22 06:00",
          "s25-01-22 10:00",
          "s25-01-22 14:00",
          "s25-01-22 18:00",
          "s25-01-22 22:00",
          "s25-01-23 02:00",
          "s25-01-23 06:00",
          "s25-01-23 10:00",
          "s25-01-23 14:00",
          "s25-01-23 18:00",
          "s25-01-23 22:00",
          "s25-01-24 02:00",
          "s25-01-24 06:00",
          "s25-01-24 10:00",
          "s25-01-24 14:00",
          "s25-01-24 18:00",
          "s25-01-26 22:00",
          "s25-01-27 02:00",
          "s25-01-27 06:00",
          "s25-01-27 10:00",
          "s25-01-27 14:00",
          "s25-01-27 18:00",
          "s25-01-27 22:00",
          "s25-01-28 02:00",
          "s25-01-28 06:00",
          "s25-01-28 10:00",
          "s25-01-28 14:00",
          "s25-01-28 18:00",
          "s25-01-28 22:00",
          "s25-01-29 02:00",
          "s25-01-29 06:00",
          "s25-01-29 10:00",
          "s25-01-29 14:00",
          "s25-01-29 18:00",
          "s25-01-29 22:00",
          "s25-01-30 02:00",
          "s25-01-30 06:00",
          "s25-01-30 10:00",
          "s25-01-30 14:00",
          "s25-01-30 18:00",
          "s25-01-30 22:00",
          "s25-01-31 02:00",
          "s25-01-31 06:00",
          "s25-01-31 10:00",
          "s25-01-31 14:00",
          "s25-01-31 18:00",
          "s25-02-02 22:00",
          "s25-02-03 02:00",
          "s25-02-03 06:00",
          "s25-02-03 10:00",
          "s25-02-03 14:00",
          "s25-02-03 18:00",
          "s25-02-03 22:00",
          "s25-02-04 02:00",
          "s25-02-04 06:00",
          "s25-02-04 10:00",
          "s25-02-04 14:00",
          "s25-02-04 18:00",
          "s25-02-04 22:00",
          "s25-02-05 02:00",
          "s25-02-05 06:00",
          "s25-02-05 10:00",
          "s25-02-05 14:00",
          "s25-02-05 18:00",
          "s25-02-05 22:00",
          "s25-02-06 02:00",
          "s25-02-06 06:00",
          "s25-02-06 10:00",
          "s25-02-06 14:00",
          "s25-02-06 18:00",
          "s25-02-06 22:00",
          "s25-02-07 02:00",
          "s25-02-07 06:00",
          "s25-02-07 10:00",
          "s25-02-07 14:00",
          "s25-02-07 18:00",
          "s25-02-09 22:00",
          "s25-02-10 02:00",
          "s25-02-10 06:00",
          "s25-02-10 10:00",
          "s25-02-10 14:00",
          "s25-02-10 18:00",
          "s25-02-10 22:00",
          "s25-02-11 02:00",
          "s25-02-11 06:00",
          "s25-02-11 10:00",
          "s25-02-11 14:00",
          "s25-02-11 18:00",
          "s25-02-11 22:00",
          "s25-02-12 02:00",
          "s25-02-12 06:00",
          "s25-02-12 10:00",
          "s25-02-12 14:00",
          "s25-02-12 18:00",
          "s25-02-12 22:00",
          "s25-02-13 02:00",
          "s25-02-13 06:00",
          "s25-02-13 10:00",
          "s25-02-13 14:00",
          "s25-02-13 18:00",
          "s25-02-13 22:00",
          "s25-02-14 02:00",
          "s25-02-14 06:00",
          "s25-02-14 10:00",
          "s25-02-14 14:00",
          "s25-02-14 18:00",
          "s25-02-16 22:00",
          "s25-02-17 02:00",
          "s25-02-17 06:00",
          "s25-02-17 10:00",
          "s25-02-17 14:00",
          "s25-02-17 18:00",
          "s25-02-17 22:00",
          "s25-02-18 02:00",
          "s25-02-18 06:00",
          "s25-02-18 10:00",
          "s25-02-18 14:00",
          "s25-02-18 18:00",
          "s25-02-18 22:00",
          "s25-02-19 02:00",
          "s25-02-19 06:00",
          "s25-02-19 10:00",
          "s25-02-19 14:00",
          "s25-02-19 18:00",
          "s25-02-19 22:00",
          "s25-02-20 02:00",
          "s25-02-20 06:00",
          "s25-02-20 10:00",
          "s25-02-20 14:00",
          "s25-02-20 18:00",
          "s25-02-20 22:00",
          "s25-02-21 02:00",
          "s25-02-21 06:00",
          "s25-02-21 10:00",
          "s25-02-21 14:00",
          "s25-02-21 18:00",
          "s25-02-23 22:00",
          "s25-02-24 02:00",
          "s25-02-24 06:00",
          "s25-02-24 10:00",
          "s25-02-24 14:00",
          "s25-02-24 18:00",
          "s25-02-24 22:00",
          "s25-02-25 02:00",
          "s25-02-25 06:00",
          "s25-02-25 10:00",
          "s25-02-25 14:00",
          "s25-02-25 18:00",
          "s25-02-25 22:00",
          "s25-02-26 02:00",
          "s25-02-26 06:00",
          "s25-02-26 10:00",
          "s25-02-26 14:00",
          "s25-02-26 18:00",
          "s25-02-26 22:00",
          "s25-02-27 02:00",
          "s25-02-27 06:00",
          "s25-02-27 10:00",
          "s25-02-27 14:00",
          "s25-02-27 18:00",
          "s25-02-27 22:00",
          "s25-02-28 02:00",
          "s25-02-28 06:00",
          "s25-02-28 10:00",
          "s25-02-28 14:00",
          "s25-02-28 18:00"
         ]
        },
        {
         "close": {
          "bdata": "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",
          "dtype": "f8"
         },
         "decreasing": {
          "fillcolor": "blue",
          "line": {
           "color": "blue"
          }
         },
         "high": {
          "bdata": "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",
          "dtype": "f8"
         },
         "increasing": {
          "fillcolor": "blue",
          "line": {
           "color": "blue"
          }
         },
         "line": {
          "width": 1
         },
         "low": {
          "bdata": "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",
          "dtype": "f8"
         },
         "opacity": 1,
         "open": {
          "bdata": "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",
          "dtype": "f8"
         },
         "type": "candlestick",
         "x": [
          "s24-10-11 01:00",
          "s24-10-11 05:00",
          "s24-10-11 09:00",
          "s24-10-11 13:00",
          "s24-10-11 17:00",
          "s24-10-13 21:00",
          "s24-10-14 01:00",
          "s24-10-14 05:00",
          "s24-10-14 09:00",
          "s24-10-14 13:00",
          "s24-10-14 17:00",
          "s24-10-14 21:00",
          "s24-10-15 01:00",
          "s24-10-15 05:00",
          "s24-10-15 09:00",
          "s24-10-15 13:00",
          "s24-10-15 17:00",
          "s24-10-15 21:00",
          "s24-10-16 01:00",
          "s24-10-16 05:00",
          "s24-10-16 09:00",
          "s24-10-16 13:00",
          "s24-10-16 17:00",
          "s24-10-16 21:00",
          "s24-10-17 01:00",
          "s24-10-17 05:00",
          "s24-10-17 09:00",
          "s24-10-17 13:00",
          "s24-10-17 17:00",
          "s24-10-17 21:00",
          "s24-10-18 01:00",
          "s24-10-18 05:00",
          "s24-10-18 09:00",
          "s24-10-18 13:00",
          "s24-10-18 17:00",
          "s24-10-20 21:00",
          "s24-10-21 01:00",
          "s24-10-21 05:00",
          "s24-10-21 09:00",
          "s24-10-21 13:00",
          "s24-10-21 17:00",
          "s24-10-21 21:00",
          "s24-10-22 01:00",
          "s24-10-22 05:00",
          "s24-10-22 09:00",
          "s24-10-22 13:00",
          "s24-10-22 17:00",
          "s24-10-22 21:00",
          "s24-10-23 01:00",
          "s24-10-23 05:00",
          "s24-10-23 09:00",
          "s24-10-23 13:00",
          "s24-10-23 17:00",
          "s24-10-23 21:00",
          "s24-10-24 01:00",
          "s24-10-24 05:00",
          "s24-10-24 09:00",
          "s24-10-24 13:00",
          "s24-10-24 17:00",
          "s24-10-24 21:00",
          "s24-10-25 01:00",
          "s24-10-25 05:00",
          "s24-10-25 09:00",
          "s24-10-25 13:00",
          "s24-10-25 17:00",
          "s24-10-27 21:00",
          "s24-10-28 01:00",
          "s24-10-28 05:00",
          "s24-10-28 09:00",
          "s24-10-28 13:00",
          "s24-10-28 17:00",
          "s24-10-28 21:00",
          "s24-10-29 01:00",
          "s24-10-29 05:00",
          "s24-10-29 09:00",
          "s24-10-29 13:00",
          "s24-10-29 17:00",
          "s24-10-29 21:00",
          "s24-10-30 01:00",
          "s24-10-30 05:00",
          "s24-10-30 09:00",
          "s24-11-06 14:00",
          "s24-11-06 18:00",
          "s24-11-06 22:00",
          "s24-11-07 02:00",
          "s24-11-07 06:00",
          "s24-11-07 10:00",
          "s24-11-07 14:00",
          "s24-11-07 18:00",
          "s24-11-07 22:00",
          "s24-11-08 02:00",
          "s24-11-08 06:00",
          "s24-11-08 10:00",
          "s24-11-08 14:00",
          "s24-11-08 18:00",
          "s24-11-10 22:00",
          "s24-11-11 02:00",
          "s24-11-11 06:00",
          "s24-11-11 10:00",
          "s24-11-11 14:00",
          "s24-11-11 18:00",
          "s24-11-11 22:00",
          "s24-11-12 02:00",
          "s24-11-12 06:00",
          "s24-11-12 10:00",
          "s24-11-12 14:00",
          "s24-11-12 18:00",
          "s24-11-12 22:00",
          "s24-11-13 02:00",
          "s24-11-13 06:00",
          "s24-11-13 10:00",
          "s24-11-13 14:00",
          "s24-11-13 18:00",
          "s24-11-13 22:00",
          "s24-11-14 02:00",
          "s24-11-14 06:00",
          "s24-11-14 10:00",
          "s24-11-14 14:00",
          "s24-11-14 18:00",
          "s24-11-14 22:00",
          "s24-11-15 02:00",
          "s24-11-15 06:00",
          "s24-11-15 10:00",
          "s24-11-15 14:00",
          "s24-11-15 18:00",
          "s24-11-17 22:00",
          "s24-11-18 02:00",
          "s24-11-18 06:00",
          "s24-11-18 10:00",
          "s24-11-18 14:00",
          "s24-11-18 18:00",
          "s24-11-18 22:00",
          "s24-11-19 02:00",
          "s24-11-19 06:00",
          "s24-11-19 10:00",
          "s24-11-19 14:00",
          "s24-11-19 18:00",
          "s24-11-19 22:00",
          "s24-11-20 02:00",
          "s24-11-20 06:00",
          "s24-11-20 10:00",
          "s24-11-20 14:00",
          "s24-11-20 18:00",
          "s24-11-20 22:00",
          "s24-11-21 02:00",
          "s24-11-21 06:00",
          "s24-11-21 10:00",
          "s24-11-21 14:00",
          "s24-11-21 18:00",
          "s24-11-21 22:00",
          "s24-11-22 02:00",
          "s24-11-22 06:00",
          "s24-11-22 10:00",
          "s24-11-22 14:00",
          "s24-11-22 18:00",
          "s24-11-24 22:00",
          "s24-11-25 02:00",
          "s24-11-25 06:00",
          "s24-11-25 10:00",
          "s24-11-25 14:00",
          "s24-11-25 18:00",
          "s24-11-25 22:00",
          "s24-11-26 02:00",
          "s24-11-26 06:00",
          "s24-11-26 10:00",
          "s24-11-26 14:00",
          "s24-11-26 18:00",
          "s24-11-26 22:00",
          "s24-11-27 02:00",
          "s24-11-27 06:00",
          "s24-11-27 10:00",
          "s24-11-27 14:00",
          "s24-11-27 18:00",
          "s24-11-27 22:00",
          "s24-12-03 10:00",
          "s24-12-03 14:00",
          "s24-12-03 18:00",
          "s24-12-03 22:00",
          "s24-12-04 02:00",
          "s24-12-04 06:00",
          "s24-12-04 10:00",
          "s24-12-04 14:00",
          "s24-12-04 18:00",
          "s24-12-04 22:00",
          "s24-12-05 02:00",
          "s24-12-05 06:00",
          "s24-12-05 10:00",
          "s24-12-11 06:00",
          "s24-12-11 10:00",
          "s24-12-11 14:00",
          "s24-12-11 18:00",
          "s24-12-11 22:00",
          "s24-12-12 02:00",
          "s24-12-12 06:00",
          "s24-12-12 10:00",
          "s24-12-12 14:00",
          "s24-12-12 18:00",
          "s24-12-12 22:00",
          "s24-12-13 02:00",
          "s24-12-13 06:00",
          "s24-12-13 10:00",
          "s24-12-13 14:00",
          "s24-12-13 18:00",
          "s24-12-15 22:00",
          "s24-12-16 02:00",
          "s24-12-16 06:00",
          "s24-12-16 10:00",
          "s24-12-16 14:00",
          "s24-12-16 18:00",
          "s24-12-16 22:00",
          "s24-12-17 02:00",
          "s24-12-17 06:00",
          "s24-12-17 10:00",
          "s24-12-17 14:00",
          "s24-12-17 18:00",
          "s24-12-17 22:00",
          "s24-12-18 02:00",
          "s24-12-18 06:00",
          "s24-12-18 10:00",
          "s24-12-18 14:00",
          "s24-12-18 18:00",
          "s24-12-18 22:00",
          "s24-12-19 02:00",
          "s24-12-19 06:00",
          "s24-12-19 10:00",
          "s24-12-19 14:00",
          "s24-12-19 18:00",
          "s24-12-19 22:00",
          "s24-12-20 02:00",
          "s24-12-20 06:00",
          "s24-12-20 10:00",
          "s24-12-20 14:00",
          "s24-12-20 18:00",
          "s24-12-22 22:00",
          "s24-12-23 02:00",
          "s24-12-23 06:00",
          "s24-12-23 10:00",
          "s24-12-23 14:00",
          "s24-12-23 18:00",
          "s24-12-23 22:00",
          "s24-12-24 02:00",
          "s24-12-24 06:00",
          "s24-12-24 10:00",
          "s24-12-24 14:00",
          "s24-12-24 18:00",
          "s24-12-25 22:00",
          "s24-12-26 02:00",
          "s24-12-26 06:00",
          "s24-12-26 10:00",
          "s24-12-26 14:00",
          "s24-12-26 18:00",
          "s24-12-26 22:00",
          "s24-12-27 02:00",
          "s24-12-27 06:00",
          "s24-12-27 10:00",
          "s24-12-27 14:00",
          "s24-12-27 18:00",
          "s24-12-29 22:00",
          "s24-12-30 02:00",
          "s24-12-31 14:00",
          "s24-12-31 18:00",
          "s25-01-01 22:00",
          "s25-01-02 02:00",
          "s25-01-02 06:00",
          "s25-01-02 10:00",
          "s25-01-02 14:00",
          "s25-01-02 18:00",
          "s25-01-02 22:00",
          "s25-01-03 02:00",
          "s25-01-03 06:00",
          "s25-01-03 10:00",
          "s25-01-03 14:00",
          "s25-01-03 18:00",
          "s25-01-05 22:00",
          "s25-01-06 02:00",
          "s25-01-06 06:00",
          "s25-01-06 10:00",
          "s25-01-06 14:00",
          "s25-01-06 18:00",
          "s25-01-06 22:00",
          "s25-01-07 02:00",
          "s25-01-07 06:00",
          "s25-01-08 10:00",
          "s25-01-08 14:00",
          "s25-01-08 18:00",
          "s25-01-08 22:00",
          "s25-01-09 02:00",
          "s25-01-09 06:00",
          "s25-01-09 10:00",
          "s25-01-09 14:00",
          "s25-01-09 18:00",
          "s25-01-09 22:00",
          "s25-01-10 02:00",
          "s25-01-10 06:00",
          "s25-01-10 10:00",
          "s25-01-10 14:00",
          "s25-01-10 18:00",
          "s25-01-12 22:00",
          "s25-01-13 02:00",
          "s25-01-13 06:00",
          "s25-01-13 10:00",
          "s25-01-13 14:00",
          "s25-01-13 18:00",
          "s25-01-13 22:00",
          "s25-01-14 02:00",
          "s25-01-14 06:00",
          "s25-01-14 10:00",
          "s25-01-14 14:00",
          "s25-01-14 18:00",
          "s25-01-14 22:00",
          "s25-01-15 02:00",
          "s25-01-15 06:00",
          "s25-01-15 10:00",
          "s25-01-15 14:00",
          "s25-01-15 18:00",
          "s25-01-15 22:00",
          "s25-01-16 02:00",
          "s25-01-16 06:00",
          "s25-01-16 10:00",
          "s25-01-16 14:00",
          "s25-01-16 18:00",
          "s25-01-16 22:00",
          "s25-01-17 02:00",
          "s25-01-17 06:00",
          "s25-01-17 10:00",
          "s25-01-30 02:00",
          "s25-01-30 06:00",
          "s25-01-30 10:00",
          "s25-01-30 14:00",
          "s25-01-30 18:00",
          "s25-01-30 22:00",
          "s25-01-31 02:00",
          "s25-01-31 06:00",
          "s25-01-31 10:00",
          "s25-01-31 14:00",
          "s25-01-31 18:00",
          "s25-02-02 22:00",
          "s25-02-03 02:00",
          "s25-02-03 06:00",
          "s25-02-03 10:00",
          "s25-02-03 14:00",
          "s25-02-03 18:00",
          "s25-02-03 22:00",
          "s25-02-04 02:00",
          "s25-02-04 06:00",
          "s25-02-04 10:00",
          "s25-02-04 14:00",
          "s25-02-04 18:00",
          "s25-02-04 22:00",
          "s25-02-05 02:00",
          "s25-02-05 06:00",
          "s25-02-05 10:00",
          "s25-02-05 14:00",
          "s25-02-05 18:00",
          "s25-02-05 22:00",
          "s25-02-06 02:00",
          "s25-02-06 06:00",
          "s25-02-07 14:00",
          "s25-02-07 18:00",
          "s25-02-09 22:00",
          "s25-02-10 02:00",
          "s25-02-10 06:00",
          "s25-02-10 10:00",
          "s25-02-10 14:00",
          "s25-02-10 18:00",
          "s25-02-10 22:00",
          "s25-02-11 02:00",
          "s25-02-11 06:00",
          "s25-02-11 10:00",
          "s25-02-11 14:00",
          "s25-02-11 18:00",
          "s25-02-11 22:00",
          "s25-02-12 02:00",
          "s25-02-12 06:00",
          "s25-02-12 10:00",
          "s25-02-27 18:00",
          "s25-02-27 22:00",
          "s25-02-28 02:00",
          "s25-02-28 06:00",
          "s25-02-28 10:00",
          "s25-02-28 14:00",
          "s25-02-28 18:00"
         ]
        },
        {
         "line": {
          "color": "green",
          "width": 1
         },
         "mode": "lines",
         "name": "Support 1.02063",
         "type": "scatter",
         "x": [
          "s24-10-11 01:00",
          "s25-02-28 18:00"
         ],
         "y": [
          1.02063,
          1.02063
         ]
        },
        {
         "line": {
          "color": "green",
          "width": 1
         },
         "mode": "lines",
         "name": "Support 1.02793",
         "type": "scatter",
         "x": [
          "s24-10-11 01:00",
          "s25-02-28 18:00"
         ],
         "y": [
          1.02793,
          1.02793
         ]
        },
        {
         "line": {
          "color": "green",
          "width": 1
         },
         "mode": "lines",
         "name": "Support 1.03688",
         "type": "scatter",
         "x": [
          "s24-10-11 01:00",
          "s25-02-28 18:00"
         ],
         "y": [
          1.03688,
          1.03688
         ]
        },
        {
         "line": {
          "color": "green",
          "width": 1
         },
         "mode": "lines",
         "name": "Support 1.04708",
         "type": "scatter",
         "x": [
          "s24-10-11 01:00",
          "s25-02-28 18:00"
         ],
         "y": [
          1.04708,
          1.04708
         ]
        },
        {
         "line": {
          "color": "green",
          "width": 1
         },
         "mode": "lines",
         "name": "Support 1.05277",
         "type": "scatter",
         "x": [
          "s24-10-11 01:00",
          "s25-02-28 18:00"
         ],
         "y": [
          1.05277,
          1.05277
         ]
        },
        {
         "line": {
          "color": "green",
          "width": 1
         },
         "mode": "lines",
         "name": "Support 1.06118",
         "type": "scatter",
         "x": [
          "s24-10-11 01:00",
          "s25-02-28 18:00"
         ],
         "y": [
          1.06118,
          1.06118
         ]
        },
        {
         "line": {
          "color": "green",
          "width": 1
         },
         "mode": "lines",
         "name": "Support 1.06847",
         "type": "scatter",
         "x": [
          "s24-10-11 01:00",
          "s25-02-28 18:00"
         ],
         "y": [
          1.06847,
          1.06847
         ]
        },
        {
         "line": {
          "color": "green",
          "width": 1
         },
         "mode": "lines",
         "name": "Support 1.07963",
         "type": "scatter",
         "x": [
          "s24-10-11 01:00",
          "s25-02-28 18:00"
         ],
         "y": [
          1.07963,
          1.07963
         ]
        },
        {
         "line": {
          "color": "red",
          "width": 1
         },
         "mode": "lines",
         "name": "Resistance 1.03256",
         "type": "scatter",
         "x": [
          "s24-10-11 01:00",
          "s25-02-28 18:00"
         ],
         "y": [
          1.03256,
          1.03256
         ]
        },
        {
         "line": {
          "color": "red",
          "width": 1
         },
         "mode": "lines",
         "name": "Resistance 1.04357",
         "type": "scatter",
         "x": [
          "s24-10-11 01:00",
          "s25-02-28 18:00"
         ],
         "y": [
          1.04357,
          1.04357
         ]
        },
        {
         "line": {
          "color": "red",
          "width": 1
         },
         "mode": "lines",
         "name": "Resistance 1.05288",
         "type": "scatter",
         "x": [
          "s24-10-11 01:00",
          "s25-02-28 18:00"
         ],
         "y": [
          1.05288,
          1.05288
         ]
        },
        {
         "line": {
          "color": "red",
          "width": 1
         },
         "mode": "lines",
         "name": "Resistance 1.05991",
         "type": "scatter",
         "x": [
          "s24-10-11 01:00",
          "s25-02-28 18:00"
         ],
         "y": [
          1.05991,
          1.05991
         ]
        },
        {
         "line": {
          "color": "red",
          "width": 1
         },
         "mode": "lines",
         "name": "Resistance 1.08467",
         "type": "scatter",
         "x": [
          "s24-10-11 01:00",
          "s25-02-28 18:00"
         ],
         "y": [
          1.08467,
          1.08467
         ]
        },
        {
         "line": {
          "color": "red",
          "width": 1
         },
         "mode": "lines",
         "name": "Resistance 1.09238",
         "type": "scatter",
         "x": [
          "s24-10-11 01:00",
          "s25-02-28 18:00"
         ],
         "y": [
          1.09238,
          1.09238
         ]
        }
       ],
       "layout": {
        "font": {
         "color": "#e1e1e1",
         "size": 10
        },
        "height": 600,
        "margin": {
         "b": 10,
         "l": 10,
         "r": 10,
         "t": 10
        },
        "paper_bgcolor": "#2c303c",
        "plot_bgcolor": "#2c303c",
        "template": {
         "data": {
          "bar": [
           {
            "error_x": {
             "color": "#2a3f5f"
            },
            "error_y": {
             "color": "#2a3f5f"
            },
            "marker": {
             "line": {
              "color": "#E5ECF6",
              "width": 0.5
             },
             "pattern": {
              "fillmode": "overlay",
              "size": 10,
              "solidity": 0.2
             }
            },
            "type": "bar"
           }
          ],
          "barpolar": [
           {
            "marker": {
             "line": {
              "color": "#E5ECF6",
              "width": 0.5
             },
             "pattern": {
              "fillmode": "overlay",
              "size": 10,
              "solidity": 0.2
             }
            },
            "type": "barpolar"
           }
          ],
          "carpet": [
           {
            "aaxis": {
             "endlinecolor": "#2a3f5f",
             "gridcolor": "white",
             "linecolor": "white",
             "minorgridcolor": "white",
             "startlinecolor": "#2a3f5f"
            },
            "baxis": {
             "endlinecolor": "#2a3f5f",
             "gridcolor": "white",
             "linecolor": "white",
             "minorgridcolor": "white",
             "startlinecolor": "#2a3f5f"
            },
            "type": "carpet"
           }
          ],
          "choropleth": [
           {
            "colorbar": {
             "outlinewidth": 0,
             "ticks": ""
            },
            "type": "choropleth"
           }
          ],
          "contour": [
           {
            "colorbar": {
             "outlinewidth": 0,
             "ticks": ""
            },
            "colorscale": [
             [
              0,
              "#0d0887"
             ],
             [
              0.1111111111111111,
              "#46039f"
             ],
             [
              0.2222222222222222,
              "#7201a8"
             ],
             [
              0.3333333333333333,
              "#9c179e"
             ],
             [
              0.4444444444444444,
              "#bd3786"
             ],
             [
              0.5555555555555556,
              "#d8576b"
             ],
             [
              0.6666666666666666,
              "#ed7953"
             ],
             [
              0.7777777777777778,
              "#fb9f3a"
             ],
             [
              0.8888888888888888,
              "#fdca26"
             ],
             [
              1,
              "#f0f921"
             ]
            ],
            "type": "contour"
           }
          ],
          "contourcarpet": [
           {
            "colorbar": {
             "outlinewidth": 0,
             "ticks": ""
            },
            "type": "contourcarpet"
           }
          ],
          "heatmap": [
           {
            "colorbar": {
             "outlinewidth": 0,
             "ticks": ""
            },
            "colorscale": [
             [
              0,
              "#0d0887"
             ],
             [
              0.1111111111111111,
              "#46039f"
             ],
             [
              0.2222222222222222,
              "#7201a8"
             ],
             [
              0.3333333333333333,
              "#9c179e"
             ],
             [
              0.4444444444444444,
              "#bd3786"
             ],
             [
              0.5555555555555556,
              "#d8576b"
             ],
             [
              0.6666666666666666,
              "#ed7953"
             ],
             [
              0.7777777777777778,
              "#fb9f3a"
             ],
             [
              0.8888888888888888,
              "#fdca26"
             ],
             [
              1,
              "#f0f921"
             ]
            ],
            "type": "heatmap"
           }
          ],
          "histogram": [
           {
            "marker": {
             "pattern": {
              "fillmode": "overlay",
              "size": 10,
              "solidity": 0.2
             }
            },
            "type": "histogram"
           }
          ],
          "histogram2d": [
           {
            "colorbar": {
             "outlinewidth": 0,
             "ticks": ""
            },
            "colorscale": [
             [
              0,
              "#0d0887"
             ],
             [
              0.1111111111111111,
              "#46039f"
             ],
             [
              0.2222222222222222,
              "#7201a8"
             ],
             [
              0.3333333333333333,
              "#9c179e"
             ],
             [
              0.4444444444444444,
              "#bd3786"
             ],
             [
              0.5555555555555556,
              "#d8576b"
             ],
             [
              0.6666666666666666,
              "#ed7953"
             ],
             [
              0.7777777777777778,
              "#fb9f3a"
             ],
             [
              0.8888888888888888,
              "#fdca26"
             ],
             [
              1,
              "#f0f921"
             ]
            ],
            "type": "histogram2d"
           }
          ],
          "histogram2dcontour": [
           {
            "colorbar": {
             "outlinewidth": 0,
             "ticks": ""
            },
            "colorscale": [
             [
              0,
              "#0d0887"
             ],
             [
              0.1111111111111111,
              "#46039f"
             ],
             [
              0.2222222222222222,
              "#7201a8"
             ],
             [
              0.3333333333333333,
              "#9c179e"
             ],
             [
              0.4444444444444444,
              "#bd3786"
             ],
             [
              0.5555555555555556,
              "#d8576b"
             ],
             [
              0.6666666666666666,
              "#ed7953"
             ],
             [
              0.7777777777777778,
              "#fb9f3a"
             ],
             [
              0.8888888888888888,
              "#fdca26"
             ],
             [
              1,
              "#f0f921"
             ]
            ],
            "type": "histogram2dcontour"
           }
          ],
          "mesh3d": [
           {
            "colorbar": {
             "outlinewidth": 0,
             "ticks": ""
            },
            "type": "mesh3d"
           }
          ],
          "parcoords": [
           {
            "line": {
             "colorbar": {
              "outlinewidth": 0,
              "ticks": ""
             }
            },
            "type": "parcoords"
           }
          ],
          "pie": [
           {
            "automargin": true,
            "type": "pie"
           }
          ],
          "scatter": [
           {
            "fillpattern": {
             "fillmode": "overlay",
             "size": 10,
             "solidity": 0.2
            },
            "type": "scatter"
           }
          ],
          "scatter3d": [
           {
            "line": {
             "colorbar": {
              "outlinewidth": 0,
              "ticks": ""
             }
            },
            "marker": {
             "colorbar": {
              "outlinewidth": 0,
              "ticks": ""
             }
            },
            "type": "scatter3d"
           }
          ],
          "scattercarpet": [
           {
            "marker": {
             "colorbar": {
              "outlinewidth": 0,
              "ticks": ""
             }
            },
            "type": "scattercarpet"
           }
          ],
          "scattergeo": [
           {
            "marker": {
             "colorbar": {
              "outlinewidth": 0,
              "ticks": ""
             }
            },
            "type": "scattergeo"
           }
          ],
          "scattergl": [
           {
            "marker": {
             "colorbar": {
              "outlinewidth": 0,
              "ticks": ""
             }
            },
            "type": "scattergl"
           }
          ],
          "scattermap": [
           {
            "marker": {
             "colorbar": {
              "outlinewidth": 0,
              "ticks": ""
             }
            },
            "type": "scattermap"
           }
          ],
          "scattermapbox": [
           {
            "marker": {
             "colorbar": {
              "outlinewidth": 0,
              "ticks": ""
             }
            },
            "type": "scattermapbox"
           }
          ],
          "scatterpolar": [
           {
            "marker": {
             "colorbar": {
              "outlinewidth": 0,
              "ticks": ""
             }
            },
            "type": "scatterpolar"
           }
          ],
          "scatterpolargl": [
           {
            "marker": {
             "colorbar": {
              "outlinewidth": 0,
              "ticks": ""
             }
            },
            "type": "scatterpolargl"
           }
          ],
          "scatterternary": [
           {
            "marker": {
             "colorbar": {
              "outlinewidth": 0,
              "ticks": ""
             }
            },
            "type": "scatterternary"
           }
          ],
          "surface": [
           {
            "colorbar": {
             "outlinewidth": 0,
             "ticks": ""
            },
            "colorscale": [
             [
              0,
              "#0d0887"
             ],
             [
              0.1111111111111111,
              "#46039f"
             ],
             [
              0.2222222222222222,
              "#7201a8"
             ],
             [
              0.3333333333333333,
              "#9c179e"
             ],
             [
              0.4444444444444444,
              "#bd3786"
             ],
             [
              0.5555555555555556,
              "#d8576b"
             ],
             [
              0.6666666666666666,
              "#ed7953"
             ],
             [
              0.7777777777777778,
              "#fb9f3a"
             ],
             [
              0.8888888888888888,
              "#fdca26"
             ],
             [
              1,
              "#f0f921"
             ]
            ],
            "type": "surface"
           }
          ],
          "table": [
           {
            "cells": {
             "fill": {
              "color": "#EBF0F8"
             },
             "line": {
              "color": "white"
             }
            },
            "header": {
             "fill": {
              "color": "#C8D4E3"
             },
             "line": {
              "color": "white"
             }
            },
            "type": "table"
           }
          ]
         },
         "layout": {
          "annotationdefaults": {
           "arrowcolor": "#2a3f5f",
           "arrowhead": 0,
           "arrowwidth": 1
          },
          "autotypenumbers": "strict",
          "coloraxis": {
           "colorbar": {
            "outlinewidth": 0,
            "ticks": ""
           }
          },
          "colorscale": {
           "diverging": [
            [
             0,
             "#8e0152"
            ],
            [
             0.1,
             "#c51b7d"
            ],
            [
             0.2,
             "#de77ae"
            ],
            [
             0.3,
             "#f1b6da"
            ],
            [
             0.4,
             "#fde0ef"
            ],
            [
             0.5,
             "#f7f7f7"
            ],
            [
             0.6,
             "#e6f5d0"
            ],
            [
             0.7,
             "#b8e186"
            ],
            [
             0.8,
             "#7fbc41"
            ],
            [
             0.9,
             "#4d9221"
            ],
            [
             1,
             "#276419"
            ]
           ],
           "sequential": [
            [
             0,
             "#0d0887"
            ],
            [
             0.1111111111111111,
             "#46039f"
            ],
            [
             0.2222222222222222,
             "#7201a8"
            ],
            [
             0.3333333333333333,
             "#9c179e"
            ],
            [
             0.4444444444444444,
             "#bd3786"
            ],
            [
             0.5555555555555556,
             "#d8576b"
            ],
            [
             0.6666666666666666,
             "#ed7953"
            ],
            [
             0.7777777777777778,
             "#fb9f3a"
            ],
            [
             0.8888888888888888,
             "#fdca26"
            ],
            [
             1,
             "#f0f921"
            ]
           ],
           "sequentialminus": [
            [
             0,
             "#0d0887"
            ],
            [
             0.1111111111111111,
             "#46039f"
            ],
            [
             0.2222222222222222,
             "#7201a8"
            ],
            [
             0.3333333333333333,
             "#9c179e"
            ],
            [
             0.4444444444444444,
             "#bd3786"
            ],
            [
             0.5555555555555556,
             "#d8576b"
            ],
            [
             0.6666666666666666,
             "#ed7953"
            ],
            [
             0.7777777777777778,
             "#fb9f3a"
            ],
            [
             0.8888888888888888,
             "#fdca26"
            ],
            [
             1,
             "#f0f921"
            ]
           ]
          },
          "colorway": [
           "#636efa",
           "#EF553B",
           "#00cc96",
           "#ab63fa",
           "#FFA15A",
           "#19d3f3",
           "#FF6692",
           "#B6E880",
           "#FF97FF",
           "#FECB52"
          ],
          "font": {
           "color": "#2a3f5f"
          },
          "geo": {
           "bgcolor": "white",
           "lakecolor": "white",
           "landcolor": "#E5ECF6",
           "showlakes": true,
           "showland": true,
           "subunitcolor": "white"
          },
          "hoverlabel": {
           "align": "left"
          },
          "hovermode": "closest",
          "mapbox": {
           "style": "light"
          },
          "paper_bgcolor": "white",
          "plot_bgcolor": "#E5ECF6",
          "polar": {
           "angularaxis": {
            "gridcolor": "white",
            "linecolor": "white",
            "ticks": ""
           },
           "bgcolor": "#E5ECF6",
           "radialaxis": {
            "gridcolor": "white",
            "linecolor": "white",
            "ticks": ""
           }
          },
          "scene": {
           "xaxis": {
            "backgroundcolor": "#E5ECF6",
            "gridcolor": "white",
            "gridwidth": 2,
            "linecolor": "white",
            "showbackground": true,
            "ticks": "",
            "zerolinecolor": "white"
           },
           "yaxis": {
            "backgroundcolor": "#E5ECF6",
            "gridcolor": "white",
            "gridwidth": 2,
            "linecolor": "white",
            "showbackground": true,
            "ticks": "",
            "zerolinecolor": "white"
           },
           "zaxis": {
            "backgroundcolor": "#E5ECF6",
            "gridcolor": "white",
            "gridwidth": 2,
            "linecolor": "white",
            "showbackground": true,
            "ticks": "",
            "zerolinecolor": "white"
           }
          },
          "shapedefaults": {
           "line": {
            "color": "#2a3f5f"
           }
          },
          "ternary": {
           "aaxis": {
            "gridcolor": "white",
            "linecolor": "white",
            "ticks": ""
           },
           "baxis": {
            "gridcolor": "white",
            "linecolor": "white",
            "ticks": ""
           },
           "bgcolor": "#E5ECF6",
           "caxis": {
            "gridcolor": "white",
            "linecolor": "white",
            "ticks": ""
           }
          },
          "title": {
           "x": 0.05
          },
          "xaxis": {
           "automargin": true,
           "gridcolor": "white",
           "linecolor": "white",
           "ticks": "",
           "title": {
            "standoff": 15
           },
           "zerolinecolor": "white",
           "zerolinewidth": 2
          },
          "yaxis": {
           "automargin": true,
           "gridcolor": "white",
           "linecolor": "white",
           "ticks": "",
           "title": {
            "standoff": 15
           },
           "zerolinecolor": "white",
           "zerolinewidth": 2
          }
         }
        },
        "width": 1200,
        "xaxis": {
         "gridcolor": "#1f292f",
         "nticks": 5,
         "rangeslider": {
          "visible": true
         }
        },
        "yaxis": {
         "gridcolor": "#1f292f"
        }
       }
      }
     },
     "metadata": {},
     "output_type": "display_data"
    }
   ],
   "source": [
    "fig = trend_checker.highlight_downtrend_candles(df_an)\n",
    "x_start = df_an['sTime'].iloc[0]\n",
    "x_end = df_an['sTime'].iloc[-1]\n",
    "\n",
    "# Plot support levels\n",
    "for level in support_levels:\n",
    "    fig.add_trace(go.Scatter(\n",
    "        x=[x_start, x_end],\n",
    "        y=[level, level],\n",
    "        mode='lines',\n",
    "        name=f'Support {level}',\n",
    "        line=dict(color='green', width=1)\n",
    "    ))\n",
    "\n",
    "    # Plot resistance levels\n",
    "for level in resistance_levels:\n",
    "    fig.add_trace(go.Scatter(\n",
    "        x=[x_start, x_end],\n",
    "        y=[level, level],\n",
    "        mode='lines',\n",
    "        name=f'Resistance {level}',\n",
    "        line=dict(color='red', width=1)\n",
    "    ))\n",
    "\n",
    "fig.show()"
   ]
  },
  {
   "cell_type": "code",
   "execution_count": null,
   "metadata": {},
   "outputs": [],
   "source": []
  },
  {
   "cell_type": "code",
   "execution_count": null,
   "metadata": {},
   "outputs": [],
   "source": []
  },
  {
   "cell_type": "code",
   "execution_count": null,
   "metadata": {},
   "outputs": [],
   "source": []
  },
  {
   "cell_type": "code",
   "execution_count": null,
   "metadata": {},
   "outputs": [],
   "source": []
  },
  {
   "cell_type": "code",
   "execution_count": null,
   "metadata": {},
   "outputs": [],
   "source": []
  },
  {
   "cell_type": "code",
   "execution_count": null,
   "metadata": {},
   "outputs": [],
   "source": []
  }
 ],
 "metadata": {
  "kernelspec": {
   "display_name": "venv",
   "language": "python",
   "name": "python3"
  },
  "language_info": {
   "codemirror_mode": {
    "name": "ipython",
    "version": 3
   },
   "file_extension": ".py",
   "mimetype": "text/x-python",
   "name": "python",
   "nbconvert_exporter": "python",
   "pygments_lexer": "ipython3",
   "version": "3.12.5"
  }
 },
 "nbformat": 4,
 "nbformat_minor": 2
}
